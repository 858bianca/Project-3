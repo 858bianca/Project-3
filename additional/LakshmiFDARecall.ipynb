{
 "cells": [
  {
   "cell_type": "code",
   "execution_count": 1,
   "metadata": {},
   "outputs": [],
   "source": [
    "import requests\n",
    "import pandas as pd\n",
    "from pymongo import MongoClient\n",
    "from datetime import datetime\n",
    "import plotly.express as px\n",
    "from geopy.geocoders import Nominatim\n",
    "import time\n",
    "import plotly.graph_objects as go\n",
    "import seaborn as sns\n",
    "import matplotlib.pyplot as plt\n",
    "from ipywidgets import widgets\n",
    "from IPython.display import display, clear_output\n",
    "import ipywidgets as widgets\n",
    "from ipywidgets import interact\n",
    "\n",
    "\n",
    "# Define the API endpoint and parameters\n",
    "url = \"https://api.fda.gov/food/enforcement.json?search=report_date:[20200101+TO+20241005]&limit=500\"\n",
    "\n",
    "# Send a GET request to the API\n",
    "response = requests.get(url)\n",
    "\n",
    "if response.status_code == 200:\n",
    "    data = response.json()\n",
    "    recalls = data.get('results', [])\n",
    "    recall_df = pd.DataFrame(recalls)\n",
    "\n",
    "    clean_df = recall_df.rename(columns={\n",
    "        \"status\": \"Status\", \n",
    "        \"city\": \"City\",\n",
    "        \"state\": \"State\",\n",
    "        \"country\":\"Country\",\n",
    "        \"classification\":\"Classification\",\n",
    "        \"openfda\":\"Open FDA\",\n",
    "        \"product_type\":\"Product Type\",\n",
    "        \"event_id\":\"Event ID\",\n",
    "        \"recalling_firm\":\"Recalling Firm\",\n",
    "        \"address_1\":\"Address 1\",\n",
    "        \"address_2\":\"Address 2\",\n",
    "        \"postal_code\":\"Postal Code\",\n",
    "        \"voluntary_mandated\":\"Voluntary Mandated\",\n",
    "        \"initial_firm_notification\":\"Initial Firm Notification\",\n",
    "        \"distribution_pattern\":\"Distribution Pattern\",\n",
    "        \"recall_number\":\"Recall Number\",\n",
    "        \"product_description\":\"Product Description\",\n",
    "        \"product_quantity\":\"Product Quantity\",\n",
    "        \"reason_for_recall\":\"Reason for Recall\",\n",
    "        \"recall_initiation_date\":\"Recall Initiation Date\",\n",
    "        \"center_classification_date\":\"Center Classification Date\",\n",
    "        \"termination_date\":\"Termination Date\",\n",
    "        \"report_date\":\"Report Date\",\n",
    "        \"code_info\":\"Code Info\",\n",
    "        \"more_code_info\":\"More Code Info\",\n",
    "    })\n",
    "\n",
    "    # Convert DataFrame to dictionary format for MongoDB\n",
    "    recall_records = clean_df.to_dict(\"records\")\n",
    "\n",
    "    # Connect to MongoDB\n",
    "    client = MongoClient('mongodb://localhost:27017/')  # Or use your MongoDB URI\n",
    "    db = client['fda_recall_data']  # Database name\n",
    "    collection = db['recalls']  # Collection name\n",
    "\n",
    "    # Insert modified data into MongoDB\n",
    "    collection.insert_many(recall_records)\n",
    "\n",
    "    # Example: Query data back from MongoDB\n",
    "    recalls_from_db = list(collection.find())\n",
    "\n",
    "    # Convert back to DataFrame if needed\n",
    "    db_df = pd.DataFrame(recalls_from_db)\n",
    "    \n",
    "else:\n",
    "    print(f\"Failed to retrieve data: {response.status_code}\")"
   ]
  },
  {
   "cell_type": "code",
   "execution_count": 2,
   "metadata": {},
   "outputs": [
    {
     "data": {
      "application/vnd.plotly.v1+json": {
       "config": {
        "plotlyServerURL": "https://plot.ly"
       },
       "data": [
        {
         "coloraxis": "coloraxis",
         "geo": "geo",
         "hovertemplate": "State=%{location}<br>Count=%{z}<extra></extra>",
         "locationmode": "USA-states",
         "locations": [
          "AL",
          "AR",
          "AZ",
          "CA",
          "CO",
          "CT",
          "DE",
          "FL",
          "GA",
          "IA",
          "ID",
          "IL",
          "IN",
          "KS",
          "KY",
          "MA",
          "MD",
          "MI",
          "MN",
          "MO",
          "MS",
          "N/A",
          "NC",
          "ND",
          "NE",
          "NH",
          "NJ",
          "NM",
          "NV",
          "NY",
          "OH",
          "OK",
          "OR",
          "PA",
          "PR",
          "SC",
          "TX",
          "UT",
          "VA",
          "VT",
          "WA",
          "WI",
          "WY"
         ],
         "name": "",
         "type": "choropleth",
         "z": [
          4,
          8,
          20,
          212,
          20,
          16,
          4,
          112,
          84,
          32,
          28,
          120,
          16,
          32,
          4,
          36,
          176,
          48,
          48,
          16,
          4,
          12,
          24,
          4,
          4,
          12,
          56,
          36,
          4,
          192,
          168,
          4,
          60,
          52,
          8,
          8,
          64,
          32,
          32,
          28,
          76,
          44,
          16
         ]
        }
       ],
       "layout": {
        "coloraxis": {
         "colorbar": {
          "title": {
           "text": "Count"
          }
         },
         "colorscale": [
          [
           0,
           "rgb(255,255,217)"
          ],
          [
           0.125,
           "rgb(237,248,177)"
          ],
          [
           0.25,
           "rgb(199,233,180)"
          ],
          [
           0.375,
           "rgb(127,205,187)"
          ],
          [
           0.5,
           "rgb(65,182,196)"
          ],
          [
           0.625,
           "rgb(29,145,192)"
          ],
          [
           0.75,
           "rgb(34,94,168)"
          ],
          [
           0.875,
           "rgb(37,52,148)"
          ],
          [
           1,
           "rgb(8,29,88)"
          ]
         ]
        },
        "geo": {
         "center": {},
         "domain": {
          "x": [
           0,
           1
          ],
          "y": [
           0,
           1
          ]
         },
         "lakecolor": "rgb(255, 255, 255)",
         "scope": "usa"
        },
        "legend": {
         "tracegroupgap": 0
        },
        "template": {
         "data": {
          "bar": [
           {
            "error_x": {
             "color": "#2a3f5f"
            },
            "error_y": {
             "color": "#2a3f5f"
            },
            "marker": {
             "line": {
              "color": "#E5ECF6",
              "width": 0.5
             },
             "pattern": {
              "fillmode": "overlay",
              "size": 10,
              "solidity": 0.2
             }
            },
            "type": "bar"
           }
          ],
          "barpolar": [
           {
            "marker": {
             "line": {
              "color": "#E5ECF6",
              "width": 0.5
             },
             "pattern": {
              "fillmode": "overlay",
              "size": 10,
              "solidity": 0.2
             }
            },
            "type": "barpolar"
           }
          ],
          "carpet": [
           {
            "aaxis": {
             "endlinecolor": "#2a3f5f",
             "gridcolor": "white",
             "linecolor": "white",
             "minorgridcolor": "white",
             "startlinecolor": "#2a3f5f"
            },
            "baxis": {
             "endlinecolor": "#2a3f5f",
             "gridcolor": "white",
             "linecolor": "white",
             "minorgridcolor": "white",
             "startlinecolor": "#2a3f5f"
            },
            "type": "carpet"
           }
          ],
          "choropleth": [
           {
            "colorbar": {
             "outlinewidth": 0,
             "ticks": ""
            },
            "type": "choropleth"
           }
          ],
          "contour": [
           {
            "colorbar": {
             "outlinewidth": 0,
             "ticks": ""
            },
            "colorscale": [
             [
              0,
              "#0d0887"
             ],
             [
              0.1111111111111111,
              "#46039f"
             ],
             [
              0.2222222222222222,
              "#7201a8"
             ],
             [
              0.3333333333333333,
              "#9c179e"
             ],
             [
              0.4444444444444444,
              "#bd3786"
             ],
             [
              0.5555555555555556,
              "#d8576b"
             ],
             [
              0.6666666666666666,
              "#ed7953"
             ],
             [
              0.7777777777777778,
              "#fb9f3a"
             ],
             [
              0.8888888888888888,
              "#fdca26"
             ],
             [
              1,
              "#f0f921"
             ]
            ],
            "type": "contour"
           }
          ],
          "contourcarpet": [
           {
            "colorbar": {
             "outlinewidth": 0,
             "ticks": ""
            },
            "type": "contourcarpet"
           }
          ],
          "heatmap": [
           {
            "colorbar": {
             "outlinewidth": 0,
             "ticks": ""
            },
            "colorscale": [
             [
              0,
              "#0d0887"
             ],
             [
              0.1111111111111111,
              "#46039f"
             ],
             [
              0.2222222222222222,
              "#7201a8"
             ],
             [
              0.3333333333333333,
              "#9c179e"
             ],
             [
              0.4444444444444444,
              "#bd3786"
             ],
             [
              0.5555555555555556,
              "#d8576b"
             ],
             [
              0.6666666666666666,
              "#ed7953"
             ],
             [
              0.7777777777777778,
              "#fb9f3a"
             ],
             [
              0.8888888888888888,
              "#fdca26"
             ],
             [
              1,
              "#f0f921"
             ]
            ],
            "type": "heatmap"
           }
          ],
          "heatmapgl": [
           {
            "colorbar": {
             "outlinewidth": 0,
             "ticks": ""
            },
            "colorscale": [
             [
              0,
              "#0d0887"
             ],
             [
              0.1111111111111111,
              "#46039f"
             ],
             [
              0.2222222222222222,
              "#7201a8"
             ],
             [
              0.3333333333333333,
              "#9c179e"
             ],
             [
              0.4444444444444444,
              "#bd3786"
             ],
             [
              0.5555555555555556,
              "#d8576b"
             ],
             [
              0.6666666666666666,
              "#ed7953"
             ],
             [
              0.7777777777777778,
              "#fb9f3a"
             ],
             [
              0.8888888888888888,
              "#fdca26"
             ],
             [
              1,
              "#f0f921"
             ]
            ],
            "type": "heatmapgl"
           }
          ],
          "histogram": [
           {
            "marker": {
             "pattern": {
              "fillmode": "overlay",
              "size": 10,
              "solidity": 0.2
             }
            },
            "type": "histogram"
           }
          ],
          "histogram2d": [
           {
            "colorbar": {
             "outlinewidth": 0,
             "ticks": ""
            },
            "colorscale": [
             [
              0,
              "#0d0887"
             ],
             [
              0.1111111111111111,
              "#46039f"
             ],
             [
              0.2222222222222222,
              "#7201a8"
             ],
             [
              0.3333333333333333,
              "#9c179e"
             ],
             [
              0.4444444444444444,
              "#bd3786"
             ],
             [
              0.5555555555555556,
              "#d8576b"
             ],
             [
              0.6666666666666666,
              "#ed7953"
             ],
             [
              0.7777777777777778,
              "#fb9f3a"
             ],
             [
              0.8888888888888888,
              "#fdca26"
             ],
             [
              1,
              "#f0f921"
             ]
            ],
            "type": "histogram2d"
           }
          ],
          "histogram2dcontour": [
           {
            "colorbar": {
             "outlinewidth": 0,
             "ticks": ""
            },
            "colorscale": [
             [
              0,
              "#0d0887"
             ],
             [
              0.1111111111111111,
              "#46039f"
             ],
             [
              0.2222222222222222,
              "#7201a8"
             ],
             [
              0.3333333333333333,
              "#9c179e"
             ],
             [
              0.4444444444444444,
              "#bd3786"
             ],
             [
              0.5555555555555556,
              "#d8576b"
             ],
             [
              0.6666666666666666,
              "#ed7953"
             ],
             [
              0.7777777777777778,
              "#fb9f3a"
             ],
             [
              0.8888888888888888,
              "#fdca26"
             ],
             [
              1,
              "#f0f921"
             ]
            ],
            "type": "histogram2dcontour"
           }
          ],
          "mesh3d": [
           {
            "colorbar": {
             "outlinewidth": 0,
             "ticks": ""
            },
            "type": "mesh3d"
           }
          ],
          "parcoords": [
           {
            "line": {
             "colorbar": {
              "outlinewidth": 0,
              "ticks": ""
             }
            },
            "type": "parcoords"
           }
          ],
          "pie": [
           {
            "automargin": true,
            "type": "pie"
           }
          ],
          "scatter": [
           {
            "fillpattern": {
             "fillmode": "overlay",
             "size": 10,
             "solidity": 0.2
            },
            "type": "scatter"
           }
          ],
          "scatter3d": [
           {
            "line": {
             "colorbar": {
              "outlinewidth": 0,
              "ticks": ""
             }
            },
            "marker": {
             "colorbar": {
              "outlinewidth": 0,
              "ticks": ""
             }
            },
            "type": "scatter3d"
           }
          ],
          "scattercarpet": [
           {
            "marker": {
             "colorbar": {
              "outlinewidth": 0,
              "ticks": ""
             }
            },
            "type": "scattercarpet"
           }
          ],
          "scattergeo": [
           {
            "marker": {
             "colorbar": {
              "outlinewidth": 0,
              "ticks": ""
             }
            },
            "type": "scattergeo"
           }
          ],
          "scattergl": [
           {
            "marker": {
             "colorbar": {
              "outlinewidth": 0,
              "ticks": ""
             }
            },
            "type": "scattergl"
           }
          ],
          "scattermapbox": [
           {
            "marker": {
             "colorbar": {
              "outlinewidth": 0,
              "ticks": ""
             }
            },
            "type": "scattermapbox"
           }
          ],
          "scatterpolar": [
           {
            "marker": {
             "colorbar": {
              "outlinewidth": 0,
              "ticks": ""
             }
            },
            "type": "scatterpolar"
           }
          ],
          "scatterpolargl": [
           {
            "marker": {
             "colorbar": {
              "outlinewidth": 0,
              "ticks": ""
             }
            },
            "type": "scatterpolargl"
           }
          ],
          "scatterternary": [
           {
            "marker": {
             "colorbar": {
              "outlinewidth": 0,
              "ticks": ""
             }
            },
            "type": "scatterternary"
           }
          ],
          "surface": [
           {
            "colorbar": {
             "outlinewidth": 0,
             "ticks": ""
            },
            "colorscale": [
             [
              0,
              "#0d0887"
             ],
             [
              0.1111111111111111,
              "#46039f"
             ],
             [
              0.2222222222222222,
              "#7201a8"
             ],
             [
              0.3333333333333333,
              "#9c179e"
             ],
             [
              0.4444444444444444,
              "#bd3786"
             ],
             [
              0.5555555555555556,
              "#d8576b"
             ],
             [
              0.6666666666666666,
              "#ed7953"
             ],
             [
              0.7777777777777778,
              "#fb9f3a"
             ],
             [
              0.8888888888888888,
              "#fdca26"
             ],
             [
              1,
              "#f0f921"
             ]
            ],
            "type": "surface"
           }
          ],
          "table": [
           {
            "cells": {
             "fill": {
              "color": "#EBF0F8"
             },
             "line": {
              "color": "white"
             }
            },
            "header": {
             "fill": {
              "color": "#C8D4E3"
             },
             "line": {
              "color": "white"
             }
            },
            "type": "table"
           }
          ]
         },
         "layout": {
          "annotationdefaults": {
           "arrowcolor": "#2a3f5f",
           "arrowhead": 0,
           "arrowwidth": 1
          },
          "autotypenumbers": "strict",
          "coloraxis": {
           "colorbar": {
            "outlinewidth": 0,
            "ticks": ""
           }
          },
          "colorscale": {
           "diverging": [
            [
             0,
             "#8e0152"
            ],
            [
             0.1,
             "#c51b7d"
            ],
            [
             0.2,
             "#de77ae"
            ],
            [
             0.3,
             "#f1b6da"
            ],
            [
             0.4,
             "#fde0ef"
            ],
            [
             0.5,
             "#f7f7f7"
            ],
            [
             0.6,
             "#e6f5d0"
            ],
            [
             0.7,
             "#b8e186"
            ],
            [
             0.8,
             "#7fbc41"
            ],
            [
             0.9,
             "#4d9221"
            ],
            [
             1,
             "#276419"
            ]
           ],
           "sequential": [
            [
             0,
             "#0d0887"
            ],
            [
             0.1111111111111111,
             "#46039f"
            ],
            [
             0.2222222222222222,
             "#7201a8"
            ],
            [
             0.3333333333333333,
             "#9c179e"
            ],
            [
             0.4444444444444444,
             "#bd3786"
            ],
            [
             0.5555555555555556,
             "#d8576b"
            ],
            [
             0.6666666666666666,
             "#ed7953"
            ],
            [
             0.7777777777777778,
             "#fb9f3a"
            ],
            [
             0.8888888888888888,
             "#fdca26"
            ],
            [
             1,
             "#f0f921"
            ]
           ],
           "sequentialminus": [
            [
             0,
             "#0d0887"
            ],
            [
             0.1111111111111111,
             "#46039f"
            ],
            [
             0.2222222222222222,
             "#7201a8"
            ],
            [
             0.3333333333333333,
             "#9c179e"
            ],
            [
             0.4444444444444444,
             "#bd3786"
            ],
            [
             0.5555555555555556,
             "#d8576b"
            ],
            [
             0.6666666666666666,
             "#ed7953"
            ],
            [
             0.7777777777777778,
             "#fb9f3a"
            ],
            [
             0.8888888888888888,
             "#fdca26"
            ],
            [
             1,
             "#f0f921"
            ]
           ]
          },
          "colorway": [
           "#636efa",
           "#EF553B",
           "#00cc96",
           "#ab63fa",
           "#FFA15A",
           "#19d3f3",
           "#FF6692",
           "#B6E880",
           "#FF97FF",
           "#FECB52"
          ],
          "font": {
           "color": "#2a3f5f"
          },
          "geo": {
           "bgcolor": "white",
           "lakecolor": "white",
           "landcolor": "#E5ECF6",
           "showlakes": true,
           "showland": true,
           "subunitcolor": "white"
          },
          "hoverlabel": {
           "align": "left"
          },
          "hovermode": "closest",
          "mapbox": {
           "style": "light"
          },
          "paper_bgcolor": "white",
          "plot_bgcolor": "#E5ECF6",
          "polar": {
           "angularaxis": {
            "gridcolor": "white",
            "linecolor": "white",
            "ticks": ""
           },
           "bgcolor": "#E5ECF6",
           "radialaxis": {
            "gridcolor": "white",
            "linecolor": "white",
            "ticks": ""
           }
          },
          "scene": {
           "xaxis": {
            "backgroundcolor": "#E5ECF6",
            "gridcolor": "white",
            "gridwidth": 2,
            "linecolor": "white",
            "showbackground": true,
            "ticks": "",
            "zerolinecolor": "white"
           },
           "yaxis": {
            "backgroundcolor": "#E5ECF6",
            "gridcolor": "white",
            "gridwidth": 2,
            "linecolor": "white",
            "showbackground": true,
            "ticks": "",
            "zerolinecolor": "white"
           },
           "zaxis": {
            "backgroundcolor": "#E5ECF6",
            "gridcolor": "white",
            "gridwidth": 2,
            "linecolor": "white",
            "showbackground": true,
            "ticks": "",
            "zerolinecolor": "white"
           }
          },
          "shapedefaults": {
           "line": {
            "color": "#2a3f5f"
           }
          },
          "ternary": {
           "aaxis": {
            "gridcolor": "white",
            "linecolor": "white",
            "ticks": ""
           },
           "baxis": {
            "gridcolor": "white",
            "linecolor": "white",
            "ticks": ""
           },
           "bgcolor": "#E5ECF6",
           "caxis": {
            "gridcolor": "white",
            "linecolor": "white",
            "ticks": ""
           }
          },
          "title": {
           "x": 0.05
          },
          "xaxis": {
           "automargin": true,
           "gridcolor": "white",
           "linecolor": "white",
           "ticks": "",
           "title": {
            "standoff": 15
           },
           "zerolinecolor": "white",
           "zerolinewidth": 2
          },
          "yaxis": {
           "automargin": true,
           "gridcolor": "white",
           "linecolor": "white",
           "ticks": "",
           "title": {
            "standoff": 15
           },
           "zerolinecolor": "white",
           "zerolinewidth": 2
          }
         }
        },
        "title": {
         "text": "FDA Recalls by State"
        }
       }
      }
     },
     "metadata": {},
     "output_type": "display_data"
    }
   ],
   "source": [
    "# # Connect to MongoDB\n",
    "# client = MongoClient('mongodb://localhost:27017/')  # Replace with your MongoDB URI if necessary\n",
    "# db = client['fda_recall_data']  # Database name\n",
    "# collection = db['recalls']  # Collection name\n",
    "\n",
    "# Query MongoDB and load the data into a pandas DataFrame\n",
    "recalls_cursor = collection.find({\"State\": {\"$ne\": \"\"}}, {\"State\": 1, \"_id\": 0})  # Fetch state data only\n",
    "recalls_df = pd.DataFrame(list(recalls_cursor))\n",
    "\n",
    "# Ensure the 'state' column exists and clean it\n",
    "if 'State' in recalls_df.columns:\n",
    "    recalls_df['State'] = recalls_df['State'].str.upper()  # Ensure all state abbreviations are uppercase\n",
    "\n",
    "# Group by state and count the number of recalls per state\n",
    "state_counts = recalls_df.groupby('State').size().reset_index(name='Count')\n",
    "\n",
    "# Create Plotly choropleth map\n",
    "fig = px.choropleth(\n",
    "    state_counts, \n",
    "    locations='State', \n",
    "    locationmode=\"USA-states\",  # Use state abbreviations for location matching\n",
    "    color='Count', \n",
    "    color_continuous_scale=\"YlGnBu\",  # Green-Blue color scale\n",
    "    scope=\"usa\",  # Limit the map to USA\n",
    "    title=\"FDA Recalls by State\"\n",
    ")\n",
    "\n",
    "# Customize the layout (optional)\n",
    "fig.update_layout(\n",
    "    geo=dict(\n",
    "        lakecolor='rgb(255, 255, 255)'  # Set lake color to white\n",
    "    )\n",
    ")\n",
    "\n",
    "# Save the figure as an interactive HTML file\n",
    "#fig.write_html(\"./output_data/fda_recalls_by_state.html\")\n",
    "\n",
    "# Optional: Show the figure in a notebook or browser (for testing or interactive use)\n",
    "fig.show()"
   ]
  },
  {
   "cell_type": "code",
   "execution_count": 3,
   "metadata": {
    "scrolled": true
   },
   "outputs": [
    {
     "name": "stdout",
     "output_type": "stream",
     "text": [
      "States not present in the dataset: ['AK', 'DC', 'HI', 'LA', 'ME', 'MT', 'RI', 'SD', 'TN', 'WV']\n"
     ]
    }
   ],
   "source": [
    "# List of all 50 U.S. state abbreviations\n",
    "us_states = [\n",
    "    'AL', 'AK', 'AZ', 'AR', 'CA', 'CO', 'CT', 'DE', 'FL', 'GA', 'HI', 'ID', 'IL', 'IN', 'IA', 'KS', 'KY', 'LA', 'ME',\n",
    "    'MD', 'MA', 'MI', 'MN', 'MS', 'MO', 'MT', 'NE', 'NV', 'NH', 'NJ', 'NM', 'NY', 'NC', 'ND', 'OH', 'OK', 'OR', 'PA',\n",
    "    'RI', 'SC', 'SD', 'TN', 'TX', 'UT', 'VT', 'VA', 'WA', 'WV', 'WI', 'WY', 'DC'\n",
    "]\n",
    "\n",
    "# Query MongoDB and load the data into a pandas DataFrame\n",
    "recalls_cursor = collection.find({\"State\": {\"$ne\": \"\"}}, {\"State\": 1, \"_id\": 0})  # Fetch state data only\n",
    "recalls_df = pd.DataFrame(list(recalls_cursor))\n",
    "\n",
    "# Ensure the 'State' column exists and clean it\n",
    "if 'State' in recalls_df.columns:\n",
    "    recalls_df['State'] = recalls_df['State'].str.upper()  # Ensure all state abbreviations are uppercase\n",
    "\n",
    "    # Get unique states present in the dataset\n",
    "    states_in_dataset = recalls_df['State'].unique()\n",
    "\n",
    "    # Find states that are missing from the dataset\n",
    "    missing_states = sorted(set(us_states) - set(states_in_dataset))\n",
    "\n",
    "    # Print the missing states\n",
    "    print(\"States not present in the dataset:\", missing_states)\n",
    "else:\n",
    "    print(\"No state data available in the dataset.\")"
   ]
  },
  {
   "cell_type": "markdown",
   "metadata": {},
   "source": [
    "**With the dataset from  2020 through 2024, there has been 10 states that have not had any FDA Food related recalls.**\n",
    "1. Alaska\n",
    "2. Montana\n",
    "3. South Dakota\n",
    "4. Hawaii\n",
    "5. Louisiana\n",
    "6. Tennessee\n",
    "7. Washington D.C.\n",
    "8. Maine\n",
    "9. West Virginia\n",
    "10. Rhode Island"
   ]
  },
  {
   "cell_type": "markdown",
   "metadata": {},
   "source": [
    "**The code below will take about few mins to run to create the HTML file since it is using Geopy Library to find latitude and longitude values from the 'City' and 'State' columns from the dataset**"
   ]
  },
  {
   "cell_type": "code",
   "execution_count": 4,
   "metadata": {},
   "outputs": [
    {
     "ename": "KeyboardInterrupt",
     "evalue": "",
     "output_type": "error",
     "traceback": [
      "\u001b[1;31m---------------------------------------------------------------------------\u001b[0m",
      "\u001b[1;31mKeyboardInterrupt\u001b[0m                         Traceback (most recent call last)",
      "Cell \u001b[1;32mIn[4], line 26\u001b[0m\n\u001b[0;32m     24\u001b[0m         latitudes\u001b[38;5;241m.\u001b[39mappend(\u001b[38;5;28;01mNone\u001b[39;00m)\n\u001b[0;32m     25\u001b[0m         longitudes\u001b[38;5;241m.\u001b[39mappend(\u001b[38;5;28;01mNone\u001b[39;00m)\n\u001b[1;32m---> 26\u001b[0m     time\u001b[38;5;241m.\u001b[39msleep(\u001b[38;5;241m1\u001b[39m)  \u001b[38;5;66;03m# Add delay to avoid overwhelming the geocoding API\u001b[39;00m\n\u001b[0;32m     28\u001b[0m     \u001b[38;5;66;03m# Add latitude and longitude to the DataFrame\u001b[39;00m\n\u001b[0;32m     29\u001b[0m city_state_df[\u001b[38;5;124m'\u001b[39m\u001b[38;5;124mLatitude\u001b[39m\u001b[38;5;124m'\u001b[39m] \u001b[38;5;241m=\u001b[39m latitudes\n",
      "\u001b[1;31mKeyboardInterrupt\u001b[0m: "
     ]
    }
   ],
   "source": [
    "client = MongoClient('mongodb://localhost:27017/')\n",
    "db = client['fda_recalls']\n",
    "collection = db['food_enforcement']\n",
    "\n",
    "# Get unique cities and states for geocoding\n",
    "city_state_df = clean_df[['City', 'State']].drop_duplicates()\n",
    "\n",
    "# Geocoding cities to get latitude and longitude\n",
    "geolocator = Nominatim(user_agent=\"fda_recall_app\")\n",
    "latitudes = []\n",
    "longitudes = []\n",
    "\n",
    "for index, row in city_state_df.iterrows():\n",
    "    city_state = f\"{row['City']}, {row['State']}, USA\"\n",
    "    try:\n",
    "        location = geolocator.geocode(city_state)\n",
    "        if location:\n",
    "            latitudes.append(location.latitude)\n",
    "            longitudes.append(location.longitude)\n",
    "        else:\n",
    "            latitudes.append(None)\n",
    "            longitudes.append(None)\n",
    "    except:\n",
    "        latitudes.append(None)\n",
    "        longitudes.append(None)\n",
    "    time.sleep(1)  # Add delay to avoid overwhelming the geocoding API\n",
    "\n",
    "    # Add latitude and longitude to the DataFrame\n",
    "city_state_df['Latitude'] = latitudes\n",
    "city_state_df['Longitude'] = longitudes\n",
    "\n",
    "    # Filter out rows where geocoding failed\n",
    "city_state_df = city_state_df.dropna(subset=['Latitude', 'Longitude'])\n",
    "\n",
    "    # Merge latitude and longitude back to the main DataFrame\n",
    "clean_df = pd.merge(clean_df, city_state_df, on=['City', 'State'], how='left')\n",
    "\n",
    "    # Create a map with city markers using Plotly\n",
    "fig = px.scatter_mapbox(\n",
    "    clean_df,\n",
    "    lat=\"Latitude\",\n",
    "    lon=\"Longitude\",\n",
    "    hover_name=\"City\",\n",
    "    hover_data=[\"State\", \"Recall Number\", \"Reason for Recall\"],\n",
    "    zoom=4,\n",
    "    height=1000,\n",
    "    width=2000,\n",
    "    title=\"FDA Recalls by City\"\n",
    ")\n",
    "\n",
    "    # Set mapbox style\n",
    "fig.update_layout(\n",
    "    mapbox_style=\"open-street-map\",\n",
    "    margin={\"r\": 0, \"t\": 50, \"l\": 0, \"b\": 0}  # Adjusted margins for full-width display\n",
    ")\n",
    "\n",
    "    # Show or save the figure as an interactive HTML file\n",
    "#fig.write_html(\"./output_data/fda_recalls_by_city.html\")\n",
    "#print(\"Map with city markers saved as HTML file.\")\n",
    "\n",
    "fig.show()"
   ]
  },
  {
   "cell_type": "code",
   "execution_count": 5,
   "metadata": {},
   "outputs": [
    {
     "name": "stdout",
     "output_type": "stream",
     "text": [
      "         City  Count State\n",
      "0      Mobile      1    AL\n",
      "1  Springdale      1    AR\n",
      "2      Rogers      1    AR\n",
      "3    San Luis      2    AZ\n",
      "4     Phoenix      2    AZ\n"
     ]
    },
    {
     "data": {
      "image/png": "[encoded data removed]",
      "text/plain": [
       "<Figure size 1200x800 with 1 Axes>"
      ]
     },
     "metadata": {},
     "output_type": "display_data"
    }
   ],
   "source": [
    "\n",
    "\n",
    "# Simplified plotting function\n",
    "def plot_top_3_states():\n",
    "    # Get top 3 states by recall count\n",
    "    top_states = state_counts.head(3)['State']\n",
    "    top_cities_df = pd.DataFrame()\n",
    "\n",
    "    # Loop through top states and get city counts\n",
    "    for state in top_states:\n",
    "        state_df = clean_df[clean_df['State'] == state]\n",
    "        city_counts = state_df['City'].value_counts().reset_index()\n",
    "        city_counts.columns = ['City', 'Count']\n",
    "        city_counts['State'] = state\n",
    "        top_cities_df = pd.concat([top_cities_df, city_counts.head(10)], ignore_index=True)\n",
    "\n",
    "    # Check the resulting DataFrame before plotting\n",
    "    print(top_cities_df.head())\n",
    "\n",
    "    # Plot the top cities in the top 3 states\n",
    "    plt.figure(figsize=(12, 8))  # Ensure consistent size\n",
    "    barplot = sns.barplot(x='Count', y='City', hue='State', data=top_cities_df, palette=\"viridis\")\n",
    "    plt.title('Top Cities in the Top 3 States of Recalls (2020-2024)', fontsize=16)\n",
    "    plt.xlabel('Number of Recalls')\n",
    "    plt.ylabel('City')\n",
    "    sns.despine(left=True, bottom=True)\n",
    "    plt.grid(True, axis='x', linestyle='--', alpha=0.6)\n",
    "    plt.xticks(rotation=45, ha='right')\n",
    "\n",
    "    # Add labels to each bar\n",
    "    for p in barplot.patches:\n",
    "        if p.get_width() > 0:  # Only annotate if count > 0\n",
    "            barplot.annotate(f'{int(p.get_width())}', \n",
    "                             (p.get_width() + 0.3, p.get_y() + 0.55), ha='center')\n",
    "\n",
    "    plt.legend(title='State', loc='upper right')\n",
    "    plt.show()\n",
    "\n",
    "# Function to update the plot based on the selected state\n",
    "def update_plot(state):\n",
    "    state_df = clean_df[clean_df['State'] == state]\n",
    "    city_counts = state_df['City'].value_counts().reset_index()\n",
    "    city_counts.columns = ['City', 'Count']\n",
    "\n",
    "    # Check if the city counts are correct\n",
    "    print(city_counts.head())\n",
    "\n",
    "    if not city_counts.empty:\n",
    "        plt.figure(figsize=(12, 8))  \n",
    "        barplot = sns.barplot(x='Count', y='City', hue='City', data=city_counts.head(10), palette=\"coolwarm\")\n",
    "        plt.title(f'Top Cities in {state} for Recalls (2020-2024)', fontsize=16)\n",
    "        plt.xlabel('Number of Recalls')\n",
    "        plt.ylabel('City')\n",
    "        sns.despine(left=True, bottom=True)\n",
    "        plt.xticks(rotation=45, ha='right')\n",
    "\n",
    "        # Add labels to each bar\n",
    "        for index, value in enumerate(city_counts['Count'].head(10)):\n",
    "            barplot.text(value, index, f'{value}', color='black', va=\"center\", fontsize=12)\n",
    "\n",
    "        if barplot.legend_:\n",
    "            barplot.legend_.remove()\n",
    "\n",
    "        plt.show()\n",
    "    else:\n",
    "        print(f\"No recall data available for {state}.\")\n",
    "\n",
    "# Plot the top 3 states chart initially\n",
    "plot_top_3_states()\n",
    "\n",
    "# Create a dropdown for state selection, sorted alphabetically\n",
    "state_dropdown = widgets.Dropdown(\n",
    "    options=sorted(clean_df[clean_df['Country'] == \"United States\"]['State'].unique()),\n",
    "    description='State:',\n",
    "    disabled=False,\n",
    ")\n",
    "\n",
    "# Print selected state to verify the dropdown works\n",
    "def print_selected_state(state):\n",
    "    print(f\"State selected: {state}\")\n",
    "\n",
    "# Uncomment the below line to update the plot interactively\n",
    "# widgets.interact(update_plot, state=state_dropdown);  # Use this line in a Jupyter notebook\n",
    "\n"
   ]
  },
  {
   "cell_type": "code",
   "execution_count": 6,
   "metadata": {
    "scrolled": true
   },
   "outputs": [
    {
     "data": {
      "application/vnd.plotly.v1+json": {
       "config": {
        "plotlyServerURL": "https://plot.ly"
       },
       "data": [
        {
         "coloraxis": "coloraxis",
         "customdata": [
          [
           6,
           "Nof Ha-Galil",
           6
          ],
          [
           1,
           "Mobile",
           1
          ],
          [
           2,
           "Rogers",
           1
          ],
          [
           5,
           "Phoenix",
           2
          ],
          [
           53,
           "Fresno",
           6
          ],
          [
           5,
           "Boulder",
           3
          ],
          [
           4,
           "Coventry",
           2
          ],
          [
           1,
           "Greenville",
           1
          ],
          [
           28,
           "Windermere",
           8
          ],
          [
           21,
           "Norcross",
           7
          ],
          [
           8,
           "Sioux City",
           2
          ],
          [
           7,
           "Boise",
           4
          ],
          [
           30,
           "Chicago",
           21
          ],
          [
           4,
           "Indianapolis",
           3
          ],
          [
           8,
           "New Century",
           4
          ],
          [
           1,
           "Louisville",
           1
          ],
          [
           9,
           "Whately",
           2
          ],
          [
           44,
           "Baltimore",
           33
          ],
          [
           12,
           "Grand Rapids",
           4
          ],
          [
           12,
           "Minneapolis",
           3
          ],
          [
           4,
           "Chesterfield",
           2
          ],
          [
           1,
           "Coldwater",
           1
          ],
          [
           3,
           "Concord",
           1
          ],
          [
           6,
           "Charlotte",
           4
          ],
          [
           1,
           "Grand Forks",
           1
          ],
          [
           1,
           "Nebraska City",
           1
          ],
          [
           3,
           "Chesterfield",
           1
          ],
          [
           14,
           "Piscataway",
           4
          ],
          [
           9,
           "Albuquerque",
           9
          ],
          [
           1,
           "Sparks",
           1
          ],
          [
           48,
           "Brooklyn",
           15
          ],
          [
           42,
           "Orrville",
           7
          ],
          [
           1,
           "Shawnee",
           1
          ],
          [
           15,
           "Portland",
           4
          ],
          [
           13,
           "Pittsburgh",
           6
          ],
          [
           2,
           "San Juan",
           1
          ],
          [
           2,
           "Charleston",
           1
          ],
          [
           16,
           "Dallas",
           3
          ],
          [
           8,
           "Murray",
           2
          ],
          [
           8,
           "Arlington",
           2
          ],
          [
           7,
           "Burlington",
           2
          ],
          [
           19,
           "Kent",
           5
          ],
          [
           11,
           "Madison",
           3
          ],
          [
           4,
           "Lovell",
           4
          ]
         ],
         "geo": "geo",
         "hovertemplate": "<b>%{hovertext}</b><br><br>State=%{location}<br>Total Recalls=%{z}<br>City=%{customdata[1]}<br>City Recalls=%{customdata[2]}<extra></extra>",
         "hovertext": [
          "",
          "AL",
          "AR",
          "AZ",
          "CA",
          "CO",
          "CT",
          "DE",
          "FL",
          "GA",
          "IA",
          "ID",
          "IL",
          "IN",
          "KS",
          "KY",
          "MA",
          "MD",
          "MI",
          "MN",
          "MO",
          "MS",
          "N/A",
          "NC",
          "ND",
          "NE",
          "NH",
          "NJ",
          "NM",
          "NV",
          "NY",
          "OH",
          "OK",
          "OR",
          "PA",
          "PR",
          "SC",
          "TX",
          "UT",
          "VA",
          "VT",
          "WA",
          "WI",
          "WY"
         ],
         "locationmode": "USA-states",
         "locations": [
          "",
          "AL",
          "AR",
          "AZ",
          "CA",
          "CO",
          "CT",
          "DE",
          "FL",
          "GA",
          "IA",
          "ID",
          "IL",
          "IN",
          "KS",
          "KY",
          "MA",
          "MD",
          "MI",
          "MN",
          "MO",
          "MS",
          "N/A",
          "NC",
          "ND",
          "NE",
          "NH",
          "NJ",
          "NM",
          "NV",
          "NY",
          "OH",
          "OK",
          "OR",
          "PA",
          "PR",
          "SC",
          "TX",
          "UT",
          "VA",
          "VT",
          "WA",
          "WI",
          "WY"
         ],
         "name": "",
         "type": "choropleth",
         "z": [
          6,
          1,
          2,
          5,
          53,
          5,
          4,
          1,
          28,
          21,
          8,
          7,
          30,
          4,
          8,
          1,
          9,
          44,
          12,
          12,
          4,
          1,
          3,
          6,
          1,
          1,
          3,
          14,
          9,
          1,
          48,
          42,
          1,
          15,
          13,
          2,
          2,
          16,
          8,
          8,
          7,
          19,
          11,
          4
         ]
        },
        {
         "lat": [
          32.806671
         ],
         "locationmode": "USA-states",
         "lon": [
          -86.79113
         ],
         "mode": "text",
         "showlegend": false,
         "text": "AL",
         "textfont": {
          "color": "black",
          "size": 12
         },
         "type": "scattergeo"
        },
        {
         "lat": [
          61.370716
         ],
         "locationmode": "USA-states",
         "lon": [
          -152.404419
         ],
         "mode": "text",
         "showlegend": false,
         "text": "AK",
         "textfont": {
          "color": "black",
          "size": 12
         },
         "type": "scattergeo"
        },
        {
         "lat": [
          33.729759
         ],
         "locationmode": "USA-states",
         "lon": [
          -111.431221
         ],
         "mode": "text",
         "showlegend": false,
         "text": "AZ",
         "textfont": {
          "color": "black",
          "size": 12
         },
         "type": "scattergeo"
        },
        {
         "lat": [
          34.969704
         ],
         "locationmode": "USA-states",
         "lon": [
          -92.373123
         ],
         "mode": "text",
         "showlegend": false,
         "text": "AR",
         "textfont": {
          "color": "black",
          "size": 12
         },
         "type": "scattergeo"
        },
        {
         "lat": [
          36.116203
         ],
         "locationmode": "USA-states",
         "lon": [
          -119.681564
         ],
         "mode": "text",
         "showlegend": false,
         "text": "CA",
         "textfont": {
          "color": "black",
          "size": 12
         },
         "type": "scattergeo"
        },
        {
         "lat": [
          39.059811
         ],
         "locationmode": "USA-states",
         "lon": [
          -105.311104
         ],
         "mode": "text",
         "showlegend": false,
         "text": "CO",
         "textfont": {
          "color": "black",
          "size": 12
         },
         "type": "scattergeo"
        },
        {
         "lat": [
          41.597782
         ],
         "locationmode": "USA-states",
         "lon": [
          -72.755371
         ],
         "mode": "text",
         "showlegend": false,
         "text": "CT",
         "textfont": {
          "color": "black",
          "size": 12
         },
         "type": "scattergeo"
        },
        {
         "lat": [
          39.318523
         ],
         "locationmode": "USA-states",
         "lon": [
          -75.507141
         ],
         "mode": "text",
         "showlegend": false,
         "text": "DE",
         "textfont": {
          "color": "black",
          "size": 12
         },
         "type": "scattergeo"
        },
        {
         "lat": [
          27.766279
         ],
         "locationmode": "USA-states",
         "lon": [
          -81.686783
         ],
         "mode": "text",
         "showlegend": false,
         "text": "FL",
         "textfont": {
          "color": "black",
          "size": 12
         },
         "type": "scattergeo"
        },
        {
         "lat": [
          33.040619
         ],
         "locationmode": "USA-states",
         "lon": [
          -83.643074
         ],
         "mode": "text",
         "showlegend": false,
         "text": "GA",
         "textfont": {
          "color": "black",
          "size": 12
         },
         "type": "scattergeo"
        },
        {
         "lat": [
          21.094318
         ],
         "locationmode": "USA-states",
         "lon": [
          -157.498337
         ],
         "mode": "text",
         "showlegend": false,
         "text": "HI",
         "textfont": {
          "color": "black",
          "size": 12
         },
         "type": "scattergeo"
        },
        {
         "lat": [
          44.240459
         ],
         "locationmode": "USA-states",
         "lon": [
          -114.478828
         ],
         "mode": "text",
         "showlegend": false,
         "text": "ID",
         "textfont": {
          "color": "black",
          "size": 12
         },
         "type": "scattergeo"
        },
        {
         "lat": [
          40.349457
         ],
         "locationmode": "USA-states",
         "lon": [
          -88.986137
         ],
         "mode": "text",
         "showlegend": false,
         "text": "IL",
         "textfont": {
          "color": "black",
          "size": 12
         },
         "type": "scattergeo"
        },
        {
         "lat": [
          39.849426
         ],
         "locationmode": "USA-states",
         "lon": [
          -86.258278
         ],
         "mode": "text",
         "showlegend": false,
         "text": "IN",
         "textfont": {
          "color": "black",
          "size": 12
         },
         "type": "scattergeo"
        },
        {
         "lat": [
          42.011539
         ],
         "locationmode": "USA-states",
         "lon": [
          -93.210526
         ],
         "mode": "text",
         "showlegend": false,
         "text": "IA",
         "textfont": {
          "color": "black",
          "size": 12
         },
         "type": "scattergeo"
        },
        {
         "lat": [
          38.5266
         ],
         "locationmode": "USA-states",
         "lon": [
          -96.726486
         ],
         "mode": "text",
         "showlegend": false,
         "text": "KS",
         "textfont": {
          "color": "black",
          "size": 12
         },
         "type": "scattergeo"
        },
        {
         "lat": [
          37.66814
         ],
         "locationmode": "USA-states",
         "lon": [
          -84.670067
         ],
         "mode": "text",
         "showlegend": false,
         "text": "KY",
         "textfont": {
          "color": "black",
          "size": 12
         },
         "type": "scattergeo"
        },
        {
         "lat": [
          31.169546
         ],
         "locationmode": "USA-states",
         "lon": [
          -91.867805
         ],
         "mode": "text",
         "showlegend": false,
         "text": "LA",
         "textfont": {
          "color": "black",
          "size": 12
         },
         "type": "scattergeo"
        },
        {
         "lat": [
          44.693947
         ],
         "locationmode": "USA-states",
         "lon": [
          -69.381927
         ],
         "mode": "text",
         "showlegend": false,
         "text": "ME",
         "textfont": {
          "color": "black",
          "size": 12
         },
         "type": "scattergeo"
        },
        {
         "lat": [
          39.063946
         ],
         "locationmode": "USA-states",
         "lon": [
          -76.802101
         ],
         "mode": "text",
         "showlegend": false,
         "text": "MD",
         "textfont": {
          "color": "black",
          "size": 12
         },
         "type": "scattergeo"
        },
        {
         "lat": [
          42.230171
         ],
         "locationmode": "USA-states",
         "lon": [
          -71.530106
         ],
         "mode": "text",
         "showlegend": false,
         "text": "MA",
         "textfont": {
          "color": "black",
          "size": 12
         },
         "type": "scattergeo"
        },
        {
         "lat": [
          43.326618
         ],
         "locationmode": "USA-states",
         "lon": [
          -84.536095
         ],
         "mode": "text",
         "showlegend": false,
         "text": "MI",
         "textfont": {
          "color": "black",
          "size": 12
         },
         "type": "scattergeo"
        },
        {
         "lat": [
          45.694454
         ],
         "locationmode": "USA-states",
         "lon": [
          -93.900192
         ],
         "mode": "text",
         "showlegend": false,
         "text": "MN",
         "textfont": {
          "color": "black",
          "size": 12
         },
         "type": "scattergeo"
        },
        {
         "lat": [
          32.741646
         ],
         "locationmode": "USA-states",
         "lon": [
          -89.678696
         ],
         "mode": "text",
         "showlegend": false,
         "text": "MS",
         "textfont": {
          "color": "black",
          "size": 12
         },
         "type": "scattergeo"
        },
        {
         "lat": [
          38.456085
         ],
         "locationmode": "USA-states",
         "lon": [
          -92.288368
         ],
         "mode": "text",
         "showlegend": false,
         "text": "MO",
         "textfont": {
          "color": "black",
          "size": 12
         },
         "type": "scattergeo"
        },
        {
         "lat": [
          46.921925
         ],
         "locationmode": "USA-states",
         "lon": [
          -110.454353
         ],
         "mode": "text",
         "showlegend": false,
         "text": "MT",
         "textfont": {
          "color": "black",
          "size": 12
         },
         "type": "scattergeo"
        },
        {
         "lat": [
          41.12537
         ],
         "locationmode": "USA-states",
         "lon": [
          -98.268082
         ],
         "mode": "text",
         "showlegend": false,
         "text": "NE",
         "textfont": {
          "color": "black",
          "size": 12
         },
         "type": "scattergeo"
        },
        {
         "lat": [
          38.313515
         ],
         "locationmode": "USA-states",
         "lon": [
          -117.055374
         ],
         "mode": "text",
         "showlegend": false,
         "text": "NV",
         "textfont": {
          "color": "black",
          "size": 12
         },
         "type": "scattergeo"
        },
        {
         "lat": [
          43.452492
         ],
         "locationmode": "USA-states",
         "lon": [
          -71.563896
         ],
         "mode": "text",
         "showlegend": false,
         "text": "NH",
         "textfont": {
          "color": "black",
          "size": 12
         },
         "type": "scattergeo"
        },
        {
         "lat": [
          40.298904
         ],
         "locationmode": "USA-states",
         "lon": [
          -74.521011
         ],
         "mode": "text",
         "showlegend": false,
         "text": "NJ",
         "textfont": {
          "color": "black",
          "size": 12
         },
         "type": "scattergeo"
        },
        {
         "lat": [
          34.840515
         ],
         "locationmode": "USA-states",
         "lon": [
          -106.248482
         ],
         "mode": "text",
         "showlegend": false,
         "text": "NM",
         "textfont": {
          "color": "black",
          "size": 12
         },
         "type": "scattergeo"
        },
        {
         "lat": [
          42.165726
         ],
         "locationmode": "USA-states",
         "lon": [
          -74.948051
         ],
         "mode": "text",
         "showlegend": false,
         "text": "NY",
         "textfont": {
          "color": "black",
          "size": 12
         },
         "type": "scattergeo"
        },
        {
         "lat": [
          35.630066
         ],
         "locationmode": "USA-states",
         "lon": [
          -79.806419
         ],
         "mode": "text",
         "showlegend": false,
         "text": "NC",
         "textfont": {
          "color": "black",
          "size": 12
         },
         "type": "scattergeo"
        },
        {
         "lat": [
          47.528912
         ],
         "locationmode": "USA-states",
         "lon": [
          -99.784012
         ],
         "mode": "text",
         "showlegend": false,
         "text": "ND",
         "textfont": {
          "color": "black",
          "size": 12
         },
         "type": "scattergeo"
        },
        {
         "lat": [
          40.388783
         ],
         "locationmode": "USA-states",
         "lon": [
          -82.764915
         ],
         "mode": "text",
         "showlegend": false,
         "text": "OH",
         "textfont": {
          "color": "black",
          "size": 12
         },
         "type": "scattergeo"
        },
        {
         "lat": [
          35.565342
         ],
         "locationmode": "USA-states",
         "lon": [
          -96.928917
         ],
         "mode": "text",
         "showlegend": false,
         "text": "OK",
         "textfont": {
          "color": "black",
          "size": 12
         },
         "type": "scattergeo"
        },
        {
         "lat": [
          44.572021
         ],
         "locationmode": "USA-states",
         "lon": [
          -122.070938
         ],
         "mode": "text",
         "showlegend": false,
         "text": "OR",
         "textfont": {
          "color": "black",
          "size": 12
         },
         "type": "scattergeo"
        },
        {
         "lat": [
          40.590752
         ],
         "locationmode": "USA-states",
         "lon": [
          -77.209755
         ],
         "mode": "text",
         "showlegend": false,
         "text": "PA",
         "textfont": {
          "color": "black",
          "size": 12
         },
         "type": "scattergeo"
        },
        {
         "lat": [
          41.680893
         ],
         "locationmode": "USA-states",
         "lon": [
          -71.51178
         ],
         "mode": "text",
         "showlegend": false,
         "text": "RI",
         "textfont": {
          "color": "black",
          "size": 12
         },
         "type": "scattergeo"
        },
        {
         "lat": [
          33.856892
         ],
         "locationmode": "USA-states",
         "lon": [
          -80.945007
         ],
         "mode": "text",
         "showlegend": false,
         "text": "SC",
         "textfont": {
          "color": "black",
          "size": 12
         },
         "type": "scattergeo"
        },
        {
         "lat": [
          44.299782
         ],
         "locationmode": "USA-states",
         "lon": [
          -99.438828
         ],
         "mode": "text",
         "showlegend": false,
         "text": "SD",
         "textfont": {
          "color": "black",
          "size": 12
         },
         "type": "scattergeo"
        },
        {
         "lat": [
          35.747845
         ],
         "locationmode": "USA-states",
         "lon": [
          -86.692345
         ],
         "mode": "text",
         "showlegend": false,
         "text": "TN",
         "textfont": {
          "color": "black",
          "size": 12
         },
         "type": "scattergeo"
        },
        {
         "lat": [
          31.054487
         ],
         "locationmode": "USA-states",
         "lon": [
          -97.563461
         ],
         "mode": "text",
         "showlegend": false,
         "text": "TX",
         "textfont": {
          "color": "black",
          "size": 12
         },
         "type": "scattergeo"
        },
        {
         "lat": [
          40.150032
         ],
         "locationmode": "USA-states",
         "lon": [
          -111.862434
         ],
         "mode": "text",
         "showlegend": false,
         "text": "UT",
         "textfont": {
          "color": "black",
          "size": 12
         },
         "type": "scattergeo"
        },
        {
         "lat": [
          44.045876
         ],
         "locationmode": "USA-states",
         "lon": [
          -72.710686
         ],
         "mode": "text",
         "showlegend": false,
         "text": "VT",
         "textfont": {
          "color": "black",
          "size": 12
         },
         "type": "scattergeo"
        },
        {
         "lat": [
          37.769337
         ],
         "locationmode": "USA-states",
         "lon": [
          -78.169968
         ],
         "mode": "text",
         "showlegend": false,
         "text": "VA",
         "textfont": {
          "color": "black",
          "size": 12
         },
         "type": "scattergeo"
        },
        {
         "lat": [
          47.400902
         ],
         "locationmode": "USA-states",
         "lon": [
          -121.490494
         ],
         "mode": "text",
         "showlegend": false,
         "text": "WA",
         "textfont": {
          "color": "black",
          "size": 12
         },
         "type": "scattergeo"
        },
        {
         "lat": [
          38.491226
         ],
         "locationmode": "USA-states",
         "lon": [
          -80.954456
         ],
         "mode": "text",
         "showlegend": false,
         "text": "WV",
         "textfont": {
          "color": "black",
          "size": 12
         },
         "type": "scattergeo"
        },
        {
         "lat": [
          44.268543
         ],
         "locationmode": "USA-states",
         "lon": [
          -89.616508
         ],
         "mode": "text",
         "showlegend": false,
         "text": "WI",
         "textfont": {
          "color": "black",
          "size": 12
         },
         "type": "scattergeo"
        },
        {
         "lat": [
          42.755966
         ],
         "locationmode": "USA-states",
         "lon": [
          -107.30249
         ],
         "mode": "text",
         "showlegend": false,
         "text": "WY",
         "textfont": {
          "color": "black",
          "size": 12
         },
         "type": "scattergeo"
        }
       ],
       "layout": {
        "coloraxis": {
         "colorbar": {
          "title": {
           "text": "Total Recalls"
          }
         },
         "colorscale": [
          [
           0,
           "rgb(255,255,204)"
          ],
          [
           0.125,
           "rgb(255,237,160)"
          ],
          [
           0.25,
           "rgb(254,217,118)"
          ],
          [
           0.375,
           "rgb(254,178,76)"
          ],
          [
           0.5,
           "rgb(253,141,60)"
          ],
          [
           0.625,
           "rgb(252,78,42)"
          ],
          [
           0.75,
           "rgb(227,26,28)"
          ],
          [
           0.875,
           "rgb(189,0,38)"
          ],
          [
           1,
           "rgb(128,0,38)"
          ]
         ]
        },
        "geo": {
         "center": {},
         "domain": {
          "x": [
           0,
           1
          ],
          "y": [
           0,
           1
          ]
         },
         "lakecolor": "rgb(255, 255, 255)",
         "scope": "usa"
        },
        "legend": {
         "tracegroupgap": 0
        },
        "margin": {
         "b": 0,
         "l": 0,
         "r": 0,
         "t": 50
        },
        "template": {
         "data": {
          "bar": [
           {
            "error_x": {
             "color": "#2a3f5f"
            },
            "error_y": {
             "color": "#2a3f5f"
            },
            "marker": {
             "line": {
              "color": "#E5ECF6",
              "width": 0.5
             },
             "pattern": {
              "fillmode": "overlay",
              "size": 10,
              "solidity": 0.2
             }
            },
            "type": "bar"
           }
          ],
          "barpolar": [
           {
            "marker": {
             "line": {
              "color": "#E5ECF6",
              "width": 0.5
             },
             "pattern": {
              "fillmode": "overlay",
              "size": 10,
              "solidity": 0.2
             }
            },
            "type": "barpolar"
           }
          ],
          "carpet": [
           {
            "aaxis": {
             "endlinecolor": "#2a3f5f",
             "gridcolor": "white",
             "linecolor": "white",
             "minorgridcolor": "white",
             "startlinecolor": "#2a3f5f"
            },
            "baxis": {
             "endlinecolor": "#2a3f5f",
             "gridcolor": "white",
             "linecolor": "white",
             "minorgridcolor": "white",
             "startlinecolor": "#2a3f5f"
            },
            "type": "carpet"
           }
          ],
          "choropleth": [
           {
            "colorbar": {
             "outlinewidth": 0,
             "ticks": ""
            },
            "type": "choropleth"
           }
          ],
          "contour": [
           {
            "colorbar": {
             "outlinewidth": 0,
             "ticks": ""
            },
            "colorscale": [
             [
              0,
              "#0d0887"
             ],
             [
              0.1111111111111111,
              "#46039f"
             ],
             [
              0.2222222222222222,
              "#7201a8"
             ],
             [
              0.3333333333333333,
              "#9c179e"
             ],
             [
              0.4444444444444444,
              "#bd3786"
             ],
             [
              0.5555555555555556,
              "#d8576b"
             ],
             [
              0.6666666666666666,
              "#ed7953"
             ],
             [
              0.7777777777777778,
              "#fb9f3a"
             ],
             [
              0.8888888888888888,
              "#fdca26"
             ],
             [
              1,
              "#f0f921"
             ]
            ],
            "type": "contour"
           }
          ],
          "contourcarpet": [
           {
            "colorbar": {
             "outlinewidth": 0,
             "ticks": ""
            },
            "type": "contourcarpet"
           }
          ],
          "heatmap": [
           {
            "colorbar": {
             "outlinewidth": 0,
             "ticks": ""
            },
            "colorscale": [
             [
              0,
              "#0d0887"
             ],
             [
              0.1111111111111111,
              "#46039f"
             ],
             [
              0.2222222222222222,
              "#7201a8"
             ],
             [
              0.3333333333333333,
              "#9c179e"
             ],
             [
              0.4444444444444444,
              "#bd3786"
             ],
             [
              0.5555555555555556,
              "#d8576b"
             ],
             [
              0.6666666666666666,
              "#ed7953"
             ],
             [
              0.7777777777777778,
              "#fb9f3a"
             ],
             [
              0.8888888888888888,
              "#fdca26"
             ],
             [
              1,
              "#f0f921"
             ]
            ],
            "type": "heatmap"
           }
          ],
          "heatmapgl": [
           {
            "colorbar": {
             "outlinewidth": 0,
             "ticks": ""
            },
            "colorscale": [
             [
              0,
              "#0d0887"
             ],
             [
              0.1111111111111111,
              "#46039f"
             ],
             [
              0.2222222222222222,
              "#7201a8"
             ],
             [
              0.3333333333333333,
              "#9c179e"
             ],
             [
              0.4444444444444444,
              "#bd3786"
             ],
             [
              0.5555555555555556,
              "#d8576b"
             ],
             [
              0.6666666666666666,
              "#ed7953"
             ],
             [
              0.7777777777777778,
              "#fb9f3a"
             ],
             [
              0.8888888888888888,
              "#fdca26"
             ],
             [
              1,
              "#f0f921"
             ]
            ],
            "type": "heatmapgl"
           }
          ],
          "histogram": [
           {
            "marker": {
             "pattern": {
              "fillmode": "overlay",
              "size": 10,
              "solidity": 0.2
             }
            },
            "type": "histogram"
           }
          ],
          "histogram2d": [
           {
            "colorbar": {
             "outlinewidth": 0,
             "ticks": ""
            },
            "colorscale": [
             [
              0,
              "#0d0887"
             ],
             [
              0.1111111111111111,
              "#46039f"
             ],
             [
              0.2222222222222222,
              "#7201a8"
             ],
             [
              0.3333333333333333,
              "#9c179e"
             ],
             [
              0.4444444444444444,
              "#bd3786"
             ],
             [
              0.5555555555555556,
              "#d8576b"
             ],
             [
              0.6666666666666666,
              "#ed7953"
             ],
             [
              0.7777777777777778,
              "#fb9f3a"
             ],
             [
              0.8888888888888888,
              "#fdca26"
             ],
             [
              1,
              "#f0f921"
             ]
            ],
            "type": "histogram2d"
           }
          ],
          "histogram2dcontour": [
           {
            "colorbar": {
             "outlinewidth": 0,
             "ticks": ""
            },
            "colorscale": [
             [
              0,
              "#0d0887"
             ],
             [
              0.1111111111111111,
              "#46039f"
             ],
             [
              0.2222222222222222,
              "#7201a8"
             ],
             [
              0.3333333333333333,
              "#9c179e"
             ],
             [
              0.4444444444444444,
              "#bd3786"
             ],
             [
              0.5555555555555556,
              "#d8576b"
             ],
             [
              0.6666666666666666,
              "#ed7953"
             ],
             [
              0.7777777777777778,
              "#fb9f3a"
             ],
             [
              0.8888888888888888,
              "#fdca26"
             ],
             [
              1,
              "#f0f921"
             ]
            ],
            "type": "histogram2dcontour"
           }
          ],
          "mesh3d": [
           {
            "colorbar": {
             "outlinewidth": 0,
             "ticks": ""
            },
            "type": "mesh3d"
           }
          ],
          "parcoords": [
           {
            "line": {
             "colorbar": {
              "outlinewidth": 0,
              "ticks": ""
             }
            },
            "type": "parcoords"
           }
          ],
          "pie": [
           {
            "automargin": true,
            "type": "pie"
           }
          ],
          "scatter": [
           {
            "fillpattern": {
             "fillmode": "overlay",
             "size": 10,
             "solidity": 0.2
            },
            "type": "scatter"
           }
          ],
          "scatter3d": [
           {
            "line": {
             "colorbar": {
              "outlinewidth": 0,
              "ticks": ""
             }
            },
            "marker": {
             "colorbar": {
              "outlinewidth": 0,
              "ticks": ""
             }
            },
            "type": "scatter3d"
           }
          ],
          "scattercarpet": [
           {
            "marker": {
             "colorbar": {
              "outlinewidth": 0,
              "ticks": ""
             }
            },
            "type": "scattercarpet"
           }
          ],
          "scattergeo": [
           {
            "marker": {
             "colorbar": {
              "outlinewidth": 0,
              "ticks": ""
             }
            },
            "type": "scattergeo"
           }
          ],
          "scattergl": [
           {
            "marker": {
             "colorbar": {
              "outlinewidth": 0,
              "ticks": ""
             }
            },
            "type": "scattergl"
           }
          ],
          "scattermapbox": [
           {
            "marker": {
             "colorbar": {
              "outlinewidth": 0,
              "ticks": ""
             }
            },
            "type": "scattermapbox"
           }
          ],
          "scatterpolar": [
           {
            "marker": {
             "colorbar": {
              "outlinewidth": 0,
              "ticks": ""
             }
            },
            "type": "scatterpolar"
           }
          ],
          "scatterpolargl": [
           {
            "marker": {
             "colorbar": {
              "outlinewidth": 0,
              "ticks": ""
             }
            },
            "type": "scatterpolargl"
           }
          ],
          "scatterternary": [
           {
            "marker": {
             "colorbar": {
              "outlinewidth": 0,
              "ticks": ""
             }
            },
            "type": "scatterternary"
           }
          ],
          "surface": [
           {
            "colorbar": {
             "outlinewidth": 0,
             "ticks": ""
            },
            "colorscale": [
             [
              0,
              "#0d0887"
             ],
             [
              0.1111111111111111,
              "#46039f"
             ],
             [
              0.2222222222222222,
              "#7201a8"
             ],
             [
              0.3333333333333333,
              "#9c179e"
             ],
             [
              0.4444444444444444,
              "#bd3786"
             ],
             [
              0.5555555555555556,
              "#d8576b"
             ],
             [
              0.6666666666666666,
              "#ed7953"
             ],
             [
              0.7777777777777778,
              "#fb9f3a"
             ],
             [
              0.8888888888888888,
              "#fdca26"
             ],
             [
              1,
              "#f0f921"
             ]
            ],
            "type": "surface"
           }
          ],
          "table": [
           {
            "cells": {
             "fill": {
              "color": "#EBF0F8"
             },
             "line": {
              "color": "white"
             }
            },
            "header": {
             "fill": {
              "color": "#C8D4E3"
             },
             "line": {
              "color": "white"
             }
            },
            "type": "table"
           }
          ]
         },
         "layout": {
          "annotationdefaults": {
           "arrowcolor": "#2a3f5f",
           "arrowhead": 0,
           "arrowwidth": 1
          },
          "autotypenumbers": "strict",
          "coloraxis": {
           "colorbar": {
            "outlinewidth": 0,
            "ticks": ""
           }
          },
          "colorscale": {
           "diverging": [
            [
             0,
             "#8e0152"
            ],
            [
             0.1,
             "#c51b7d"
            ],
            [
             0.2,
             "#de77ae"
            ],
            [
             0.3,
             "#f1b6da"
            ],
            [
             0.4,
             "#fde0ef"
            ],
            [
             0.5,
             "#f7f7f7"
            ],
            [
             0.6,
             "#e6f5d0"
            ],
            [
             0.7,
             "#b8e186"
            ],
            [
             0.8,
             "#7fbc41"
            ],
            [
             0.9,
             "#4d9221"
            ],
            [
             1,
             "#276419"
            ]
           ],
           "sequential": [
            [
             0,
             "#0d0887"
            ],
            [
             0.1111111111111111,
             "#46039f"
            ],
            [
             0.2222222222222222,
             "#7201a8"
            ],
            [
             0.3333333333333333,
             "#9c179e"
            ],
            [
             0.4444444444444444,
             "#bd3786"
            ],
            [
             0.5555555555555556,
             "#d8576b"
            ],
            [
             0.6666666666666666,
             "#ed7953"
            ],
            [
             0.7777777777777778,
             "#fb9f3a"
            ],
            [
             0.8888888888888888,
             "#fdca26"
            ],
            [
             1,
             "#f0f921"
            ]
           ],
           "sequentialminus": [
            [
             0,
             "#0d0887"
            ],
            [
             0.1111111111111111,
             "#46039f"
            ],
            [
             0.2222222222222222,
             "#7201a8"
            ],
            [
             0.3333333333333333,
             "#9c179e"
            ],
            [
             0.4444444444444444,
             "#bd3786"
            ],
            [
             0.5555555555555556,
             "#d8576b"
            ],
            [
             0.6666666666666666,
             "#ed7953"
            ],
            [
             0.7777777777777778,
             "#fb9f3a"
            ],
            [
             0.8888888888888888,
             "#fdca26"
            ],
            [
             1,
             "#f0f921"
            ]
           ]
          },
          "colorway": [
           "#636efa",
           "#EF553B",
           "#00cc96",
           "#ab63fa",
           "#FFA15A",
           "#19d3f3",
           "#FF6692",
           "#B6E880",
           "#FF97FF",
           "#FECB52"
          ],
          "font": {
           "color": "#2a3f5f"
          },
          "geo": {
           "bgcolor": "white",
           "lakecolor": "white",
           "landcolor": "#E5ECF6",
           "showlakes": true,
           "showland": true,
           "subunitcolor": "white"
          },
          "hoverlabel": {
           "align": "left"
          },
          "hovermode": "closest",
          "mapbox": {
           "style": "light"
          },
          "paper_bgcolor": "white",
          "plot_bgcolor": "#E5ECF6",
          "polar": {
           "angularaxis": {
            "gridcolor": "white",
            "linecolor": "white",
            "ticks": ""
           },
           "bgcolor": "#E5ECF6",
           "radialaxis": {
            "gridcolor": "white",
            "linecolor": "white",
            "ticks": ""
           }
          },
          "scene": {
           "xaxis": {
            "backgroundcolor": "#E5ECF6",
            "gridcolor": "white",
            "gridwidth": 2,
            "linecolor": "white",
            "showbackground": true,
            "ticks": "",
            "zerolinecolor": "white"
           },
           "yaxis": {
            "backgroundcolor": "#E5ECF6",
            "gridcolor": "white",
            "gridwidth": 2,
            "linecolor": "white",
            "showbackground": true,
            "ticks": "",
            "zerolinecolor": "white"
           },
           "zaxis": {
            "backgroundcolor": "#E5ECF6",
            "gridcolor": "white",
            "gridwidth": 2,
            "linecolor": "white",
            "showbackground": true,
            "ticks": "",
            "zerolinecolor": "white"
           }
          },
          "shapedefaults": {
           "line": {
            "color": "#2a3f5f"
           }
          },
          "ternary": {
           "aaxis": {
            "gridcolor": "white",
            "linecolor": "white",
            "ticks": ""
           },
           "baxis": {
            "gridcolor": "white",
            "linecolor": "white",
            "ticks": ""
           },
           "bgcolor": "#E5ECF6",
           "caxis": {
            "gridcolor": "white",
            "linecolor": "white",
            "ticks": ""
           }
          },
          "title": {
           "x": 0.05
          },
          "xaxis": {
           "automargin": true,
           "gridcolor": "white",
           "linecolor": "white",
           "ticks": "",
           "title": {
            "standoff": 15
           },
           "zerolinecolor": "white",
           "zerolinewidth": 2
          },
          "yaxis": {
           "automargin": true,
           "gridcolor": "white",
           "linecolor": "white",
           "ticks": "",
           "title": {
            "standoff": 15
           },
           "zerolinecolor": "white",
           "zerolinewidth": 2
          }
         }
        },
        "title": {
         "text": "Total Recalls by State and Top City (2020-2024)",
         "x": 0.5,
         "xanchor": "center",
         "y": 0.95,
         "yanchor": "top"
        }
       }
      }
     },
     "metadata": {},
     "output_type": "display_data"
    }
   ],
   "source": [
    "# Aggregates the total number of recalls for each state\n",
    "state_counts = clean_df.groupby('State')['City'].count().reset_index()\n",
    "state_counts.columns = ['State', 'Recall Count']\n",
    "\n",
    "# Identifies the city with the highest number of recalls within each state\n",
    "top_city_by_state = clean_df.groupby(['State', 'City']).size().reset_index(name='City Recalls')\n",
    "top_city_by_state = top_city_by_state.loc[top_city_by_state.groupby('State')['City Recalls'].idxmax()]\n",
    "\n",
    "# Merges the total recalls per state with the highest city recalls data\n",
    "state_counts = pd.merge(state_counts, top_city_by_state[['State', 'City', 'City Recalls']], on='State', how='left')\n",
    "\n",
    "# Latitude and Longitude for state abbreviations placement\n",
    "state_abbreviation_coords = {\n",
    "    'AL': [32.806671, -86.791130], 'AK': [61.370716, -152.404419], 'AZ': [33.729759, -111.431221], \n",
    "    'AR': [34.969704, -92.373123], 'CA': [36.116203, -119.681564], 'CO': [39.059811, -105.311104], \n",
    "    'CT': [41.597782, -72.755371], 'DE': [39.318523, -75.507141], 'FL': [27.766279, -81.686783], \n",
    "    'GA': [33.040619, -83.643074], 'HI': [21.094318, -157.498337], 'ID': [44.240459, -114.478828], \n",
    "    'IL': [40.349457, -88.986137], 'IN': [39.849426, -86.258278], 'IA': [42.011539, -93.210526], \n",
    "    'KS': [38.526600, -96.726486], 'KY': [37.668140, -84.670067], 'LA': [31.169546, -91.867805], \n",
    "    'ME': [44.693947, -69.381927], 'MD': [39.063946, -76.802101], 'MA': [42.230171, -71.530106], \n",
    "    'MI': [43.326618, -84.536095], 'MN': [45.694454, -93.900192], 'MS': [32.741646, -89.678696], \n",
    "    'MO': [38.456085, -92.288368], 'MT': [46.921925, -110.454353], 'NE': [41.125370, -98.268082], \n",
    "    'NV': [38.313515, -117.055374], 'NH': [43.452492, -71.563896], 'NJ': [40.298904, -74.521011], \n",
    "    'NM': [34.840515, -106.248482], 'NY': [42.165726, -74.948051], 'NC': [35.630066, -79.806419], \n",
    "    'ND': [47.528912, -99.784012], 'OH': [40.388783, -82.764915], 'OK': [35.565342, -96.928917], \n",
    "    'OR': [44.572021, -122.070938], 'PA': [40.590752, -77.209755], 'RI': [41.680893, -71.511780], \n",
    "    'SC': [33.856892, -80.945007], 'SD': [44.299782, -99.438828], 'TN': [35.747845, -86.692345], \n",
    "    'TX': [31.054487, -97.563461], 'UT': [40.150032, -111.862434], 'VT': [44.045876, -72.710686], \n",
    "    'VA': [37.769337, -78.169968], 'WA': [47.400902, -121.490494], 'WV': [38.491226, -80.954456], \n",
    "    'WI': [44.268543, -89.616508], 'WY': [42.755966, -107.302490]\n",
    "}\n",
    "\n",
    "# Function to create the choropleth map that includes state abbreviations\n",
    "def plot_recall_distribution_by_state():\n",
    "    clear_output(wait=True)\n",
    "\n",
    "    # Create the choropleth map\n",
    "    fig = px.choropleth(\n",
    "        state_counts,\n",
    "        locations='State',\n",
    "        locationmode=\"USA-states\",\n",
    "        color='Recall Count',\n",
    "        hover_name='State',\n",
    "        hover_data={\n",
    "            'Recall Count': True,\n",
    "            'City': True,\n",
    "            'City Recalls': True\n",
    "        },\n",
    "        scope=\"usa\",\n",
    "        color_continuous_scale=\"YlOrRd\",\n",
    "        labels={'Recall Count': 'Total Recalls'},\n",
    "        title=\"Total Recalls by State and Top City (2020-2024)\"\n",
    "    )\n",
    "\n",
    "    # Add state abbreviations as annotations on the map\n",
    "    for state, coord in state_abbreviation_coords.items():\n",
    "        fig.add_trace(go.Scattergeo(\n",
    "            locationmode='USA-states',\n",
    "            lon=[coord[1]],\n",
    "            lat=[coord[0]],\n",
    "            text=state,\n",
    "            mode='text',\n",
    "            showlegend=False,\n",
    "            textfont=dict(size=12, color=\"black\"),\n",
    "        ))\n",
    "\n",
    "    # Updates layout for better visualization and adds a title\n",
    "    fig.update_layout(\n",
    "        geo=dict(\n",
    "            lakecolor='rgb(255, 255, 255)',\n",
    "        ),\n",
    "        margin={\"r\":0,\"t\":50,\"l\":0,\"b\":0},\n",
    "        title={\n",
    "            'text': \"Total Recalls by State and Top City (2020-2024)\",\n",
    "            'y':0.95,\n",
    "            'x':0.5,\n",
    "            'xanchor': 'center',\n",
    "            'yanchor': 'top'\n",
    "        }\n",
    "    )\n",
    "\n",
    "    fig.show()\n",
    "\n",
    "plot_recall_distribution_by_state()"
   ]
  },
  {
   "cell_type": "code",
   "execution_count": 7,
   "metadata": {},
   "outputs": [
    {
     "data": {
      "application/vnd.jupyter.widget-view+json": {
       "model_id": "9fade8f7c0e74bdb9030027e638828e2",
       "version_major": 2,
       "version_minor": 0
      },
      "text/plain": [
       "interactive(children=(Dropdown(description='Select Firm:', options=(None, '(33) FRESH IDEATION FOOD GROUP, LLC…"
      ]
     },
     "metadata": {},
     "output_type": "display_data"
    },
    {
     "data": {
      "application/vnd.plotly.v1+json": {
       "config": {
        "plotlyServerURL": "https://plot.ly"
       },
       "data": [
        {
         "branchvalues": "total",
         "customdata": [
          [
           "Class II",
           "100 vegetarian  Fenugreek Capsules 90 count, 600mg, packaged in 150cc Amber Glass Packer  with White Polypropylene Cap.",
           "NM",
           "Food"
          ],
          [
           "Class II",
           "100 vegetarian  Fenugreek Capsules 90 count, 600mg, packaged in 150cc Amber Glass Packer  with White Polypropylene Cap.",
           "NM",
           "Food"
          ],
          [
           "Class II",
           "100 vegetarian  Fenugreek Capsules 90 count, 600mg, packaged in 150cc Amber Glass Packer  with White Polypropylene Cap.",
           "NM",
           "Food"
          ]
         ],
         "domain": {
          "x": [
           0,
           1
          ],
          "y": [
           0,
           1
          ]
         },
         "hovertemplate": "Firm: Vitality Works, Inc<br>Classification: %{customdata[0]}<br>Product Description: %{customdata[1]}<br>State: %{customdata[2]}",
         "ids": [
          "Vitality Works, Inc/Food/100 vegetarian  Fenugreek Capsules 90 count, 600mg, packaged in 150cc Amber Glass Packer  with White Polypropylene Cap.",
          "Vitality Works, Inc/Food",
          "Vitality Works, Inc"
         ],
         "labels": [
          "100 vegetarian  Fenugreek Capsules 90 count, 600mg, packaged in 150cc Amber Glass Packer  with White Polypropylene Cap.",
          "Food",
          "Vitality Works, Inc"
         ],
         "marker": {
          "colors": [
           "#636efa",
           "#636efa",
           "#636efa"
          ]
         },
         "name": "",
         "parents": [
          "Vitality Works, Inc/Food",
          "Vitality Works, Inc",
          ""
         ],
         "type": "sunburst",
         "values": [
          9,
          9,
          9
         ]
        }
       ],
       "layout": {
        "legend": {
         "tracegroupgap": 0
        },
        "template": {
         "data": {
          "bar": [
           {
            "error_x": {
             "color": "#2a3f5f"
            },
            "error_y": {
             "color": "#2a3f5f"
            },
            "marker": {
             "line": {
              "color": "#E5ECF6",
              "width": 0.5
             },
             "pattern": {
              "fillmode": "overlay",
              "size": 10,
              "solidity": 0.2
             }
            },
            "type": "bar"
           }
          ],
          "barpolar": [
           {
            "marker": {
             "line": {
              "color": "#E5ECF6",
              "width": 0.5
             },
             "pattern": {
              "fillmode": "overlay",
              "size": 10,
              "solidity": 0.2
             }
            },
            "type": "barpolar"
           }
          ],
          "carpet": [
           {
            "aaxis": {
             "endlinecolor": "#2a3f5f",
             "gridcolor": "white",
             "linecolor": "white",
             "minorgridcolor": "white",
             "startlinecolor": "#2a3f5f"
            },
            "baxis": {
             "endlinecolor": "#2a3f5f",
             "gridcolor": "white",
             "linecolor": "white",
             "minorgridcolor": "white",
             "startlinecolor": "#2a3f5f"
            },
            "type": "carpet"
           }
          ],
          "choropleth": [
           {
            "colorbar": {
             "outlinewidth": 0,
             "ticks": ""
            },
            "type": "choropleth"
           }
          ],
          "contour": [
           {
            "colorbar": {
             "outlinewidth": 0,
             "ticks": ""
            },
            "colorscale": [
             [
              0,
              "#0d0887"
             ],
             [
              0.1111111111111111,
              "#46039f"
             ],
             [
              0.2222222222222222,
              "#7201a8"
             ],
             [
              0.3333333333333333,
              "#9c179e"
             ],
             [
              0.4444444444444444,
              "#bd3786"
             ],
             [
              0.5555555555555556,
              "#d8576b"
             ],
             [
              0.6666666666666666,
              "#ed7953"
             ],
             [
              0.7777777777777778,
              "#fb9f3a"
             ],
             [
              0.8888888888888888,
              "#fdca26"
             ],
             [
              1,
              "#f0f921"
             ]
            ],
            "type": "contour"
           }
          ],
          "contourcarpet": [
           {
            "colorbar": {
             "outlinewidth": 0,
             "ticks": ""
            },
            "type": "contourcarpet"
           }
          ],
          "heatmap": [
           {
            "colorbar": {
             "outlinewidth": 0,
             "ticks": ""
            },
            "colorscale": [
             [
              0,
              "#0d0887"
             ],
             [
              0.1111111111111111,
              "#46039f"
             ],
             [
              0.2222222222222222,
              "#7201a8"
             ],
             [
              0.3333333333333333,
              "#9c179e"
             ],
             [
              0.4444444444444444,
              "#bd3786"
             ],
             [
              0.5555555555555556,
              "#d8576b"
             ],
             [
              0.6666666666666666,
              "#ed7953"
             ],
             [
              0.7777777777777778,
              "#fb9f3a"
             ],
             [
              0.8888888888888888,
              "#fdca26"
             ],
             [
              1,
              "#f0f921"
             ]
            ],
            "type": "heatmap"
           }
          ],
          "heatmapgl": [
           {
            "colorbar": {
             "outlinewidth": 0,
             "ticks": ""
            },
            "colorscale": [
             [
              0,
              "#0d0887"
             ],
             [
              0.1111111111111111,
              "#46039f"
             ],
             [
              0.2222222222222222,
              "#7201a8"
             ],
             [
              0.3333333333333333,
              "#9c179e"
             ],
             [
              0.4444444444444444,
              "#bd3786"
             ],
             [
              0.5555555555555556,
              "#d8576b"
             ],
             [
              0.6666666666666666,
              "#ed7953"
             ],
             [
              0.7777777777777778,
              "#fb9f3a"
             ],
             [
              0.8888888888888888,
              "#fdca26"
             ],
             [
              1,
              "#f0f921"
             ]
            ],
            "type": "heatmapgl"
           }
          ],
          "histogram": [
           {
            "marker": {
             "pattern": {
              "fillmode": "overlay",
              "size": 10,
              "solidity": 0.2
             }
            },
            "type": "histogram"
           }
          ],
          "histogram2d": [
           {
            "colorbar": {
             "outlinewidth": 0,
             "ticks": ""
            },
            "colorscale": [
             [
              0,
              "#0d0887"
             ],
             [
              0.1111111111111111,
              "#46039f"
             ],
             [
              0.2222222222222222,
              "#7201a8"
             ],
             [
              0.3333333333333333,
              "#9c179e"
             ],
             [
              0.4444444444444444,
              "#bd3786"
             ],
             [
              0.5555555555555556,
              "#d8576b"
             ],
             [
              0.6666666666666666,
              "#ed7953"
             ],
             [
              0.7777777777777778,
              "#fb9f3a"
             ],
             [
              0.8888888888888888,
              "#fdca26"
             ],
             [
              1,
              "#f0f921"
             ]
            ],
            "type": "histogram2d"
           }
          ],
          "histogram2dcontour": [
           {
            "colorbar": {
             "outlinewidth": 0,
             "ticks": ""
            },
            "colorscale": [
             [
              0,
              "#0d0887"
             ],
             [
              0.1111111111111111,
              "#46039f"
             ],
             [
              0.2222222222222222,
              "#7201a8"
             ],
             [
              0.3333333333333333,
              "#9c179e"
             ],
             [
              0.4444444444444444,
              "#bd3786"
             ],
             [
              0.5555555555555556,
              "#d8576b"
             ],
             [
              0.6666666666666666,
              "#ed7953"
             ],
             [
              0.7777777777777778,
              "#fb9f3a"
             ],
             [
              0.8888888888888888,
              "#fdca26"
             ],
             [
              1,
              "#f0f921"
             ]
            ],
            "type": "histogram2dcontour"
           }
          ],
          "mesh3d": [
           {
            "colorbar": {
             "outlinewidth": 0,
             "ticks": ""
            },
            "type": "mesh3d"
           }
          ],
          "parcoords": [
           {
            "line": {
             "colorbar": {
              "outlinewidth": 0,
              "ticks": ""
             }
            },
            "type": "parcoords"
           }
          ],
          "pie": [
           {
            "automargin": true,
            "type": "pie"
           }
          ],
          "scatter": [
           {
            "fillpattern": {
             "fillmode": "overlay",
             "size": 10,
             "solidity": 0.2
            },
            "type": "scatter"
           }
          ],
          "scatter3d": [
           {
            "line": {
             "colorbar": {
              "outlinewidth": 0,
              "ticks": ""
             }
            },
            "marker": {
             "colorbar": {
              "outlinewidth": 0,
              "ticks": ""
             }
            },
            "type": "scatter3d"
           }
          ],
          "scattercarpet": [
           {
            "marker": {
             "colorbar": {
              "outlinewidth": 0,
              "ticks": ""
             }
            },
            "type": "scattercarpet"
           }
          ],
          "scattergeo": [
           {
            "marker": {
             "colorbar": {
              "outlinewidth": 0,
              "ticks": ""
             }
            },
            "type": "scattergeo"
           }
          ],
          "scattergl": [
           {
            "marker": {
             "colorbar": {
              "outlinewidth": 0,
              "ticks": ""
             }
            },
            "type": "scattergl"
           }
          ],
          "scattermapbox": [
           {
            "marker": {
             "colorbar": {
              "outlinewidth": 0,
              "ticks": ""
             }
            },
            "type": "scattermapbox"
           }
          ],
          "scatterpolar": [
           {
            "marker": {
             "colorbar": {
              "outlinewidth": 0,
              "ticks": ""
             }
            },
            "type": "scatterpolar"
           }
          ],
          "scatterpolargl": [
           {
            "marker": {
             "colorbar": {
              "outlinewidth": 0,
              "ticks": ""
             }
            },
            "type": "scatterpolargl"
           }
          ],
          "scatterternary": [
           {
            "marker": {
             "colorbar": {
              "outlinewidth": 0,
              "ticks": ""
             }
            },
            "type": "scatterternary"
           }
          ],
          "surface": [
           {
            "colorbar": {
             "outlinewidth": 0,
             "ticks": ""
            },
            "colorscale": [
             [
              0,
              "#0d0887"
             ],
             [
              0.1111111111111111,
              "#46039f"
             ],
             [
              0.2222222222222222,
              "#7201a8"
             ],
             [
              0.3333333333333333,
              "#9c179e"
             ],
             [
              0.4444444444444444,
              "#bd3786"
             ],
             [
              0.5555555555555556,
              "#d8576b"
             ],
             [
              0.6666666666666666,
              "#ed7953"
             ],
             [
              0.7777777777777778,
              "#fb9f3a"
             ],
             [
              0.8888888888888888,
              "#fdca26"
             ],
             [
              1,
              "#f0f921"
             ]
            ],
            "type": "surface"
           }
          ],
          "table": [
           {
            "cells": {
             "fill": {
              "color": "#EBF0F8"
             },
             "line": {
              "color": "white"
             }
            },
            "header": {
             "fill": {
              "color": "#C8D4E3"
             },
             "line": {
              "color": "white"
             }
            },
            "type": "table"
           }
          ]
         },
         "layout": {
          "annotationdefaults": {
           "arrowcolor": "#2a3f5f",
           "arrowhead": 0,
           "arrowwidth": 1
          },
          "autotypenumbers": "strict",
          "coloraxis": {
           "colorbar": {
            "outlinewidth": 0,
            "ticks": ""
           }
          },
          "colorscale": {
           "diverging": [
            [
             0,
             "#8e0152"
            ],
            [
             0.1,
             "#c51b7d"
            ],
            [
             0.2,
             "#de77ae"
            ],
            [
             0.3,
             "#f1b6da"
            ],
            [
             0.4,
             "#fde0ef"
            ],
            [
             0.5,
             "#f7f7f7"
            ],
            [
             0.6,
             "#e6f5d0"
            ],
            [
             0.7,
             "#b8e186"
            ],
            [
             0.8,
             "#7fbc41"
            ],
            [
             0.9,
             "#4d9221"
            ],
            [
             1,
             "#276419"
            ]
           ],
           "sequential": [
            [
             0,
             "#0d0887"
            ],
            [
             0.1111111111111111,
             "#46039f"
            ],
            [
             0.2222222222222222,
             "#7201a8"
            ],
            [
             0.3333333333333333,
             "#9c179e"
            ],
            [
             0.4444444444444444,
             "#bd3786"
            ],
            [
             0.5555555555555556,
             "#d8576b"
            ],
            [
             0.6666666666666666,
             "#ed7953"
            ],
            [
             0.7777777777777778,
             "#fb9f3a"
            ],
            [
             0.8888888888888888,
             "#fdca26"
            ],
            [
             1,
             "#f0f921"
            ]
           ],
           "sequentialminus": [
            [
             0,
             "#0d0887"
            ],
            [
             0.1111111111111111,
             "#46039f"
            ],
            [
             0.2222222222222222,
             "#7201a8"
            ],
            [
             0.3333333333333333,
             "#9c179e"
            ],
            [
             0.4444444444444444,
             "#bd3786"
            ],
            [
             0.5555555555555556,
             "#d8576b"
            ],
            [
             0.6666666666666666,
             "#ed7953"
            ],
            [
             0.7777777777777778,
             "#fb9f3a"
            ],
            [
             0.8888888888888888,
             "#fdca26"
            ],
            [
             1,
             "#f0f921"
            ]
           ]
          },
          "colorway": [
           "#636efa",
           "#EF553B",
           "#00cc96",
           "#ab63fa",
           "#FFA15A",
           "#19d3f3",
           "#FF6692",
           "#B6E880",
           "#FF97FF",
           "#FECB52"
          ],
          "font": {
           "color": "#2a3f5f"
          },
          "geo": {
           "bgcolor": "white",
           "lakecolor": "white",
           "landcolor": "#E5ECF6",
           "showlakes": true,
           "showland": true,
           "subunitcolor": "white"
          },
          "hoverlabel": {
           "align": "left"
          },
          "hovermode": "closest",
          "mapbox": {
           "style": "light"
          },
          "paper_bgcolor": "white",
          "plot_bgcolor": "#E5ECF6",
          "polar": {
           "angularaxis": {
            "gridcolor": "white",
            "linecolor": "white",
            "ticks": ""
           },
           "bgcolor": "#E5ECF6",
           "radialaxis": {
            "gridcolor": "white",
            "linecolor": "white",
            "ticks": ""
           }
          },
          "scene": {
           "xaxis": {
            "backgroundcolor": "#E5ECF6",
            "gridcolor": "white",
            "gridwidth": 2,
            "linecolor": "white",
            "showbackground": true,
            "ticks": "",
            "zerolinecolor": "white"
           },
           "yaxis": {
            "backgroundcolor": "#E5ECF6",
            "gridcolor": "white",
            "gridwidth": 2,
            "linecolor": "white",
            "showbackground": true,
            "ticks": "",
            "zerolinecolor": "white"
           },
           "zaxis": {
            "backgroundcolor": "#E5ECF6",
            "gridcolor": "white",
            "gridwidth": 2,
            "linecolor": "white",
            "showbackground": true,
            "ticks": "",
            "zerolinecolor": "white"
           }
          },
          "shapedefaults": {
           "line": {
            "color": "#2a3f5f"
           }
          },
          "ternary": {
           "aaxis": {
            "gridcolor": "white",
            "linecolor": "white",
            "ticks": ""
           },
           "baxis": {
            "gridcolor": "white",
            "linecolor": "white",
            "ticks": ""
           },
           "bgcolor": "#E5ECF6",
           "caxis": {
            "gridcolor": "white",
            "linecolor": "white",
            "ticks": ""
           }
          },
          "title": {
           "x": 0.05
          },
          "xaxis": {
           "automargin": true,
           "gridcolor": "white",
           "linecolor": "white",
           "ticks": "",
           "title": {
            "standoff": 15
           },
           "zerolinecolor": "white",
           "zerolinewidth": 2
          },
          "yaxis": {
           "automargin": true,
           "gridcolor": "white",
           "linecolor": "white",
           "ticks": "",
           "title": {
            "standoff": 15
           },
           "zerolinecolor": "white",
           "zerolinewidth": 2
          }
         }
        },
        "title": {
         "text": "Top Products Recalled by Vitality Works, Inc"
        }
       }
      }
     },
     "metadata": {},
     "output_type": "display_data"
    },
    {
     "data": {
      "application/vnd.plotly.v1+json": {
       "config": {
        "plotlyServerURL": "https://plot.ly"
       },
       "data": [
        {
         "branchvalues": "total",
         "customdata": [
          [
           "Class II",
           "100 vegetarian  Fenugreek Capsules 90 count, 600mg, packaged in 150cc Amber Glass Packer  with White Polypropylene Cap.",
           "NM",
           "Food"
          ],
          [
           "Class II",
           "100 vegetarian  Fenugreek Capsules 90 count, 600mg, packaged in 150cc Amber Glass Packer  with White Polypropylene Cap.",
           "NM",
           "Food"
          ],
          [
           "Class II",
           "100 vegetarian  Fenugreek Capsules 90 count, 600mg, packaged in 150cc Amber Glass Packer  with White Polypropylene Cap.",
           "NM",
           "Food"
          ]
         ],
         "domain": {
          "x": [
           0,
           1
          ],
          "y": [
           0,
           1
          ]
         },
         "hovertemplate": "Firm: Vitality Works, Inc<br>Classification: %{customdata[0]}<br>Product Description: %{customdata[1]}<br>State: %{customdata[2]}",
         "ids": [
          "Vitality Works, Inc/Food/100 vegetarian  Fenugreek Capsules 90 count, 600mg, packaged in 150cc Amber Glass Packer  with White Polypropylene Cap.",
          "Vitality Works, Inc/Food",
          "Vitality Works, Inc"
         ],
         "labels": [
          "100 vegetarian  Fenugreek Capsules 90 count, 600mg, packaged in 150cc Amber Glass Packer  with White Polypropylene Cap.",
          "Food",
          "Vitality Works, Inc"
         ],
         "marker": {
          "colors": [
           "#636efa",
           "#636efa",
           "#636efa"
          ]
         },
         "name": "",
         "parents": [
          "Vitality Works, Inc/Food",
          "Vitality Works, Inc",
          ""
         ],
         "type": "sunburst",
         "values": [
          9,
          9,
          9
         ]
        }
       ],
       "layout": {
        "legend": {
         "tracegroupgap": 0
        },
        "template": {
         "data": {
          "bar": [
           {
            "error_x": {
             "color": "#2a3f5f"
            },
            "error_y": {
             "color": "#2a3f5f"
            },
            "marker": {
             "line": {
              "color": "#E5ECF6",
              "width": 0.5
             },
             "pattern": {
              "fillmode": "overlay",
              "size": 10,
              "solidity": 0.2
             }
            },
            "type": "bar"
           }
          ],
          "barpolar": [
           {
            "marker": {
             "line": {
              "color": "#E5ECF6",
              "width": 0.5
             },
             "pattern": {
              "fillmode": "overlay",
              "size": 10,
              "solidity": 0.2
             }
            },
            "type": "barpolar"
           }
          ],
          "carpet": [
           {
            "aaxis": {
             "endlinecolor": "#2a3f5f",
             "gridcolor": "white",
             "linecolor": "white",
             "minorgridcolor": "white",
             "startlinecolor": "#2a3f5f"
            },
            "baxis": {
             "endlinecolor": "#2a3f5f",
             "gridcolor": "white",
             "linecolor": "white",
             "minorgridcolor": "white",
             "startlinecolor": "#2a3f5f"
            },
            "type": "carpet"
           }
          ],
          "choropleth": [
           {
            "colorbar": {
             "outlinewidth": 0,
             "ticks": ""
            },
            "type": "choropleth"
           }
          ],
          "contour": [
           {
            "colorbar": {
             "outlinewidth": 0,
             "ticks": ""
            },
            "colorscale": [
             [
              0,
              "#0d0887"
             ],
             [
              0.1111111111111111,
              "#46039f"
             ],
             [
              0.2222222222222222,
              "#7201a8"
             ],
             [
              0.3333333333333333,
              "#9c179e"
             ],
             [
              0.4444444444444444,
              "#bd3786"
             ],
             [
              0.5555555555555556,
              "#d8576b"
             ],
             [
              0.6666666666666666,
              "#ed7953"
             ],
             [
              0.7777777777777778,
              "#fb9f3a"
             ],
             [
              0.8888888888888888,
              "#fdca26"
             ],
             [
              1,
              "#f0f921"
             ]
            ],
            "type": "contour"
           }
          ],
          "contourcarpet": [
           {
            "colorbar": {
             "outlinewidth": 0,
             "ticks": ""
            },
            "type": "contourcarpet"
           }
          ],
          "heatmap": [
           {
            "colorbar": {
             "outlinewidth": 0,
             "ticks": ""
            },
            "colorscale": [
             [
              0,
              "#0d0887"
             ],
             [
              0.1111111111111111,
              "#46039f"
             ],
             [
              0.2222222222222222,
              "#7201a8"
             ],
             [
              0.3333333333333333,
              "#9c179e"
             ],
             [
              0.4444444444444444,
              "#bd3786"
             ],
             [
              0.5555555555555556,
              "#d8576b"
             ],
             [
              0.6666666666666666,
              "#ed7953"
             ],
             [
              0.7777777777777778,
              "#fb9f3a"
             ],
             [
              0.8888888888888888,
              "#fdca26"
             ],
             [
              1,
              "#f0f921"
             ]
            ],
            "type": "heatmap"
           }
          ],
          "heatmapgl": [
           {
            "colorbar": {
             "outlinewidth": 0,
             "ticks": ""
            },
            "colorscale": [
             [
              0,
              "#0d0887"
             ],
             [
              0.1111111111111111,
              "#46039f"
             ],
             [
              0.2222222222222222,
              "#7201a8"
             ],
             [
              0.3333333333333333,
              "#9c179e"
             ],
             [
              0.4444444444444444,
              "#bd3786"
             ],
             [
              0.5555555555555556,
              "#d8576b"
             ],
             [
              0.6666666666666666,
              "#ed7953"
             ],
             [
              0.7777777777777778,
              "#fb9f3a"
             ],
             [
              0.8888888888888888,
              "#fdca26"
             ],
             [
              1,
              "#f0f921"
             ]
            ],
            "type": "heatmapgl"
           }
          ],
          "histogram": [
           {
            "marker": {
             "pattern": {
              "fillmode": "overlay",
              "size": 10,
              "solidity": 0.2
             }
            },
            "type": "histogram"
           }
          ],
          "histogram2d": [
           {
            "colorbar": {
             "outlinewidth": 0,
             "ticks": ""
            },
            "colorscale": [
             [
              0,
              "#0d0887"
             ],
             [
              0.1111111111111111,
              "#46039f"
             ],
             [
              0.2222222222222222,
              "#7201a8"
             ],
             [
              0.3333333333333333,
              "#9c179e"
             ],
             [
              0.4444444444444444,
              "#bd3786"
             ],
             [
              0.5555555555555556,
              "#d8576b"
             ],
             [
              0.6666666666666666,
              "#ed7953"
             ],
             [
              0.7777777777777778,
              "#fb9f3a"
             ],
             [
              0.8888888888888888,
              "#fdca26"
             ],
             [
              1,
              "#f0f921"
             ]
            ],
            "type": "histogram2d"
           }
          ],
          "histogram2dcontour": [
           {
            "colorbar": {
             "outlinewidth": 0,
             "ticks": ""
            },
            "colorscale": [
             [
              0,
              "#0d0887"
             ],
             [
              0.1111111111111111,
              "#46039f"
             ],
             [
              0.2222222222222222,
              "#7201a8"
             ],
             [
              0.3333333333333333,
              "#9c179e"
             ],
             [
              0.4444444444444444,
              "#bd3786"
             ],
             [
              0.5555555555555556,
              "#d8576b"
             ],
             [
              0.6666666666666666,
              "#ed7953"
             ],
             [
              0.7777777777777778,
              "#fb9f3a"
             ],
             [
              0.8888888888888888,
              "#fdca26"
             ],
             [
              1,
              "#f0f921"
             ]
            ],
            "type": "histogram2dcontour"
           }
          ],
          "mesh3d": [
           {
            "colorbar": {
             "outlinewidth": 0,
             "ticks": ""
            },
            "type": "mesh3d"
           }
          ],
          "parcoords": [
           {
            "line": {
             "colorbar": {
              "outlinewidth": 0,
              "ticks": ""
             }
            },
            "type": "parcoords"
           }
          ],
          "pie": [
           {
            "automargin": true,
            "type": "pie"
           }
          ],
          "scatter": [
           {
            "fillpattern": {
             "fillmode": "overlay",
             "size": 10,
             "solidity": 0.2
            },
            "type": "scatter"
           }
          ],
          "scatter3d": [
           {
            "line": {
             "colorbar": {
              "outlinewidth": 0,
              "ticks": ""
             }
            },
            "marker": {
             "colorbar": {
              "outlinewidth": 0,
              "ticks": ""
             }
            },
            "type": "scatter3d"
           }
          ],
          "scattercarpet": [
           {
            "marker": {
             "colorbar": {
              "outlinewidth": 0,
              "ticks": ""
             }
            },
            "type": "scattercarpet"
           }
          ],
          "scattergeo": [
           {
            "marker": {
             "colorbar": {
              "outlinewidth": 0,
              "ticks": ""
             }
            },
            "type": "scattergeo"
           }
          ],
          "scattergl": [
           {
            "marker": {
             "colorbar": {
              "outlinewidth": 0,
              "ticks": ""
             }
            },
            "type": "scattergl"
           }
          ],
          "scattermapbox": [
           {
            "marker": {
             "colorbar": {
              "outlinewidth": 0,
              "ticks": ""
             }
            },
            "type": "scattermapbox"
           }
          ],
          "scatterpolar": [
           {
            "marker": {
             "colorbar": {
              "outlinewidth": 0,
              "ticks": ""
             }
            },
            "type": "scatterpolar"
           }
          ],
          "scatterpolargl": [
           {
            "marker": {
             "colorbar": {
              "outlinewidth": 0,
              "ticks": ""
             }
            },
            "type": "scatterpolargl"
           }
          ],
          "scatterternary": [
           {
            "marker": {
             "colorbar": {
              "outlinewidth": 0,
              "ticks": ""
             }
            },
            "type": "scatterternary"
           }
          ],
          "surface": [
           {
            "colorbar": {
             "outlinewidth": 0,
             "ticks": ""
            },
            "colorscale": [
             [
              0,
              "#0d0887"
             ],
             [
              0.1111111111111111,
              "#46039f"
             ],
             [
              0.2222222222222222,
              "#7201a8"
             ],
             [
              0.3333333333333333,
              "#9c179e"
             ],
             [
              0.4444444444444444,
              "#bd3786"
             ],
             [
              0.5555555555555556,
              "#d8576b"
             ],
             [
              0.6666666666666666,
              "#ed7953"
             ],
             [
              0.7777777777777778,
              "#fb9f3a"
             ],
             [
              0.8888888888888888,
              "#fdca26"
             ],
             [
              1,
              "#f0f921"
             ]
            ],
            "type": "surface"
           }
          ],
          "table": [
           {
            "cells": {
             "fill": {
              "color": "#EBF0F8"
             },
             "line": {
              "color": "white"
             }
            },
            "header": {
             "fill": {
              "color": "#C8D4E3"
             },
             "line": {
              "color": "white"
             }
            },
            "type": "table"
           }
          ]
         },
         "layout": {
          "annotationdefaults": {
           "arrowcolor": "#2a3f5f",
           "arrowhead": 0,
           "arrowwidth": 1
          },
          "autotypenumbers": "strict",
          "coloraxis": {
           "colorbar": {
            "outlinewidth": 0,
            "ticks": ""
           }
          },
          "colorscale": {
           "diverging": [
            [
             0,
             "#8e0152"
            ],
            [
             0.1,
             "#c51b7d"
            ],
            [
             0.2,
             "#de77ae"
            ],
            [
             0.3,
             "#f1b6da"
            ],
            [
             0.4,
             "#fde0ef"
            ],
            [
             0.5,
             "#f7f7f7"
            ],
            [
             0.6,
             "#e6f5d0"
            ],
            [
             0.7,
             "#b8e186"
            ],
            [
             0.8,
             "#7fbc41"
            ],
            [
             0.9,
             "#4d9221"
            ],
            [
             1,
             "#276419"
            ]
           ],
           "sequential": [
            [
             0,
             "#0d0887"
            ],
            [
             0.1111111111111111,
             "#46039f"
            ],
            [
             0.2222222222222222,
             "#7201a8"
            ],
            [
             0.3333333333333333,
             "#9c179e"
            ],
            [
             0.4444444444444444,
             "#bd3786"
            ],
            [
             0.5555555555555556,
             "#d8576b"
            ],
            [
             0.6666666666666666,
             "#ed7953"
            ],
            [
             0.7777777777777778,
             "#fb9f3a"
            ],
            [
             0.8888888888888888,
             "#fdca26"
            ],
            [
             1,
             "#f0f921"
            ]
           ],
           "sequentialminus": [
            [
             0,
             "#0d0887"
            ],
            [
             0.1111111111111111,
             "#46039f"
            ],
            [
             0.2222222222222222,
             "#7201a8"
            ],
            [
             0.3333333333333333,
             "#9c179e"
            ],
            [
             0.4444444444444444,
             "#bd3786"
            ],
            [
             0.5555555555555556,
             "#d8576b"
            ],
            [
             0.6666666666666666,
             "#ed7953"
            ],
            [
             0.7777777777777778,
             "#fb9f3a"
            ],
            [
             0.8888888888888888,
             "#fdca26"
            ],
            [
             1,
             "#f0f921"
            ]
           ]
          },
          "colorway": [
           "#636efa",
           "#EF553B",
           "#00cc96",
           "#ab63fa",
           "#FFA15A",
           "#19d3f3",
           "#FF6692",
           "#B6E880",
           "#FF97FF",
           "#FECB52"
          ],
          "font": {
           "color": "#2a3f5f"
          },
          "geo": {
           "bgcolor": "white",
           "lakecolor": "white",
           "landcolor": "#E5ECF6",
           "showlakes": true,
           "showland": true,
           "subunitcolor": "white"
          },
          "hoverlabel": {
           "align": "left"
          },
          "hovermode": "closest",
          "mapbox": {
           "style": "light"
          },
          "paper_bgcolor": "white",
          "plot_bgcolor": "#E5ECF6",
          "polar": {
           "angularaxis": {
            "gridcolor": "white",
            "linecolor": "white",
            "ticks": ""
           },
           "bgcolor": "#E5ECF6",
           "radialaxis": {
            "gridcolor": "white",
            "linecolor": "white",
            "ticks": ""
           }
          },
          "scene": {
           "xaxis": {
            "backgroundcolor": "#E5ECF6",
            "gridcolor": "white",
            "gridwidth": 2,
            "linecolor": "white",
            "showbackground": true,
            "ticks": "",
            "zerolinecolor": "white"
           },
           "yaxis": {
            "backgroundcolor": "#E5ECF6",
            "gridcolor": "white",
            "gridwidth": 2,
            "linecolor": "white",
            "showbackground": true,
            "ticks": "",
            "zerolinecolor": "white"
           },
           "zaxis": {
            "backgroundcolor": "#E5ECF6",
            "gridcolor": "white",
            "gridwidth": 2,
            "linecolor": "white",
            "showbackground": true,
            "ticks": "",
            "zerolinecolor": "white"
           }
          },
          "shapedefaults": {
           "line": {
            "color": "#2a3f5f"
           }
          },
          "ternary": {
           "aaxis": {
            "gridcolor": "white",
            "linecolor": "white",
            "ticks": ""
           },
           "baxis": {
            "gridcolor": "white",
            "linecolor": "white",
            "ticks": ""
           },
           "bgcolor": "#E5ECF6",
           "caxis": {
            "gridcolor": "white",
            "linecolor": "white",
            "ticks": ""
           }
          },
          "title": {
           "x": 0.05
          },
          "xaxis": {
           "automargin": true,
           "gridcolor": "white",
           "linecolor": "white",
           "ticks": "",
           "title": {
            "standoff": 15
           },
           "zerolinecolor": "white",
           "zerolinewidth": 2
          },
          "yaxis": {
           "automargin": true,
           "gridcolor": "white",
           "linecolor": "white",
           "ticks": "",
           "title": {
            "standoff": 15
           },
           "zerolinecolor": "white",
           "zerolinewidth": 2
          }
         }
        },
        "title": {
         "text": "Top Products Recalled by Vitality Works, Inc"
        }
       }
      }
     },
     "metadata": {},
     "output_type": "display_data"
    },
    {
     "data": {
      "application/vnd.plotly.v1+json": {
       "config": {
        "plotlyServerURL": "https://plot.ly"
       },
       "data": [
        {
         "branchvalues": "total",
         "customdata": [
          [
           "Class II",
           "100 vegetarian  Fenugreek Capsules 90 count, 600mg, packaged in 150cc Amber Glass Packer  with White Polypropylene Cap.",
           "NM",
           "Food"
          ],
          [
           "Class II",
           "100 vegetarian  Fenugreek Capsules 90 count, 600mg, packaged in 150cc Amber Glass Packer  with White Polypropylene Cap.",
           "NM",
           "Food"
          ],
          [
           "Class II",
           "100 vegetarian  Fenugreek Capsules 90 count, 600mg, packaged in 150cc Amber Glass Packer  with White Polypropylene Cap.",
           "NM",
           "Food"
          ]
         ],
         "domain": {
          "x": [
           0,
           1
          ],
          "y": [
           0,
           1
          ]
         },
         "hovertemplate": "Firm: Vitality Works, Inc<br>Classification: %{customdata[0]}<br>Product Description: %{customdata[1]}<br>State: %{customdata[2]}",
         "ids": [
          "Vitality Works, Inc/Food/100 vegetarian  Fenugreek Capsules 90 count, 600mg, packaged in 150cc Amber Glass Packer  with White Polypropylene Cap.",
          "Vitality Works, Inc/Food",
          "Vitality Works, Inc"
         ],
         "labels": [
          "100 vegetarian  Fenugreek Capsules 90 count, 600mg, packaged in 150cc Amber Glass Packer  with White Polypropylene Cap.",
          "Food",
          "Vitality Works, Inc"
         ],
         "marker": {
          "colors": [
           "#636efa",
           "#636efa",
           "#636efa"
          ]
         },
         "name": "",
         "parents": [
          "Vitality Works, Inc/Food",
          "Vitality Works, Inc",
          ""
         ],
         "type": "sunburst",
         "values": [
          9,
          9,
          9
         ]
        }
       ],
       "layout": {
        "legend": {
         "tracegroupgap": 0
        },
        "template": {
         "data": {
          "bar": [
           {
            "error_x": {
             "color": "#2a3f5f"
            },
            "error_y": {
             "color": "#2a3f5f"
            },
            "marker": {
             "line": {
              "color": "#E5ECF6",
              "width": 0.5
             },
             "pattern": {
              "fillmode": "overlay",
              "size": 10,
              "solidity": 0.2
             }
            },
            "type": "bar"
           }
          ],
          "barpolar": [
           {
            "marker": {
             "line": {
              "color": "#E5ECF6",
              "width": 0.5
             },
             "pattern": {
              "fillmode": "overlay",
              "size": 10,
              "solidity": 0.2
             }
            },
            "type": "barpolar"
           }
          ],
          "carpet": [
           {
            "aaxis": {
             "endlinecolor": "#2a3f5f",
             "gridcolor": "white",
             "linecolor": "white",
             "minorgridcolor": "white",
             "startlinecolor": "#2a3f5f"
            },
            "baxis": {
             "endlinecolor": "#2a3f5f",
             "gridcolor": "white",
             "linecolor": "white",
             "minorgridcolor": "white",
             "startlinecolor": "#2a3f5f"
            },
            "type": "carpet"
           }
          ],
          "choropleth": [
           {
            "colorbar": {
             "outlinewidth": 0,
             "ticks": ""
            },
            "type": "choropleth"
           }
          ],
          "contour": [
           {
            "colorbar": {
             "outlinewidth": 0,
             "ticks": ""
            },
            "colorscale": [
             [
              0,
              "#0d0887"
             ],
             [
              0.1111111111111111,
              "#46039f"
             ],
             [
              0.2222222222222222,
              "#7201a8"
             ],
             [
              0.3333333333333333,
              "#9c179e"
             ],
             [
              0.4444444444444444,
              "#bd3786"
             ],
             [
              0.5555555555555556,
              "#d8576b"
             ],
             [
              0.6666666666666666,
              "#ed7953"
             ],
             [
              0.7777777777777778,
              "#fb9f3a"
             ],
             [
              0.8888888888888888,
              "#fdca26"
             ],
             [
              1,
              "#f0f921"
             ]
            ],
            "type": "contour"
           }
          ],
          "contourcarpet": [
           {
            "colorbar": {
             "outlinewidth": 0,
             "ticks": ""
            },
            "type": "contourcarpet"
           }
          ],
          "heatmap": [
           {
            "colorbar": {
             "outlinewidth": 0,
             "ticks": ""
            },
            "colorscale": [
             [
              0,
              "#0d0887"
             ],
             [
              0.1111111111111111,
              "#46039f"
             ],
             [
              0.2222222222222222,
              "#7201a8"
             ],
             [
              0.3333333333333333,
              "#9c179e"
             ],
             [
              0.4444444444444444,
              "#bd3786"
             ],
             [
              0.5555555555555556,
              "#d8576b"
             ],
             [
              0.6666666666666666,
              "#ed7953"
             ],
             [
              0.7777777777777778,
              "#fb9f3a"
             ],
             [
              0.8888888888888888,
              "#fdca26"
             ],
             [
              1,
              "#f0f921"
             ]
            ],
            "type": "heatmap"
           }
          ],
          "heatmapgl": [
           {
            "colorbar": {
             "outlinewidth": 0,
             "ticks": ""
            },
            "colorscale": [
             [
              0,
              "#0d0887"
             ],
             [
              0.1111111111111111,
              "#46039f"
             ],
             [
              0.2222222222222222,
              "#7201a8"
             ],
             [
              0.3333333333333333,
              "#9c179e"
             ],
             [
              0.4444444444444444,
              "#bd3786"
             ],
             [
              0.5555555555555556,
              "#d8576b"
             ],
             [
              0.6666666666666666,
              "#ed7953"
             ],
             [
              0.7777777777777778,
              "#fb9f3a"
             ],
             [
              0.8888888888888888,
              "#fdca26"
             ],
             [
              1,
              "#f0f921"
             ]
            ],
            "type": "heatmapgl"
           }
          ],
          "histogram": [
           {
            "marker": {
             "pattern": {
              "fillmode": "overlay",
              "size": 10,
              "solidity": 0.2
             }
            },
            "type": "histogram"
           }
          ],
          "histogram2d": [
           {
            "colorbar": {
             "outlinewidth": 0,
             "ticks": ""
            },
            "colorscale": [
             [
              0,
              "#0d0887"
             ],
             [
              0.1111111111111111,
              "#46039f"
             ],
             [
              0.2222222222222222,
              "#7201a8"
             ],
             [
              0.3333333333333333,
              "#9c179e"
             ],
             [
              0.4444444444444444,
              "#bd3786"
             ],
             [
              0.5555555555555556,
              "#d8576b"
             ],
             [
              0.6666666666666666,
              "#ed7953"
             ],
             [
              0.7777777777777778,
              "#fb9f3a"
             ],
             [
              0.8888888888888888,
              "#fdca26"
             ],
             [
              1,
              "#f0f921"
             ]
            ],
            "type": "histogram2d"
           }
          ],
          "histogram2dcontour": [
           {
            "colorbar": {
             "outlinewidth": 0,
             "ticks": ""
            },
            "colorscale": [
             [
              0,
              "#0d0887"
             ],
             [
              0.1111111111111111,
              "#46039f"
             ],
             [
              0.2222222222222222,
              "#7201a8"
             ],
             [
              0.3333333333333333,
              "#9c179e"
             ],
             [
              0.4444444444444444,
              "#bd3786"
             ],
             [
              0.5555555555555556,
              "#d8576b"
             ],
             [
              0.6666666666666666,
              "#ed7953"
             ],
             [
              0.7777777777777778,
              "#fb9f3a"
             ],
             [
              0.8888888888888888,
              "#fdca26"
             ],
             [
              1,
              "#f0f921"
             ]
            ],
            "type": "histogram2dcontour"
           }
          ],
          "mesh3d": [
           {
            "colorbar": {
             "outlinewidth": 0,
             "ticks": ""
            },
            "type": "mesh3d"
           }
          ],
          "parcoords": [
           {
            "line": {
             "colorbar": {
              "outlinewidth": 0,
              "ticks": ""
             }
            },
            "type": "parcoords"
           }
          ],
          "pie": [
           {
            "automargin": true,
            "type": "pie"
           }
          ],
          "scatter": [
           {
            "fillpattern": {
             "fillmode": "overlay",
             "size": 10,
             "solidity": 0.2
            },
            "type": "scatter"
           }
          ],
          "scatter3d": [
           {
            "line": {
             "colorbar": {
              "outlinewidth": 0,
              "ticks": ""
             }
            },
            "marker": {
             "colorbar": {
              "outlinewidth": 0,
              "ticks": ""
             }
            },
            "type": "scatter3d"
           }
          ],
          "scattercarpet": [
           {
            "marker": {
             "colorbar": {
              "outlinewidth": 0,
              "ticks": ""
             }
            },
            "type": "scattercarpet"
           }
          ],
          "scattergeo": [
           {
            "marker": {
             "colorbar": {
              "outlinewidth": 0,
              "ticks": ""
             }
            },
            "type": "scattergeo"
           }
          ],
          "scattergl": [
           {
            "marker": {
             "colorbar": {
              "outlinewidth": 0,
              "ticks": ""
             }
            },
            "type": "scattergl"
           }
          ],
          "scattermapbox": [
           {
            "marker": {
             "colorbar": {
              "outlinewidth": 0,
              "ticks": ""
             }
            },
            "type": "scattermapbox"
           }
          ],
          "scatterpolar": [
           {
            "marker": {
             "colorbar": {
              "outlinewidth": 0,
              "ticks": ""
             }
            },
            "type": "scatterpolar"
           }
          ],
          "scatterpolargl": [
           {
            "marker": {
             "colorbar": {
              "outlinewidth": 0,
              "ticks": ""
             }
            },
            "type": "scatterpolargl"
           }
          ],
          "scatterternary": [
           {
            "marker": {
             "colorbar": {
              "outlinewidth": 0,
              "ticks": ""
             }
            },
            "type": "scatterternary"
           }
          ],
          "surface": [
           {
            "colorbar": {
             "outlinewidth": 0,
             "ticks": ""
            },
            "colorscale": [
             [
              0,
              "#0d0887"
             ],
             [
              0.1111111111111111,
              "#46039f"
             ],
             [
              0.2222222222222222,
              "#7201a8"
             ],
             [
              0.3333333333333333,
              "#9c179e"
             ],
             [
              0.4444444444444444,
              "#bd3786"
             ],
             [
              0.5555555555555556,
              "#d8576b"
             ],
             [
              0.6666666666666666,
              "#ed7953"
             ],
             [
              0.7777777777777778,
              "#fb9f3a"
             ],
             [
              0.8888888888888888,
              "#fdca26"
             ],
             [
              1,
              "#f0f921"
             ]
            ],
            "type": "surface"
           }
          ],
          "table": [
           {
            "cells": {
             "fill": {
              "color": "#EBF0F8"
             },
             "line": {
              "color": "white"
             }
            },
            "header": {
             "fill": {
              "color": "#C8D4E3"
             },
             "line": {
              "color": "white"
             }
            },
            "type": "table"
           }
          ]
         },
         "layout": {
          "annotationdefaults": {
           "arrowcolor": "#2a3f5f",
           "arrowhead": 0,
           "arrowwidth": 1
          },
          "autotypenumbers": "strict",
          "coloraxis": {
           "colorbar": {
            "outlinewidth": 0,
            "ticks": ""
           }
          },
          "colorscale": {
           "diverging": [
            [
             0,
             "#8e0152"
            ],
            [
             0.1,
             "#c51b7d"
            ],
            [
             0.2,
             "#de77ae"
            ],
            [
             0.3,
             "#f1b6da"
            ],
            [
             0.4,
             "#fde0ef"
            ],
            [
             0.5,
             "#f7f7f7"
            ],
            [
             0.6,
             "#e6f5d0"
            ],
            [
             0.7,
             "#b8e186"
            ],
            [
             0.8,
             "#7fbc41"
            ],
            [
             0.9,
             "#4d9221"
            ],
            [
             1,
             "#276419"
            ]
           ],
           "sequential": [
            [
             0,
             "#0d0887"
            ],
            [
             0.1111111111111111,
             "#46039f"
            ],
            [
             0.2222222222222222,
             "#7201a8"
            ],
            [
             0.3333333333333333,
             "#9c179e"
            ],
            [
             0.4444444444444444,
             "#bd3786"
            ],
            [
             0.5555555555555556,
             "#d8576b"
            ],
            [
             0.6666666666666666,
             "#ed7953"
            ],
            [
             0.7777777777777778,
             "#fb9f3a"
            ],
            [
             0.8888888888888888,
             "#fdca26"
            ],
            [
             1,
             "#f0f921"
            ]
           ],
           "sequentialminus": [
            [
             0,
             "#0d0887"
            ],
            [
             0.1111111111111111,
             "#46039f"
            ],
            [
             0.2222222222222222,
             "#7201a8"
            ],
            [
             0.3333333333333333,
             "#9c179e"
            ],
            [
             0.4444444444444444,
             "#bd3786"
            ],
            [
             0.5555555555555556,
             "#d8576b"
            ],
            [
             0.6666666666666666,
             "#ed7953"
            ],
            [
             0.7777777777777778,
             "#fb9f3a"
            ],
            [
             0.8888888888888888,
             "#fdca26"
            ],
            [
             1,
             "#f0f921"
            ]
           ]
          },
          "colorway": [
           "#636efa",
           "#EF553B",
           "#00cc96",
           "#ab63fa",
           "#FFA15A",
           "#19d3f3",
           "#FF6692",
           "#B6E880",
           "#FF97FF",
           "#FECB52"
          ],
          "font": {
           "color": "#2a3f5f"
          },
          "geo": {
           "bgcolor": "white",
           "lakecolor": "white",
           "landcolor": "#E5ECF6",
           "showlakes": true,
           "showland": true,
           "subunitcolor": "white"
          },
          "hoverlabel": {
           "align": "left"
          },
          "hovermode": "closest",
          "mapbox": {
           "style": "light"
          },
          "paper_bgcolor": "white",
          "plot_bgcolor": "#E5ECF6",
          "polar": {
           "angularaxis": {
            "gridcolor": "white",
            "linecolor": "white",
            "ticks": ""
           },
           "bgcolor": "#E5ECF6",
           "radialaxis": {
            "gridcolor": "white",
            "linecolor": "white",
            "ticks": ""
           }
          },
          "scene": {
           "xaxis": {
            "backgroundcolor": "#E5ECF6",
            "gridcolor": "white",
            "gridwidth": 2,
            "linecolor": "white",
            "showbackground": true,
            "ticks": "",
            "zerolinecolor": "white"
           },
           "yaxis": {
            "backgroundcolor": "#E5ECF6",
            "gridcolor": "white",
            "gridwidth": 2,
            "linecolor": "white",
            "showbackground": true,
            "ticks": "",
            "zerolinecolor": "white"
           },
           "zaxis": {
            "backgroundcolor": "#E5ECF6",
            "gridcolor": "white",
            "gridwidth": 2,
            "linecolor": "white",
            "showbackground": true,
            "ticks": "",
            "zerolinecolor": "white"
           }
          },
          "shapedefaults": {
           "line": {
            "color": "#2a3f5f"
           }
          },
          "ternary": {
           "aaxis": {
            "gridcolor": "white",
            "linecolor": "white",
            "ticks": ""
           },
           "baxis": {
            "gridcolor": "white",
            "linecolor": "white",
            "ticks": ""
           },
           "bgcolor": "#E5ECF6",
           "caxis": {
            "gridcolor": "white",
            "linecolor": "white",
            "ticks": ""
           }
          },
          "title": {
           "x": 0.05
          },
          "xaxis": {
           "automargin": true,
           "gridcolor": "white",
           "linecolor": "white",
           "ticks": "",
           "title": {
            "standoff": 15
           },
           "zerolinecolor": "white",
           "zerolinewidth": 2
          },
          "yaxis": {
           "automargin": true,
           "gridcolor": "white",
           "linecolor": "white",
           "ticks": "",
           "title": {
            "standoff": 15
           },
           "zerolinecolor": "white",
           "zerolinewidth": 2
          }
         }
        },
        "title": {
         "text": "Top Products Recalled by Vitality Works, Inc"
        }
       }
      }
     },
     "metadata": {},
     "output_type": "display_data"
    },
    {
     "data": {
      "application/vnd.plotly.v1+json": {
       "config": {
        "plotlyServerURL": "https://plot.ly"
       },
       "data": [
        {
         "branchvalues": "total",
         "customdata": [
          [
           "Class I",
           "Bistro To Go, Chicken Salad Finger Sandwiches, Net Wt.6.5 Oz. Single Serving, Keep refrigerated",
           "MD",
           "Food"
          ],
          [
           "Class I",
           "Quick & Fresh, Rainbow Berry & Nut Salad W/Dressing, Net Wt. 8.7 Oz. Single Serving, Keep refrigerated",
           "MD",
           "Food"
          ],
          [
           "Class I",
           "Quick & Fresh, Greek Salad W/Dressing, Net Wt. 8.75 Oz. Single Serving, Keep refrigerated",
           "MD",
           "Food"
          ],
          [
           "Class I",
           "Quick & Fresh, Chocolate Pudding Delight, Net Wt. 6.5 Oz. Single Serving, Keep refrigerated",
           "MD",
           "Food"
          ],
          [
           "Class I",
           "Quick & Fresh, Albacore Tuna Finger Sandwiches, Net . Wt. 6.5 Oz. Single Serving, Mylar Wrap, Keep refrigerated",
           "MD",
           "Food"
          ],
          [
           "Class I",
           "Orchard Bistro, Turkey & Cheddar Hoagie, Net Wt. 7.3 Oz. Single Serving, Keep refrigerated",
           "MD",
           "Food"
          ],
          [
           "Class I",
           "Orchard Bistro, Strawberry Low Fat Yogurt, Fruit & Granola Parfait, Net Wt. 9 Oz. Single Serving, Keep refrigerated",
           "MD",
           "Food"
          ],
          [
           "Class I",
           "Orchard Bistro, Margharita Rustic Flatbread Pizza, Net Wt. 11.5 Oz. Single Serving, Keep refrigerated",
           "MD",
           "Food"
          ],
          [
           "Class I",
           "Orchard Bistro, Garden salad with Dressing Net Wt. 8.2 Oz. Single Serving, Keep refrigerated",
           "MD",
           "Food"
          ],
          [
           "Class I",
           "Orchard Bistro, Egg Salad Kaiser, Net . Wt. 5.5 Oz. Single Serving, Keep refrigerated",
           "MD",
           "Food"
          ],
          [
           "Class I",
           "Naval Academy1845 Coffee, Gourmet Cheese & Fruit Plate, Net Wt. 6 Oz. Single Serving, Keep refrigerated",
           "MD",
           "Food"
          ],
          [
           "Class I",
           "In Reach , Sausage Egg & Cheese Croissant, Net . Wt. 6.5 Oz. Single Serving, Mylar Wrap, Keep refrigerated",
           "MD",
           "Food"
          ],
          [
           "Class I",
           "Fresh Creative Cuisine, Turkey Sausage, Egg & Cheddar Muffin, Net . Wt. 5.5 Oz. Single Serving, Keep refrigerated",
           "MD",
           "Food"
          ],
          [
           "Class I",
           "Fresh Creative Cuisine, Turkey & Cheddar Hoagie, Net . Wt. 7.3 Oz. Single Serving, Keep refrigerated",
           "MD",
           "Food"
          ],
          [
           "Class I",
           "Fresh Creative Cuisine, Smoked Turkey & Swiss Croissant, Net . Wt. 7 Oz. Single Serving, Keep refrigerated",
           "MD",
           "Food"
          ],
          [
           "Class I",
           "Quick & Fresh, Smoked Turkey & Swiss Croissant, Net . Wt. 7 Oz. Single Serving, Keep refrigerated",
           "MD",
           "Food"
          ],
          [
           "Class I",
           "Fresh Creative Cuisine, Fresh Cut Mango & Strawberry, Net . Wt. 7 Oz. Single Serving, Keep refrigerated",
           "MD",
           "Food"
          ],
          [
           "Class I",
           "Fresh Creative Cuisine White Label, Roast Beef & Cheese Finger Sandwiches, Case of 6, Keep refrigerated",
           "MD",
           "Food"
          ],
          [
           "Class I",
           "Fresh Creative Cuisine White Label, Monte Cristo Sandwich, Single Serving, Keep refrigerated",
           "MD",
           "Food"
          ],
          [
           "Class I",
           "Fresh Creative Cuisine White Label, Buffalo Style Egg, Turkey Sausage & Pepper Jack Breakfast Flat, Net . Wt. 6.4 Oz. Single Serving, Keep refrigerated",
           "MD",
           "Food"
          ],
          [
           "Class I",
           "Fresh Creative Cuisine Black Label, Vanilla Low Fat Yogurt, Mixed Berries & Granola, Net Wt. 9 Oz. Single Serving, Keep refrigerated",
           "MD",
           "Food"
          ],
          [
           "Class I",
           "Fresh Creative Cuisine Black Label, Grilled Chicken & Fontina Cranberry Ciabatta, Net Wt. 8.75 Oz. Single Serving, Keep refrigerated",
           "MD",
           "Food"
          ],
          [
           "Class I",
           "Fresh Creative Cuisine Black Label, Fresh Cut Vegetables & Hummus, Net Wt. 6.4 Oz. Single Serving, Keep refrigerated",
           "MD",
           "Food"
          ],
          [
           "Class I",
           "Dietz & Watson, Turkey & Swiss Half Sub. Single Serving, Keep refrigerated",
           "MD",
           "Food"
          ],
          [
           "Class I",
           "Dietz & Watson, Turkey & Cheese Finger Sandwiches, Net Wt. 6.5 Oz. Single Serving, Keep refrigerated",
           "MD",
           "Food"
          ],
          [
           "Class I",
           "Bistro To Go, Smoked Turkey & Swiss Croissant, Net Wt. 7 Oz. Single Serving, Keep refrigerated",
           "MD",
           "Food"
          ],
          [
           "Class I",
           "Bistro To Go, Roast Beef & Horseradish Hoagie, Net Wt. 7 Oz. Single Serving, Keep refrigerated",
           "MD",
           "Food"
          ],
          [
           "Class I",
           "Bistro To Go, Gourmet Cheese & Fruit Plate, Net Wt. 6 Oz. Single Serving, Keep refrigerated",
           "MD",
           "Food"
          ],
          [
           "Class I",
           "Bistro To Go, Fresh Cut Tropical Fruit, Net Wt. 7.25 Oz. Single Serving, Keep refrigerated",
           "MD",
           "Food"
          ],
          [
           "Class I",
           "Bistro To Go, Egg Salad Wheat, Net Wt. 5.5 Oz. Single Serving, Keep refrigerated",
           "MD",
           "Food"
          ],
          [
           "Class I",
           "Bistro To Go, Chocolate Pudding Delight, Net Wt. 6.5 Oz. Single Serving, Keep refrigerated",
           "MD",
           "Food"
          ],
          [
           "Class I",
           "Fresh Creative Cuisine White Label, Tuna Salad Wheat Wedge, Net . Wt. 8 Oz. Single Serving, Keep refrigerated",
           "MD",
           "Food"
          ],
          [
           "Class I",
           "Quick & Fresh, Tuna Salad Croissant, Net . Wt. 8 Oz. Single Serving, Keep refrigerated",
           "MD",
           "Food"
          ],
          [
           "Class I",
           "(?)",
           "MD",
           "Food"
          ],
          [
           "Class I",
           "(?)",
           "MD",
           "Food"
          ]
         ],
         "domain": {
          "x": [
           0,
           1
          ],
          "y": [
           0,
           1
          ]
         },
         "hovertemplate": "Firm: FRESH IDEATION FOOD GROUP, LLC dba Fresh Creative Cuisine<br>Classification: %{customdata[0]}<br>Product Description: %{customdata[1]}<br>State: %{customdata[2]}",
         "ids": [
          "FRESH IDEATION FOOD GROUP, LLC dba Fresh Creative Cuisine/Food/Bistro To Go, Chicken Salad Finger Sandwiches, Net Wt.6.5 Oz. Single Serving, Keep refrigerated",
          "FRESH IDEATION FOOD GROUP, LLC dba Fresh Creative Cuisine/Food/Quick & Fresh, Rainbow Berry & Nut Salad W/Dressing, Net Wt. 8.7 Oz. Single Serving, Keep refrigerated",
          "FRESH IDEATION FOOD GROUP, LLC dba Fresh Creative Cuisine/Food/Quick & Fresh, Greek Salad W/Dressing, Net Wt. 8.75 Oz. Single Serving, Keep refrigerated",
          "FRESH IDEATION FOOD GROUP, LLC dba Fresh Creative Cuisine/Food/Quick & Fresh, Chocolate Pudding Delight, Net Wt. 6.5 Oz. Single Serving, Keep refrigerated",
          "FRESH IDEATION FOOD GROUP, LLC dba Fresh Creative Cuisine/Food/Quick & Fresh, Albacore Tuna Finger Sandwiches, Net . Wt. 6.5 Oz. Single Serving, Mylar Wrap, Keep refrigerated",
          "FRESH IDEATION FOOD GROUP, LLC dba Fresh Creative Cuisine/Food/Orchard Bistro, Turkey & Cheddar Hoagie, Net Wt. 7.3 Oz. Single Serving, Keep refrigerated",
          "FRESH IDEATION FOOD GROUP, LLC dba Fresh Creative Cuisine/Food/Orchard Bistro, Strawberry Low Fat Yogurt, Fruit & Granola Parfait, Net Wt. 9 Oz. Single Serving, Keep refrigerated",
          "FRESH IDEATION FOOD GROUP, LLC dba Fresh Creative Cuisine/Food/Orchard Bistro, Margharita Rustic Flatbread Pizza, Net Wt. 11.5 Oz. Single Serving, Keep refrigerated",
          "FRESH IDEATION FOOD GROUP, LLC dba Fresh Creative Cuisine/Food/Orchard Bistro, Garden salad with Dressing Net Wt. 8.2 Oz. Single Serving, Keep refrigerated",
          "FRESH IDEATION FOOD GROUP, LLC dba Fresh Creative Cuisine/Food/Orchard Bistro, Egg Salad Kaiser, Net . Wt. 5.5 Oz. Single Serving, Keep refrigerated",
          "FRESH IDEATION FOOD GROUP, LLC dba Fresh Creative Cuisine/Food/Naval Academy1845 Coffee, Gourmet Cheese & Fruit Plate, Net Wt. 6 Oz. Single Serving, Keep refrigerated",
          "FRESH IDEATION FOOD GROUP, LLC dba Fresh Creative Cuisine/Food/In Reach , Sausage Egg & Cheese Croissant, Net . Wt. 6.5 Oz. Single Serving, Mylar Wrap, Keep refrigerated",
          "FRESH IDEATION FOOD GROUP, LLC dba Fresh Creative Cuisine/Food/Fresh Creative Cuisine, Turkey Sausage, Egg & Cheddar Muffin, Net . Wt. 5.5 Oz. Single Serving, Keep refrigerated",
          "FRESH IDEATION FOOD GROUP, LLC dba Fresh Creative Cuisine/Food/Fresh Creative Cuisine, Turkey & Cheddar Hoagie, Net . Wt. 7.3 Oz. Single Serving, Keep refrigerated",
          "FRESH IDEATION FOOD GROUP, LLC dba Fresh Creative Cuisine/Food/Fresh Creative Cuisine, Smoked Turkey & Swiss Croissant, Net . Wt. 7 Oz. Single Serving, Keep refrigerated",
          "FRESH IDEATION FOOD GROUP, LLC dba Fresh Creative Cuisine/Food/Quick & Fresh, Smoked Turkey & Swiss Croissant, Net . Wt. 7 Oz. Single Serving, Keep refrigerated",
          "FRESH IDEATION FOOD GROUP, LLC dba Fresh Creative Cuisine/Food/Fresh Creative Cuisine, Fresh Cut Mango & Strawberry, Net . Wt. 7 Oz. Single Serving, Keep refrigerated",
          "FRESH IDEATION FOOD GROUP, LLC dba Fresh Creative Cuisine/Food/Fresh Creative Cuisine White Label, Roast Beef & Cheese Finger Sandwiches, Case of 6, Keep refrigerated",
          "FRESH IDEATION FOOD GROUP, LLC dba Fresh Creative Cuisine/Food/Fresh Creative Cuisine White Label, Monte Cristo Sandwich, Single Serving, Keep refrigerated",
          "FRESH IDEATION FOOD GROUP, LLC dba Fresh Creative Cuisine/Food/Fresh Creative Cuisine White Label, Buffalo Style Egg, Turkey Sausage & Pepper Jack Breakfast Flat, Net . Wt. 6.4 Oz. Single Serving, Keep refrigerated",
          "FRESH IDEATION FOOD GROUP, LLC dba Fresh Creative Cuisine/Food/Fresh Creative Cuisine Black Label, Vanilla Low Fat Yogurt, Mixed Berries & Granola, Net Wt. 9 Oz. Single Serving, Keep refrigerated",
          "FRESH IDEATION FOOD GROUP, LLC dba Fresh Creative Cuisine/Food/Fresh Creative Cuisine Black Label, Grilled Chicken & Fontina Cranberry Ciabatta, Net Wt. 8.75 Oz. Single Serving, Keep refrigerated",
          "FRESH IDEATION FOOD GROUP, LLC dba Fresh Creative Cuisine/Food/Fresh Creative Cuisine Black Label, Fresh Cut Vegetables & Hummus, Net Wt. 6.4 Oz. Single Serving, Keep refrigerated",
          "FRESH IDEATION FOOD GROUP, LLC dba Fresh Creative Cuisine/Food/Dietz & Watson, Turkey & Swiss Half Sub. Single Serving, Keep refrigerated",
          "FRESH IDEATION FOOD GROUP, LLC dba Fresh Creative Cuisine/Food/Dietz & Watson, Turkey & Cheese Finger Sandwiches, Net Wt. 6.5 Oz. Single Serving, Keep refrigerated",
          "FRESH IDEATION FOOD GROUP, LLC dba Fresh Creative Cuisine/Food/Bistro To Go, Smoked Turkey & Swiss Croissant, Net Wt. 7 Oz. Single Serving, Keep refrigerated",
          "FRESH IDEATION FOOD GROUP, LLC dba Fresh Creative Cuisine/Food/Bistro To Go, Roast Beef & Horseradish Hoagie, Net Wt. 7 Oz. Single Serving, Keep refrigerated",
          "FRESH IDEATION FOOD GROUP, LLC dba Fresh Creative Cuisine/Food/Bistro To Go, Gourmet Cheese & Fruit Plate, Net Wt. 6 Oz. Single Serving, Keep refrigerated",
          "FRESH IDEATION FOOD GROUP, LLC dba Fresh Creative Cuisine/Food/Bistro To Go, Fresh Cut Tropical Fruit, Net Wt. 7.25 Oz. Single Serving, Keep refrigerated",
          "FRESH IDEATION FOOD GROUP, LLC dba Fresh Creative Cuisine/Food/Bistro To Go, Egg Salad Wheat, Net Wt. 5.5 Oz. Single Serving, Keep refrigerated",
          "FRESH IDEATION FOOD GROUP, LLC dba Fresh Creative Cuisine/Food/Bistro To Go, Chocolate Pudding Delight, Net Wt. 6.5 Oz. Single Serving, Keep refrigerated",
          "FRESH IDEATION FOOD GROUP, LLC dba Fresh Creative Cuisine/Food/Fresh Creative Cuisine White Label, Tuna Salad Wheat Wedge, Net . Wt. 8 Oz. Single Serving, Keep refrigerated",
          "FRESH IDEATION FOOD GROUP, LLC dba Fresh Creative Cuisine/Food/Quick & Fresh, Tuna Salad Croissant, Net . Wt. 8 Oz. Single Serving, Keep refrigerated",
          "FRESH IDEATION FOOD GROUP, LLC dba Fresh Creative Cuisine/Food",
          "FRESH IDEATION FOOD GROUP, LLC dba Fresh Creative Cuisine"
         ],
         "labels": [
          "Bistro To Go, Chicken Salad Finger Sandwiches, Net Wt.6.5 Oz. Single Serving, Keep refrigerated",
          "Quick & Fresh, Rainbow Berry & Nut Salad W/Dressing, Net Wt. 8.7 Oz. Single Serving, Keep refrigerated",
          "Quick & Fresh, Greek Salad W/Dressing, Net Wt. 8.75 Oz. Single Serving, Keep refrigerated",
          "Quick & Fresh, Chocolate Pudding Delight, Net Wt. 6.5 Oz. Single Serving, Keep refrigerated",
          "Quick & Fresh, Albacore Tuna Finger Sandwiches, Net . Wt. 6.5 Oz. Single Serving, Mylar Wrap, Keep refrigerated",
          "Orchard Bistro, Turkey & Cheddar Hoagie, Net Wt. 7.3 Oz. Single Serving, Keep refrigerated",
          "Orchard Bistro, Strawberry Low Fat Yogurt, Fruit & Granola Parfait, Net Wt. 9 Oz. Single Serving, Keep refrigerated",
          "Orchard Bistro, Margharita Rustic Flatbread Pizza, Net Wt. 11.5 Oz. Single Serving, Keep refrigerated",
          "Orchard Bistro, Garden salad with Dressing Net Wt. 8.2 Oz. Single Serving, Keep refrigerated",
          "Orchard Bistro, Egg Salad Kaiser, Net . Wt. 5.5 Oz. Single Serving, Keep refrigerated",
          "Naval Academy1845 Coffee, Gourmet Cheese & Fruit Plate, Net Wt. 6 Oz. Single Serving, Keep refrigerated",
          "In Reach , Sausage Egg & Cheese Croissant, Net . Wt. 6.5 Oz. Single Serving, Mylar Wrap, Keep refrigerated",
          "Fresh Creative Cuisine, Turkey Sausage, Egg & Cheddar Muffin, Net . Wt. 5.5 Oz. Single Serving, Keep refrigerated",
          "Fresh Creative Cuisine, Turkey & Cheddar Hoagie, Net . Wt. 7.3 Oz. Single Serving, Keep refrigerated",
          "Fresh Creative Cuisine, Smoked Turkey & Swiss Croissant, Net . Wt. 7 Oz. Single Serving, Keep refrigerated",
          "Quick & Fresh, Smoked Turkey & Swiss Croissant, Net . Wt. 7 Oz. Single Serving, Keep refrigerated",
          "Fresh Creative Cuisine, Fresh Cut Mango & Strawberry, Net . Wt. 7 Oz. Single Serving, Keep refrigerated",
          "Fresh Creative Cuisine White Label, Roast Beef & Cheese Finger Sandwiches, Case of 6, Keep refrigerated",
          "Fresh Creative Cuisine White Label, Monte Cristo Sandwich, Single Serving, Keep refrigerated",
          "Fresh Creative Cuisine White Label, Buffalo Style Egg, Turkey Sausage & Pepper Jack Breakfast Flat, Net . Wt. 6.4 Oz. Single Serving, Keep refrigerated",
          "Fresh Creative Cuisine Black Label, Vanilla Low Fat Yogurt, Mixed Berries & Granola, Net Wt. 9 Oz. Single Serving, Keep refrigerated",
          "Fresh Creative Cuisine Black Label, Grilled Chicken & Fontina Cranberry Ciabatta, Net Wt. 8.75 Oz. Single Serving, Keep refrigerated",
          "Fresh Creative Cuisine Black Label, Fresh Cut Vegetables & Hummus, Net Wt. 6.4 Oz. Single Serving, Keep refrigerated",
          "Dietz & Watson, Turkey & Swiss Half Sub. Single Serving, Keep refrigerated",
          "Dietz & Watson, Turkey & Cheese Finger Sandwiches, Net Wt. 6.5 Oz. Single Serving, Keep refrigerated",
          "Bistro To Go, Smoked Turkey & Swiss Croissant, Net Wt. 7 Oz. Single Serving, Keep refrigerated",
          "Bistro To Go, Roast Beef & Horseradish Hoagie, Net Wt. 7 Oz. Single Serving, Keep refrigerated",
          "Bistro To Go, Gourmet Cheese & Fruit Plate, Net Wt. 6 Oz. Single Serving, Keep refrigerated",
          "Bistro To Go, Fresh Cut Tropical Fruit, Net Wt. 7.25 Oz. Single Serving, Keep refrigerated",
          "Bistro To Go, Egg Salad Wheat, Net Wt. 5.5 Oz. Single Serving, Keep refrigerated",
          "Bistro To Go, Chocolate Pudding Delight, Net Wt. 6.5 Oz. Single Serving, Keep refrigerated",
          "Fresh Creative Cuisine White Label, Tuna Salad Wheat Wedge, Net . Wt. 8 Oz. Single Serving, Keep refrigerated",
          "Quick & Fresh, Tuna Salad Croissant, Net . Wt. 8 Oz. Single Serving, Keep refrigerated",
          "Food",
          "FRESH IDEATION FOOD GROUP, LLC dba Fresh Creative Cuisine"
         ],
         "marker": {
          "colors": [
           "#636efa",
           "#636efa",
           "#636efa",
           "#636efa",
           "#636efa",
           "#636efa",
           "#636efa",
           "#636efa",
           "#636efa",
           "#636efa",
           "#636efa",
           "#636efa",
           "#636efa",
           "#636efa",
           "#636efa",
           "#636efa",
           "#636efa",
           "#636efa",
           "#636efa",
           "#636efa",
           "#636efa",
           "#636efa",
           "#636efa",
           "#636efa",
           "#636efa",
           "#636efa",
           "#636efa",
           "#636efa",
           "#636efa",
           "#636efa",
           "#636efa",
           "#636efa",
           "#636efa",
           "#636efa",
           "#636efa"
          ]
         },
         "name": "",
         "parents": [
          "FRESH IDEATION FOOD GROUP, LLC dba Fresh Creative Cuisine/Food",
          "FRESH IDEATION FOOD GROUP, LLC dba Fresh Creative Cuisine/Food",
          "FRESH IDEATION FOOD GROUP, LLC dba Fresh Creative Cuisine/Food",
          "FRESH IDEATION FOOD GROUP, LLC dba Fresh Creative Cuisine/Food",
          "FRESH IDEATION FOOD GROUP, LLC dba Fresh Creative Cuisine/Food",
          "FRESH IDEATION FOOD GROUP, LLC dba Fresh Creative Cuisine/Food",
          "FRESH IDEATION FOOD GROUP, LLC dba Fresh Creative Cuisine/Food",
          "FRESH IDEATION FOOD GROUP, LLC dba Fresh Creative Cuisine/Food",
          "FRESH IDEATION FOOD GROUP, LLC dba Fresh Creative Cuisine/Food",
          "FRESH IDEATION FOOD GROUP, LLC dba Fresh Creative Cuisine/Food",
          "FRESH IDEATION FOOD GROUP, LLC dba Fresh Creative Cuisine/Food",
          "FRESH IDEATION FOOD GROUP, LLC dba Fresh Creative Cuisine/Food",
          "FRESH IDEATION FOOD GROUP, LLC dba Fresh Creative Cuisine/Food",
          "FRESH IDEATION FOOD GROUP, LLC dba Fresh Creative Cuisine/Food",
          "FRESH IDEATION FOOD GROUP, LLC dba Fresh Creative Cuisine/Food",
          "FRESH IDEATION FOOD GROUP, LLC dba Fresh Creative Cuisine/Food",
          "FRESH IDEATION FOOD GROUP, LLC dba Fresh Creative Cuisine/Food",
          "FRESH IDEATION FOOD GROUP, LLC dba Fresh Creative Cuisine/Food",
          "FRESH IDEATION FOOD GROUP, LLC dba Fresh Creative Cuisine/Food",
          "FRESH IDEATION FOOD GROUP, LLC dba Fresh Creative Cuisine/Food",
          "FRESH IDEATION FOOD GROUP, LLC dba Fresh Creative Cuisine/Food",
          "FRESH IDEATION FOOD GROUP, LLC dba Fresh Creative Cuisine/Food",
          "FRESH IDEATION FOOD GROUP, LLC dba Fresh Creative Cuisine/Food",
          "FRESH IDEATION FOOD GROUP, LLC dba Fresh Creative Cuisine/Food",
          "FRESH IDEATION FOOD GROUP, LLC dba Fresh Creative Cuisine/Food",
          "FRESH IDEATION FOOD GROUP, LLC dba Fresh Creative Cuisine/Food",
          "FRESH IDEATION FOOD GROUP, LLC dba Fresh Creative Cuisine/Food",
          "FRESH IDEATION FOOD GROUP, LLC dba Fresh Creative Cuisine/Food",
          "FRESH IDEATION FOOD GROUP, LLC dba Fresh Creative Cuisine/Food",
          "FRESH IDEATION FOOD GROUP, LLC dba Fresh Creative Cuisine/Food",
          "FRESH IDEATION FOOD GROUP, LLC dba Fresh Creative Cuisine/Food",
          "FRESH IDEATION FOOD GROUP, LLC dba Fresh Creative Cuisine/Food",
          "FRESH IDEATION FOOD GROUP, LLC dba Fresh Creative Cuisine/Food",
          "FRESH IDEATION FOOD GROUP, LLC dba Fresh Creative Cuisine",
          ""
         ],
         "type": "sunburst",
         "values": [
          1,
          1,
          1,
          1,
          1,
          1,
          1,
          1,
          1,
          1,
          1,
          1,
          1,
          1,
          1,
          1,
          1,
          1,
          1,
          1,
          1,
          1,
          1,
          1,
          1,
          1,
          1,
          1,
          1,
          1,
          1,
          1,
          1,
          33,
          33
         ]
        }
       ],
       "layout": {
        "legend": {
         "tracegroupgap": 0
        },
        "template": {
         "data": {
          "bar": [
           {
            "error_x": {
             "color": "#2a3f5f"
            },
            "error_y": {
             "color": "#2a3f5f"
            },
            "marker": {
             "line": {
              "color": "#E5ECF6",
              "width": 0.5
             },
             "pattern": {
              "fillmode": "overlay",
              "size": 10,
              "solidity": 0.2
             }
            },
            "type": "bar"
           }
          ],
          "barpolar": [
           {
            "marker": {
             "line": {
              "color": "#E5ECF6",
              "width": 0.5
             },
             "pattern": {
              "fillmode": "overlay",
              "size": 10,
              "solidity": 0.2
             }
            },
            "type": "barpolar"
           }
          ],
          "carpet": [
           {
            "aaxis": {
             "endlinecolor": "#2a3f5f",
             "gridcolor": "white",
             "linecolor": "white",
             "minorgridcolor": "white",
             "startlinecolor": "#2a3f5f"
            },
            "baxis": {
             "endlinecolor": "#2a3f5f",
             "gridcolor": "white",
             "linecolor": "white",
             "minorgridcolor": "white",
             "startlinecolor": "#2a3f5f"
            },
            "type": "carpet"
           }
          ],
          "choropleth": [
           {
            "colorbar": {
             "outlinewidth": 0,
             "ticks": ""
            },
            "type": "choropleth"
           }
          ],
          "contour": [
           {
            "colorbar": {
             "outlinewidth": 0,
             "ticks": ""
            },
            "colorscale": [
             [
              0,
              "#0d0887"
             ],
             [
              0.1111111111111111,
              "#46039f"
             ],
             [
              0.2222222222222222,
              "#7201a8"
             ],
             [
              0.3333333333333333,
              "#9c179e"
             ],
             [
              0.4444444444444444,
              "#bd3786"
             ],
             [
              0.5555555555555556,
              "#d8576b"
             ],
             [
              0.6666666666666666,
              "#ed7953"
             ],
             [
              0.7777777777777778,
              "#fb9f3a"
             ],
             [
              0.8888888888888888,
              "#fdca26"
             ],
             [
              1,
              "#f0f921"
             ]
            ],
            "type": "contour"
           }
          ],
          "contourcarpet": [
           {
            "colorbar": {
             "outlinewidth": 0,
             "ticks": ""
            },
            "type": "contourcarpet"
           }
          ],
          "heatmap": [
           {
            "colorbar": {
             "outlinewidth": 0,
             "ticks": ""
            },
            "colorscale": [
             [
              0,
              "#0d0887"
             ],
             [
              0.1111111111111111,
              "#46039f"
             ],
             [
              0.2222222222222222,
              "#7201a8"
             ],
             [
              0.3333333333333333,
              "#9c179e"
             ],
             [
              0.4444444444444444,
              "#bd3786"
             ],
             [
              0.5555555555555556,
              "#d8576b"
             ],
             [
              0.6666666666666666,
              "#ed7953"
             ],
             [
              0.7777777777777778,
              "#fb9f3a"
             ],
             [
              0.8888888888888888,
              "#fdca26"
             ],
             [
              1,
              "#f0f921"
             ]
            ],
            "type": "heatmap"
           }
          ],
          "heatmapgl": [
           {
            "colorbar": {
             "outlinewidth": 0,
             "ticks": ""
            },
            "colorscale": [
             [
              0,
              "#0d0887"
             ],
             [
              0.1111111111111111,
              "#46039f"
             ],
             [
              0.2222222222222222,
              "#7201a8"
             ],
             [
              0.3333333333333333,
              "#9c179e"
             ],
             [
              0.4444444444444444,
              "#bd3786"
             ],
             [
              0.5555555555555556,
              "#d8576b"
             ],
             [
              0.6666666666666666,
              "#ed7953"
             ],
             [
              0.7777777777777778,
              "#fb9f3a"
             ],
             [
              0.8888888888888888,
              "#fdca26"
             ],
             [
              1,
              "#f0f921"
             ]
            ],
            "type": "heatmapgl"
           }
          ],
          "histogram": [
           {
            "marker": {
             "pattern": {
              "fillmode": "overlay",
              "size": 10,
              "solidity": 0.2
             }
            },
            "type": "histogram"
           }
          ],
          "histogram2d": [
           {
            "colorbar": {
             "outlinewidth": 0,
             "ticks": ""
            },
            "colorscale": [
             [
              0,
              "#0d0887"
             ],
             [
              0.1111111111111111,
              "#46039f"
             ],
             [
              0.2222222222222222,
              "#7201a8"
             ],
             [
              0.3333333333333333,
              "#9c179e"
             ],
             [
              0.4444444444444444,
              "#bd3786"
             ],
             [
              0.5555555555555556,
              "#d8576b"
             ],
             [
              0.6666666666666666,
              "#ed7953"
             ],
             [
              0.7777777777777778,
              "#fb9f3a"
             ],
             [
              0.8888888888888888,
              "#fdca26"
             ],
             [
              1,
              "#f0f921"
             ]
            ],
            "type": "histogram2d"
           }
          ],
          "histogram2dcontour": [
           {
            "colorbar": {
             "outlinewidth": 0,
             "ticks": ""
            },
            "colorscale": [
             [
              0,
              "#0d0887"
             ],
             [
              0.1111111111111111,
              "#46039f"
             ],
             [
              0.2222222222222222,
              "#7201a8"
             ],
             [
              0.3333333333333333,
              "#9c179e"
             ],
             [
              0.4444444444444444,
              "#bd3786"
             ],
             [
              0.5555555555555556,
              "#d8576b"
             ],
             [
              0.6666666666666666,
              "#ed7953"
             ],
             [
              0.7777777777777778,
              "#fb9f3a"
             ],
             [
              0.8888888888888888,
              "#fdca26"
             ],
             [
              1,
              "#f0f921"
             ]
            ],
            "type": "histogram2dcontour"
           }
          ],
          "mesh3d": [
           {
            "colorbar": {
             "outlinewidth": 0,
             "ticks": ""
            },
            "type": "mesh3d"
           }
          ],
          "parcoords": [
           {
            "line": {
             "colorbar": {
              "outlinewidth": 0,
              "ticks": ""
             }
            },
            "type": "parcoords"
           }
          ],
          "pie": [
           {
            "automargin": true,
            "type": "pie"
           }
          ],
          "scatter": [
           {
            "fillpattern": {
             "fillmode": "overlay",
             "size": 10,
             "solidity": 0.2
            },
            "type": "scatter"
           }
          ],
          "scatter3d": [
           {
            "line": {
             "colorbar": {
              "outlinewidth": 0,
              "ticks": ""
             }
            },
            "marker": {
             "colorbar": {
              "outlinewidth": 0,
              "ticks": ""
             }
            },
            "type": "scatter3d"
           }
          ],
          "scattercarpet": [
           {
            "marker": {
             "colorbar": {
              "outlinewidth": 0,
              "ticks": ""
             }
            },
            "type": "scattercarpet"
           }
          ],
          "scattergeo": [
           {
            "marker": {
             "colorbar": {
              "outlinewidth": 0,
              "ticks": ""
             }
            },
            "type": "scattergeo"
           }
          ],
          "scattergl": [
           {
            "marker": {
             "colorbar": {
              "outlinewidth": 0,
              "ticks": ""
             }
            },
            "type": "scattergl"
           }
          ],
          "scattermapbox": [
           {
            "marker": {
             "colorbar": {
              "outlinewidth": 0,
              "ticks": ""
             }
            },
            "type": "scattermapbox"
           }
          ],
          "scatterpolar": [
           {
            "marker": {
             "colorbar": {
              "outlinewidth": 0,
              "ticks": ""
             }
            },
            "type": "scatterpolar"
           }
          ],
          "scatterpolargl": [
           {
            "marker": {
             "colorbar": {
              "outlinewidth": 0,
              "ticks": ""
             }
            },
            "type": "scatterpolargl"
           }
          ],
          "scatterternary": [
           {
            "marker": {
             "colorbar": {
              "outlinewidth": 0,
              "ticks": ""
             }
            },
            "type": "scatterternary"
           }
          ],
          "surface": [
           {
            "colorbar": {
             "outlinewidth": 0,
             "ticks": ""
            },
            "colorscale": [
             [
              0,
              "#0d0887"
             ],
             [
              0.1111111111111111,
              "#46039f"
             ],
             [
              0.2222222222222222,
              "#7201a8"
             ],
             [
              0.3333333333333333,
              "#9c179e"
             ],
             [
              0.4444444444444444,
              "#bd3786"
             ],
             [
              0.5555555555555556,
              "#d8576b"
             ],
             [
              0.6666666666666666,
              "#ed7953"
             ],
             [
              0.7777777777777778,
              "#fb9f3a"
             ],
             [
              0.8888888888888888,
              "#fdca26"
             ],
             [
              1,
              "#f0f921"
             ]
            ],
            "type": "surface"
           }
          ],
          "table": [
           {
            "cells": {
             "fill": {
              "color": "#EBF0F8"
             },
             "line": {
              "color": "white"
             }
            },
            "header": {
             "fill": {
              "color": "#C8D4E3"
             },
             "line": {
              "color": "white"
             }
            },
            "type": "table"
           }
          ]
         },
         "layout": {
          "annotationdefaults": {
           "arrowcolor": "#2a3f5f",
           "arrowhead": 0,
           "arrowwidth": 1
          },
          "autotypenumbers": "strict",
          "coloraxis": {
           "colorbar": {
            "outlinewidth": 0,
            "ticks": ""
           }
          },
          "colorscale": {
           "diverging": [
            [
             0,
             "#8e0152"
            ],
            [
             0.1,
             "#c51b7d"
            ],
            [
             0.2,
             "#de77ae"
            ],
            [
             0.3,
             "#f1b6da"
            ],
            [
             0.4,
             "#fde0ef"
            ],
            [
             0.5,
             "#f7f7f7"
            ],
            [
             0.6,
             "#e6f5d0"
            ],
            [
             0.7,
             "#b8e186"
            ],
            [
             0.8,
             "#7fbc41"
            ],
            [
             0.9,
             "#4d9221"
            ],
            [
             1,
             "#276419"
            ]
           ],
           "sequential": [
            [
             0,
             "#0d0887"
            ],
            [
             0.1111111111111111,
             "#46039f"
            ],
            [
             0.2222222222222222,
             "#7201a8"
            ],
            [
             0.3333333333333333,
             "#9c179e"
            ],
            [
             0.4444444444444444,
             "#bd3786"
            ],
            [
             0.5555555555555556,
             "#d8576b"
            ],
            [
             0.6666666666666666,
             "#ed7953"
            ],
            [
             0.7777777777777778,
             "#fb9f3a"
            ],
            [
             0.8888888888888888,
             "#fdca26"
            ],
            [
             1,
             "#f0f921"
            ]
           ],
           "sequentialminus": [
            [
             0,
             "#0d0887"
            ],
            [
             0.1111111111111111,
             "#46039f"
            ],
            [
             0.2222222222222222,
             "#7201a8"
            ],
            [
             0.3333333333333333,
             "#9c179e"
            ],
            [
             0.4444444444444444,
             "#bd3786"
            ],
            [
             0.5555555555555556,
             "#d8576b"
            ],
            [
             0.6666666666666666,
             "#ed7953"
            ],
            [
             0.7777777777777778,
             "#fb9f3a"
            ],
            [
             0.8888888888888888,
             "#fdca26"
            ],
            [
             1,
             "#f0f921"
            ]
           ]
          },
          "colorway": [
           "#636efa",
           "#EF553B",
           "#00cc96",
           "#ab63fa",
           "#FFA15A",
           "#19d3f3",
           "#FF6692",
           "#B6E880",
           "#FF97FF",
           "#FECB52"
          ],
          "font": {
           "color": "#2a3f5f"
          },
          "geo": {
           "bgcolor": "white",
           "lakecolor": "white",
           "landcolor": "#E5ECF6",
           "showlakes": true,
           "showland": true,
           "subunitcolor": "white"
          },
          "hoverlabel": {
           "align": "left"
          },
          "hovermode": "closest",
          "mapbox": {
           "style": "light"
          },
          "paper_bgcolor": "white",
          "plot_bgcolor": "#E5ECF6",
          "polar": {
           "angularaxis": {
            "gridcolor": "white",
            "linecolor": "white",
            "ticks": ""
           },
           "bgcolor": "#E5ECF6",
           "radialaxis": {
            "gridcolor": "white",
            "linecolor": "white",
            "ticks": ""
           }
          },
          "scene": {
           "xaxis": {
            "backgroundcolor": "#E5ECF6",
            "gridcolor": "white",
            "gridwidth": 2,
            "linecolor": "white",
            "showbackground": true,
            "ticks": "",
            "zerolinecolor": "white"
           },
           "yaxis": {
            "backgroundcolor": "#E5ECF6",
            "gridcolor": "white",
            "gridwidth": 2,
            "linecolor": "white",
            "showbackground": true,
            "ticks": "",
            "zerolinecolor": "white"
           },
           "zaxis": {
            "backgroundcolor": "#E5ECF6",
            "gridcolor": "white",
            "gridwidth": 2,
            "linecolor": "white",
            "showbackground": true,
            "ticks": "",
            "zerolinecolor": "white"
           }
          },
          "shapedefaults": {
           "line": {
            "color": "#2a3f5f"
           }
          },
          "ternary": {
           "aaxis": {
            "gridcolor": "white",
            "linecolor": "white",
            "ticks": ""
           },
           "baxis": {
            "gridcolor": "white",
            "linecolor": "white",
            "ticks": ""
           },
           "bgcolor": "#E5ECF6",
           "caxis": {
            "gridcolor": "white",
            "linecolor": "white",
            "ticks": ""
           }
          },
          "title": {
           "x": 0.05
          },
          "xaxis": {
           "automargin": true,
           "gridcolor": "white",
           "linecolor": "white",
           "ticks": "",
           "title": {
            "standoff": 15
           },
           "zerolinecolor": "white",
           "zerolinewidth": 2
          },
          "yaxis": {
           "automargin": true,
           "gridcolor": "white",
           "linecolor": "white",
           "ticks": "",
           "title": {
            "standoff": 15
           },
           "zerolinecolor": "white",
           "zerolinewidth": 2
          }
         }
        },
        "title": {
         "text": "Top Products Recalled by FRESH IDEATION FOOD GROUP, LLC dba Fresh Creative Cuisine"
        }
       }
      }
     },
     "metadata": {},
     "output_type": "display_data"
    },
    {
     "data": {
      "application/vnd.plotly.v1+json": {
       "config": {
        "plotlyServerURL": "https://plot.ly"
       },
       "data": [
        {
         "branchvalues": "total",
         "customdata": [
          [
           "Class II",
           "GRANDE     1.5OZ FRESH BOCCONCINI MOZZ 1/3#         SUPC/ITEM # 19132P",
           "OH",
           "Food"
          ],
          [
           "Class II",
           "GRANDE  SOPRAFFINA RICOTTA 1/30#  SUPC/ITEM # 19536",
           "OH",
           "Food"
          ],
          [
           "Class II",
           "SAPUTO STELLA ASGO HLF MLD 11LB  SUPC/ITEM # 19009",
           "OH",
           "Food"
          ],
          [
           "Class II",
           "SOFINA   21202 MASTRO CAPOCOLLC 4 - 6LB      SUPC/ITEM # 199694",
           "OH",
           "Food"
          ],
          [
           "Class II",
           "(?)",
           "OH",
           "Food"
          ],
          [
           "Class II",
           "(?)",
           "OH",
           "Food"
          ]
         ],
         "domain": {
          "x": [
           0,
           1
          ],
          "y": [
           0,
           1
          ]
         },
         "hovertemplate": "Firm: Greco Sidari<br>Classification: %{customdata[0]}<br>Product Description: %{customdata[1]}<br>State: %{customdata[2]}",
         "ids": [
          "Greco Sidari/Food/GRANDE     1.5OZ FRESH BOCCONCINI MOZZ 1/3#         SUPC/ITEM # 19132P",
          "Greco Sidari/Food/GRANDE  SOPRAFFINA RICOTTA 1/30#  SUPC/ITEM # 19536",
          "Greco Sidari/Food/SAPUTO STELLA ASGO HLF MLD 11LB  SUPC/ITEM # 19009",
          "Greco Sidari/Food/SOFINA   21202 MASTRO CAPOCOLLC 4 - 6LB      SUPC/ITEM # 199694",
          "Greco Sidari/Food",
          "Greco Sidari"
         ],
         "labels": [
          "GRANDE     1.5OZ FRESH BOCCONCINI MOZZ 1/3#         SUPC/ITEM # 19132P",
          "GRANDE  SOPRAFFINA RICOTTA 1/30#  SUPC/ITEM # 19536",
          "SAPUTO STELLA ASGO HLF MLD 11LB  SUPC/ITEM # 19009",
          "SOFINA   21202 MASTRO CAPOCOLLC 4 - 6LB      SUPC/ITEM # 199694",
          "Food",
          "Greco Sidari"
         ],
         "marker": {
          "colors": [
           "#636efa",
           "#636efa",
           "#636efa",
           "#636efa",
           "#636efa",
           "#636efa"
          ]
         },
         "name": "",
         "parents": [
          "Greco Sidari/Food",
          "Greco Sidari/Food",
          "Greco Sidari/Food",
          "Greco Sidari/Food",
          "Greco Sidari",
          ""
         ],
         "type": "sunburst",
         "values": [
          1,
          1,
          1,
          1,
          4,
          4
         ]
        }
       ],
       "layout": {
        "legend": {
         "tracegroupgap": 0
        },
        "template": {
         "data": {
          "bar": [
           {
            "error_x": {
             "color": "#2a3f5f"
            },
            "error_y": {
             "color": "#2a3f5f"
            },
            "marker": {
             "line": {
              "color": "#E5ECF6",
              "width": 0.5
             },
             "pattern": {
              "fillmode": "overlay",
              "size": 10,
              "solidity": 0.2
             }
            },
            "type": "bar"
           }
          ],
          "barpolar": [
           {
            "marker": {
             "line": {
              "color": "#E5ECF6",
              "width": 0.5
             },
             "pattern": {
              "fillmode": "overlay",
              "size": 10,
              "solidity": 0.2
             }
            },
            "type": "barpolar"
           }
          ],
          "carpet": [
           {
            "aaxis": {
             "endlinecolor": "#2a3f5f",
             "gridcolor": "white",
             "linecolor": "white",
             "minorgridcolor": "white",
             "startlinecolor": "#2a3f5f"
            },
            "baxis": {
             "endlinecolor": "#2a3f5f",
             "gridcolor": "white",
             "linecolor": "white",
             "minorgridcolor": "white",
             "startlinecolor": "#2a3f5f"
            },
            "type": "carpet"
           }
          ],
          "choropleth": [
           {
            "colorbar": {
             "outlinewidth": 0,
             "ticks": ""
            },
            "type": "choropleth"
           }
          ],
          "contour": [
           {
            "colorbar": {
             "outlinewidth": 0,
             "ticks": ""
            },
            "colorscale": [
             [
              0,
              "#0d0887"
             ],
             [
              0.1111111111111111,
              "#46039f"
             ],
             [
              0.2222222222222222,
              "#7201a8"
             ],
             [
              0.3333333333333333,
              "#9c179e"
             ],
             [
              0.4444444444444444,
              "#bd3786"
             ],
             [
              0.5555555555555556,
              "#d8576b"
             ],
             [
              0.6666666666666666,
              "#ed7953"
             ],
             [
              0.7777777777777778,
              "#fb9f3a"
             ],
             [
              0.8888888888888888,
              "#fdca26"
             ],
             [
              1,
              "#f0f921"
             ]
            ],
            "type": "contour"
           }
          ],
          "contourcarpet": [
           {
            "colorbar": {
             "outlinewidth": 0,
             "ticks": ""
            },
            "type": "contourcarpet"
           }
          ],
          "heatmap": [
           {
            "colorbar": {
             "outlinewidth": 0,
             "ticks": ""
            },
            "colorscale": [
             [
              0,
              "#0d0887"
             ],
             [
              0.1111111111111111,
              "#46039f"
             ],
             [
              0.2222222222222222,
              "#7201a8"
             ],
             [
              0.3333333333333333,
              "#9c179e"
             ],
             [
              0.4444444444444444,
              "#bd3786"
             ],
             [
              0.5555555555555556,
              "#d8576b"
             ],
             [
              0.6666666666666666,
              "#ed7953"
             ],
             [
              0.7777777777777778,
              "#fb9f3a"
             ],
             [
              0.8888888888888888,
              "#fdca26"
             ],
             [
              1,
              "#f0f921"
             ]
            ],
            "type": "heatmap"
           }
          ],
          "heatmapgl": [
           {
            "colorbar": {
             "outlinewidth": 0,
             "ticks": ""
            },
            "colorscale": [
             [
              0,
              "#0d0887"
             ],
             [
              0.1111111111111111,
              "#46039f"
             ],
             [
              0.2222222222222222,
              "#7201a8"
             ],
             [
              0.3333333333333333,
              "#9c179e"
             ],
             [
              0.4444444444444444,
              "#bd3786"
             ],
             [
              0.5555555555555556,
              "#d8576b"
             ],
             [
              0.6666666666666666,
              "#ed7953"
             ],
             [
              0.7777777777777778,
              "#fb9f3a"
             ],
             [
              0.8888888888888888,
              "#fdca26"
             ],
             [
              1,
              "#f0f921"
             ]
            ],
            "type": "heatmapgl"
           }
          ],
          "histogram": [
           {
            "marker": {
             "pattern": {
              "fillmode": "overlay",
              "size": 10,
              "solidity": 0.2
             }
            },
            "type": "histogram"
           }
          ],
          "histogram2d": [
           {
            "colorbar": {
             "outlinewidth": 0,
             "ticks": ""
            },
            "colorscale": [
             [
              0,
              "#0d0887"
             ],
             [
              0.1111111111111111,
              "#46039f"
             ],
             [
              0.2222222222222222,
              "#7201a8"
             ],
             [
              0.3333333333333333,
              "#9c179e"
             ],
             [
              0.4444444444444444,
              "#bd3786"
             ],
             [
              0.5555555555555556,
              "#d8576b"
             ],
             [
              0.6666666666666666,
              "#ed7953"
             ],
             [
              0.7777777777777778,
              "#fb9f3a"
             ],
             [
              0.8888888888888888,
              "#fdca26"
             ],
             [
              1,
              "#f0f921"
             ]
            ],
            "type": "histogram2d"
           }
          ],
          "histogram2dcontour": [
           {
            "colorbar": {
             "outlinewidth": 0,
             "ticks": ""
            },
            "colorscale": [
             [
              0,
              "#0d0887"
             ],
             [
              0.1111111111111111,
              "#46039f"
             ],
             [
              0.2222222222222222,
              "#7201a8"
             ],
             [
              0.3333333333333333,
              "#9c179e"
             ],
             [
              0.4444444444444444,
              "#bd3786"
             ],
             [
              0.5555555555555556,
              "#d8576b"
             ],
             [
              0.6666666666666666,
              "#ed7953"
             ],
             [
              0.7777777777777778,
              "#fb9f3a"
             ],
             [
              0.8888888888888888,
              "#fdca26"
             ],
             [
              1,
              "#f0f921"
             ]
            ],
            "type": "histogram2dcontour"
           }
          ],
          "mesh3d": [
           {
            "colorbar": {
             "outlinewidth": 0,
             "ticks": ""
            },
            "type": "mesh3d"
           }
          ],
          "parcoords": [
           {
            "line": {
             "colorbar": {
              "outlinewidth": 0,
              "ticks": ""
             }
            },
            "type": "parcoords"
           }
          ],
          "pie": [
           {
            "automargin": true,
            "type": "pie"
           }
          ],
          "scatter": [
           {
            "fillpattern": {
             "fillmode": "overlay",
             "size": 10,
             "solidity": 0.2
            },
            "type": "scatter"
           }
          ],
          "scatter3d": [
           {
            "line": {
             "colorbar": {
              "outlinewidth": 0,
              "ticks": ""
             }
            },
            "marker": {
             "colorbar": {
              "outlinewidth": 0,
              "ticks": ""
             }
            },
            "type": "scatter3d"
           }
          ],
          "scattercarpet": [
           {
            "marker": {
             "colorbar": {
              "outlinewidth": 0,
              "ticks": ""
             }
            },
            "type": "scattercarpet"
           }
          ],
          "scattergeo": [
           {
            "marker": {
             "colorbar": {
              "outlinewidth": 0,
              "ticks": ""
             }
            },
            "type": "scattergeo"
           }
          ],
          "scattergl": [
           {
            "marker": {
             "colorbar": {
              "outlinewidth": 0,
              "ticks": ""
             }
            },
            "type": "scattergl"
           }
          ],
          "scattermapbox": [
           {
            "marker": {
             "colorbar": {
              "outlinewidth": 0,
              "ticks": ""
             }
            },
            "type": "scattermapbox"
           }
          ],
          "scatterpolar": [
           {
            "marker": {
             "colorbar": {
              "outlinewidth": 0,
              "ticks": ""
             }
            },
            "type": "scatterpolar"
           }
          ],
          "scatterpolargl": [
           {
            "marker": {
             "colorbar": {
              "outlinewidth": 0,
              "ticks": ""
             }
            },
            "type": "scatterpolargl"
           }
          ],
          "scatterternary": [
           {
            "marker": {
             "colorbar": {
              "outlinewidth": 0,
              "ticks": ""
             }
            },
            "type": "scatterternary"
           }
          ],
          "surface": [
           {
            "colorbar": {
             "outlinewidth": 0,
             "ticks": ""
            },
            "colorscale": [
             [
              0,
              "#0d0887"
             ],
             [
              0.1111111111111111,
              "#46039f"
             ],
             [
              0.2222222222222222,
              "#7201a8"
             ],
             [
              0.3333333333333333,
              "#9c179e"
             ],
             [
              0.4444444444444444,
              "#bd3786"
             ],
             [
              0.5555555555555556,
              "#d8576b"
             ],
             [
              0.6666666666666666,
              "#ed7953"
             ],
             [
              0.7777777777777778,
              "#fb9f3a"
             ],
             [
              0.8888888888888888,
              "#fdca26"
             ],
             [
              1,
              "#f0f921"
             ]
            ],
            "type": "surface"
           }
          ],
          "table": [
           {
            "cells": {
             "fill": {
              "color": "#EBF0F8"
             },
             "line": {
              "color": "white"
             }
            },
            "header": {
             "fill": {
              "color": "#C8D4E3"
             },
             "line": {
              "color": "white"
             }
            },
            "type": "table"
           }
          ]
         },
         "layout": {
          "annotationdefaults": {
           "arrowcolor": "#2a3f5f",
           "arrowhead": 0,
           "arrowwidth": 1
          },
          "autotypenumbers": "strict",
          "coloraxis": {
           "colorbar": {
            "outlinewidth": 0,
            "ticks": ""
           }
          },
          "colorscale": {
           "diverging": [
            [
             0,
             "#8e0152"
            ],
            [
             0.1,
             "#c51b7d"
            ],
            [
             0.2,
             "#de77ae"
            ],
            [
             0.3,
             "#f1b6da"
            ],
            [
             0.4,
             "#fde0ef"
            ],
            [
             0.5,
             "#f7f7f7"
            ],
            [
             0.6,
             "#e6f5d0"
            ],
            [
             0.7,
             "#b8e186"
            ],
            [
             0.8,
             "#7fbc41"
            ],
            [
             0.9,
             "#4d9221"
            ],
            [
             1,
             "#276419"
            ]
           ],
           "sequential": [
            [
             0,
             "#0d0887"
            ],
            [
             0.1111111111111111,
             "#46039f"
            ],
            [
             0.2222222222222222,
             "#7201a8"
            ],
            [
             0.3333333333333333,
             "#9c179e"
            ],
            [
             0.4444444444444444,
             "#bd3786"
            ],
            [
             0.5555555555555556,
             "#d8576b"
            ],
            [
             0.6666666666666666,
             "#ed7953"
            ],
            [
             0.7777777777777778,
             "#fb9f3a"
            ],
            [
             0.8888888888888888,
             "#fdca26"
            ],
            [
             1,
             "#f0f921"
            ]
           ],
           "sequentialminus": [
            [
             0,
             "#0d0887"
            ],
            [
             0.1111111111111111,
             "#46039f"
            ],
            [
             0.2222222222222222,
             "#7201a8"
            ],
            [
             0.3333333333333333,
             "#9c179e"
            ],
            [
             0.4444444444444444,
             "#bd3786"
            ],
            [
             0.5555555555555556,
             "#d8576b"
            ],
            [
             0.6666666666666666,
             "#ed7953"
            ],
            [
             0.7777777777777778,
             "#fb9f3a"
            ],
            [
             0.8888888888888888,
             "#fdca26"
            ],
            [
             1,
             "#f0f921"
            ]
           ]
          },
          "colorway": [
           "#636efa",
           "#EF553B",
           "#00cc96",
           "#ab63fa",
           "#FFA15A",
           "#19d3f3",
           "#FF6692",
           "#B6E880",
           "#FF97FF",
           "#FECB52"
          ],
          "font": {
           "color": "#2a3f5f"
          },
          "geo": {
           "bgcolor": "white",
           "lakecolor": "white",
           "landcolor": "#E5ECF6",
           "showlakes": true,
           "showland": true,
           "subunitcolor": "white"
          },
          "hoverlabel": {
           "align": "left"
          },
          "hovermode": "closest",
          "mapbox": {
           "style": "light"
          },
          "paper_bgcolor": "white",
          "plot_bgcolor": "#E5ECF6",
          "polar": {
           "angularaxis": {
            "gridcolor": "white",
            "linecolor": "white",
            "ticks": ""
           },
           "bgcolor": "#E5ECF6",
           "radialaxis": {
            "gridcolor": "white",
            "linecolor": "white",
            "ticks": ""
           }
          },
          "scene": {
           "xaxis": {
            "backgroundcolor": "#E5ECF6",
            "gridcolor": "white",
            "gridwidth": 2,
            "linecolor": "white",
            "showbackground": true,
            "ticks": "",
            "zerolinecolor": "white"
           },
           "yaxis": {
            "backgroundcolor": "#E5ECF6",
            "gridcolor": "white",
            "gridwidth": 2,
            "linecolor": "white",
            "showbackground": true,
            "ticks": "",
            "zerolinecolor": "white"
           },
           "zaxis": {
            "backgroundcolor": "#E5ECF6",
            "gridcolor": "white",
            "gridwidth": 2,
            "linecolor": "white",
            "showbackground": true,
            "ticks": "",
            "zerolinecolor": "white"
           }
          },
          "shapedefaults": {
           "line": {
            "color": "#2a3f5f"
           }
          },
          "ternary": {
           "aaxis": {
            "gridcolor": "white",
            "linecolor": "white",
            "ticks": ""
           },
           "baxis": {
            "gridcolor": "white",
            "linecolor": "white",
            "ticks": ""
           },
           "bgcolor": "#E5ECF6",
           "caxis": {
            "gridcolor": "white",
            "linecolor": "white",
            "ticks": ""
           }
          },
          "title": {
           "x": 0.05
          },
          "xaxis": {
           "automargin": true,
           "gridcolor": "white",
           "linecolor": "white",
           "ticks": "",
           "title": {
            "standoff": 15
           },
           "zerolinecolor": "white",
           "zerolinewidth": 2
          },
          "yaxis": {
           "automargin": true,
           "gridcolor": "white",
           "linecolor": "white",
           "ticks": "",
           "title": {
            "standoff": 15
           },
           "zerolinecolor": "white",
           "zerolinewidth": 2
          }
         }
        },
        "title": {
         "text": "Top Products Recalled by Greco Sidari"
        }
       }
      }
     },
     "metadata": {},
     "output_type": "display_data"
    },
    {
     "data": {
      "application/vnd.plotly.v1+json": {
       "config": {
        "plotlyServerURL": "https://plot.ly"
       },
       "data": [
        {
         "branchvalues": "total",
         "customdata": [
          [
           "Class II",
           "GRANDE     1.5OZ FRESH BOCCONCINI MOZZ 1/3#         SUPC/ITEM # 19132P",
           "OH",
           "Food"
          ],
          [
           "Class II",
           "GRANDE  SOPRAFFINA RICOTTA 1/30#  SUPC/ITEM # 19536",
           "OH",
           "Food"
          ],
          [
           "Class II",
           "SAPUTO STELLA ASGO HLF MLD 11LB  SUPC/ITEM # 19009",
           "OH",
           "Food"
          ],
          [
           "Class II",
           "SOFINA   21202 MASTRO CAPOCOLLC 4 - 6LB      SUPC/ITEM # 199694",
           "OH",
           "Food"
          ],
          [
           "Class II",
           "(?)",
           "OH",
           "Food"
          ],
          [
           "Class II",
           "(?)",
           "OH",
           "Food"
          ]
         ],
         "domain": {
          "x": [
           0,
           1
          ],
          "y": [
           0,
           1
          ]
         },
         "hovertemplate": "Firm: Greco Sidari<br>Classification: %{customdata[0]}<br>Product Description: %{customdata[1]}<br>State: %{customdata[2]}",
         "ids": [
          "Greco Sidari/Food/GRANDE     1.5OZ FRESH BOCCONCINI MOZZ 1/3#         SUPC/ITEM # 19132P",
          "Greco Sidari/Food/GRANDE  SOPRAFFINA RICOTTA 1/30#  SUPC/ITEM # 19536",
          "Greco Sidari/Food/SAPUTO STELLA ASGO HLF MLD 11LB  SUPC/ITEM # 19009",
          "Greco Sidari/Food/SOFINA   21202 MASTRO CAPOCOLLC 4 - 6LB      SUPC/ITEM # 199694",
          "Greco Sidari/Food",
          "Greco Sidari"
         ],
         "labels": [
          "GRANDE     1.5OZ FRESH BOCCONCINI MOZZ 1/3#         SUPC/ITEM # 19132P",
          "GRANDE  SOPRAFFINA RICOTTA 1/30#  SUPC/ITEM # 19536",
          "SAPUTO STELLA ASGO HLF MLD 11LB  SUPC/ITEM # 19009",
          "SOFINA   21202 MASTRO CAPOCOLLC 4 - 6LB      SUPC/ITEM # 199694",
          "Food",
          "Greco Sidari"
         ],
         "marker": {
          "colors": [
           "#636efa",
           "#636efa",
           "#636efa",
           "#636efa",
           "#636efa",
           "#636efa"
          ]
         },
         "name": "",
         "parents": [
          "Greco Sidari/Food",
          "Greco Sidari/Food",
          "Greco Sidari/Food",
          "Greco Sidari/Food",
          "Greco Sidari",
          ""
         ],
         "type": "sunburst",
         "values": [
          1,
          1,
          1,
          1,
          4,
          4
         ]
        }
       ],
       "layout": {
        "legend": {
         "tracegroupgap": 0
        },
        "template": {
         "data": {
          "bar": [
           {
            "error_x": {
             "color": "#2a3f5f"
            },
            "error_y": {
             "color": "#2a3f5f"
            },
            "marker": {
             "line": {
              "color": "#E5ECF6",
              "width": 0.5
             },
             "pattern": {
              "fillmode": "overlay",
              "size": 10,
              "solidity": 0.2
             }
            },
            "type": "bar"
           }
          ],
          "barpolar": [
           {
            "marker": {
             "line": {
              "color": "#E5ECF6",
              "width": 0.5
             },
             "pattern": {
              "fillmode": "overlay",
              "size": 10,
              "solidity": 0.2
             }
            },
            "type": "barpolar"
           }
          ],
          "carpet": [
           {
            "aaxis": {
             "endlinecolor": "#2a3f5f",
             "gridcolor": "white",
             "linecolor": "white",
             "minorgridcolor": "white",
             "startlinecolor": "#2a3f5f"
            },
            "baxis": {
             "endlinecolor": "#2a3f5f",
             "gridcolor": "white",
             "linecolor": "white",
             "minorgridcolor": "white",
             "startlinecolor": "#2a3f5f"
            },
            "type": "carpet"
           }
          ],
          "choropleth": [
           {
            "colorbar": {
             "outlinewidth": 0,
             "ticks": ""
            },
            "type": "choropleth"
           }
          ],
          "contour": [
           {
            "colorbar": {
             "outlinewidth": 0,
             "ticks": ""
            },
            "colorscale": [
             [
              0,
              "#0d0887"
             ],
             [
              0.1111111111111111,
              "#46039f"
             ],
             [
              0.2222222222222222,
              "#7201a8"
             ],
             [
              0.3333333333333333,
              "#9c179e"
             ],
             [
              0.4444444444444444,
              "#bd3786"
             ],
             [
              0.5555555555555556,
              "#d8576b"
             ],
             [
              0.6666666666666666,
              "#ed7953"
             ],
             [
              0.7777777777777778,
              "#fb9f3a"
             ],
             [
              0.8888888888888888,
              "#fdca26"
             ],
             [
              1,
              "#f0f921"
             ]
            ],
            "type": "contour"
           }
          ],
          "contourcarpet": [
           {
            "colorbar": {
             "outlinewidth": 0,
             "ticks": ""
            },
            "type": "contourcarpet"
           }
          ],
          "heatmap": [
           {
            "colorbar": {
             "outlinewidth": 0,
             "ticks": ""
            },
            "colorscale": [
             [
              0,
              "#0d0887"
             ],
             [
              0.1111111111111111,
              "#46039f"
             ],
             [
              0.2222222222222222,
              "#7201a8"
             ],
             [
              0.3333333333333333,
              "#9c179e"
             ],
             [
              0.4444444444444444,
              "#bd3786"
             ],
             [
              0.5555555555555556,
              "#d8576b"
             ],
             [
              0.6666666666666666,
              "#ed7953"
             ],
             [
              0.7777777777777778,
              "#fb9f3a"
             ],
             [
              0.8888888888888888,
              "#fdca26"
             ],
             [
              1,
              "#f0f921"
             ]
            ],
            "type": "heatmap"
           }
          ],
          "heatmapgl": [
           {
            "colorbar": {
             "outlinewidth": 0,
             "ticks": ""
            },
            "colorscale": [
             [
              0,
              "#0d0887"
             ],
             [
              0.1111111111111111,
              "#46039f"
             ],
             [
              0.2222222222222222,
              "#7201a8"
             ],
             [
              0.3333333333333333,
              "#9c179e"
             ],
             [
              0.4444444444444444,
              "#bd3786"
             ],
             [
              0.5555555555555556,
              "#d8576b"
             ],
             [
              0.6666666666666666,
              "#ed7953"
             ],
             [
              0.7777777777777778,
              "#fb9f3a"
             ],
             [
              0.8888888888888888,
              "#fdca26"
             ],
             [
              1,
              "#f0f921"
             ]
            ],
            "type": "heatmapgl"
           }
          ],
          "histogram": [
           {
            "marker": {
             "pattern": {
              "fillmode": "overlay",
              "size": 10,
              "solidity": 0.2
             }
            },
            "type": "histogram"
           }
          ],
          "histogram2d": [
           {
            "colorbar": {
             "outlinewidth": 0,
             "ticks": ""
            },
            "colorscale": [
             [
              0,
              "#0d0887"
             ],
             [
              0.1111111111111111,
              "#46039f"
             ],
             [
              0.2222222222222222,
              "#7201a8"
             ],
             [
              0.3333333333333333,
              "#9c179e"
             ],
             [
              0.4444444444444444,
              "#bd3786"
             ],
             [
              0.5555555555555556,
              "#d8576b"
             ],
             [
              0.6666666666666666,
              "#ed7953"
             ],
             [
              0.7777777777777778,
              "#fb9f3a"
             ],
             [
              0.8888888888888888,
              "#fdca26"
             ],
             [
              1,
              "#f0f921"
             ]
            ],
            "type": "histogram2d"
           }
          ],
          "histogram2dcontour": [
           {
            "colorbar": {
             "outlinewidth": 0,
             "ticks": ""
            },
            "colorscale": [
             [
              0,
              "#0d0887"
             ],
             [
              0.1111111111111111,
              "#46039f"
             ],
             [
              0.2222222222222222,
              "#7201a8"
             ],
             [
              0.3333333333333333,
              "#9c179e"
             ],
             [
              0.4444444444444444,
              "#bd3786"
             ],
             [
              0.5555555555555556,
              "#d8576b"
             ],
             [
              0.6666666666666666,
              "#ed7953"
             ],
             [
              0.7777777777777778,
              "#fb9f3a"
             ],
             [
              0.8888888888888888,
              "#fdca26"
             ],
             [
              1,
              "#f0f921"
             ]
            ],
            "type": "histogram2dcontour"
           }
          ],
          "mesh3d": [
           {
            "colorbar": {
             "outlinewidth": 0,
             "ticks": ""
            },
            "type": "mesh3d"
           }
          ],
          "parcoords": [
           {
            "line": {
             "colorbar": {
              "outlinewidth": 0,
              "ticks": ""
             }
            },
            "type": "parcoords"
           }
          ],
          "pie": [
           {
            "automargin": true,
            "type": "pie"
           }
          ],
          "scatter": [
           {
            "fillpattern": {
             "fillmode": "overlay",
             "size": 10,
             "solidity": 0.2
            },
            "type": "scatter"
           }
          ],
          "scatter3d": [
           {
            "line": {
             "colorbar": {
              "outlinewidth": 0,
              "ticks": ""
             }
            },
            "marker": {
             "colorbar": {
              "outlinewidth": 0,
              "ticks": ""
             }
            },
            "type": "scatter3d"
           }
          ],
          "scattercarpet": [
           {
            "marker": {
             "colorbar": {
              "outlinewidth": 0,
              "ticks": ""
             }
            },
            "type": "scattercarpet"
           }
          ],
          "scattergeo": [
           {
            "marker": {
             "colorbar": {
              "outlinewidth": 0,
              "ticks": ""
             }
            },
            "type": "scattergeo"
           }
          ],
          "scattergl": [
           {
            "marker": {
             "colorbar": {
              "outlinewidth": 0,
              "ticks": ""
             }
            },
            "type": "scattergl"
           }
          ],
          "scattermapbox": [
           {
            "marker": {
             "colorbar": {
              "outlinewidth": 0,
              "ticks": ""
             }
            },
            "type": "scattermapbox"
           }
          ],
          "scatterpolar": [
           {
            "marker": {
             "colorbar": {
              "outlinewidth": 0,
              "ticks": ""
             }
            },
            "type": "scatterpolar"
           }
          ],
          "scatterpolargl": [
           {
            "marker": {
             "colorbar": {
              "outlinewidth": 0,
              "ticks": ""
             }
            },
            "type": "scatterpolargl"
           }
          ],
          "scatterternary": [
           {
            "marker": {
             "colorbar": {
              "outlinewidth": 0,
              "ticks": ""
             }
            },
            "type": "scatterternary"
           }
          ],
          "surface": [
           {
            "colorbar": {
             "outlinewidth": 0,
             "ticks": ""
            },
            "colorscale": [
             [
              0,
              "#0d0887"
             ],
             [
              0.1111111111111111,
              "#46039f"
             ],
             [
              0.2222222222222222,
              "#7201a8"
             ],
             [
              0.3333333333333333,
              "#9c179e"
             ],
             [
              0.4444444444444444,
              "#bd3786"
             ],
             [
              0.5555555555555556,
              "#d8576b"
             ],
             [
              0.6666666666666666,
              "#ed7953"
             ],
             [
              0.7777777777777778,
              "#fb9f3a"
             ],
             [
              0.8888888888888888,
              "#fdca26"
             ],
             [
              1,
              "#f0f921"
             ]
            ],
            "type": "surface"
           }
          ],
          "table": [
           {
            "cells": {
             "fill": {
              "color": "#EBF0F8"
             },
             "line": {
              "color": "white"
             }
            },
            "header": {
             "fill": {
              "color": "#C8D4E3"
             },
             "line": {
              "color": "white"
             }
            },
            "type": "table"
           }
          ]
         },
         "layout": {
          "annotationdefaults": {
           "arrowcolor": "#2a3f5f",
           "arrowhead": 0,
           "arrowwidth": 1
          },
          "autotypenumbers": "strict",
          "coloraxis": {
           "colorbar": {
            "outlinewidth": 0,
            "ticks": ""
           }
          },
          "colorscale": {
           "diverging": [
            [
             0,
             "#8e0152"
            ],
            [
             0.1,
             "#c51b7d"
            ],
            [
             0.2,
             "#de77ae"
            ],
            [
             0.3,
             "#f1b6da"
            ],
            [
             0.4,
             "#fde0ef"
            ],
            [
             0.5,
             "#f7f7f7"
            ],
            [
             0.6,
             "#e6f5d0"
            ],
            [
             0.7,
             "#b8e186"
            ],
            [
             0.8,
             "#7fbc41"
            ],
            [
             0.9,
             "#4d9221"
            ],
            [
             1,
             "#276419"
            ]
           ],
           "sequential": [
            [
             0,
             "#0d0887"
            ],
            [
             0.1111111111111111,
             "#46039f"
            ],
            [
             0.2222222222222222,
             "#7201a8"
            ],
            [
             0.3333333333333333,
             "#9c179e"
            ],
            [
             0.4444444444444444,
             "#bd3786"
            ],
            [
             0.5555555555555556,
             "#d8576b"
            ],
            [
             0.6666666666666666,
             "#ed7953"
            ],
            [
             0.7777777777777778,
             "#fb9f3a"
            ],
            [
             0.8888888888888888,
             "#fdca26"
            ],
            [
             1,
             "#f0f921"
            ]
           ],
           "sequentialminus": [
            [
             0,
             "#0d0887"
            ],
            [
             0.1111111111111111,
             "#46039f"
            ],
            [
             0.2222222222222222,
             "#7201a8"
            ],
            [
             0.3333333333333333,
             "#9c179e"
            ],
            [
             0.4444444444444444,
             "#bd3786"
            ],
            [
             0.5555555555555556,
             "#d8576b"
            ],
            [
             0.6666666666666666,
             "#ed7953"
            ],
            [
             0.7777777777777778,
             "#fb9f3a"
            ],
            [
             0.8888888888888888,
             "#fdca26"
            ],
            [
             1,
             "#f0f921"
            ]
           ]
          },
          "colorway": [
           "#636efa",
           "#EF553B",
           "#00cc96",
           "#ab63fa",
           "#FFA15A",
           "#19d3f3",
           "#FF6692",
           "#B6E880",
           "#FF97FF",
           "#FECB52"
          ],
          "font": {
           "color": "#2a3f5f"
          },
          "geo": {
           "bgcolor": "white",
           "lakecolor": "white",
           "landcolor": "#E5ECF6",
           "showlakes": true,
           "showland": true,
           "subunitcolor": "white"
          },
          "hoverlabel": {
           "align": "left"
          },
          "hovermode": "closest",
          "mapbox": {
           "style": "light"
          },
          "paper_bgcolor": "white",
          "plot_bgcolor": "#E5ECF6",
          "polar": {
           "angularaxis": {
            "gridcolor": "white",
            "linecolor": "white",
            "ticks": ""
           },
           "bgcolor": "#E5ECF6",
           "radialaxis": {
            "gridcolor": "white",
            "linecolor": "white",
            "ticks": ""
           }
          },
          "scene": {
           "xaxis": {
            "backgroundcolor": "#E5ECF6",
            "gridcolor": "white",
            "gridwidth": 2,
            "linecolor": "white",
            "showbackground": true,
            "ticks": "",
            "zerolinecolor": "white"
           },
           "yaxis": {
            "backgroundcolor": "#E5ECF6",
            "gridcolor": "white",
            "gridwidth": 2,
            "linecolor": "white",
            "showbackground": true,
            "ticks": "",
            "zerolinecolor": "white"
           },
           "zaxis": {
            "backgroundcolor": "#E5ECF6",
            "gridcolor": "white",
            "gridwidth": 2,
            "linecolor": "white",
            "showbackground": true,
            "ticks": "",
            "zerolinecolor": "white"
           }
          },
          "shapedefaults": {
           "line": {
            "color": "#2a3f5f"
           }
          },
          "ternary": {
           "aaxis": {
            "gridcolor": "white",
            "linecolor": "white",
            "ticks": ""
           },
           "baxis": {
            "gridcolor": "white",
            "linecolor": "white",
            "ticks": ""
           },
           "bgcolor": "#E5ECF6",
           "caxis": {
            "gridcolor": "white",
            "linecolor": "white",
            "ticks": ""
           }
          },
          "title": {
           "x": 0.05
          },
          "xaxis": {
           "automargin": true,
           "gridcolor": "white",
           "linecolor": "white",
           "ticks": "",
           "title": {
            "standoff": 15
           },
           "zerolinecolor": "white",
           "zerolinewidth": 2
          },
          "yaxis": {
           "automargin": true,
           "gridcolor": "white",
           "linecolor": "white",
           "ticks": "",
           "title": {
            "standoff": 15
           },
           "zerolinecolor": "white",
           "zerolinewidth": 2
          }
         }
        },
        "title": {
         "text": "Top Products Recalled by Greco Sidari"
        }
       }
      }
     },
     "metadata": {},
     "output_type": "display_data"
    },
    {
     "data": {
      "application/vnd.plotly.v1+json": {
       "config": {
        "plotlyServerURL": "https://plot.ly"
       },
       "data": [
        {
         "branchvalues": "total",
         "customdata": [
          [
           "Class I",
           "Bistro To Go, Chicken Salad Finger Sandwiches, Net Wt.6.5 Oz. Single Serving, Keep refrigerated",
           "MD",
           "Food"
          ],
          [
           "Class I",
           "Quick & Fresh, Rainbow Berry & Nut Salad W/Dressing, Net Wt. 8.7 Oz. Single Serving, Keep refrigerated",
           "MD",
           "Food"
          ],
          [
           "Class I",
           "Quick & Fresh, Greek Salad W/Dressing, Net Wt. 8.75 Oz. Single Serving, Keep refrigerated",
           "MD",
           "Food"
          ],
          [
           "Class I",
           "Quick & Fresh, Chocolate Pudding Delight, Net Wt. 6.5 Oz. Single Serving, Keep refrigerated",
           "MD",
           "Food"
          ],
          [
           "Class I",
           "Quick & Fresh, Albacore Tuna Finger Sandwiches, Net . Wt. 6.5 Oz. Single Serving, Mylar Wrap, Keep refrigerated",
           "MD",
           "Food"
          ],
          [
           "Class I",
           "Orchard Bistro, Turkey & Cheddar Hoagie, Net Wt. 7.3 Oz. Single Serving, Keep refrigerated",
           "MD",
           "Food"
          ],
          [
           "Class I",
           "Orchard Bistro, Strawberry Low Fat Yogurt, Fruit & Granola Parfait, Net Wt. 9 Oz. Single Serving, Keep refrigerated",
           "MD",
           "Food"
          ],
          [
           "Class I",
           "Orchard Bistro, Margharita Rustic Flatbread Pizza, Net Wt. 11.5 Oz. Single Serving, Keep refrigerated",
           "MD",
           "Food"
          ],
          [
           "Class I",
           "Orchard Bistro, Garden salad with Dressing Net Wt. 8.2 Oz. Single Serving, Keep refrigerated",
           "MD",
           "Food"
          ],
          [
           "Class I",
           "Orchard Bistro, Egg Salad Kaiser, Net . Wt. 5.5 Oz. Single Serving, Keep refrigerated",
           "MD",
           "Food"
          ],
          [
           "Class I",
           "Naval Academy1845 Coffee, Gourmet Cheese & Fruit Plate, Net Wt. 6 Oz. Single Serving, Keep refrigerated",
           "MD",
           "Food"
          ],
          [
           "Class I",
           "In Reach , Sausage Egg & Cheese Croissant, Net . Wt. 6.5 Oz. Single Serving, Mylar Wrap, Keep refrigerated",
           "MD",
           "Food"
          ],
          [
           "Class I",
           "Fresh Creative Cuisine, Turkey Sausage, Egg & Cheddar Muffin, Net . Wt. 5.5 Oz. Single Serving, Keep refrigerated",
           "MD",
           "Food"
          ],
          [
           "Class I",
           "Fresh Creative Cuisine, Turkey & Cheddar Hoagie, Net . Wt. 7.3 Oz. Single Serving, Keep refrigerated",
           "MD",
           "Food"
          ],
          [
           "Class I",
           "Fresh Creative Cuisine, Smoked Turkey & Swiss Croissant, Net . Wt. 7 Oz. Single Serving, Keep refrigerated",
           "MD",
           "Food"
          ],
          [
           "Class I",
           "Quick & Fresh, Smoked Turkey & Swiss Croissant, Net . Wt. 7 Oz. Single Serving, Keep refrigerated",
           "MD",
           "Food"
          ],
          [
           "Class I",
           "Fresh Creative Cuisine, Fresh Cut Mango & Strawberry, Net . Wt. 7 Oz. Single Serving, Keep refrigerated",
           "MD",
           "Food"
          ],
          [
           "Class I",
           "Fresh Creative Cuisine White Label, Roast Beef & Cheese Finger Sandwiches, Case of 6, Keep refrigerated",
           "MD",
           "Food"
          ],
          [
           "Class I",
           "Fresh Creative Cuisine White Label, Monte Cristo Sandwich, Single Serving, Keep refrigerated",
           "MD",
           "Food"
          ],
          [
           "Class I",
           "Fresh Creative Cuisine White Label, Buffalo Style Egg, Turkey Sausage & Pepper Jack Breakfast Flat, Net . Wt. 6.4 Oz. Single Serving, Keep refrigerated",
           "MD",
           "Food"
          ],
          [
           "Class I",
           "Fresh Creative Cuisine Black Label, Vanilla Low Fat Yogurt, Mixed Berries & Granola, Net Wt. 9 Oz. Single Serving, Keep refrigerated",
           "MD",
           "Food"
          ],
          [
           "Class I",
           "Fresh Creative Cuisine Black Label, Grilled Chicken & Fontina Cranberry Ciabatta, Net Wt. 8.75 Oz. Single Serving, Keep refrigerated",
           "MD",
           "Food"
          ],
          [
           "Class I",
           "Fresh Creative Cuisine Black Label, Fresh Cut Vegetables & Hummus, Net Wt. 6.4 Oz. Single Serving, Keep refrigerated",
           "MD",
           "Food"
          ],
          [
           "Class I",
           "Dietz & Watson, Turkey & Swiss Half Sub. Single Serving, Keep refrigerated",
           "MD",
           "Food"
          ],
          [
           "Class I",
           "Dietz & Watson, Turkey & Cheese Finger Sandwiches, Net Wt. 6.5 Oz. Single Serving, Keep refrigerated",
           "MD",
           "Food"
          ],
          [
           "Class I",
           "Bistro To Go, Smoked Turkey & Swiss Croissant, Net Wt. 7 Oz. Single Serving, Keep refrigerated",
           "MD",
           "Food"
          ],
          [
           "Class I",
           "Bistro To Go, Roast Beef & Horseradish Hoagie, Net Wt. 7 Oz. Single Serving, Keep refrigerated",
           "MD",
           "Food"
          ],
          [
           "Class I",
           "Bistro To Go, Gourmet Cheese & Fruit Plate, Net Wt. 6 Oz. Single Serving, Keep refrigerated",
           "MD",
           "Food"
          ],
          [
           "Class I",
           "Bistro To Go, Fresh Cut Tropical Fruit, Net Wt. 7.25 Oz. Single Serving, Keep refrigerated",
           "MD",
           "Food"
          ],
          [
           "Class I",
           "Bistro To Go, Egg Salad Wheat, Net Wt. 5.5 Oz. Single Serving, Keep refrigerated",
           "MD",
           "Food"
          ],
          [
           "Class I",
           "Bistro To Go, Chocolate Pudding Delight, Net Wt. 6.5 Oz. Single Serving, Keep refrigerated",
           "MD",
           "Food"
          ],
          [
           "Class I",
           "Fresh Creative Cuisine White Label, Tuna Salad Wheat Wedge, Net . Wt. 8 Oz. Single Serving, Keep refrigerated",
           "MD",
           "Food"
          ],
          [
           "Class I",
           "Quick & Fresh, Tuna Salad Croissant, Net . Wt. 8 Oz. Single Serving, Keep refrigerated",
           "MD",
           "Food"
          ],
          [
           "Class I",
           "(?)",
           "MD",
           "Food"
          ],
          [
           "Class I",
           "(?)",
           "MD",
           "Food"
          ]
         ],
         "domain": {
          "x": [
           0,
           1
          ],
          "y": [
           0,
           1
          ]
         },
         "hovertemplate": "Firm: FRESH IDEATION FOOD GROUP, LLC dba Fresh Creative Cuisine<br>Classification: %{customdata[0]}<br>Product Description: %{customdata[1]}<br>State: %{customdata[2]}",
         "ids": [
          "FRESH IDEATION FOOD GROUP, LLC dba Fresh Creative Cuisine/Food/Bistro To Go, Chicken Salad Finger Sandwiches, Net Wt.6.5 Oz. Single Serving, Keep refrigerated",
          "FRESH IDEATION FOOD GROUP, LLC dba Fresh Creative Cuisine/Food/Quick & Fresh, Rainbow Berry & Nut Salad W/Dressing, Net Wt. 8.7 Oz. Single Serving, Keep refrigerated",
          "FRESH IDEATION FOOD GROUP, LLC dba Fresh Creative Cuisine/Food/Quick & Fresh, Greek Salad W/Dressing, Net Wt. 8.75 Oz. Single Serving, Keep refrigerated",
          "FRESH IDEATION FOOD GROUP, LLC dba Fresh Creative Cuisine/Food/Quick & Fresh, Chocolate Pudding Delight, Net Wt. 6.5 Oz. Single Serving, Keep refrigerated",
          "FRESH IDEATION FOOD GROUP, LLC dba Fresh Creative Cuisine/Food/Quick & Fresh, Albacore Tuna Finger Sandwiches, Net . Wt. 6.5 Oz. Single Serving, Mylar Wrap, Keep refrigerated",
          "FRESH IDEATION FOOD GROUP, LLC dba Fresh Creative Cuisine/Food/Orchard Bistro, Turkey & Cheddar Hoagie, Net Wt. 7.3 Oz. Single Serving, Keep refrigerated",
          "FRESH IDEATION FOOD GROUP, LLC dba Fresh Creative Cuisine/Food/Orchard Bistro, Strawberry Low Fat Yogurt, Fruit & Granola Parfait, Net Wt. 9 Oz. Single Serving, Keep refrigerated",
          "FRESH IDEATION FOOD GROUP, LLC dba Fresh Creative Cuisine/Food/Orchard Bistro, Margharita Rustic Flatbread Pizza, Net Wt. 11.5 Oz. Single Serving, Keep refrigerated",
          "FRESH IDEATION FOOD GROUP, LLC dba Fresh Creative Cuisine/Food/Orchard Bistro, Garden salad with Dressing Net Wt. 8.2 Oz. Single Serving, Keep refrigerated",
          "FRESH IDEATION FOOD GROUP, LLC dba Fresh Creative Cuisine/Food/Orchard Bistro, Egg Salad Kaiser, Net . Wt. 5.5 Oz. Single Serving, Keep refrigerated",
          "FRESH IDEATION FOOD GROUP, LLC dba Fresh Creative Cuisine/Food/Naval Academy1845 Coffee, Gourmet Cheese & Fruit Plate, Net Wt. 6 Oz. Single Serving, Keep refrigerated",
          "FRESH IDEATION FOOD GROUP, LLC dba Fresh Creative Cuisine/Food/In Reach , Sausage Egg & Cheese Croissant, Net . Wt. 6.5 Oz. Single Serving, Mylar Wrap, Keep refrigerated",
          "FRESH IDEATION FOOD GROUP, LLC dba Fresh Creative Cuisine/Food/Fresh Creative Cuisine, Turkey Sausage, Egg & Cheddar Muffin, Net . Wt. 5.5 Oz. Single Serving, Keep refrigerated",
          "FRESH IDEATION FOOD GROUP, LLC dba Fresh Creative Cuisine/Food/Fresh Creative Cuisine, Turkey & Cheddar Hoagie, Net . Wt. 7.3 Oz. Single Serving, Keep refrigerated",
          "FRESH IDEATION FOOD GROUP, LLC dba Fresh Creative Cuisine/Food/Fresh Creative Cuisine, Smoked Turkey & Swiss Croissant, Net . Wt. 7 Oz. Single Serving, Keep refrigerated",
          "FRESH IDEATION FOOD GROUP, LLC dba Fresh Creative Cuisine/Food/Quick & Fresh, Smoked Turkey & Swiss Croissant, Net . Wt. 7 Oz. Single Serving, Keep refrigerated",
          "FRESH IDEATION FOOD GROUP, LLC dba Fresh Creative Cuisine/Food/Fresh Creative Cuisine, Fresh Cut Mango & Strawberry, Net . Wt. 7 Oz. Single Serving, Keep refrigerated",
          "FRESH IDEATION FOOD GROUP, LLC dba Fresh Creative Cuisine/Food/Fresh Creative Cuisine White Label, Roast Beef & Cheese Finger Sandwiches, Case of 6, Keep refrigerated",
          "FRESH IDEATION FOOD GROUP, LLC dba Fresh Creative Cuisine/Food/Fresh Creative Cuisine White Label, Monte Cristo Sandwich, Single Serving, Keep refrigerated",
          "FRESH IDEATION FOOD GROUP, LLC dba Fresh Creative Cuisine/Food/Fresh Creative Cuisine White Label, Buffalo Style Egg, Turkey Sausage & Pepper Jack Breakfast Flat, Net . Wt. 6.4 Oz. Single Serving, Keep refrigerated",
          "FRESH IDEATION FOOD GROUP, LLC dba Fresh Creative Cuisine/Food/Fresh Creative Cuisine Black Label, Vanilla Low Fat Yogurt, Mixed Berries & Granola, Net Wt. 9 Oz. Single Serving, Keep refrigerated",
          "FRESH IDEATION FOOD GROUP, LLC dba Fresh Creative Cuisine/Food/Fresh Creative Cuisine Black Label, Grilled Chicken & Fontina Cranberry Ciabatta, Net Wt. 8.75 Oz. Single Serving, Keep refrigerated",
          "FRESH IDEATION FOOD GROUP, LLC dba Fresh Creative Cuisine/Food/Fresh Creative Cuisine Black Label, Fresh Cut Vegetables & Hummus, Net Wt. 6.4 Oz. Single Serving, Keep refrigerated",
          "FRESH IDEATION FOOD GROUP, LLC dba Fresh Creative Cuisine/Food/Dietz & Watson, Turkey & Swiss Half Sub. Single Serving, Keep refrigerated",
          "FRESH IDEATION FOOD GROUP, LLC dba Fresh Creative Cuisine/Food/Dietz & Watson, Turkey & Cheese Finger Sandwiches, Net Wt. 6.5 Oz. Single Serving, Keep refrigerated",
          "FRESH IDEATION FOOD GROUP, LLC dba Fresh Creative Cuisine/Food/Bistro To Go, Smoked Turkey & Swiss Croissant, Net Wt. 7 Oz. Single Serving, Keep refrigerated",
          "FRESH IDEATION FOOD GROUP, LLC dba Fresh Creative Cuisine/Food/Bistro To Go, Roast Beef & Horseradish Hoagie, Net Wt. 7 Oz. Single Serving, Keep refrigerated",
          "FRESH IDEATION FOOD GROUP, LLC dba Fresh Creative Cuisine/Food/Bistro To Go, Gourmet Cheese & Fruit Plate, Net Wt. 6 Oz. Single Serving, Keep refrigerated",
          "FRESH IDEATION FOOD GROUP, LLC dba Fresh Creative Cuisine/Food/Bistro To Go, Fresh Cut Tropical Fruit, Net Wt. 7.25 Oz. Single Serving, Keep refrigerated",
          "FRESH IDEATION FOOD GROUP, LLC dba Fresh Creative Cuisine/Food/Bistro To Go, Egg Salad Wheat, Net Wt. 5.5 Oz. Single Serving, Keep refrigerated",
          "FRESH IDEATION FOOD GROUP, LLC dba Fresh Creative Cuisine/Food/Bistro To Go, Chocolate Pudding Delight, Net Wt. 6.5 Oz. Single Serving, Keep refrigerated",
          "FRESH IDEATION FOOD GROUP, LLC dba Fresh Creative Cuisine/Food/Fresh Creative Cuisine White Label, Tuna Salad Wheat Wedge, Net . Wt. 8 Oz. Single Serving, Keep refrigerated",
          "FRESH IDEATION FOOD GROUP, LLC dba Fresh Creative Cuisine/Food/Quick & Fresh, Tuna Salad Croissant, Net . Wt. 8 Oz. Single Serving, Keep refrigerated",
          "FRESH IDEATION FOOD GROUP, LLC dba Fresh Creative Cuisine/Food",
          "FRESH IDEATION FOOD GROUP, LLC dba Fresh Creative Cuisine"
         ],
         "labels": [
          "Bistro To Go, Chicken Salad Finger Sandwiches, Net Wt.6.5 Oz. Single Serving, Keep refrigerated",
          "Quick & Fresh, Rainbow Berry & Nut Salad W/Dressing, Net Wt. 8.7 Oz. Single Serving, Keep refrigerated",
          "Quick & Fresh, Greek Salad W/Dressing, Net Wt. 8.75 Oz. Single Serving, Keep refrigerated",
          "Quick & Fresh, Chocolate Pudding Delight, Net Wt. 6.5 Oz. Single Serving, Keep refrigerated",
          "Quick & Fresh, Albacore Tuna Finger Sandwiches, Net . Wt. 6.5 Oz. Single Serving, Mylar Wrap, Keep refrigerated",
          "Orchard Bistro, Turkey & Cheddar Hoagie, Net Wt. 7.3 Oz. Single Serving, Keep refrigerated",
          "Orchard Bistro, Strawberry Low Fat Yogurt, Fruit & Granola Parfait, Net Wt. 9 Oz. Single Serving, Keep refrigerated",
          "Orchard Bistro, Margharita Rustic Flatbread Pizza, Net Wt. 11.5 Oz. Single Serving, Keep refrigerated",
          "Orchard Bistro, Garden salad with Dressing Net Wt. 8.2 Oz. Single Serving, Keep refrigerated",
          "Orchard Bistro, Egg Salad Kaiser, Net . Wt. 5.5 Oz. Single Serving, Keep refrigerated",
          "Naval Academy1845 Coffee, Gourmet Cheese & Fruit Plate, Net Wt. 6 Oz. Single Serving, Keep refrigerated",
          "In Reach , Sausage Egg & Cheese Croissant, Net . Wt. 6.5 Oz. Single Serving, Mylar Wrap, Keep refrigerated",
          "Fresh Creative Cuisine, Turkey Sausage, Egg & Cheddar Muffin, Net . Wt. 5.5 Oz. Single Serving, Keep refrigerated",
          "Fresh Creative Cuisine, Turkey & Cheddar Hoagie, Net . Wt. 7.3 Oz. Single Serving, Keep refrigerated",
          "Fresh Creative Cuisine, Smoked Turkey & Swiss Croissant, Net . Wt. 7 Oz. Single Serving, Keep refrigerated",
          "Quick & Fresh, Smoked Turkey & Swiss Croissant, Net . Wt. 7 Oz. Single Serving, Keep refrigerated",
          "Fresh Creative Cuisine, Fresh Cut Mango & Strawberry, Net . Wt. 7 Oz. Single Serving, Keep refrigerated",
          "Fresh Creative Cuisine White Label, Roast Beef & Cheese Finger Sandwiches, Case of 6, Keep refrigerated",
          "Fresh Creative Cuisine White Label, Monte Cristo Sandwich, Single Serving, Keep refrigerated",
          "Fresh Creative Cuisine White Label, Buffalo Style Egg, Turkey Sausage & Pepper Jack Breakfast Flat, Net . Wt. 6.4 Oz. Single Serving, Keep refrigerated",
          "Fresh Creative Cuisine Black Label, Vanilla Low Fat Yogurt, Mixed Berries & Granola, Net Wt. 9 Oz. Single Serving, Keep refrigerated",
          "Fresh Creative Cuisine Black Label, Grilled Chicken & Fontina Cranberry Ciabatta, Net Wt. 8.75 Oz. Single Serving, Keep refrigerated",
          "Fresh Creative Cuisine Black Label, Fresh Cut Vegetables & Hummus, Net Wt. 6.4 Oz. Single Serving, Keep refrigerated",
          "Dietz & Watson, Turkey & Swiss Half Sub. Single Serving, Keep refrigerated",
          "Dietz & Watson, Turkey & Cheese Finger Sandwiches, Net Wt. 6.5 Oz. Single Serving, Keep refrigerated",
          "Bistro To Go, Smoked Turkey & Swiss Croissant, Net Wt. 7 Oz. Single Serving, Keep refrigerated",
          "Bistro To Go, Roast Beef & Horseradish Hoagie, Net Wt. 7 Oz. Single Serving, Keep refrigerated",
          "Bistro To Go, Gourmet Cheese & Fruit Plate, Net Wt. 6 Oz. Single Serving, Keep refrigerated",
          "Bistro To Go, Fresh Cut Tropical Fruit, Net Wt. 7.25 Oz. Single Serving, Keep refrigerated",
          "Bistro To Go, Egg Salad Wheat, Net Wt. 5.5 Oz. Single Serving, Keep refrigerated",
          "Bistro To Go, Chocolate Pudding Delight, Net Wt. 6.5 Oz. Single Serving, Keep refrigerated",
          "Fresh Creative Cuisine White Label, Tuna Salad Wheat Wedge, Net . Wt. 8 Oz. Single Serving, Keep refrigerated",
          "Quick & Fresh, Tuna Salad Croissant, Net . Wt. 8 Oz. Single Serving, Keep refrigerated",
          "Food",
          "FRESH IDEATION FOOD GROUP, LLC dba Fresh Creative Cuisine"
         ],
         "marker": {
          "colors": [
           "#636efa",
           "#636efa",
           "#636efa",
           "#636efa",
           "#636efa",
           "#636efa",
           "#636efa",
           "#636efa",
           "#636efa",
           "#636efa",
           "#636efa",
           "#636efa",
           "#636efa",
           "#636efa",
           "#636efa",
           "#636efa",
           "#636efa",
           "#636efa",
           "#636efa",
           "#636efa",
           "#636efa",
           "#636efa",
           "#636efa",
           "#636efa",
           "#636efa",
           "#636efa",
           "#636efa",
           "#636efa",
           "#636efa",
           "#636efa",
           "#636efa",
           "#636efa",
           "#636efa",
           "#636efa",
           "#636efa"
          ]
         },
         "name": "",
         "parents": [
          "FRESH IDEATION FOOD GROUP, LLC dba Fresh Creative Cuisine/Food",
          "FRESH IDEATION FOOD GROUP, LLC dba Fresh Creative Cuisine/Food",
          "FRESH IDEATION FOOD GROUP, LLC dba Fresh Creative Cuisine/Food",
          "FRESH IDEATION FOOD GROUP, LLC dba Fresh Creative Cuisine/Food",
          "FRESH IDEATION FOOD GROUP, LLC dba Fresh Creative Cuisine/Food",
          "FRESH IDEATION FOOD GROUP, LLC dba Fresh Creative Cuisine/Food",
          "FRESH IDEATION FOOD GROUP, LLC dba Fresh Creative Cuisine/Food",
          "FRESH IDEATION FOOD GROUP, LLC dba Fresh Creative Cuisine/Food",
          "FRESH IDEATION FOOD GROUP, LLC dba Fresh Creative Cuisine/Food",
          "FRESH IDEATION FOOD GROUP, LLC dba Fresh Creative Cuisine/Food",
          "FRESH IDEATION FOOD GROUP, LLC dba Fresh Creative Cuisine/Food",
          "FRESH IDEATION FOOD GROUP, LLC dba Fresh Creative Cuisine/Food",
          "FRESH IDEATION FOOD GROUP, LLC dba Fresh Creative Cuisine/Food",
          "FRESH IDEATION FOOD GROUP, LLC dba Fresh Creative Cuisine/Food",
          "FRESH IDEATION FOOD GROUP, LLC dba Fresh Creative Cuisine/Food",
          "FRESH IDEATION FOOD GROUP, LLC dba Fresh Creative Cuisine/Food",
          "FRESH IDEATION FOOD GROUP, LLC dba Fresh Creative Cuisine/Food",
          "FRESH IDEATION FOOD GROUP, LLC dba Fresh Creative Cuisine/Food",
          "FRESH IDEATION FOOD GROUP, LLC dba Fresh Creative Cuisine/Food",
          "FRESH IDEATION FOOD GROUP, LLC dba Fresh Creative Cuisine/Food",
          "FRESH IDEATION FOOD GROUP, LLC dba Fresh Creative Cuisine/Food",
          "FRESH IDEATION FOOD GROUP, LLC dba Fresh Creative Cuisine/Food",
          "FRESH IDEATION FOOD GROUP, LLC dba Fresh Creative Cuisine/Food",
          "FRESH IDEATION FOOD GROUP, LLC dba Fresh Creative Cuisine/Food",
          "FRESH IDEATION FOOD GROUP, LLC dba Fresh Creative Cuisine/Food",
          "FRESH IDEATION FOOD GROUP, LLC dba Fresh Creative Cuisine/Food",
          "FRESH IDEATION FOOD GROUP, LLC dba Fresh Creative Cuisine/Food",
          "FRESH IDEATION FOOD GROUP, LLC dba Fresh Creative Cuisine/Food",
          "FRESH IDEATION FOOD GROUP, LLC dba Fresh Creative Cuisine/Food",
          "FRESH IDEATION FOOD GROUP, LLC dba Fresh Creative Cuisine/Food",
          "FRESH IDEATION FOOD GROUP, LLC dba Fresh Creative Cuisine/Food",
          "FRESH IDEATION FOOD GROUP, LLC dba Fresh Creative Cuisine/Food",
          "FRESH IDEATION FOOD GROUP, LLC dba Fresh Creative Cuisine/Food",
          "FRESH IDEATION FOOD GROUP, LLC dba Fresh Creative Cuisine",
          ""
         ],
         "type": "sunburst",
         "values": [
          1,
          1,
          1,
          1,
          1,
          1,
          1,
          1,
          1,
          1,
          1,
          1,
          1,
          1,
          1,
          1,
          1,
          1,
          1,
          1,
          1,
          1,
          1,
          1,
          1,
          1,
          1,
          1,
          1,
          1,
          1,
          1,
          1,
          33,
          33
         ]
        }
       ],
       "layout": {
        "legend": {
         "tracegroupgap": 0
        },
        "template": {
         "data": {
          "bar": [
           {
            "error_x": {
             "color": "#2a3f5f"
            },
            "error_y": {
             "color": "#2a3f5f"
            },
            "marker": {
             "line": {
              "color": "#E5ECF6",
              "width": 0.5
             },
             "pattern": {
              "fillmode": "overlay",
              "size": 10,
              "solidity": 0.2
             }
            },
            "type": "bar"
           }
          ],
          "barpolar": [
           {
            "marker": {
             "line": {
              "color": "#E5ECF6",
              "width": 0.5
             },
             "pattern": {
              "fillmode": "overlay",
              "size": 10,
              "solidity": 0.2
             }
            },
            "type": "barpolar"
           }
          ],
          "carpet": [
           {
            "aaxis": {
             "endlinecolor": "#2a3f5f",
             "gridcolor": "white",
             "linecolor": "white",
             "minorgridcolor": "white",
             "startlinecolor": "#2a3f5f"
            },
            "baxis": {
             "endlinecolor": "#2a3f5f",
             "gridcolor": "white",
             "linecolor": "white",
             "minorgridcolor": "white",
             "startlinecolor": "#2a3f5f"
            },
            "type": "carpet"
           }
          ],
          "choropleth": [
           {
            "colorbar": {
             "outlinewidth": 0,
             "ticks": ""
            },
            "type": "choropleth"
           }
          ],
          "contour": [
           {
            "colorbar": {
             "outlinewidth": 0,
             "ticks": ""
            },
            "colorscale": [
             [
              0,
              "#0d0887"
             ],
             [
              0.1111111111111111,
              "#46039f"
             ],
             [
              0.2222222222222222,
              "#7201a8"
             ],
             [
              0.3333333333333333,
              "#9c179e"
             ],
             [
              0.4444444444444444,
              "#bd3786"
             ],
             [
              0.5555555555555556,
              "#d8576b"
             ],
             [
              0.6666666666666666,
              "#ed7953"
             ],
             [
              0.7777777777777778,
              "#fb9f3a"
             ],
             [
              0.8888888888888888,
              "#fdca26"
             ],
             [
              1,
              "#f0f921"
             ]
            ],
            "type": "contour"
           }
          ],
          "contourcarpet": [
           {
            "colorbar": {
             "outlinewidth": 0,
             "ticks": ""
            },
            "type": "contourcarpet"
           }
          ],
          "heatmap": [
           {
            "colorbar": {
             "outlinewidth": 0,
             "ticks": ""
            },
            "colorscale": [
             [
              0,
              "#0d0887"
             ],
             [
              0.1111111111111111,
              "#46039f"
             ],
             [
              0.2222222222222222,
              "#7201a8"
             ],
             [
              0.3333333333333333,
              "#9c179e"
             ],
             [
              0.4444444444444444,
              "#bd3786"
             ],
             [
              0.5555555555555556,
              "#d8576b"
             ],
             [
              0.6666666666666666,
              "#ed7953"
             ],
             [
              0.7777777777777778,
              "#fb9f3a"
             ],
             [
              0.8888888888888888,
              "#fdca26"
             ],
             [
              1,
              "#f0f921"
             ]
            ],
            "type": "heatmap"
           }
          ],
          "heatmapgl": [
           {
            "colorbar": {
             "outlinewidth": 0,
             "ticks": ""
            },
            "colorscale": [
             [
              0,
              "#0d0887"
             ],
             [
              0.1111111111111111,
              "#46039f"
             ],
             [
              0.2222222222222222,
              "#7201a8"
             ],
             [
              0.3333333333333333,
              "#9c179e"
             ],
             [
              0.4444444444444444,
              "#bd3786"
             ],
             [
              0.5555555555555556,
              "#d8576b"
             ],
             [
              0.6666666666666666,
              "#ed7953"
             ],
             [
              0.7777777777777778,
              "#fb9f3a"
             ],
             [
              0.8888888888888888,
              "#fdca26"
             ],
             [
              1,
              "#f0f921"
             ]
            ],
            "type": "heatmapgl"
           }
          ],
          "histogram": [
           {
            "marker": {
             "pattern": {
              "fillmode": "overlay",
              "size": 10,
              "solidity": 0.2
             }
            },
            "type": "histogram"
           }
          ],
          "histogram2d": [
           {
            "colorbar": {
             "outlinewidth": 0,
             "ticks": ""
            },
            "colorscale": [
             [
              0,
              "#0d0887"
             ],
             [
              0.1111111111111111,
              "#46039f"
             ],
             [
              0.2222222222222222,
              "#7201a8"
             ],
             [
              0.3333333333333333,
              "#9c179e"
             ],
             [
              0.4444444444444444,
              "#bd3786"
             ],
             [
              0.5555555555555556,
              "#d8576b"
             ],
             [
              0.6666666666666666,
              "#ed7953"
             ],
             [
              0.7777777777777778,
              "#fb9f3a"
             ],
             [
              0.8888888888888888,
              "#fdca26"
             ],
             [
              1,
              "#f0f921"
             ]
            ],
            "type": "histogram2d"
           }
          ],
          "histogram2dcontour": [
           {
            "colorbar": {
             "outlinewidth": 0,
             "ticks": ""
            },
            "colorscale": [
             [
              0,
              "#0d0887"
             ],
             [
              0.1111111111111111,
              "#46039f"
             ],
             [
              0.2222222222222222,
              "#7201a8"
             ],
             [
              0.3333333333333333,
              "#9c179e"
             ],
             [
              0.4444444444444444,
              "#bd3786"
             ],
             [
              0.5555555555555556,
              "#d8576b"
             ],
             [
              0.6666666666666666,
              "#ed7953"
             ],
             [
              0.7777777777777778,
              "#fb9f3a"
             ],
             [
              0.8888888888888888,
              "#fdca26"
             ],
             [
              1,
              "#f0f921"
             ]
            ],
            "type": "histogram2dcontour"
           }
          ],
          "mesh3d": [
           {
            "colorbar": {
             "outlinewidth": 0,
             "ticks": ""
            },
            "type": "mesh3d"
           }
          ],
          "parcoords": [
           {
            "line": {
             "colorbar": {
              "outlinewidth": 0,
              "ticks": ""
             }
            },
            "type": "parcoords"
           }
          ],
          "pie": [
           {
            "automargin": true,
            "type": "pie"
           }
          ],
          "scatter": [
           {
            "fillpattern": {
             "fillmode": "overlay",
             "size": 10,
             "solidity": 0.2
            },
            "type": "scatter"
           }
          ],
          "scatter3d": [
           {
            "line": {
             "colorbar": {
              "outlinewidth": 0,
              "ticks": ""
             }
            },
            "marker": {
             "colorbar": {
              "outlinewidth": 0,
              "ticks": ""
             }
            },
            "type": "scatter3d"
           }
          ],
          "scattercarpet": [
           {
            "marker": {
             "colorbar": {
              "outlinewidth": 0,
              "ticks": ""
             }
            },
            "type": "scattercarpet"
           }
          ],
          "scattergeo": [
           {
            "marker": {
             "colorbar": {
              "outlinewidth": 0,
              "ticks": ""
             }
            },
            "type": "scattergeo"
           }
          ],
          "scattergl": [
           {
            "marker": {
             "colorbar": {
              "outlinewidth": 0,
              "ticks": ""
             }
            },
            "type": "scattergl"
           }
          ],
          "scattermapbox": [
           {
            "marker": {
             "colorbar": {
              "outlinewidth": 0,
              "ticks": ""
             }
            },
            "type": "scattermapbox"
           }
          ],
          "scatterpolar": [
           {
            "marker": {
             "colorbar": {
              "outlinewidth": 0,
              "ticks": ""
             }
            },
            "type": "scatterpolar"
           }
          ],
          "scatterpolargl": [
           {
            "marker": {
             "colorbar": {
              "outlinewidth": 0,
              "ticks": ""
             }
            },
            "type": "scatterpolargl"
           }
          ],
          "scatterternary": [
           {
            "marker": {
             "colorbar": {
              "outlinewidth": 0,
              "ticks": ""
             }
            },
            "type": "scatterternary"
           }
          ],
          "surface": [
           {
            "colorbar": {
             "outlinewidth": 0,
             "ticks": ""
            },
            "colorscale": [
             [
              0,
              "#0d0887"
             ],
             [
              0.1111111111111111,
              "#46039f"
             ],
             [
              0.2222222222222222,
              "#7201a8"
             ],
             [
              0.3333333333333333,
              "#9c179e"
             ],
             [
              0.4444444444444444,
              "#bd3786"
             ],
             [
              0.5555555555555556,
              "#d8576b"
             ],
             [
              0.6666666666666666,
              "#ed7953"
             ],
             [
              0.7777777777777778,
              "#fb9f3a"
             ],
             [
              0.8888888888888888,
              "#fdca26"
             ],
             [
              1,
              "#f0f921"
             ]
            ],
            "type": "surface"
           }
          ],
          "table": [
           {
            "cells": {
             "fill": {
              "color": "#EBF0F8"
             },
             "line": {
              "color": "white"
             }
            },
            "header": {
             "fill": {
              "color": "#C8D4E3"
             },
             "line": {
              "color": "white"
             }
            },
            "type": "table"
           }
          ]
         },
         "layout": {
          "annotationdefaults": {
           "arrowcolor": "#2a3f5f",
           "arrowhead": 0,
           "arrowwidth": 1
          },
          "autotypenumbers": "strict",
          "coloraxis": {
           "colorbar": {
            "outlinewidth": 0,
            "ticks": ""
           }
          },
          "colorscale": {
           "diverging": [
            [
             0,
             "#8e0152"
            ],
            [
             0.1,
             "#c51b7d"
            ],
            [
             0.2,
             "#de77ae"
            ],
            [
             0.3,
             "#f1b6da"
            ],
            [
             0.4,
             "#fde0ef"
            ],
            [
             0.5,
             "#f7f7f7"
            ],
            [
             0.6,
             "#e6f5d0"
            ],
            [
             0.7,
             "#b8e186"
            ],
            [
             0.8,
             "#7fbc41"
            ],
            [
             0.9,
             "#4d9221"
            ],
            [
             1,
             "#276419"
            ]
           ],
           "sequential": [
            [
             0,
             "#0d0887"
            ],
            [
             0.1111111111111111,
             "#46039f"
            ],
            [
             0.2222222222222222,
             "#7201a8"
            ],
            [
             0.3333333333333333,
             "#9c179e"
            ],
            [
             0.4444444444444444,
             "#bd3786"
            ],
            [
             0.5555555555555556,
             "#d8576b"
            ],
            [
             0.6666666666666666,
             "#ed7953"
            ],
            [
             0.7777777777777778,
             "#fb9f3a"
            ],
            [
             0.8888888888888888,
             "#fdca26"
            ],
            [
             1,
             "#f0f921"
            ]
           ],
           "sequentialminus": [
            [
             0,
             "#0d0887"
            ],
            [
             0.1111111111111111,
             "#46039f"
            ],
            [
             0.2222222222222222,
             "#7201a8"
            ],
            [
             0.3333333333333333,
             "#9c179e"
            ],
            [
             0.4444444444444444,
             "#bd3786"
            ],
            [
             0.5555555555555556,
             "#d8576b"
            ],
            [
             0.6666666666666666,
             "#ed7953"
            ],
            [
             0.7777777777777778,
             "#fb9f3a"
            ],
            [
             0.8888888888888888,
             "#fdca26"
            ],
            [
             1,
             "#f0f921"
            ]
           ]
          },
          "colorway": [
           "#636efa",
           "#EF553B",
           "#00cc96",
           "#ab63fa",
           "#FFA15A",
           "#19d3f3",
           "#FF6692",
           "#B6E880",
           "#FF97FF",
           "#FECB52"
          ],
          "font": {
           "color": "#2a3f5f"
          },
          "geo": {
           "bgcolor": "white",
           "lakecolor": "white",
           "landcolor": "#E5ECF6",
           "showlakes": true,
           "showland": true,
           "subunitcolor": "white"
          },
          "hoverlabel": {
           "align": "left"
          },
          "hovermode": "closest",
          "mapbox": {
           "style": "light"
          },
          "paper_bgcolor": "white",
          "plot_bgcolor": "#E5ECF6",
          "polar": {
           "angularaxis": {
            "gridcolor": "white",
            "linecolor": "white",
            "ticks": ""
           },
           "bgcolor": "#E5ECF6",
           "radialaxis": {
            "gridcolor": "white",
            "linecolor": "white",
            "ticks": ""
           }
          },
          "scene": {
           "xaxis": {
            "backgroundcolor": "#E5ECF6",
            "gridcolor": "white",
            "gridwidth": 2,
            "linecolor": "white",
            "showbackground": true,
            "ticks": "",
            "zerolinecolor": "white"
           },
           "yaxis": {
            "backgroundcolor": "#E5ECF6",
            "gridcolor": "white",
            "gridwidth": 2,
            "linecolor": "white",
            "showbackground": true,
            "ticks": "",
            "zerolinecolor": "white"
           },
           "zaxis": {
            "backgroundcolor": "#E5ECF6",
            "gridcolor": "white",
            "gridwidth": 2,
            "linecolor": "white",
            "showbackground": true,
            "ticks": "",
            "zerolinecolor": "white"
           }
          },
          "shapedefaults": {
           "line": {
            "color": "#2a3f5f"
           }
          },
          "ternary": {
           "aaxis": {
            "gridcolor": "white",
            "linecolor": "white",
            "ticks": ""
           },
           "baxis": {
            "gridcolor": "white",
            "linecolor": "white",
            "ticks": ""
           },
           "bgcolor": "#E5ECF6",
           "caxis": {
            "gridcolor": "white",
            "linecolor": "white",
            "ticks": ""
           }
          },
          "title": {
           "x": 0.05
          },
          "xaxis": {
           "automargin": true,
           "gridcolor": "white",
           "linecolor": "white",
           "ticks": "",
           "title": {
            "standoff": 15
           },
           "zerolinecolor": "white",
           "zerolinewidth": 2
          },
          "yaxis": {
           "automargin": true,
           "gridcolor": "white",
           "linecolor": "white",
           "ticks": "",
           "title": {
            "standoff": 15
           },
           "zerolinecolor": "white",
           "zerolinewidth": 2
          }
         }
        },
        "title": {
         "text": "Top Products Recalled by FRESH IDEATION FOOD GROUP, LLC dba Fresh Creative Cuisine"
        }
       }
      }
     },
     "metadata": {},
     "output_type": "display_data"
    },
    {
     "data": {
      "application/vnd.plotly.v1+json": {
       "config": {
        "plotlyServerURL": "https://plot.ly"
       },
       "data": [
        {
         "branchvalues": "total",
         "customdata": [
          [
           "Class I",
           "Bistro To Go, Chicken Salad Finger Sandwiches, Net Wt.6.5 Oz. Single Serving, Keep refrigerated",
           "MD",
           "Food"
          ],
          [
           "Class I",
           "Quick & Fresh, Rainbow Berry & Nut Salad W/Dressing, Net Wt. 8.7 Oz. Single Serving, Keep refrigerated",
           "MD",
           "Food"
          ],
          [
           "Class I",
           "Quick & Fresh, Greek Salad W/Dressing, Net Wt. 8.75 Oz. Single Serving, Keep refrigerated",
           "MD",
           "Food"
          ],
          [
           "Class I",
           "Quick & Fresh, Chocolate Pudding Delight, Net Wt. 6.5 Oz. Single Serving, Keep refrigerated",
           "MD",
           "Food"
          ],
          [
           "Class I",
           "Quick & Fresh, Albacore Tuna Finger Sandwiches, Net . Wt. 6.5 Oz. Single Serving, Mylar Wrap, Keep refrigerated",
           "MD",
           "Food"
          ],
          [
           "Class I",
           "Orchard Bistro, Turkey & Cheddar Hoagie, Net Wt. 7.3 Oz. Single Serving, Keep refrigerated",
           "MD",
           "Food"
          ],
          [
           "Class I",
           "Orchard Bistro, Strawberry Low Fat Yogurt, Fruit & Granola Parfait, Net Wt. 9 Oz. Single Serving, Keep refrigerated",
           "MD",
           "Food"
          ],
          [
           "Class I",
           "Orchard Bistro, Margharita Rustic Flatbread Pizza, Net Wt. 11.5 Oz. Single Serving, Keep refrigerated",
           "MD",
           "Food"
          ],
          [
           "Class I",
           "Orchard Bistro, Garden salad with Dressing Net Wt. 8.2 Oz. Single Serving, Keep refrigerated",
           "MD",
           "Food"
          ],
          [
           "Class I",
           "Orchard Bistro, Egg Salad Kaiser, Net . Wt. 5.5 Oz. Single Serving, Keep refrigerated",
           "MD",
           "Food"
          ],
          [
           "Class I",
           "Naval Academy1845 Coffee, Gourmet Cheese & Fruit Plate, Net Wt. 6 Oz. Single Serving, Keep refrigerated",
           "MD",
           "Food"
          ],
          [
           "Class I",
           "In Reach , Sausage Egg & Cheese Croissant, Net . Wt. 6.5 Oz. Single Serving, Mylar Wrap, Keep refrigerated",
           "MD",
           "Food"
          ],
          [
           "Class I",
           "Fresh Creative Cuisine, Turkey Sausage, Egg & Cheddar Muffin, Net . Wt. 5.5 Oz. Single Serving, Keep refrigerated",
           "MD",
           "Food"
          ],
          [
           "Class I",
           "Fresh Creative Cuisine, Turkey & Cheddar Hoagie, Net . Wt. 7.3 Oz. Single Serving, Keep refrigerated",
           "MD",
           "Food"
          ],
          [
           "Class I",
           "Fresh Creative Cuisine, Smoked Turkey & Swiss Croissant, Net . Wt. 7 Oz. Single Serving, Keep refrigerated",
           "MD",
           "Food"
          ],
          [
           "Class I",
           "Quick & Fresh, Smoked Turkey & Swiss Croissant, Net . Wt. 7 Oz. Single Serving, Keep refrigerated",
           "MD",
           "Food"
          ],
          [
           "Class I",
           "Fresh Creative Cuisine, Fresh Cut Mango & Strawberry, Net . Wt. 7 Oz. Single Serving, Keep refrigerated",
           "MD",
           "Food"
          ],
          [
           "Class I",
           "Fresh Creative Cuisine White Label, Roast Beef & Cheese Finger Sandwiches, Case of 6, Keep refrigerated",
           "MD",
           "Food"
          ],
          [
           "Class I",
           "Fresh Creative Cuisine White Label, Monte Cristo Sandwich, Single Serving, Keep refrigerated",
           "MD",
           "Food"
          ],
          [
           "Class I",
           "Fresh Creative Cuisine White Label, Buffalo Style Egg, Turkey Sausage & Pepper Jack Breakfast Flat, Net . Wt. 6.4 Oz. Single Serving, Keep refrigerated",
           "MD",
           "Food"
          ],
          [
           "Class I",
           "Fresh Creative Cuisine Black Label, Vanilla Low Fat Yogurt, Mixed Berries & Granola, Net Wt. 9 Oz. Single Serving, Keep refrigerated",
           "MD",
           "Food"
          ],
          [
           "Class I",
           "Fresh Creative Cuisine Black Label, Grilled Chicken & Fontina Cranberry Ciabatta, Net Wt. 8.75 Oz. Single Serving, Keep refrigerated",
           "MD",
           "Food"
          ],
          [
           "Class I",
           "Fresh Creative Cuisine Black Label, Fresh Cut Vegetables & Hummus, Net Wt. 6.4 Oz. Single Serving, Keep refrigerated",
           "MD",
           "Food"
          ],
          [
           "Class I",
           "Dietz & Watson, Turkey & Swiss Half Sub. Single Serving, Keep refrigerated",
           "MD",
           "Food"
          ],
          [
           "Class I",
           "Dietz & Watson, Turkey & Cheese Finger Sandwiches, Net Wt. 6.5 Oz. Single Serving, Keep refrigerated",
           "MD",
           "Food"
          ],
          [
           "Class I",
           "Bistro To Go, Smoked Turkey & Swiss Croissant, Net Wt. 7 Oz. Single Serving, Keep refrigerated",
           "MD",
           "Food"
          ],
          [
           "Class I",
           "Bistro To Go, Roast Beef & Horseradish Hoagie, Net Wt. 7 Oz. Single Serving, Keep refrigerated",
           "MD",
           "Food"
          ],
          [
           "Class I",
           "Bistro To Go, Gourmet Cheese & Fruit Plate, Net Wt. 6 Oz. Single Serving, Keep refrigerated",
           "MD",
           "Food"
          ],
          [
           "Class I",
           "Bistro To Go, Fresh Cut Tropical Fruit, Net Wt. 7.25 Oz. Single Serving, Keep refrigerated",
           "MD",
           "Food"
          ],
          [
           "Class I",
           "Bistro To Go, Egg Salad Wheat, Net Wt. 5.5 Oz. Single Serving, Keep refrigerated",
           "MD",
           "Food"
          ],
          [
           "Class I",
           "Bistro To Go, Chocolate Pudding Delight, Net Wt. 6.5 Oz. Single Serving, Keep refrigerated",
           "MD",
           "Food"
          ],
          [
           "Class I",
           "Fresh Creative Cuisine White Label, Tuna Salad Wheat Wedge, Net . Wt. 8 Oz. Single Serving, Keep refrigerated",
           "MD",
           "Food"
          ],
          [
           "Class I",
           "Quick & Fresh, Tuna Salad Croissant, Net . Wt. 8 Oz. Single Serving, Keep refrigerated",
           "MD",
           "Food"
          ],
          [
           "Class I",
           "(?)",
           "MD",
           "Food"
          ],
          [
           "Class I",
           "(?)",
           "MD",
           "Food"
          ]
         ],
         "domain": {
          "x": [
           0,
           1
          ],
          "y": [
           0,
           1
          ]
         },
         "hovertemplate": "Firm: FRESH IDEATION FOOD GROUP, LLC dba Fresh Creative Cuisine<br>Classification: %{customdata[0]}<br>Product Description: %{customdata[1]}<br>State: %{customdata[2]}",
         "ids": [
          "FRESH IDEATION FOOD GROUP, LLC dba Fresh Creative Cuisine/Food/Bistro To Go, Chicken Salad Finger Sandwiches, Net Wt.6.5 Oz. Single Serving, Keep refrigerated",
          "FRESH IDEATION FOOD GROUP, LLC dba Fresh Creative Cuisine/Food/Quick & Fresh, Rainbow Berry & Nut Salad W/Dressing, Net Wt. 8.7 Oz. Single Serving, Keep refrigerated",
          "FRESH IDEATION FOOD GROUP, LLC dba Fresh Creative Cuisine/Food/Quick & Fresh, Greek Salad W/Dressing, Net Wt. 8.75 Oz. Single Serving, Keep refrigerated",
          "FRESH IDEATION FOOD GROUP, LLC dba Fresh Creative Cuisine/Food/Quick & Fresh, Chocolate Pudding Delight, Net Wt. 6.5 Oz. Single Serving, Keep refrigerated",
          "FRESH IDEATION FOOD GROUP, LLC dba Fresh Creative Cuisine/Food/Quick & Fresh, Albacore Tuna Finger Sandwiches, Net . Wt. 6.5 Oz. Single Serving, Mylar Wrap, Keep refrigerated",
          "FRESH IDEATION FOOD GROUP, LLC dba Fresh Creative Cuisine/Food/Orchard Bistro, Turkey & Cheddar Hoagie, Net Wt. 7.3 Oz. Single Serving, Keep refrigerated",
          "FRESH IDEATION FOOD GROUP, LLC dba Fresh Creative Cuisine/Food/Orchard Bistro, Strawberry Low Fat Yogurt, Fruit & Granola Parfait, Net Wt. 9 Oz. Single Serving, Keep refrigerated",
          "FRESH IDEATION FOOD GROUP, LLC dba Fresh Creative Cuisine/Food/Orchard Bistro, Margharita Rustic Flatbread Pizza, Net Wt. 11.5 Oz. Single Serving, Keep refrigerated",
          "FRESH IDEATION FOOD GROUP, LLC dba Fresh Creative Cuisine/Food/Orchard Bistro, Garden salad with Dressing Net Wt. 8.2 Oz. Single Serving, Keep refrigerated",
          "FRESH IDEATION FOOD GROUP, LLC dba Fresh Creative Cuisine/Food/Orchard Bistro, Egg Salad Kaiser, Net . Wt. 5.5 Oz. Single Serving, Keep refrigerated",
          "FRESH IDEATION FOOD GROUP, LLC dba Fresh Creative Cuisine/Food/Naval Academy1845 Coffee, Gourmet Cheese & Fruit Plate, Net Wt. 6 Oz. Single Serving, Keep refrigerated",
          "FRESH IDEATION FOOD GROUP, LLC dba Fresh Creative Cuisine/Food/In Reach , Sausage Egg & Cheese Croissant, Net . Wt. 6.5 Oz. Single Serving, Mylar Wrap, Keep refrigerated",
          "FRESH IDEATION FOOD GROUP, LLC dba Fresh Creative Cuisine/Food/Fresh Creative Cuisine, Turkey Sausage, Egg & Cheddar Muffin, Net . Wt. 5.5 Oz. Single Serving, Keep refrigerated",
          "FRESH IDEATION FOOD GROUP, LLC dba Fresh Creative Cuisine/Food/Fresh Creative Cuisine, Turkey & Cheddar Hoagie, Net . Wt. 7.3 Oz. Single Serving, Keep refrigerated",
          "FRESH IDEATION FOOD GROUP, LLC dba Fresh Creative Cuisine/Food/Fresh Creative Cuisine, Smoked Turkey & Swiss Croissant, Net . Wt. 7 Oz. Single Serving, Keep refrigerated",
          "FRESH IDEATION FOOD GROUP, LLC dba Fresh Creative Cuisine/Food/Quick & Fresh, Smoked Turkey & Swiss Croissant, Net . Wt. 7 Oz. Single Serving, Keep refrigerated",
          "FRESH IDEATION FOOD GROUP, LLC dba Fresh Creative Cuisine/Food/Fresh Creative Cuisine, Fresh Cut Mango & Strawberry, Net . Wt. 7 Oz. Single Serving, Keep refrigerated",
          "FRESH IDEATION FOOD GROUP, LLC dba Fresh Creative Cuisine/Food/Fresh Creative Cuisine White Label, Roast Beef & Cheese Finger Sandwiches, Case of 6, Keep refrigerated",
          "FRESH IDEATION FOOD GROUP, LLC dba Fresh Creative Cuisine/Food/Fresh Creative Cuisine White Label, Monte Cristo Sandwich, Single Serving, Keep refrigerated",
          "FRESH IDEATION FOOD GROUP, LLC dba Fresh Creative Cuisine/Food/Fresh Creative Cuisine White Label, Buffalo Style Egg, Turkey Sausage & Pepper Jack Breakfast Flat, Net . Wt. 6.4 Oz. Single Serving, Keep refrigerated",
          "FRESH IDEATION FOOD GROUP, LLC dba Fresh Creative Cuisine/Food/Fresh Creative Cuisine Black Label, Vanilla Low Fat Yogurt, Mixed Berries & Granola, Net Wt. 9 Oz. Single Serving, Keep refrigerated",
          "FRESH IDEATION FOOD GROUP, LLC dba Fresh Creative Cuisine/Food/Fresh Creative Cuisine Black Label, Grilled Chicken & Fontina Cranberry Ciabatta, Net Wt. 8.75 Oz. Single Serving, Keep refrigerated",
          "FRESH IDEATION FOOD GROUP, LLC dba Fresh Creative Cuisine/Food/Fresh Creative Cuisine Black Label, Fresh Cut Vegetables & Hummus, Net Wt. 6.4 Oz. Single Serving, Keep refrigerated",
          "FRESH IDEATION FOOD GROUP, LLC dba Fresh Creative Cuisine/Food/Dietz & Watson, Turkey & Swiss Half Sub. Single Serving, Keep refrigerated",
          "FRESH IDEATION FOOD GROUP, LLC dba Fresh Creative Cuisine/Food/Dietz & Watson, Turkey & Cheese Finger Sandwiches, Net Wt. 6.5 Oz. Single Serving, Keep refrigerated",
          "FRESH IDEATION FOOD GROUP, LLC dba Fresh Creative Cuisine/Food/Bistro To Go, Smoked Turkey & Swiss Croissant, Net Wt. 7 Oz. Single Serving, Keep refrigerated",
          "FRESH IDEATION FOOD GROUP, LLC dba Fresh Creative Cuisine/Food/Bistro To Go, Roast Beef & Horseradish Hoagie, Net Wt. 7 Oz. Single Serving, Keep refrigerated",
          "FRESH IDEATION FOOD GROUP, LLC dba Fresh Creative Cuisine/Food/Bistro To Go, Gourmet Cheese & Fruit Plate, Net Wt. 6 Oz. Single Serving, Keep refrigerated",
          "FRESH IDEATION FOOD GROUP, LLC dba Fresh Creative Cuisine/Food/Bistro To Go, Fresh Cut Tropical Fruit, Net Wt. 7.25 Oz. Single Serving, Keep refrigerated",
          "FRESH IDEATION FOOD GROUP, LLC dba Fresh Creative Cuisine/Food/Bistro To Go, Egg Salad Wheat, Net Wt. 5.5 Oz. Single Serving, Keep refrigerated",
          "FRESH IDEATION FOOD GROUP, LLC dba Fresh Creative Cuisine/Food/Bistro To Go, Chocolate Pudding Delight, Net Wt. 6.5 Oz. Single Serving, Keep refrigerated",
          "FRESH IDEATION FOOD GROUP, LLC dba Fresh Creative Cuisine/Food/Fresh Creative Cuisine White Label, Tuna Salad Wheat Wedge, Net . Wt. 8 Oz. Single Serving, Keep refrigerated",
          "FRESH IDEATION FOOD GROUP, LLC dba Fresh Creative Cuisine/Food/Quick & Fresh, Tuna Salad Croissant, Net . Wt. 8 Oz. Single Serving, Keep refrigerated",
          "FRESH IDEATION FOOD GROUP, LLC dba Fresh Creative Cuisine/Food",
          "FRESH IDEATION FOOD GROUP, LLC dba Fresh Creative Cuisine"
         ],
         "labels": [
          "Bistro To Go, Chicken Salad Finger Sandwiches, Net Wt.6.5 Oz. Single Serving, Keep refrigerated",
          "Quick & Fresh, Rainbow Berry & Nut Salad W/Dressing, Net Wt. 8.7 Oz. Single Serving, Keep refrigerated",
          "Quick & Fresh, Greek Salad W/Dressing, Net Wt. 8.75 Oz. Single Serving, Keep refrigerated",
          "Quick & Fresh, Chocolate Pudding Delight, Net Wt. 6.5 Oz. Single Serving, Keep refrigerated",
          "Quick & Fresh, Albacore Tuna Finger Sandwiches, Net . Wt. 6.5 Oz. Single Serving, Mylar Wrap, Keep refrigerated",
          "Orchard Bistro, Turkey & Cheddar Hoagie, Net Wt. 7.3 Oz. Single Serving, Keep refrigerated",
          "Orchard Bistro, Strawberry Low Fat Yogurt, Fruit & Granola Parfait, Net Wt. 9 Oz. Single Serving, Keep refrigerated",
          "Orchard Bistro, Margharita Rustic Flatbread Pizza, Net Wt. 11.5 Oz. Single Serving, Keep refrigerated",
          "Orchard Bistro, Garden salad with Dressing Net Wt. 8.2 Oz. Single Serving, Keep refrigerated",
          "Orchard Bistro, Egg Salad Kaiser, Net . Wt. 5.5 Oz. Single Serving, Keep refrigerated",
          "Naval Academy1845 Coffee, Gourmet Cheese & Fruit Plate, Net Wt. 6 Oz. Single Serving, Keep refrigerated",
          "In Reach , Sausage Egg & Cheese Croissant, Net . Wt. 6.5 Oz. Single Serving, Mylar Wrap, Keep refrigerated",
          "Fresh Creative Cuisine, Turkey Sausage, Egg & Cheddar Muffin, Net . Wt. 5.5 Oz. Single Serving, Keep refrigerated",
          "Fresh Creative Cuisine, Turkey & Cheddar Hoagie, Net . Wt. 7.3 Oz. Single Serving, Keep refrigerated",
          "Fresh Creative Cuisine, Smoked Turkey & Swiss Croissant, Net . Wt. 7 Oz. Single Serving, Keep refrigerated",
          "Quick & Fresh, Smoked Turkey & Swiss Croissant, Net . Wt. 7 Oz. Single Serving, Keep refrigerated",
          "Fresh Creative Cuisine, Fresh Cut Mango & Strawberry, Net . Wt. 7 Oz. Single Serving, Keep refrigerated",
          "Fresh Creative Cuisine White Label, Roast Beef & Cheese Finger Sandwiches, Case of 6, Keep refrigerated",
          "Fresh Creative Cuisine White Label, Monte Cristo Sandwich, Single Serving, Keep refrigerated",
          "Fresh Creative Cuisine White Label, Buffalo Style Egg, Turkey Sausage & Pepper Jack Breakfast Flat, Net . Wt. 6.4 Oz. Single Serving, Keep refrigerated",
          "Fresh Creative Cuisine Black Label, Vanilla Low Fat Yogurt, Mixed Berries & Granola, Net Wt. 9 Oz. Single Serving, Keep refrigerated",
          "Fresh Creative Cuisine Black Label, Grilled Chicken & Fontina Cranberry Ciabatta, Net Wt. 8.75 Oz. Single Serving, Keep refrigerated",
          "Fresh Creative Cuisine Black Label, Fresh Cut Vegetables & Hummus, Net Wt. 6.4 Oz. Single Serving, Keep refrigerated",
          "Dietz & Watson, Turkey & Swiss Half Sub. Single Serving, Keep refrigerated",
          "Dietz & Watson, Turkey & Cheese Finger Sandwiches, Net Wt. 6.5 Oz. Single Serving, Keep refrigerated",
          "Bistro To Go, Smoked Turkey & Swiss Croissant, Net Wt. 7 Oz. Single Serving, Keep refrigerated",
          "Bistro To Go, Roast Beef & Horseradish Hoagie, Net Wt. 7 Oz. Single Serving, Keep refrigerated",
          "Bistro To Go, Gourmet Cheese & Fruit Plate, Net Wt. 6 Oz. Single Serving, Keep refrigerated",
          "Bistro To Go, Fresh Cut Tropical Fruit, Net Wt. 7.25 Oz. Single Serving, Keep refrigerated",
          "Bistro To Go, Egg Salad Wheat, Net Wt. 5.5 Oz. Single Serving, Keep refrigerated",
          "Bistro To Go, Chocolate Pudding Delight, Net Wt. 6.5 Oz. Single Serving, Keep refrigerated",
          "Fresh Creative Cuisine White Label, Tuna Salad Wheat Wedge, Net . Wt. 8 Oz. Single Serving, Keep refrigerated",
          "Quick & Fresh, Tuna Salad Croissant, Net . Wt. 8 Oz. Single Serving, Keep refrigerated",
          "Food",
          "FRESH IDEATION FOOD GROUP, LLC dba Fresh Creative Cuisine"
         ],
         "marker": {
          "colors": [
           "#636efa",
           "#636efa",
           "#636efa",
           "#636efa",
           "#636efa",
           "#636efa",
           "#636efa",
           "#636efa",
           "#636efa",
           "#636efa",
           "#636efa",
           "#636efa",
           "#636efa",
           "#636efa",
           "#636efa",
           "#636efa",
           "#636efa",
           "#636efa",
           "#636efa",
           "#636efa",
           "#636efa",
           "#636efa",
           "#636efa",
           "#636efa",
           "#636efa",
           "#636efa",
           "#636efa",
           "#636efa",
           "#636efa",
           "#636efa",
           "#636efa",
           "#636efa",
           "#636efa",
           "#636efa",
           "#636efa"
          ]
         },
         "name": "",
         "parents": [
          "FRESH IDEATION FOOD GROUP, LLC dba Fresh Creative Cuisine/Food",
          "FRESH IDEATION FOOD GROUP, LLC dba Fresh Creative Cuisine/Food",
          "FRESH IDEATION FOOD GROUP, LLC dba Fresh Creative Cuisine/Food",
          "FRESH IDEATION FOOD GROUP, LLC dba Fresh Creative Cuisine/Food",
          "FRESH IDEATION FOOD GROUP, LLC dba Fresh Creative Cuisine/Food",
          "FRESH IDEATION FOOD GROUP, LLC dba Fresh Creative Cuisine/Food",
          "FRESH IDEATION FOOD GROUP, LLC dba Fresh Creative Cuisine/Food",
          "FRESH IDEATION FOOD GROUP, LLC dba Fresh Creative Cuisine/Food",
          "FRESH IDEATION FOOD GROUP, LLC dba Fresh Creative Cuisine/Food",
          "FRESH IDEATION FOOD GROUP, LLC dba Fresh Creative Cuisine/Food",
          "FRESH IDEATION FOOD GROUP, LLC dba Fresh Creative Cuisine/Food",
          "FRESH IDEATION FOOD GROUP, LLC dba Fresh Creative Cuisine/Food",
          "FRESH IDEATION FOOD GROUP, LLC dba Fresh Creative Cuisine/Food",
          "FRESH IDEATION FOOD GROUP, LLC dba Fresh Creative Cuisine/Food",
          "FRESH IDEATION FOOD GROUP, LLC dba Fresh Creative Cuisine/Food",
          "FRESH IDEATION FOOD GROUP, LLC dba Fresh Creative Cuisine/Food",
          "FRESH IDEATION FOOD GROUP, LLC dba Fresh Creative Cuisine/Food",
          "FRESH IDEATION FOOD GROUP, LLC dba Fresh Creative Cuisine/Food",
          "FRESH IDEATION FOOD GROUP, LLC dba Fresh Creative Cuisine/Food",
          "FRESH IDEATION FOOD GROUP, LLC dba Fresh Creative Cuisine/Food",
          "FRESH IDEATION FOOD GROUP, LLC dba Fresh Creative Cuisine/Food",
          "FRESH IDEATION FOOD GROUP, LLC dba Fresh Creative Cuisine/Food",
          "FRESH IDEATION FOOD GROUP, LLC dba Fresh Creative Cuisine/Food",
          "FRESH IDEATION FOOD GROUP, LLC dba Fresh Creative Cuisine/Food",
          "FRESH IDEATION FOOD GROUP, LLC dba Fresh Creative Cuisine/Food",
          "FRESH IDEATION FOOD GROUP, LLC dba Fresh Creative Cuisine/Food",
          "FRESH IDEATION FOOD GROUP, LLC dba Fresh Creative Cuisine/Food",
          "FRESH IDEATION FOOD GROUP, LLC dba Fresh Creative Cuisine/Food",
          "FRESH IDEATION FOOD GROUP, LLC dba Fresh Creative Cuisine/Food",
          "FRESH IDEATION FOOD GROUP, LLC dba Fresh Creative Cuisine/Food",
          "FRESH IDEATION FOOD GROUP, LLC dba Fresh Creative Cuisine/Food",
          "FRESH IDEATION FOOD GROUP, LLC dba Fresh Creative Cuisine/Food",
          "FRESH IDEATION FOOD GROUP, LLC dba Fresh Creative Cuisine/Food",
          "FRESH IDEATION FOOD GROUP, LLC dba Fresh Creative Cuisine",
          ""
         ],
         "type": "sunburst",
         "values": [
          1,
          1,
          1,
          1,
          1,
          1,
          1,
          1,
          1,
          1,
          1,
          1,
          1,
          1,
          1,
          1,
          1,
          1,
          1,
          1,
          1,
          1,
          1,
          1,
          1,
          1,
          1,
          1,
          1,
          1,
          1,
          1,
          1,
          33,
          33
         ]
        }
       ],
       "layout": {
        "legend": {
         "tracegroupgap": 0
        },
        "template": {
         "data": {
          "bar": [
           {
            "error_x": {
             "color": "#2a3f5f"
            },
            "error_y": {
             "color": "#2a3f5f"
            },
            "marker": {
             "line": {
              "color": "#E5ECF6",
              "width": 0.5
             },
             "pattern": {
              "fillmode": "overlay",
              "size": 10,
              "solidity": 0.2
             }
            },
            "type": "bar"
           }
          ],
          "barpolar": [
           {
            "marker": {
             "line": {
              "color": "#E5ECF6",
              "width": 0.5
             },
             "pattern": {
              "fillmode": "overlay",
              "size": 10,
              "solidity": 0.2
             }
            },
            "type": "barpolar"
           }
          ],
          "carpet": [
           {
            "aaxis": {
             "endlinecolor": "#2a3f5f",
             "gridcolor": "white",
             "linecolor": "white",
             "minorgridcolor": "white",
             "startlinecolor": "#2a3f5f"
            },
            "baxis": {
             "endlinecolor": "#2a3f5f",
             "gridcolor": "white",
             "linecolor": "white",
             "minorgridcolor": "white",
             "startlinecolor": "#2a3f5f"
            },
            "type": "carpet"
           }
          ],
          "choropleth": [
           {
            "colorbar": {
             "outlinewidth": 0,
             "ticks": ""
            },
            "type": "choropleth"
           }
          ],
          "contour": [
           {
            "colorbar": {
             "outlinewidth": 0,
             "ticks": ""
            },
            "colorscale": [
             [
              0,
              "#0d0887"
             ],
             [
              0.1111111111111111,
              "#46039f"
             ],
             [
              0.2222222222222222,
              "#7201a8"
             ],
             [
              0.3333333333333333,
              "#9c179e"
             ],
             [
              0.4444444444444444,
              "#bd3786"
             ],
             [
              0.5555555555555556,
              "#d8576b"
             ],
             [
              0.6666666666666666,
              "#ed7953"
             ],
             [
              0.7777777777777778,
              "#fb9f3a"
             ],
             [
              0.8888888888888888,
              "#fdca26"
             ],
             [
              1,
              "#f0f921"
             ]
            ],
            "type": "contour"
           }
          ],
          "contourcarpet": [
           {
            "colorbar": {
             "outlinewidth": 0,
             "ticks": ""
            },
            "type": "contourcarpet"
           }
          ],
          "heatmap": [
           {
            "colorbar": {
             "outlinewidth": 0,
             "ticks": ""
            },
            "colorscale": [
             [
              0,
              "#0d0887"
             ],
             [
              0.1111111111111111,
              "#46039f"
             ],
             [
              0.2222222222222222,
              "#7201a8"
             ],
             [
              0.3333333333333333,
              "#9c179e"
             ],
             [
              0.4444444444444444,
              "#bd3786"
             ],
             [
              0.5555555555555556,
              "#d8576b"
             ],
             [
              0.6666666666666666,
              "#ed7953"
             ],
             [
              0.7777777777777778,
              "#fb9f3a"
             ],
             [
              0.8888888888888888,
              "#fdca26"
             ],
             [
              1,
              "#f0f921"
             ]
            ],
            "type": "heatmap"
           }
          ],
          "heatmapgl": [
           {
            "colorbar": {
             "outlinewidth": 0,
             "ticks": ""
            },
            "colorscale": [
             [
              0,
              "#0d0887"
             ],
             [
              0.1111111111111111,
              "#46039f"
             ],
             [
              0.2222222222222222,
              "#7201a8"
             ],
             [
              0.3333333333333333,
              "#9c179e"
             ],
             [
              0.4444444444444444,
              "#bd3786"
             ],
             [
              0.5555555555555556,
              "#d8576b"
             ],
             [
              0.6666666666666666,
              "#ed7953"
             ],
             [
              0.7777777777777778,
              "#fb9f3a"
             ],
             [
              0.8888888888888888,
              "#fdca26"
             ],
             [
              1,
              "#f0f921"
             ]
            ],
            "type": "heatmapgl"
           }
          ],
          "histogram": [
           {
            "marker": {
             "pattern": {
              "fillmode": "overlay",
              "size": 10,
              "solidity": 0.2
             }
            },
            "type": "histogram"
           }
          ],
          "histogram2d": [
           {
            "colorbar": {
             "outlinewidth": 0,
             "ticks": ""
            },
            "colorscale": [
             [
              0,
              "#0d0887"
             ],
             [
              0.1111111111111111,
              "#46039f"
             ],
             [
              0.2222222222222222,
              "#7201a8"
             ],
             [
              0.3333333333333333,
              "#9c179e"
             ],
             [
              0.4444444444444444,
              "#bd3786"
             ],
             [
              0.5555555555555556,
              "#d8576b"
             ],
             [
              0.6666666666666666,
              "#ed7953"
             ],
             [
              0.7777777777777778,
              "#fb9f3a"
             ],
             [
              0.8888888888888888,
              "#fdca26"
             ],
             [
              1,
              "#f0f921"
             ]
            ],
            "type": "histogram2d"
           }
          ],
          "histogram2dcontour": [
           {
            "colorbar": {
             "outlinewidth": 0,
             "ticks": ""
            },
            "colorscale": [
             [
              0,
              "#0d0887"
             ],
             [
              0.1111111111111111,
              "#46039f"
             ],
             [
              0.2222222222222222,
              "#7201a8"
             ],
             [
              0.3333333333333333,
              "#9c179e"
             ],
             [
              0.4444444444444444,
              "#bd3786"
             ],
             [
              0.5555555555555556,
              "#d8576b"
             ],
             [
              0.6666666666666666,
              "#ed7953"
             ],
             [
              0.7777777777777778,
              "#fb9f3a"
             ],
             [
              0.8888888888888888,
              "#fdca26"
             ],
             [
              1,
              "#f0f921"
             ]
            ],
            "type": "histogram2dcontour"
           }
          ],
          "mesh3d": [
           {
            "colorbar": {
             "outlinewidth": 0,
             "ticks": ""
            },
            "type": "mesh3d"
           }
          ],
          "parcoords": [
           {
            "line": {
             "colorbar": {
              "outlinewidth": 0,
              "ticks": ""
             }
            },
            "type": "parcoords"
           }
          ],
          "pie": [
           {
            "automargin": true,
            "type": "pie"
           }
          ],
          "scatter": [
           {
            "fillpattern": {
             "fillmode": "overlay",
             "size": 10,
             "solidity": 0.2
            },
            "type": "scatter"
           }
          ],
          "scatter3d": [
           {
            "line": {
             "colorbar": {
              "outlinewidth": 0,
              "ticks": ""
             }
            },
            "marker": {
             "colorbar": {
              "outlinewidth": 0,
              "ticks": ""
             }
            },
            "type": "scatter3d"
           }
          ],
          "scattercarpet": [
           {
            "marker": {
             "colorbar": {
              "outlinewidth": 0,
              "ticks": ""
             }
            },
            "type": "scattercarpet"
           }
          ],
          "scattergeo": [
           {
            "marker": {
             "colorbar": {
              "outlinewidth": 0,
              "ticks": ""
             }
            },
            "type": "scattergeo"
           }
          ],
          "scattergl": [
           {
            "marker": {
             "colorbar": {
              "outlinewidth": 0,
              "ticks": ""
             }
            },
            "type": "scattergl"
           }
          ],
          "scattermapbox": [
           {
            "marker": {
             "colorbar": {
              "outlinewidth": 0,
              "ticks": ""
             }
            },
            "type": "scattermapbox"
           }
          ],
          "scatterpolar": [
           {
            "marker": {
             "colorbar": {
              "outlinewidth": 0,
              "ticks": ""
             }
            },
            "type": "scatterpolar"
           }
          ],
          "scatterpolargl": [
           {
            "marker": {
             "colorbar": {
              "outlinewidth": 0,
              "ticks": ""
             }
            },
            "type": "scatterpolargl"
           }
          ],
          "scatterternary": [
           {
            "marker": {
             "colorbar": {
              "outlinewidth": 0,
              "ticks": ""
             }
            },
            "type": "scatterternary"
           }
          ],
          "surface": [
           {
            "colorbar": {
             "outlinewidth": 0,
             "ticks": ""
            },
            "colorscale": [
             [
              0,
              "#0d0887"
             ],
             [
              0.1111111111111111,
              "#46039f"
             ],
             [
              0.2222222222222222,
              "#7201a8"
             ],
             [
              0.3333333333333333,
              "#9c179e"
             ],
             [
              0.4444444444444444,
              "#bd3786"
             ],
             [
              0.5555555555555556,
              "#d8576b"
             ],
             [
              0.6666666666666666,
              "#ed7953"
             ],
             [
              0.7777777777777778,
              "#fb9f3a"
             ],
             [
              0.8888888888888888,
              "#fdca26"
             ],
             [
              1,
              "#f0f921"
             ]
            ],
            "type": "surface"
           }
          ],
          "table": [
           {
            "cells": {
             "fill": {
              "color": "#EBF0F8"
             },
             "line": {
              "color": "white"
             }
            },
            "header": {
             "fill": {
              "color": "#C8D4E3"
             },
             "line": {
              "color": "white"
             }
            },
            "type": "table"
           }
          ]
         },
         "layout": {
          "annotationdefaults": {
           "arrowcolor": "#2a3f5f",
           "arrowhead": 0,
           "arrowwidth": 1
          },
          "autotypenumbers": "strict",
          "coloraxis": {
           "colorbar": {
            "outlinewidth": 0,
            "ticks": ""
           }
          },
          "colorscale": {
           "diverging": [
            [
             0,
             "#8e0152"
            ],
            [
             0.1,
             "#c51b7d"
            ],
            [
             0.2,
             "#de77ae"
            ],
            [
             0.3,
             "#f1b6da"
            ],
            [
             0.4,
             "#fde0ef"
            ],
            [
             0.5,
             "#f7f7f7"
            ],
            [
             0.6,
             "#e6f5d0"
            ],
            [
             0.7,
             "#b8e186"
            ],
            [
             0.8,
             "#7fbc41"
            ],
            [
             0.9,
             "#4d9221"
            ],
            [
             1,
             "#276419"
            ]
           ],
           "sequential": [
            [
             0,
             "#0d0887"
            ],
            [
             0.1111111111111111,
             "#46039f"
            ],
            [
             0.2222222222222222,
             "#7201a8"
            ],
            [
             0.3333333333333333,
             "#9c179e"
            ],
            [
             0.4444444444444444,
             "#bd3786"
            ],
            [
             0.5555555555555556,
             "#d8576b"
            ],
            [
             0.6666666666666666,
             "#ed7953"
            ],
            [
             0.7777777777777778,
             "#fb9f3a"
            ],
            [
             0.8888888888888888,
             "#fdca26"
            ],
            [
             1,
             "#f0f921"
            ]
           ],
           "sequentialminus": [
            [
             0,
             "#0d0887"
            ],
            [
             0.1111111111111111,
             "#46039f"
            ],
            [
             0.2222222222222222,
             "#7201a8"
            ],
            [
             0.3333333333333333,
             "#9c179e"
            ],
            [
             0.4444444444444444,
             "#bd3786"
            ],
            [
             0.5555555555555556,
             "#d8576b"
            ],
            [
             0.6666666666666666,
             "#ed7953"
            ],
            [
             0.7777777777777778,
             "#fb9f3a"
            ],
            [
             0.8888888888888888,
             "#fdca26"
            ],
            [
             1,
             "#f0f921"
            ]
           ]
          },
          "colorway": [
           "#636efa",
           "#EF553B",
           "#00cc96",
           "#ab63fa",
           "#FFA15A",
           "#19d3f3",
           "#FF6692",
           "#B6E880",
           "#FF97FF",
           "#FECB52"
          ],
          "font": {
           "color": "#2a3f5f"
          },
          "geo": {
           "bgcolor": "white",
           "lakecolor": "white",
           "landcolor": "#E5ECF6",
           "showlakes": true,
           "showland": true,
           "subunitcolor": "white"
          },
          "hoverlabel": {
           "align": "left"
          },
          "hovermode": "closest",
          "mapbox": {
           "style": "light"
          },
          "paper_bgcolor": "white",
          "plot_bgcolor": "#E5ECF6",
          "polar": {
           "angularaxis": {
            "gridcolor": "white",
            "linecolor": "white",
            "ticks": ""
           },
           "bgcolor": "#E5ECF6",
           "radialaxis": {
            "gridcolor": "white",
            "linecolor": "white",
            "ticks": ""
           }
          },
          "scene": {
           "xaxis": {
            "backgroundcolor": "#E5ECF6",
            "gridcolor": "white",
            "gridwidth": 2,
            "linecolor": "white",
            "showbackground": true,
            "ticks": "",
            "zerolinecolor": "white"
           },
           "yaxis": {
            "backgroundcolor": "#E5ECF6",
            "gridcolor": "white",
            "gridwidth": 2,
            "linecolor": "white",
            "showbackground": true,
            "ticks": "",
            "zerolinecolor": "white"
           },
           "zaxis": {
            "backgroundcolor": "#E5ECF6",
            "gridcolor": "white",
            "gridwidth": 2,
            "linecolor": "white",
            "showbackground": true,
            "ticks": "",
            "zerolinecolor": "white"
           }
          },
          "shapedefaults": {
           "line": {
            "color": "#2a3f5f"
           }
          },
          "ternary": {
           "aaxis": {
            "gridcolor": "white",
            "linecolor": "white",
            "ticks": ""
           },
           "baxis": {
            "gridcolor": "white",
            "linecolor": "white",
            "ticks": ""
           },
           "bgcolor": "#E5ECF6",
           "caxis": {
            "gridcolor": "white",
            "linecolor": "white",
            "ticks": ""
           }
          },
          "title": {
           "x": 0.05
          },
          "xaxis": {
           "automargin": true,
           "gridcolor": "white",
           "linecolor": "white",
           "ticks": "",
           "title": {
            "standoff": 15
           },
           "zerolinecolor": "white",
           "zerolinewidth": 2
          },
          "yaxis": {
           "automargin": true,
           "gridcolor": "white",
           "linecolor": "white",
           "ticks": "",
           "title": {
            "standoff": 15
           },
           "zerolinecolor": "white",
           "zerolinewidth": 2
          }
         }
        },
        "title": {
         "text": "Top Products Recalled by FRESH IDEATION FOOD GROUP, LLC dba Fresh Creative Cuisine"
        }
       }
      }
     },
     "metadata": {},
     "output_type": "display_data"
    },
    {
     "data": {
      "application/vnd.plotly.v1+json": {
       "config": {
        "plotlyServerURL": "https://plot.ly"
       },
       "data": [
        {
         "branchvalues": "total",
         "customdata": [
          [
           "Class I",
           "A21219\tBATTER MIX X1\t50.00\tBAG",
           "IL",
           "Food"
          ],
          [
           "Class I",
           "A21470\tBATTER MIX X1\t50.00\tBAG",
           "IL",
           "Food"
          ],
          [
           "Class I",
           "A53643\tBREADER   X1\t50.00\tBAG",
           "IL",
           "Food"
          ],
          [
           "Class I",
           "A89471\tBATTER MIX   X1\t50.00\tBAG",
           "IL",
           "Food"
          ],
          [
           "Class I",
           "A97176\tBREADER X3\t50.00\tBAG",
           "IL",
           "Food"
          ],
          [
           "Class I",
           "B22084\tBATTER MIX X1\t50.00\tBAG",
           "IL",
           "Food"
          ],
          [
           "Class I",
           "B57201\tBREADER    X2\t50.00\tBAG",
           "IL",
           "Food"
          ],
          [
           "Class I",
           "G0AGTG\tGTG HOT & SPICY WIENER SEASONING X4\t24.44\tBAG",
           "IL",
           "Food"
          ],
          [
           "Class I",
           "G20267\tWITTS CHICKEN BBQ SEASONING #T-8\t25.00\tCASE",
           "IL",
           "Food"
          ],
          [
           "Class I",
           "G96378\tLOTTA ZING SAUCE MIX    X2\t15.00\tCASE",
           "IL",
           "Food"
          ],
          [
           "Class I",
           "S00527\tRUB FOR ROAST BEEF         P2\t30.00\tBOX",
           "IL",
           "Food"
          ],
          [
           "Class I",
           "S04380\tBEEF RUB                    X1\t50.00\tBAG",
           "IL",
           "Food"
          ],
          [
           "Class I",
           "S22072\tW CLASSIC MARINADE OAT  X1\t50.00\tBAG",
           "IL",
           "Food"
          ],
          [
           "Class I",
           "(?)",
           "IL",
           "Food"
          ],
          [
           "Class I",
           "(?)",
           "IL",
           "Food"
          ]
         ],
         "domain": {
          "x": [
           0,
           1
          ],
          "y": [
           0,
           1
          ]
         },
         "hovertemplate": "Firm: Newly Weds Foods, Inc.<br>Classification: %{customdata[0]}<br>Product Description: %{customdata[1]}<br>State: %{customdata[2]}",
         "ids": [
          "Newly Weds Foods, Inc./Food/A21219\tBATTER MIX X1\t50.00\tBAG",
          "Newly Weds Foods, Inc./Food/A21470\tBATTER MIX X1\t50.00\tBAG",
          "Newly Weds Foods, Inc./Food/A53643\tBREADER   X1\t50.00\tBAG",
          "Newly Weds Foods, Inc./Food/A89471\tBATTER MIX   X1\t50.00\tBAG",
          "Newly Weds Foods, Inc./Food/A97176\tBREADER X3\t50.00\tBAG",
          "Newly Weds Foods, Inc./Food/B22084\tBATTER MIX X1\t50.00\tBAG",
          "Newly Weds Foods, Inc./Food/B57201\tBREADER    X2\t50.00\tBAG",
          "Newly Weds Foods, Inc./Food/G0AGTG\tGTG HOT & SPICY WIENER SEASONING X4\t24.44\tBAG",
          "Newly Weds Foods, Inc./Food/G20267\tWITTS CHICKEN BBQ SEASONING #T-8\t25.00\tCASE",
          "Newly Weds Foods, Inc./Food/G96378\tLOTTA ZING SAUCE MIX    X2\t15.00\tCASE",
          "Newly Weds Foods, Inc./Food/S00527\tRUB FOR ROAST BEEF         P2\t30.00\tBOX",
          "Newly Weds Foods, Inc./Food/S04380\tBEEF RUB                    X1\t50.00\tBAG",
          "Newly Weds Foods, Inc./Food/S22072\tW CLASSIC MARINADE OAT  X1\t50.00\tBAG",
          "Newly Weds Foods, Inc./Food",
          "Newly Weds Foods, Inc."
         ],
         "labels": [
          "A21219\tBATTER MIX X1\t50.00\tBAG",
          "A21470\tBATTER MIX X1\t50.00\tBAG",
          "A53643\tBREADER   X1\t50.00\tBAG",
          "A89471\tBATTER MIX   X1\t50.00\tBAG",
          "A97176\tBREADER X3\t50.00\tBAG",
          "B22084\tBATTER MIX X1\t50.00\tBAG",
          "B57201\tBREADER    X2\t50.00\tBAG",
          "G0AGTG\tGTG HOT & SPICY WIENER SEASONING X4\t24.44\tBAG",
          "G20267\tWITTS CHICKEN BBQ SEASONING #T-8\t25.00\tCASE",
          "G96378\tLOTTA ZING SAUCE MIX    X2\t15.00\tCASE",
          "S00527\tRUB FOR ROAST BEEF         P2\t30.00\tBOX",
          "S04380\tBEEF RUB                    X1\t50.00\tBAG",
          "S22072\tW CLASSIC MARINADE OAT  X1\t50.00\tBAG",
          "Food",
          "Newly Weds Foods, Inc."
         ],
         "marker": {
          "colors": [
           "#636efa",
           "#636efa",
           "#636efa",
           "#636efa",
           "#636efa",
           "#636efa",
           "#636efa",
           "#636efa",
           "#636efa",
           "#636efa",
           "#636efa",
           "#636efa",
           "#636efa",
           "#636efa",
           "#636efa"
          ]
         },
         "name": "",
         "parents": [
          "Newly Weds Foods, Inc./Food",
          "Newly Weds Foods, Inc./Food",
          "Newly Weds Foods, Inc./Food",
          "Newly Weds Foods, Inc./Food",
          "Newly Weds Foods, Inc./Food",
          "Newly Weds Foods, Inc./Food",
          "Newly Weds Foods, Inc./Food",
          "Newly Weds Foods, Inc./Food",
          "Newly Weds Foods, Inc./Food",
          "Newly Weds Foods, Inc./Food",
          "Newly Weds Foods, Inc./Food",
          "Newly Weds Foods, Inc./Food",
          "Newly Weds Foods, Inc./Food",
          "Newly Weds Foods, Inc.",
          ""
         ],
         "type": "sunburst",
         "values": [
          1,
          1,
          1,
          1,
          1,
          1,
          1,
          1,
          1,
          1,
          1,
          1,
          1,
          13,
          13
         ]
        }
       ],
       "layout": {
        "legend": {
         "tracegroupgap": 0
        },
        "template": {
         "data": {
          "bar": [
           {
            "error_x": {
             "color": "#2a3f5f"
            },
            "error_y": {
             "color": "#2a3f5f"
            },
            "marker": {
             "line": {
              "color": "#E5ECF6",
              "width": 0.5
             },
             "pattern": {
              "fillmode": "overlay",
              "size": 10,
              "solidity": 0.2
             }
            },
            "type": "bar"
           }
          ],
          "barpolar": [
           {
            "marker": {
             "line": {
              "color": "#E5ECF6",
              "width": 0.5
             },
             "pattern": {
              "fillmode": "overlay",
              "size": 10,
              "solidity": 0.2
             }
            },
            "type": "barpolar"
           }
          ],
          "carpet": [
           {
            "aaxis": {
             "endlinecolor": "#2a3f5f",
             "gridcolor": "white",
             "linecolor": "white",
             "minorgridcolor": "white",
             "startlinecolor": "#2a3f5f"
            },
            "baxis": {
             "endlinecolor": "#2a3f5f",
             "gridcolor": "white",
             "linecolor": "white",
             "minorgridcolor": "white",
             "startlinecolor": "#2a3f5f"
            },
            "type": "carpet"
           }
          ],
          "choropleth": [
           {
            "colorbar": {
             "outlinewidth": 0,
             "ticks": ""
            },
            "type": "choropleth"
           }
          ],
          "contour": [
           {
            "colorbar": {
             "outlinewidth": 0,
             "ticks": ""
            },
            "colorscale": [
             [
              0,
              "#0d0887"
             ],
             [
              0.1111111111111111,
              "#46039f"
             ],
             [
              0.2222222222222222,
              "#7201a8"
             ],
             [
              0.3333333333333333,
              "#9c179e"
             ],
             [
              0.4444444444444444,
              "#bd3786"
             ],
             [
              0.5555555555555556,
              "#d8576b"
             ],
             [
              0.6666666666666666,
              "#ed7953"
             ],
             [
              0.7777777777777778,
              "#fb9f3a"
             ],
             [
              0.8888888888888888,
              "#fdca26"
             ],
             [
              1,
              "#f0f921"
             ]
            ],
            "type": "contour"
           }
          ],
          "contourcarpet": [
           {
            "colorbar": {
             "outlinewidth": 0,
             "ticks": ""
            },
            "type": "contourcarpet"
           }
          ],
          "heatmap": [
           {
            "colorbar": {
             "outlinewidth": 0,
             "ticks": ""
            },
            "colorscale": [
             [
              0,
              "#0d0887"
             ],
             [
              0.1111111111111111,
              "#46039f"
             ],
             [
              0.2222222222222222,
              "#7201a8"
             ],
             [
              0.3333333333333333,
              "#9c179e"
             ],
             [
              0.4444444444444444,
              "#bd3786"
             ],
             [
              0.5555555555555556,
              "#d8576b"
             ],
             [
              0.6666666666666666,
              "#ed7953"
             ],
             [
              0.7777777777777778,
              "#fb9f3a"
             ],
             [
              0.8888888888888888,
              "#fdca26"
             ],
             [
              1,
              "#f0f921"
             ]
            ],
            "type": "heatmap"
           }
          ],
          "heatmapgl": [
           {
            "colorbar": {
             "outlinewidth": 0,
             "ticks": ""
            },
            "colorscale": [
             [
              0,
              "#0d0887"
             ],
             [
              0.1111111111111111,
              "#46039f"
             ],
             [
              0.2222222222222222,
              "#7201a8"
             ],
             [
              0.3333333333333333,
              "#9c179e"
             ],
             [
              0.4444444444444444,
              "#bd3786"
             ],
             [
              0.5555555555555556,
              "#d8576b"
             ],
             [
              0.6666666666666666,
              "#ed7953"
             ],
             [
              0.7777777777777778,
              "#fb9f3a"
             ],
             [
              0.8888888888888888,
              "#fdca26"
             ],
             [
              1,
              "#f0f921"
             ]
            ],
            "type": "heatmapgl"
           }
          ],
          "histogram": [
           {
            "marker": {
             "pattern": {
              "fillmode": "overlay",
              "size": 10,
              "solidity": 0.2
             }
            },
            "type": "histogram"
           }
          ],
          "histogram2d": [
           {
            "colorbar": {
             "outlinewidth": 0,
             "ticks": ""
            },
            "colorscale": [
             [
              0,
              "#0d0887"
             ],
             [
              0.1111111111111111,
              "#46039f"
             ],
             [
              0.2222222222222222,
              "#7201a8"
             ],
             [
              0.3333333333333333,
              "#9c179e"
             ],
             [
              0.4444444444444444,
              "#bd3786"
             ],
             [
              0.5555555555555556,
              "#d8576b"
             ],
             [
              0.6666666666666666,
              "#ed7953"
             ],
             [
              0.7777777777777778,
              "#fb9f3a"
             ],
             [
              0.8888888888888888,
              "#fdca26"
             ],
             [
              1,
              "#f0f921"
             ]
            ],
            "type": "histogram2d"
           }
          ],
          "histogram2dcontour": [
           {
            "colorbar": {
             "outlinewidth": 0,
             "ticks": ""
            },
            "colorscale": [
             [
              0,
              "#0d0887"
             ],
             [
              0.1111111111111111,
              "#46039f"
             ],
             [
              0.2222222222222222,
              "#7201a8"
             ],
             [
              0.3333333333333333,
              "#9c179e"
             ],
             [
              0.4444444444444444,
              "#bd3786"
             ],
             [
              0.5555555555555556,
              "#d8576b"
             ],
             [
              0.6666666666666666,
              "#ed7953"
             ],
             [
              0.7777777777777778,
              "#fb9f3a"
             ],
             [
              0.8888888888888888,
              "#fdca26"
             ],
             [
              1,
              "#f0f921"
             ]
            ],
            "type": "histogram2dcontour"
           }
          ],
          "mesh3d": [
           {
            "colorbar": {
             "outlinewidth": 0,
             "ticks": ""
            },
            "type": "mesh3d"
           }
          ],
          "parcoords": [
           {
            "line": {
             "colorbar": {
              "outlinewidth": 0,
              "ticks": ""
             }
            },
            "type": "parcoords"
           }
          ],
          "pie": [
           {
            "automargin": true,
            "type": "pie"
           }
          ],
          "scatter": [
           {
            "fillpattern": {
             "fillmode": "overlay",
             "size": 10,
             "solidity": 0.2
            },
            "type": "scatter"
           }
          ],
          "scatter3d": [
           {
            "line": {
             "colorbar": {
              "outlinewidth": 0,
              "ticks": ""
             }
            },
            "marker": {
             "colorbar": {
              "outlinewidth": 0,
              "ticks": ""
             }
            },
            "type": "scatter3d"
           }
          ],
          "scattercarpet": [
           {
            "marker": {
             "colorbar": {
              "outlinewidth": 0,
              "ticks": ""
             }
            },
            "type": "scattercarpet"
           }
          ],
          "scattergeo": [
           {
            "marker": {
             "colorbar": {
              "outlinewidth": 0,
              "ticks": ""
             }
            },
            "type": "scattergeo"
           }
          ],
          "scattergl": [
           {
            "marker": {
             "colorbar": {
              "outlinewidth": 0,
              "ticks": ""
             }
            },
            "type": "scattergl"
           }
          ],
          "scattermapbox": [
           {
            "marker": {
             "colorbar": {
              "outlinewidth": 0,
              "ticks": ""
             }
            },
            "type": "scattermapbox"
           }
          ],
          "scatterpolar": [
           {
            "marker": {
             "colorbar": {
              "outlinewidth": 0,
              "ticks": ""
             }
            },
            "type": "scatterpolar"
           }
          ],
          "scatterpolargl": [
           {
            "marker": {
             "colorbar": {
              "outlinewidth": 0,
              "ticks": ""
             }
            },
            "type": "scatterpolargl"
           }
          ],
          "scatterternary": [
           {
            "marker": {
             "colorbar": {
              "outlinewidth": 0,
              "ticks": ""
             }
            },
            "type": "scatterternary"
           }
          ],
          "surface": [
           {
            "colorbar": {
             "outlinewidth": 0,
             "ticks": ""
            },
            "colorscale": [
             [
              0,
              "#0d0887"
             ],
             [
              0.1111111111111111,
              "#46039f"
             ],
             [
              0.2222222222222222,
              "#7201a8"
             ],
             [
              0.3333333333333333,
              "#9c179e"
             ],
             [
              0.4444444444444444,
              "#bd3786"
             ],
             [
              0.5555555555555556,
              "#d8576b"
             ],
             [
              0.6666666666666666,
              "#ed7953"
             ],
             [
              0.7777777777777778,
              "#fb9f3a"
             ],
             [
              0.8888888888888888,
              "#fdca26"
             ],
             [
              1,
              "#f0f921"
             ]
            ],
            "type": "surface"
           }
          ],
          "table": [
           {
            "cells": {
             "fill": {
              "color": "#EBF0F8"
             },
             "line": {
              "color": "white"
             }
            },
            "header": {
             "fill": {
              "color": "#C8D4E3"
             },
             "line": {
              "color": "white"
             }
            },
            "type": "table"
           }
          ]
         },
         "layout": {
          "annotationdefaults": {
           "arrowcolor": "#2a3f5f",
           "arrowhead": 0,
           "arrowwidth": 1
          },
          "autotypenumbers": "strict",
          "coloraxis": {
           "colorbar": {
            "outlinewidth": 0,
            "ticks": ""
           }
          },
          "colorscale": {
           "diverging": [
            [
             0,
             "#8e0152"
            ],
            [
             0.1,
             "#c51b7d"
            ],
            [
             0.2,
             "#de77ae"
            ],
            [
             0.3,
             "#f1b6da"
            ],
            [
             0.4,
             "#fde0ef"
            ],
            [
             0.5,
             "#f7f7f7"
            ],
            [
             0.6,
             "#e6f5d0"
            ],
            [
             0.7,
             "#b8e186"
            ],
            [
             0.8,
             "#7fbc41"
            ],
            [
             0.9,
             "#4d9221"
            ],
            [
             1,
             "#276419"
            ]
           ],
           "sequential": [
            [
             0,
             "#0d0887"
            ],
            [
             0.1111111111111111,
             "#46039f"
            ],
            [
             0.2222222222222222,
             "#7201a8"
            ],
            [
             0.3333333333333333,
             "#9c179e"
            ],
            [
             0.4444444444444444,
             "#bd3786"
            ],
            [
             0.5555555555555556,
             "#d8576b"
            ],
            [
             0.6666666666666666,
             "#ed7953"
            ],
            [
             0.7777777777777778,
             "#fb9f3a"
            ],
            [
             0.8888888888888888,
             "#fdca26"
            ],
            [
             1,
             "#f0f921"
            ]
           ],
           "sequentialminus": [
            [
             0,
             "#0d0887"
            ],
            [
             0.1111111111111111,
             "#46039f"
            ],
            [
             0.2222222222222222,
             "#7201a8"
            ],
            [
             0.3333333333333333,
             "#9c179e"
            ],
            [
             0.4444444444444444,
             "#bd3786"
            ],
            [
             0.5555555555555556,
             "#d8576b"
            ],
            [
             0.6666666666666666,
             "#ed7953"
            ],
            [
             0.7777777777777778,
             "#fb9f3a"
            ],
            [
             0.8888888888888888,
             "#fdca26"
            ],
            [
             1,
             "#f0f921"
            ]
           ]
          },
          "colorway": [
           "#636efa",
           "#EF553B",
           "#00cc96",
           "#ab63fa",
           "#FFA15A",
           "#19d3f3",
           "#FF6692",
           "#B6E880",
           "#FF97FF",
           "#FECB52"
          ],
          "font": {
           "color": "#2a3f5f"
          },
          "geo": {
           "bgcolor": "white",
           "lakecolor": "white",
           "landcolor": "#E5ECF6",
           "showlakes": true,
           "showland": true,
           "subunitcolor": "white"
          },
          "hoverlabel": {
           "align": "left"
          },
          "hovermode": "closest",
          "mapbox": {
           "style": "light"
          },
          "paper_bgcolor": "white",
          "plot_bgcolor": "#E5ECF6",
          "polar": {
           "angularaxis": {
            "gridcolor": "white",
            "linecolor": "white",
            "ticks": ""
           },
           "bgcolor": "#E5ECF6",
           "radialaxis": {
            "gridcolor": "white",
            "linecolor": "white",
            "ticks": ""
           }
          },
          "scene": {
           "xaxis": {
            "backgroundcolor": "#E5ECF6",
            "gridcolor": "white",
            "gridwidth": 2,
            "linecolor": "white",
            "showbackground": true,
            "ticks": "",
            "zerolinecolor": "white"
           },
           "yaxis": {
            "backgroundcolor": "#E5ECF6",
            "gridcolor": "white",
            "gridwidth": 2,
            "linecolor": "white",
            "showbackground": true,
            "ticks": "",
            "zerolinecolor": "white"
           },
           "zaxis": {
            "backgroundcolor": "#E5ECF6",
            "gridcolor": "white",
            "gridwidth": 2,
            "linecolor": "white",
            "showbackground": true,
            "ticks": "",
            "zerolinecolor": "white"
           }
          },
          "shapedefaults": {
           "line": {
            "color": "#2a3f5f"
           }
          },
          "ternary": {
           "aaxis": {
            "gridcolor": "white",
            "linecolor": "white",
            "ticks": ""
           },
           "baxis": {
            "gridcolor": "white",
            "linecolor": "white",
            "ticks": ""
           },
           "bgcolor": "#E5ECF6",
           "caxis": {
            "gridcolor": "white",
            "linecolor": "white",
            "ticks": ""
           }
          },
          "title": {
           "x": 0.05
          },
          "xaxis": {
           "automargin": true,
           "gridcolor": "white",
           "linecolor": "white",
           "ticks": "",
           "title": {
            "standoff": 15
           },
           "zerolinecolor": "white",
           "zerolinewidth": 2
          },
          "yaxis": {
           "automargin": true,
           "gridcolor": "white",
           "linecolor": "white",
           "ticks": "",
           "title": {
            "standoff": 15
           },
           "zerolinecolor": "white",
           "zerolinewidth": 2
          }
         }
        },
        "title": {
         "text": "Top Products Recalled by Newly Weds Foods, Inc."
        }
       }
      }
     },
     "metadata": {},
     "output_type": "display_data"
    },
    {
     "data": {
      "application/vnd.plotly.v1+json": {
       "config": {
        "plotlyServerURL": "https://plot.ly"
       },
       "data": [
        {
         "branchvalues": "total",
         "customdata": [
          [
           "Class I",
           "Bistro To Go, Chicken Salad Finger Sandwiches, Net Wt.6.5 Oz. Single Serving, Keep refrigerated",
           "MD",
           "Food"
          ],
          [
           "Class I",
           "Quick & Fresh, Rainbow Berry & Nut Salad W/Dressing, Net Wt. 8.7 Oz. Single Serving, Keep refrigerated",
           "MD",
           "Food"
          ],
          [
           "Class I",
           "Quick & Fresh, Greek Salad W/Dressing, Net Wt. 8.75 Oz. Single Serving, Keep refrigerated",
           "MD",
           "Food"
          ],
          [
           "Class I",
           "Quick & Fresh, Chocolate Pudding Delight, Net Wt. 6.5 Oz. Single Serving, Keep refrigerated",
           "MD",
           "Food"
          ],
          [
           "Class I",
           "Quick & Fresh, Albacore Tuna Finger Sandwiches, Net . Wt. 6.5 Oz. Single Serving, Mylar Wrap, Keep refrigerated",
           "MD",
           "Food"
          ],
          [
           "Class I",
           "Orchard Bistro, Turkey & Cheddar Hoagie, Net Wt. 7.3 Oz. Single Serving, Keep refrigerated",
           "MD",
           "Food"
          ],
          [
           "Class I",
           "Orchard Bistro, Strawberry Low Fat Yogurt, Fruit & Granola Parfait, Net Wt. 9 Oz. Single Serving, Keep refrigerated",
           "MD",
           "Food"
          ],
          [
           "Class I",
           "Orchard Bistro, Margharita Rustic Flatbread Pizza, Net Wt. 11.5 Oz. Single Serving, Keep refrigerated",
           "MD",
           "Food"
          ],
          [
           "Class I",
           "Orchard Bistro, Garden salad with Dressing Net Wt. 8.2 Oz. Single Serving, Keep refrigerated",
           "MD",
           "Food"
          ],
          [
           "Class I",
           "Orchard Bistro, Egg Salad Kaiser, Net . Wt. 5.5 Oz. Single Serving, Keep refrigerated",
           "MD",
           "Food"
          ],
          [
           "Class I",
           "Naval Academy1845 Coffee, Gourmet Cheese & Fruit Plate, Net Wt. 6 Oz. Single Serving, Keep refrigerated",
           "MD",
           "Food"
          ],
          [
           "Class I",
           "In Reach , Sausage Egg & Cheese Croissant, Net . Wt. 6.5 Oz. Single Serving, Mylar Wrap, Keep refrigerated",
           "MD",
           "Food"
          ],
          [
           "Class I",
           "Fresh Creative Cuisine, Turkey Sausage, Egg & Cheddar Muffin, Net . Wt. 5.5 Oz. Single Serving, Keep refrigerated",
           "MD",
           "Food"
          ],
          [
           "Class I",
           "Fresh Creative Cuisine, Turkey & Cheddar Hoagie, Net . Wt. 7.3 Oz. Single Serving, Keep refrigerated",
           "MD",
           "Food"
          ],
          [
           "Class I",
           "Fresh Creative Cuisine, Smoked Turkey & Swiss Croissant, Net . Wt. 7 Oz. Single Serving, Keep refrigerated",
           "MD",
           "Food"
          ],
          [
           "Class I",
           "Quick & Fresh, Smoked Turkey & Swiss Croissant, Net . Wt. 7 Oz. Single Serving, Keep refrigerated",
           "MD",
           "Food"
          ],
          [
           "Class I",
           "Fresh Creative Cuisine, Fresh Cut Mango & Strawberry, Net . Wt. 7 Oz. Single Serving, Keep refrigerated",
           "MD",
           "Food"
          ],
          [
           "Class I",
           "Fresh Creative Cuisine White Label, Roast Beef & Cheese Finger Sandwiches, Case of 6, Keep refrigerated",
           "MD",
           "Food"
          ],
          [
           "Class I",
           "Fresh Creative Cuisine White Label, Monte Cristo Sandwich, Single Serving, Keep refrigerated",
           "MD",
           "Food"
          ],
          [
           "Class I",
           "Fresh Creative Cuisine White Label, Buffalo Style Egg, Turkey Sausage & Pepper Jack Breakfast Flat, Net . Wt. 6.4 Oz. Single Serving, Keep refrigerated",
           "MD",
           "Food"
          ],
          [
           "Class I",
           "Fresh Creative Cuisine Black Label, Vanilla Low Fat Yogurt, Mixed Berries & Granola, Net Wt. 9 Oz. Single Serving, Keep refrigerated",
           "MD",
           "Food"
          ],
          [
           "Class I",
           "Fresh Creative Cuisine Black Label, Grilled Chicken & Fontina Cranberry Ciabatta, Net Wt. 8.75 Oz. Single Serving, Keep refrigerated",
           "MD",
           "Food"
          ],
          [
           "Class I",
           "Fresh Creative Cuisine Black Label, Fresh Cut Vegetables & Hummus, Net Wt. 6.4 Oz. Single Serving, Keep refrigerated",
           "MD",
           "Food"
          ],
          [
           "Class I",
           "Dietz & Watson, Turkey & Swiss Half Sub. Single Serving, Keep refrigerated",
           "MD",
           "Food"
          ],
          [
           "Class I",
           "Dietz & Watson, Turkey & Cheese Finger Sandwiches, Net Wt. 6.5 Oz. Single Serving, Keep refrigerated",
           "MD",
           "Food"
          ],
          [
           "Class I",
           "Bistro To Go, Smoked Turkey & Swiss Croissant, Net Wt. 7 Oz. Single Serving, Keep refrigerated",
           "MD",
           "Food"
          ],
          [
           "Class I",
           "Bistro To Go, Roast Beef & Horseradish Hoagie, Net Wt. 7 Oz. Single Serving, Keep refrigerated",
           "MD",
           "Food"
          ],
          [
           "Class I",
           "Bistro To Go, Gourmet Cheese & Fruit Plate, Net Wt. 6 Oz. Single Serving, Keep refrigerated",
           "MD",
           "Food"
          ],
          [
           "Class I",
           "Bistro To Go, Fresh Cut Tropical Fruit, Net Wt. 7.25 Oz. Single Serving, Keep refrigerated",
           "MD",
           "Food"
          ],
          [
           "Class I",
           "Bistro To Go, Egg Salad Wheat, Net Wt. 5.5 Oz. Single Serving, Keep refrigerated",
           "MD",
           "Food"
          ],
          [
           "Class I",
           "Bistro To Go, Chocolate Pudding Delight, Net Wt. 6.5 Oz. Single Serving, Keep refrigerated",
           "MD",
           "Food"
          ],
          [
           "Class I",
           "Fresh Creative Cuisine White Label, Tuna Salad Wheat Wedge, Net . Wt. 8 Oz. Single Serving, Keep refrigerated",
           "MD",
           "Food"
          ],
          [
           "Class I",
           "Quick & Fresh, Tuna Salad Croissant, Net . Wt. 8 Oz. Single Serving, Keep refrigerated",
           "MD",
           "Food"
          ],
          [
           "Class I",
           "(?)",
           "MD",
           "Food"
          ],
          [
           "Class I",
           "(?)",
           "MD",
           "Food"
          ]
         ],
         "domain": {
          "x": [
           0,
           1
          ],
          "y": [
           0,
           1
          ]
         },
         "hovertemplate": "Firm: FRESH IDEATION FOOD GROUP, LLC dba Fresh Creative Cuisine<br>Classification: %{customdata[0]}<br>Product Description: %{customdata[1]}<br>State: %{customdata[2]}",
         "ids": [
          "FRESH IDEATION FOOD GROUP, LLC dba Fresh Creative Cuisine/Food/Bistro To Go, Chicken Salad Finger Sandwiches, Net Wt.6.5 Oz. Single Serving, Keep refrigerated",
          "FRESH IDEATION FOOD GROUP, LLC dba Fresh Creative Cuisine/Food/Quick & Fresh, Rainbow Berry & Nut Salad W/Dressing, Net Wt. 8.7 Oz. Single Serving, Keep refrigerated",
          "FRESH IDEATION FOOD GROUP, LLC dba Fresh Creative Cuisine/Food/Quick & Fresh, Greek Salad W/Dressing, Net Wt. 8.75 Oz. Single Serving, Keep refrigerated",
          "FRESH IDEATION FOOD GROUP, LLC dba Fresh Creative Cuisine/Food/Quick & Fresh, Chocolate Pudding Delight, Net Wt. 6.5 Oz. Single Serving, Keep refrigerated",
          "FRESH IDEATION FOOD GROUP, LLC dba Fresh Creative Cuisine/Food/Quick & Fresh, Albacore Tuna Finger Sandwiches, Net . Wt. 6.5 Oz. Single Serving, Mylar Wrap, Keep refrigerated",
          "FRESH IDEATION FOOD GROUP, LLC dba Fresh Creative Cuisine/Food/Orchard Bistro, Turkey & Cheddar Hoagie, Net Wt. 7.3 Oz. Single Serving, Keep refrigerated",
          "FRESH IDEATION FOOD GROUP, LLC dba Fresh Creative Cuisine/Food/Orchard Bistro, Strawberry Low Fat Yogurt, Fruit & Granola Parfait, Net Wt. 9 Oz. Single Serving, Keep refrigerated",
          "FRESH IDEATION FOOD GROUP, LLC dba Fresh Creative Cuisine/Food/Orchard Bistro, Margharita Rustic Flatbread Pizza, Net Wt. 11.5 Oz. Single Serving, Keep refrigerated",
          "FRESH IDEATION FOOD GROUP, LLC dba Fresh Creative Cuisine/Food/Orchard Bistro, Garden salad with Dressing Net Wt. 8.2 Oz. Single Serving, Keep refrigerated",
          "FRESH IDEATION FOOD GROUP, LLC dba Fresh Creative Cuisine/Food/Orchard Bistro, Egg Salad Kaiser, Net . Wt. 5.5 Oz. Single Serving, Keep refrigerated",
          "FRESH IDEATION FOOD GROUP, LLC dba Fresh Creative Cuisine/Food/Naval Academy1845 Coffee, Gourmet Cheese & Fruit Plate, Net Wt. 6 Oz. Single Serving, Keep refrigerated",
          "FRESH IDEATION FOOD GROUP, LLC dba Fresh Creative Cuisine/Food/In Reach , Sausage Egg & Cheese Croissant, Net . Wt. 6.5 Oz. Single Serving, Mylar Wrap, Keep refrigerated",
          "FRESH IDEATION FOOD GROUP, LLC dba Fresh Creative Cuisine/Food/Fresh Creative Cuisine, Turkey Sausage, Egg & Cheddar Muffin, Net . Wt. 5.5 Oz. Single Serving, Keep refrigerated",
          "FRESH IDEATION FOOD GROUP, LLC dba Fresh Creative Cuisine/Food/Fresh Creative Cuisine, Turkey & Cheddar Hoagie, Net . Wt. 7.3 Oz. Single Serving, Keep refrigerated",
          "FRESH IDEATION FOOD GROUP, LLC dba Fresh Creative Cuisine/Food/Fresh Creative Cuisine, Smoked Turkey & Swiss Croissant, Net . Wt. 7 Oz. Single Serving, Keep refrigerated",
          "FRESH IDEATION FOOD GROUP, LLC dba Fresh Creative Cuisine/Food/Quick & Fresh, Smoked Turkey & Swiss Croissant, Net . Wt. 7 Oz. Single Serving, Keep refrigerated",
          "FRESH IDEATION FOOD GROUP, LLC dba Fresh Creative Cuisine/Food/Fresh Creative Cuisine, Fresh Cut Mango & Strawberry, Net . Wt. 7 Oz. Single Serving, Keep refrigerated",
          "FRESH IDEATION FOOD GROUP, LLC dba Fresh Creative Cuisine/Food/Fresh Creative Cuisine White Label, Roast Beef & Cheese Finger Sandwiches, Case of 6, Keep refrigerated",
          "FRESH IDEATION FOOD GROUP, LLC dba Fresh Creative Cuisine/Food/Fresh Creative Cuisine White Label, Monte Cristo Sandwich, Single Serving, Keep refrigerated",
          "FRESH IDEATION FOOD GROUP, LLC dba Fresh Creative Cuisine/Food/Fresh Creative Cuisine White Label, Buffalo Style Egg, Turkey Sausage & Pepper Jack Breakfast Flat, Net . Wt. 6.4 Oz. Single Serving, Keep refrigerated",
          "FRESH IDEATION FOOD GROUP, LLC dba Fresh Creative Cuisine/Food/Fresh Creative Cuisine Black Label, Vanilla Low Fat Yogurt, Mixed Berries & Granola, Net Wt. 9 Oz. Single Serving, Keep refrigerated",
          "FRESH IDEATION FOOD GROUP, LLC dba Fresh Creative Cuisine/Food/Fresh Creative Cuisine Black Label, Grilled Chicken & Fontina Cranberry Ciabatta, Net Wt. 8.75 Oz. Single Serving, Keep refrigerated",
          "FRESH IDEATION FOOD GROUP, LLC dba Fresh Creative Cuisine/Food/Fresh Creative Cuisine Black Label, Fresh Cut Vegetables & Hummus, Net Wt. 6.4 Oz. Single Serving, Keep refrigerated",
          "FRESH IDEATION FOOD GROUP, LLC dba Fresh Creative Cuisine/Food/Dietz & Watson, Turkey & Swiss Half Sub. Single Serving, Keep refrigerated",
          "FRESH IDEATION FOOD GROUP, LLC dba Fresh Creative Cuisine/Food/Dietz & Watson, Turkey & Cheese Finger Sandwiches, Net Wt. 6.5 Oz. Single Serving, Keep refrigerated",
          "FRESH IDEATION FOOD GROUP, LLC dba Fresh Creative Cuisine/Food/Bistro To Go, Smoked Turkey & Swiss Croissant, Net Wt. 7 Oz. Single Serving, Keep refrigerated",
          "FRESH IDEATION FOOD GROUP, LLC dba Fresh Creative Cuisine/Food/Bistro To Go, Roast Beef & Horseradish Hoagie, Net Wt. 7 Oz. Single Serving, Keep refrigerated",
          "FRESH IDEATION FOOD GROUP, LLC dba Fresh Creative Cuisine/Food/Bistro To Go, Gourmet Cheese & Fruit Plate, Net Wt. 6 Oz. Single Serving, Keep refrigerated",
          "FRESH IDEATION FOOD GROUP, LLC dba Fresh Creative Cuisine/Food/Bistro To Go, Fresh Cut Tropical Fruit, Net Wt. 7.25 Oz. Single Serving, Keep refrigerated",
          "FRESH IDEATION FOOD GROUP, LLC dba Fresh Creative Cuisine/Food/Bistro To Go, Egg Salad Wheat, Net Wt. 5.5 Oz. Single Serving, Keep refrigerated",
          "FRESH IDEATION FOOD GROUP, LLC dba Fresh Creative Cuisine/Food/Bistro To Go, Chocolate Pudding Delight, Net Wt. 6.5 Oz. Single Serving, Keep refrigerated",
          "FRESH IDEATION FOOD GROUP, LLC dba Fresh Creative Cuisine/Food/Fresh Creative Cuisine White Label, Tuna Salad Wheat Wedge, Net . Wt. 8 Oz. Single Serving, Keep refrigerated",
          "FRESH IDEATION FOOD GROUP, LLC dba Fresh Creative Cuisine/Food/Quick & Fresh, Tuna Salad Croissant, Net . Wt. 8 Oz. Single Serving, Keep refrigerated",
          "FRESH IDEATION FOOD GROUP, LLC dba Fresh Creative Cuisine/Food",
          "FRESH IDEATION FOOD GROUP, LLC dba Fresh Creative Cuisine"
         ],
         "labels": [
          "Bistro To Go, Chicken Salad Finger Sandwiches, Net Wt.6.5 Oz. Single Serving, Keep refrigerated",
          "Quick & Fresh, Rainbow Berry & Nut Salad W/Dressing, Net Wt. 8.7 Oz. Single Serving, Keep refrigerated",
          "Quick & Fresh, Greek Salad W/Dressing, Net Wt. 8.75 Oz. Single Serving, Keep refrigerated",
          "Quick & Fresh, Chocolate Pudding Delight, Net Wt. 6.5 Oz. Single Serving, Keep refrigerated",
          "Quick & Fresh, Albacore Tuna Finger Sandwiches, Net . Wt. 6.5 Oz. Single Serving, Mylar Wrap, Keep refrigerated",
          "Orchard Bistro, Turkey & Cheddar Hoagie, Net Wt. 7.3 Oz. Single Serving, Keep refrigerated",
          "Orchard Bistro, Strawberry Low Fat Yogurt, Fruit & Granola Parfait, Net Wt. 9 Oz. Single Serving, Keep refrigerated",
          "Orchard Bistro, Margharita Rustic Flatbread Pizza, Net Wt. 11.5 Oz. Single Serving, Keep refrigerated",
          "Orchard Bistro, Garden salad with Dressing Net Wt. 8.2 Oz. Single Serving, Keep refrigerated",
          "Orchard Bistro, Egg Salad Kaiser, Net . Wt. 5.5 Oz. Single Serving, Keep refrigerated",
          "Naval Academy1845 Coffee, Gourmet Cheese & Fruit Plate, Net Wt. 6 Oz. Single Serving, Keep refrigerated",
          "In Reach , Sausage Egg & Cheese Croissant, Net . Wt. 6.5 Oz. Single Serving, Mylar Wrap, Keep refrigerated",
          "Fresh Creative Cuisine, Turkey Sausage, Egg & Cheddar Muffin, Net . Wt. 5.5 Oz. Single Serving, Keep refrigerated",
          "Fresh Creative Cuisine, Turkey & Cheddar Hoagie, Net . Wt. 7.3 Oz. Single Serving, Keep refrigerated",
          "Fresh Creative Cuisine, Smoked Turkey & Swiss Croissant, Net . Wt. 7 Oz. Single Serving, Keep refrigerated",
          "Quick & Fresh, Smoked Turkey & Swiss Croissant, Net . Wt. 7 Oz. Single Serving, Keep refrigerated",
          "Fresh Creative Cuisine, Fresh Cut Mango & Strawberry, Net . Wt. 7 Oz. Single Serving, Keep refrigerated",
          "Fresh Creative Cuisine White Label, Roast Beef & Cheese Finger Sandwiches, Case of 6, Keep refrigerated",
          "Fresh Creative Cuisine White Label, Monte Cristo Sandwich, Single Serving, Keep refrigerated",
          "Fresh Creative Cuisine White Label, Buffalo Style Egg, Turkey Sausage & Pepper Jack Breakfast Flat, Net . Wt. 6.4 Oz. Single Serving, Keep refrigerated",
          "Fresh Creative Cuisine Black Label, Vanilla Low Fat Yogurt, Mixed Berries & Granola, Net Wt. 9 Oz. Single Serving, Keep refrigerated",
          "Fresh Creative Cuisine Black Label, Grilled Chicken & Fontina Cranberry Ciabatta, Net Wt. 8.75 Oz. Single Serving, Keep refrigerated",
          "Fresh Creative Cuisine Black Label, Fresh Cut Vegetables & Hummus, Net Wt. 6.4 Oz. Single Serving, Keep refrigerated",
          "Dietz & Watson, Turkey & Swiss Half Sub. Single Serving, Keep refrigerated",
          "Dietz & Watson, Turkey & Cheese Finger Sandwiches, Net Wt. 6.5 Oz. Single Serving, Keep refrigerated",
          "Bistro To Go, Smoked Turkey & Swiss Croissant, Net Wt. 7 Oz. Single Serving, Keep refrigerated",
          "Bistro To Go, Roast Beef & Horseradish Hoagie, Net Wt. 7 Oz. Single Serving, Keep refrigerated",
          "Bistro To Go, Gourmet Cheese & Fruit Plate, Net Wt. 6 Oz. Single Serving, Keep refrigerated",
          "Bistro To Go, Fresh Cut Tropical Fruit, Net Wt. 7.25 Oz. Single Serving, Keep refrigerated",
          "Bistro To Go, Egg Salad Wheat, Net Wt. 5.5 Oz. Single Serving, Keep refrigerated",
          "Bistro To Go, Chocolate Pudding Delight, Net Wt. 6.5 Oz. Single Serving, Keep refrigerated",
          "Fresh Creative Cuisine White Label, Tuna Salad Wheat Wedge, Net . Wt. 8 Oz. Single Serving, Keep refrigerated",
          "Quick & Fresh, Tuna Salad Croissant, Net . Wt. 8 Oz. Single Serving, Keep refrigerated",
          "Food",
          "FRESH IDEATION FOOD GROUP, LLC dba Fresh Creative Cuisine"
         ],
         "marker": {
          "colors": [
           "#636efa",
           "#636efa",
           "#636efa",
           "#636efa",
           "#636efa",
           "#636efa",
           "#636efa",
           "#636efa",
           "#636efa",
           "#636efa",
           "#636efa",
           "#636efa",
           "#636efa",
           "#636efa",
           "#636efa",
           "#636efa",
           "#636efa",
           "#636efa",
           "#636efa",
           "#636efa",
           "#636efa",
           "#636efa",
           "#636efa",
           "#636efa",
           "#636efa",
           "#636efa",
           "#636efa",
           "#636efa",
           "#636efa",
           "#636efa",
           "#636efa",
           "#636efa",
           "#636efa",
           "#636efa",
           "#636efa"
          ]
         },
         "name": "",
         "parents": [
          "FRESH IDEATION FOOD GROUP, LLC dba Fresh Creative Cuisine/Food",
          "FRESH IDEATION FOOD GROUP, LLC dba Fresh Creative Cuisine/Food",
          "FRESH IDEATION FOOD GROUP, LLC dba Fresh Creative Cuisine/Food",
          "FRESH IDEATION FOOD GROUP, LLC dba Fresh Creative Cuisine/Food",
          "FRESH IDEATION FOOD GROUP, LLC dba Fresh Creative Cuisine/Food",
          "FRESH IDEATION FOOD GROUP, LLC dba Fresh Creative Cuisine/Food",
          "FRESH IDEATION FOOD GROUP, LLC dba Fresh Creative Cuisine/Food",
          "FRESH IDEATION FOOD GROUP, LLC dba Fresh Creative Cuisine/Food",
          "FRESH IDEATION FOOD GROUP, LLC dba Fresh Creative Cuisine/Food",
          "FRESH IDEATION FOOD GROUP, LLC dba Fresh Creative Cuisine/Food",
          "FRESH IDEATION FOOD GROUP, LLC dba Fresh Creative Cuisine/Food",
          "FRESH IDEATION FOOD GROUP, LLC dba Fresh Creative Cuisine/Food",
          "FRESH IDEATION FOOD GROUP, LLC dba Fresh Creative Cuisine/Food",
          "FRESH IDEATION FOOD GROUP, LLC dba Fresh Creative Cuisine/Food",
          "FRESH IDEATION FOOD GROUP, LLC dba Fresh Creative Cuisine/Food",
          "FRESH IDEATION FOOD GROUP, LLC dba Fresh Creative Cuisine/Food",
          "FRESH IDEATION FOOD GROUP, LLC dba Fresh Creative Cuisine/Food",
          "FRESH IDEATION FOOD GROUP, LLC dba Fresh Creative Cuisine/Food",
          "FRESH IDEATION FOOD GROUP, LLC dba Fresh Creative Cuisine/Food",
          "FRESH IDEATION FOOD GROUP, LLC dba Fresh Creative Cuisine/Food",
          "FRESH IDEATION FOOD GROUP, LLC dba Fresh Creative Cuisine/Food",
          "FRESH IDEATION FOOD GROUP, LLC dba Fresh Creative Cuisine/Food",
          "FRESH IDEATION FOOD GROUP, LLC dba Fresh Creative Cuisine/Food",
          "FRESH IDEATION FOOD GROUP, LLC dba Fresh Creative Cuisine/Food",
          "FRESH IDEATION FOOD GROUP, LLC dba Fresh Creative Cuisine/Food",
          "FRESH IDEATION FOOD GROUP, LLC dba Fresh Creative Cuisine/Food",
          "FRESH IDEATION FOOD GROUP, LLC dba Fresh Creative Cuisine/Food",
          "FRESH IDEATION FOOD GROUP, LLC dba Fresh Creative Cuisine/Food",
          "FRESH IDEATION FOOD GROUP, LLC dba Fresh Creative Cuisine/Food",
          "FRESH IDEATION FOOD GROUP, LLC dba Fresh Creative Cuisine/Food",
          "FRESH IDEATION FOOD GROUP, LLC dba Fresh Creative Cuisine/Food",
          "FRESH IDEATION FOOD GROUP, LLC dba Fresh Creative Cuisine/Food",
          "FRESH IDEATION FOOD GROUP, LLC dba Fresh Creative Cuisine/Food",
          "FRESH IDEATION FOOD GROUP, LLC dba Fresh Creative Cuisine",
          ""
         ],
         "type": "sunburst",
         "values": [
          1,
          1,
          1,
          1,
          1,
          1,
          1,
          1,
          1,
          1,
          1,
          1,
          1,
          1,
          1,
          1,
          1,
          1,
          1,
          1,
          1,
          1,
          1,
          1,
          1,
          1,
          1,
          1,
          1,
          1,
          1,
          1,
          1,
          33,
          33
         ]
        }
       ],
       "layout": {
        "legend": {
         "tracegroupgap": 0
        },
        "template": {
         "data": {
          "bar": [
           {
            "error_x": {
             "color": "#2a3f5f"
            },
            "error_y": {
             "color": "#2a3f5f"
            },
            "marker": {
             "line": {
              "color": "#E5ECF6",
              "width": 0.5
             },
             "pattern": {
              "fillmode": "overlay",
              "size": 10,
              "solidity": 0.2
             }
            },
            "type": "bar"
           }
          ],
          "barpolar": [
           {
            "marker": {
             "line": {
              "color": "#E5ECF6",
              "width": 0.5
             },
             "pattern": {
              "fillmode": "overlay",
              "size": 10,
              "solidity": 0.2
             }
            },
            "type": "barpolar"
           }
          ],
          "carpet": [
           {
            "aaxis": {
             "endlinecolor": "#2a3f5f",
             "gridcolor": "white",
             "linecolor": "white",
             "minorgridcolor": "white",
             "startlinecolor": "#2a3f5f"
            },
            "baxis": {
             "endlinecolor": "#2a3f5f",
             "gridcolor": "white",
             "linecolor": "white",
             "minorgridcolor": "white",
             "startlinecolor": "#2a3f5f"
            },
            "type": "carpet"
           }
          ],
          "choropleth": [
           {
            "colorbar": {
             "outlinewidth": 0,
             "ticks": ""
            },
            "type": "choropleth"
           }
          ],
          "contour": [
           {
            "colorbar": {
             "outlinewidth": 0,
             "ticks": ""
            },
            "colorscale": [
             [
              0,
              "#0d0887"
             ],
             [
              0.1111111111111111,
              "#46039f"
             ],
             [
              0.2222222222222222,
              "#7201a8"
             ],
             [
              0.3333333333333333,
              "#9c179e"
             ],
             [
              0.4444444444444444,
              "#bd3786"
             ],
             [
              0.5555555555555556,
              "#d8576b"
             ],
             [
              0.6666666666666666,
              "#ed7953"
             ],
             [
              0.7777777777777778,
              "#fb9f3a"
             ],
             [
              0.8888888888888888,
              "#fdca26"
             ],
             [
              1,
              "#f0f921"
             ]
            ],
            "type": "contour"
           }
          ],
          "contourcarpet": [
           {
            "colorbar": {
             "outlinewidth": 0,
             "ticks": ""
            },
            "type": "contourcarpet"
           }
          ],
          "heatmap": [
           {
            "colorbar": {
             "outlinewidth": 0,
             "ticks": ""
            },
            "colorscale": [
             [
              0,
              "#0d0887"
             ],
             [
              0.1111111111111111,
              "#46039f"
             ],
             [
              0.2222222222222222,
              "#7201a8"
             ],
             [
              0.3333333333333333,
              "#9c179e"
             ],
             [
              0.4444444444444444,
              "#bd3786"
             ],
             [
              0.5555555555555556,
              "#d8576b"
             ],
             [
              0.6666666666666666,
              "#ed7953"
             ],
             [
              0.7777777777777778,
              "#fb9f3a"
             ],
             [
              0.8888888888888888,
              "#fdca26"
             ],
             [
              1,
              "#f0f921"
             ]
            ],
            "type": "heatmap"
           }
          ],
          "heatmapgl": [
           {
            "colorbar": {
             "outlinewidth": 0,
             "ticks": ""
            },
            "colorscale": [
             [
              0,
              "#0d0887"
             ],
             [
              0.1111111111111111,
              "#46039f"
             ],
             [
              0.2222222222222222,
              "#7201a8"
             ],
             [
              0.3333333333333333,
              "#9c179e"
             ],
             [
              0.4444444444444444,
              "#bd3786"
             ],
             [
              0.5555555555555556,
              "#d8576b"
             ],
             [
              0.6666666666666666,
              "#ed7953"
             ],
             [
              0.7777777777777778,
              "#fb9f3a"
             ],
             [
              0.8888888888888888,
              "#fdca26"
             ],
             [
              1,
              "#f0f921"
             ]
            ],
            "type": "heatmapgl"
           }
          ],
          "histogram": [
           {
            "marker": {
             "pattern": {
              "fillmode": "overlay",
              "size": 10,
              "solidity": 0.2
             }
            },
            "type": "histogram"
           }
          ],
          "histogram2d": [
           {
            "colorbar": {
             "outlinewidth": 0,
             "ticks": ""
            },
            "colorscale": [
             [
              0,
              "#0d0887"
             ],
             [
              0.1111111111111111,
              "#46039f"
             ],
             [
              0.2222222222222222,
              "#7201a8"
             ],
             [
              0.3333333333333333,
              "#9c179e"
             ],
             [
              0.4444444444444444,
              "#bd3786"
             ],
             [
              0.5555555555555556,
              "#d8576b"
             ],
             [
              0.6666666666666666,
              "#ed7953"
             ],
             [
              0.7777777777777778,
              "#fb9f3a"
             ],
             [
              0.8888888888888888,
              "#fdca26"
             ],
             [
              1,
              "#f0f921"
             ]
            ],
            "type": "histogram2d"
           }
          ],
          "histogram2dcontour": [
           {
            "colorbar": {
             "outlinewidth": 0,
             "ticks": ""
            },
            "colorscale": [
             [
              0,
              "#0d0887"
             ],
             [
              0.1111111111111111,
              "#46039f"
             ],
             [
              0.2222222222222222,
              "#7201a8"
             ],
             [
              0.3333333333333333,
              "#9c179e"
             ],
             [
              0.4444444444444444,
              "#bd3786"
             ],
             [
              0.5555555555555556,
              "#d8576b"
             ],
             [
              0.6666666666666666,
              "#ed7953"
             ],
             [
              0.7777777777777778,
              "#fb9f3a"
             ],
             [
              0.8888888888888888,
              "#fdca26"
             ],
             [
              1,
              "#f0f921"
             ]
            ],
            "type": "histogram2dcontour"
           }
          ],
          "mesh3d": [
           {
            "colorbar": {
             "outlinewidth": 0,
             "ticks": ""
            },
            "type": "mesh3d"
           }
          ],
          "parcoords": [
           {
            "line": {
             "colorbar": {
              "outlinewidth": 0,
              "ticks": ""
             }
            },
            "type": "parcoords"
           }
          ],
          "pie": [
           {
            "automargin": true,
            "type": "pie"
           }
          ],
          "scatter": [
           {
            "fillpattern": {
             "fillmode": "overlay",
             "size": 10,
             "solidity": 0.2
            },
            "type": "scatter"
           }
          ],
          "scatter3d": [
           {
            "line": {
             "colorbar": {
              "outlinewidth": 0,
              "ticks": ""
             }
            },
            "marker": {
             "colorbar": {
              "outlinewidth": 0,
              "ticks": ""
             }
            },
            "type": "scatter3d"
           }
          ],
          "scattercarpet": [
           {
            "marker": {
             "colorbar": {
              "outlinewidth": 0,
              "ticks": ""
             }
            },
            "type": "scattercarpet"
           }
          ],
          "scattergeo": [
           {
            "marker": {
             "colorbar": {
              "outlinewidth": 0,
              "ticks": ""
             }
            },
            "type": "scattergeo"
           }
          ],
          "scattergl": [
           {
            "marker": {
             "colorbar": {
              "outlinewidth": 0,
              "ticks": ""
             }
            },
            "type": "scattergl"
           }
          ],
          "scattermapbox": [
           {
            "marker": {
             "colorbar": {
              "outlinewidth": 0,
              "ticks": ""
             }
            },
            "type": "scattermapbox"
           }
          ],
          "scatterpolar": [
           {
            "marker": {
             "colorbar": {
              "outlinewidth": 0,
              "ticks": ""
             }
            },
            "type": "scatterpolar"
           }
          ],
          "scatterpolargl": [
           {
            "marker": {
             "colorbar": {
              "outlinewidth": 0,
              "ticks": ""
             }
            },
            "type": "scatterpolargl"
           }
          ],
          "scatterternary": [
           {
            "marker": {
             "colorbar": {
              "outlinewidth": 0,
              "ticks": ""
             }
            },
            "type": "scatterternary"
           }
          ],
          "surface": [
           {
            "colorbar": {
             "outlinewidth": 0,
             "ticks": ""
            },
            "colorscale": [
             [
              0,
              "#0d0887"
             ],
             [
              0.1111111111111111,
              "#46039f"
             ],
             [
              0.2222222222222222,
              "#7201a8"
             ],
             [
              0.3333333333333333,
              "#9c179e"
             ],
             [
              0.4444444444444444,
              "#bd3786"
             ],
             [
              0.5555555555555556,
              "#d8576b"
             ],
             [
              0.6666666666666666,
              "#ed7953"
             ],
             [
              0.7777777777777778,
              "#fb9f3a"
             ],
             [
              0.8888888888888888,
              "#fdca26"
             ],
             [
              1,
              "#f0f921"
             ]
            ],
            "type": "surface"
           }
          ],
          "table": [
           {
            "cells": {
             "fill": {
              "color": "#EBF0F8"
             },
             "line": {
              "color": "white"
             }
            },
            "header": {
             "fill": {
              "color": "#C8D4E3"
             },
             "line": {
              "color": "white"
             }
            },
            "type": "table"
           }
          ]
         },
         "layout": {
          "annotationdefaults": {
           "arrowcolor": "#2a3f5f",
           "arrowhead": 0,
           "arrowwidth": 1
          },
          "autotypenumbers": "strict",
          "coloraxis": {
           "colorbar": {
            "outlinewidth": 0,
            "ticks": ""
           }
          },
          "colorscale": {
           "diverging": [
            [
             0,
             "#8e0152"
            ],
            [
             0.1,
             "#c51b7d"
            ],
            [
             0.2,
             "#de77ae"
            ],
            [
             0.3,
             "#f1b6da"
            ],
            [
             0.4,
             "#fde0ef"
            ],
            [
             0.5,
             "#f7f7f7"
            ],
            [
             0.6,
             "#e6f5d0"
            ],
            [
             0.7,
             "#b8e186"
            ],
            [
             0.8,
             "#7fbc41"
            ],
            [
             0.9,
             "#4d9221"
            ],
            [
             1,
             "#276419"
            ]
           ],
           "sequential": [
            [
             0,
             "#0d0887"
            ],
            [
             0.1111111111111111,
             "#46039f"
            ],
            [
             0.2222222222222222,
             "#7201a8"
            ],
            [
             0.3333333333333333,
             "#9c179e"
            ],
            [
             0.4444444444444444,
             "#bd3786"
            ],
            [
             0.5555555555555556,
             "#d8576b"
            ],
            [
             0.6666666666666666,
             "#ed7953"
            ],
            [
             0.7777777777777778,
             "#fb9f3a"
            ],
            [
             0.8888888888888888,
             "#fdca26"
            ],
            [
             1,
             "#f0f921"
            ]
           ],
           "sequentialminus": [
            [
             0,
             "#0d0887"
            ],
            [
             0.1111111111111111,
             "#46039f"
            ],
            [
             0.2222222222222222,
             "#7201a8"
            ],
            [
             0.3333333333333333,
             "#9c179e"
            ],
            [
             0.4444444444444444,
             "#bd3786"
            ],
            [
             0.5555555555555556,
             "#d8576b"
            ],
            [
             0.6666666666666666,
             "#ed7953"
            ],
            [
             0.7777777777777778,
             "#fb9f3a"
            ],
            [
             0.8888888888888888,
             "#fdca26"
            ],
            [
             1,
             "#f0f921"
            ]
           ]
          },
          "colorway": [
           "#636efa",
           "#EF553B",
           "#00cc96",
           "#ab63fa",
           "#FFA15A",
           "#19d3f3",
           "#FF6692",
           "#B6E880",
           "#FF97FF",
           "#FECB52"
          ],
          "font": {
           "color": "#2a3f5f"
          },
          "geo": {
           "bgcolor": "white",
           "lakecolor": "white",
           "landcolor": "#E5ECF6",
           "showlakes": true,
           "showland": true,
           "subunitcolor": "white"
          },
          "hoverlabel": {
           "align": "left"
          },
          "hovermode": "closest",
          "mapbox": {
           "style": "light"
          },
          "paper_bgcolor": "white",
          "plot_bgcolor": "#E5ECF6",
          "polar": {
           "angularaxis": {
            "gridcolor": "white",
            "linecolor": "white",
            "ticks": ""
           },
           "bgcolor": "#E5ECF6",
           "radialaxis": {
            "gridcolor": "white",
            "linecolor": "white",
            "ticks": ""
           }
          },
          "scene": {
           "xaxis": {
            "backgroundcolor": "#E5ECF6",
            "gridcolor": "white",
            "gridwidth": 2,
            "linecolor": "white",
            "showbackground": true,
            "ticks": "",
            "zerolinecolor": "white"
           },
           "yaxis": {
            "backgroundcolor": "#E5ECF6",
            "gridcolor": "white",
            "gridwidth": 2,
            "linecolor": "white",
            "showbackground": true,
            "ticks": "",
            "zerolinecolor": "white"
           },
           "zaxis": {
            "backgroundcolor": "#E5ECF6",
            "gridcolor": "white",
            "gridwidth": 2,
            "linecolor": "white",
            "showbackground": true,
            "ticks": "",
            "zerolinecolor": "white"
           }
          },
          "shapedefaults": {
           "line": {
            "color": "#2a3f5f"
           }
          },
          "ternary": {
           "aaxis": {
            "gridcolor": "white",
            "linecolor": "white",
            "ticks": ""
           },
           "baxis": {
            "gridcolor": "white",
            "linecolor": "white",
            "ticks": ""
           },
           "bgcolor": "#E5ECF6",
           "caxis": {
            "gridcolor": "white",
            "linecolor": "white",
            "ticks": ""
           }
          },
          "title": {
           "x": 0.05
          },
          "xaxis": {
           "automargin": true,
           "gridcolor": "white",
           "linecolor": "white",
           "ticks": "",
           "title": {
            "standoff": 15
           },
           "zerolinecolor": "white",
           "zerolinewidth": 2
          },
          "yaxis": {
           "automargin": true,
           "gridcolor": "white",
           "linecolor": "white",
           "ticks": "",
           "title": {
            "standoff": 15
           },
           "zerolinecolor": "white",
           "zerolinewidth": 2
          }
         }
        },
        "title": {
         "text": "Top Products Recalled by FRESH IDEATION FOOD GROUP, LLC dba Fresh Creative Cuisine"
        }
       }
      }
     },
     "metadata": {},
     "output_type": "display_data"
    },
    {
     "name": "stdout",
     "output_type": "stream",
     "text": [
      "Select a firm from the dropdown menu.\n"
     ]
    }
   ],
   "source": [
    "\n",
    "# Filter the DataFrame to include only recalls in the US (made a copy to avoid SettingWithCopyWarning)\n",
    "us_recall_df = clean_df[clean_df['Country'] == \"United States\"].copy()\n",
    "\n",
    "# Add a count column for each recall for visualization purposes\n",
    "us_recall_df['Recall Count'] = 1\n",
    "\n",
    "# Sort the top 15 recalling firms based on the number of recalls in the US\n",
    "top_15_firms = (\n",
    "    us_recall_df['Recalling Firm']\n",
    "    .value_counts()\n",
    "    .nlargest(15)\n",
    "    .reset_index()\n",
    ")\n",
    "\n",
    "# Rename the columns to identify the recall count for each\n",
    "top_15_firms.columns = ['Firm Name', 'Recall Count']\n",
    "\n",
    "# Create a list for dropdown options with the name of each firm and their recall counts\n",
    "firm_options = [\n",
    "    f\"({row['Recall Count']}) {row['Firm Name']}\"\n",
    "    for _, row in top_15_firms.iterrows()\n",
    "]\n",
    "\n",
    "# Create dropdown widget for selecting a firm, including \"None\" as an option\n",
    "firm_widget = widgets.Dropdown(\n",
    "    options=[None] + firm_options,\n",
    "    description='Select Firm:',\n",
    "    value=None\n",
    ")\n",
    "\n",
    "# Create the dropdown widgets for city and state (initially empty)\n",
    "city_widget = widgets.Dropdown(\n",
    "    description='City:',\n",
    "    options=[],\n",
    "    value=None\n",
    ")\n",
    "\n",
    "state_widget = widgets.Dropdown(\n",
    "    description='State:',\n",
    "    options=[],\n",
    "    value=None\n",
    ")\n",
    "\n",
    "# Function to update city and state dropdowns based on selected firm\n",
    "def update_city_state_dropdown(firm_with_count):\n",
    "    # Extract firm name from dropdown selection\n",
    "    if firm_with_count is None:\n",
    "        print(\"Select a firm from the dropdown menu.\")\n",
    "        return\n",
    "    \n",
    "    try:\n",
    "        # Extract the actual firm name by splitting the string\n",
    "        firm = firm_with_count.split(\") \")[1]\n",
    "    except IndexError:\n",
    "        print(\"Error extracting firm name from the dropdown selection.\")\n",
    "        return\n",
    "\n",
    "    # Filter the data based on the selected firm\n",
    "    filtered_df = us_recall_df[us_recall_df['Recalling Firm'] == firm]\n",
    "\n",
    "    # Ensure there's data to filter on\n",
    "    if filtered_df.empty:\n",
    "        print(\"No data available for the selected firm.\")\n",
    "        return\n",
    "\n",
    "    # Extract unique cities and states for the selected firm\n",
    "    cities = filtered_df['City'].unique()\n",
    "    states = filtered_df['State'].unique()\n",
    "\n",
    "    # Update the options for city and state dropdowns\n",
    "    city_widget.options = [None] + list(cities)\n",
    "    state_widget.options = [None] + list(states)\n",
    "\n",
    "# Function to create a Sunburst chart based on selected firm, city, and state\n",
    "def create_sunburst_chart(firm_with_count, city, state):\n",
    "    # Extract firm name from dropdown selection\n",
    "    if firm_with_count is None:\n",
    "        print(\"Select a firm from the dropdown menu.\")\n",
    "        return\n",
    "\n",
    "    try:\n",
    "        # Extract the actual firm name by splitting the string\n",
    "        firm = firm_with_count.split(\") \")[1]\n",
    "    except IndexError:\n",
    "        print(\"Error extracting firm name from the dropdown selection.\")\n",
    "        return\n",
    "\n",
    "    # Filter the data based on the selected firm\n",
    "    filtered_df = us_recall_df[us_recall_df['Recalling Firm'] == firm]\n",
    "\n",
    "    # Further filter by city and state if selected\n",
    "    if city:\n",
    "        filtered_df = filtered_df[filtered_df['City'] == city]\n",
    "    if state:\n",
    "        filtered_df = filtered_df[filtered_df['State'] == state]\n",
    "\n",
    "    # Ensure there's data to plot\n",
    "    if filtered_df.empty:\n",
    "        print(\"No data available for the selected filters.\")\n",
    "        return\n",
    "\n",
    "    # Create Sunburst chart using Plotly with customized hover information\n",
    "    try:\n",
    "        fig = px.sunburst(\n",
    "            filtered_df,\n",
    "            path=['Recalling Firm', 'Product Type', 'Product Description'],\n",
    "            values='Recall Count',  # Use the count column for visualization\n",
    "            title=f\"Top Products Recalled by {firm}\",\n",
    "            color='Product Type',\n",
    "            hover_data={\n",
    "                \"Classification\": True,\n",
    "                \"Product Description\": True,\n",
    "                \"State\": True\n",
    "            }\n",
    "        )\n",
    "        \n",
    "        # Update hover template to display only the firm name\n",
    "        fig.update_traces(\n",
    "            hovertemplate=\"<br>\".join([\n",
    "                \"Firm: \" + firm,\n",
    "                \"Classification: %{customdata[0]}\",\n",
    "                \"Product Description: %{customdata[1]}\",\n",
    "                \"State: %{customdata[2]}\"\n",
    "            ])\n",
    "        )\n",
    "        \n",
    "        fig.show()\n",
    "        \n",
    "        # Create HTML file\n",
    "        #fig.write_html(\"./output_data/fda_recalls_by_recall_firm.html\")\n",
    "        \n",
    "    except Exception as e:\n",
    "        print(f\"An error occurred while creating the Sunburst chart: {e}\")\n",
    "\n",
    "# Create the interactive UI\n",
    "interact(\n",
    "    create_sunburst_chart,\n",
    "    firm_with_count=firm_widget,\n",
    "    city=city_widget,\n",
    "    state=state_widget\n",
    ")\n",
    "\n",
    "# Update city and state dropdowns when firm is selected\n",
    "firm_widget.observe(lambda change: update_city_state_dropdown(change.new), names='value')\n"
   ]
  },
  {
   "cell_type": "code",
   "execution_count": 8,
   "metadata": {},
   "outputs": [
    {
     "name": "stdout",
     "output_type": "stream",
     "text": [
      "Class I count: 892\n",
      "Class II count: 1004\n",
      "Class III count: 104\n"
     ]
    },
    {
     "data": {
      "application/vnd.plotly.v1+json": {
       "config": {
        "plotlyServerURL": "https://plot.ly"
       },
       "data": [
        {
         "alignmentgroup": "True",
         "hovertemplate": "Classification=%{x}<br>Total Recalls=%{y}<extra></extra>",
         "legendgroup": "",
         "marker": {
          "color": "#636efa",
          "pattern": {
           "shape": ""
          }
         },
         "name": "",
         "offsetgroup": "",
         "orientation": "v",
         "showlegend": false,
         "textposition": "auto",
         "type": "bar",
         "x": [
          "Class II",
          "Class I",
          "Class III"
         ],
         "xaxis": "x",
         "y": [
          1004,
          892,
          104
         ],
         "yaxis": "y"
        }
       ],
       "layout": {
        "barmode": "relative",
        "height": 600,
        "legend": {
         "tracegroupgap": 0
        },
        "template": {
         "data": {
          "bar": [
           {
            "error_x": {
             "color": "#2a3f5f"
            },
            "error_y": {
             "color": "#2a3f5f"
            },
            "marker": {
             "line": {
              "color": "#E5ECF6",
              "width": 0.5
             },
             "pattern": {
              "fillmode": "overlay",
              "size": 10,
              "solidity": 0.2
             }
            },
            "type": "bar"
           }
          ],
          "barpolar": [
           {
            "marker": {
             "line": {
              "color": "#E5ECF6",
              "width": 0.5
             },
             "pattern": {
              "fillmode": "overlay",
              "size": 10,
              "solidity": 0.2
             }
            },
            "type": "barpolar"
           }
          ],
          "carpet": [
           {
            "aaxis": {
             "endlinecolor": "#2a3f5f",
             "gridcolor": "white",
             "linecolor": "white",
             "minorgridcolor": "white",
             "startlinecolor": "#2a3f5f"
            },
            "baxis": {
             "endlinecolor": "#2a3f5f",
             "gridcolor": "white",
             "linecolor": "white",
             "minorgridcolor": "white",
             "startlinecolor": "#2a3f5f"
            },
            "type": "carpet"
           }
          ],
          "choropleth": [
           {
            "colorbar": {
             "outlinewidth": 0,
             "ticks": ""
            },
            "type": "choropleth"
           }
          ],
          "contour": [
           {
            "colorbar": {
             "outlinewidth": 0,
             "ticks": ""
            },
            "colorscale": [
             [
              0,
              "#0d0887"
             ],
             [
              0.1111111111111111,
              "#46039f"
             ],
             [
              0.2222222222222222,
              "#7201a8"
             ],
             [
              0.3333333333333333,
              "#9c179e"
             ],
             [
              0.4444444444444444,
              "#bd3786"
             ],
             [
              0.5555555555555556,
              "#d8576b"
             ],
             [
              0.6666666666666666,
              "#ed7953"
             ],
             [
              0.7777777777777778,
              "#fb9f3a"
             ],
             [
              0.8888888888888888,
              "#fdca26"
             ],
             [
              1,
              "#f0f921"
             ]
            ],
            "type": "contour"
           }
          ],
          "contourcarpet": [
           {
            "colorbar": {
             "outlinewidth": 0,
             "ticks": ""
            },
            "type": "contourcarpet"
           }
          ],
          "heatmap": [
           {
            "colorbar": {
             "outlinewidth": 0,
             "ticks": ""
            },
            "colorscale": [
             [
              0,
              "#0d0887"
             ],
             [
              0.1111111111111111,
              "#46039f"
             ],
             [
              0.2222222222222222,
              "#7201a8"
             ],
             [
              0.3333333333333333,
              "#9c179e"
             ],
             [
              0.4444444444444444,
              "#bd3786"
             ],
             [
              0.5555555555555556,
              "#d8576b"
             ],
             [
              0.6666666666666666,
              "#ed7953"
             ],
             [
              0.7777777777777778,
              "#fb9f3a"
             ],
             [
              0.8888888888888888,
              "#fdca26"
             ],
             [
              1,
              "#f0f921"
             ]
            ],
            "type": "heatmap"
           }
          ],
          "heatmapgl": [
           {
            "colorbar": {
             "outlinewidth": 0,
             "ticks": ""
            },
            "colorscale": [
             [
              0,
              "#0d0887"
             ],
             [
              0.1111111111111111,
              "#46039f"
             ],
             [
              0.2222222222222222,
              "#7201a8"
             ],
             [
              0.3333333333333333,
              "#9c179e"
             ],
             [
              0.4444444444444444,
              "#bd3786"
             ],
             [
              0.5555555555555556,
              "#d8576b"
             ],
             [
              0.6666666666666666,
              "#ed7953"
             ],
             [
              0.7777777777777778,
              "#fb9f3a"
             ],
             [
              0.8888888888888888,
              "#fdca26"
             ],
             [
              1,
              "#f0f921"
             ]
            ],
            "type": "heatmapgl"
           }
          ],
          "histogram": [
           {
            "marker": {
             "pattern": {
              "fillmode": "overlay",
              "size": 10,
              "solidity": 0.2
             }
            },
            "type": "histogram"
           }
          ],
          "histogram2d": [
           {
            "colorbar": {
             "outlinewidth": 0,
             "ticks": ""
            },
            "colorscale": [
             [
              0,
              "#0d0887"
             ],
             [
              0.1111111111111111,
              "#46039f"
             ],
             [
              0.2222222222222222,
              "#7201a8"
             ],
             [
              0.3333333333333333,
              "#9c179e"
             ],
             [
              0.4444444444444444,
              "#bd3786"
             ],
             [
              0.5555555555555556,
              "#d8576b"
             ],
             [
              0.6666666666666666,
              "#ed7953"
             ],
             [
              0.7777777777777778,
              "#fb9f3a"
             ],
             [
              0.8888888888888888,
              "#fdca26"
             ],
             [
              1,
              "#f0f921"
             ]
            ],
            "type": "histogram2d"
           }
          ],
          "histogram2dcontour": [
           {
            "colorbar": {
             "outlinewidth": 0,
             "ticks": ""
            },
            "colorscale": [
             [
              0,
              "#0d0887"
             ],
             [
              0.1111111111111111,
              "#46039f"
             ],
             [
              0.2222222222222222,
              "#7201a8"
             ],
             [
              0.3333333333333333,
              "#9c179e"
             ],
             [
              0.4444444444444444,
              "#bd3786"
             ],
             [
              0.5555555555555556,
              "#d8576b"
             ],
             [
              0.6666666666666666,
              "#ed7953"
             ],
             [
              0.7777777777777778,
              "#fb9f3a"
             ],
             [
              0.8888888888888888,
              "#fdca26"
             ],
             [
              1,
              "#f0f921"
             ]
            ],
            "type": "histogram2dcontour"
           }
          ],
          "mesh3d": [
           {
            "colorbar": {
             "outlinewidth": 0,
             "ticks": ""
            },
            "type": "mesh3d"
           }
          ],
          "parcoords": [
           {
            "line": {
             "colorbar": {
              "outlinewidth": 0,
              "ticks": ""
             }
            },
            "type": "parcoords"
           }
          ],
          "pie": [
           {
            "automargin": true,
            "type": "pie"
           }
          ],
          "scatter": [
           {
            "fillpattern": {
             "fillmode": "overlay",
             "size": 10,
             "solidity": 0.2
            },
            "type": "scatter"
           }
          ],
          "scatter3d": [
           {
            "line": {
             "colorbar": {
              "outlinewidth": 0,
              "ticks": ""
             }
            },
            "marker": {
             "colorbar": {
              "outlinewidth": 0,
              "ticks": ""
             }
            },
            "type": "scatter3d"
           }
          ],
          "scattercarpet": [
           {
            "marker": {
             "colorbar": {
              "outlinewidth": 0,
              "ticks": ""
             }
            },
            "type": "scattercarpet"
           }
          ],
          "scattergeo": [
           {
            "marker": {
             "colorbar": {
              "outlinewidth": 0,
              "ticks": ""
             }
            },
            "type": "scattergeo"
           }
          ],
          "scattergl": [
           {
            "marker": {
             "colorbar": {
              "outlinewidth": 0,
              "ticks": ""
             }
            },
            "type": "scattergl"
           }
          ],
          "scattermapbox": [
           {
            "marker": {
             "colorbar": {
              "outlinewidth": 0,
              "ticks": ""
             }
            },
            "type": "scattermapbox"
           }
          ],
          "scatterpolar": [
           {
            "marker": {
             "colorbar": {
              "outlinewidth": 0,
              "ticks": ""
             }
            },
            "type": "scatterpolar"
           }
          ],
          "scatterpolargl": [
           {
            "marker": {
             "colorbar": {
              "outlinewidth": 0,
              "ticks": ""
             }
            },
            "type": "scatterpolargl"
           }
          ],
          "scatterternary": [
           {
            "marker": {
             "colorbar": {
              "outlinewidth": 0,
              "ticks": ""
             }
            },
            "type": "scatterternary"
           }
          ],
          "surface": [
           {
            "colorbar": {
             "outlinewidth": 0,
             "ticks": ""
            },
            "colorscale": [
             [
              0,
              "#0d0887"
             ],
             [
              0.1111111111111111,
              "#46039f"
             ],
             [
              0.2222222222222222,
              "#7201a8"
             ],
             [
              0.3333333333333333,
              "#9c179e"
             ],
             [
              0.4444444444444444,
              "#bd3786"
             ],
             [
              0.5555555555555556,
              "#d8576b"
             ],
             [
              0.6666666666666666,
              "#ed7953"
             ],
             [
              0.7777777777777778,
              "#fb9f3a"
             ],
             [
              0.8888888888888888,
              "#fdca26"
             ],
             [
              1,
              "#f0f921"
             ]
            ],
            "type": "surface"
           }
          ],
          "table": [
           {
            "cells": {
             "fill": {
              "color": "#EBF0F8"
             },
             "line": {
              "color": "white"
             }
            },
            "header": {
             "fill": {
              "color": "#C8D4E3"
             },
             "line": {
              "color": "white"
             }
            },
            "type": "table"
           }
          ]
         },
         "layout": {
          "annotationdefaults": {
           "arrowcolor": "#2a3f5f",
           "arrowhead": 0,
           "arrowwidth": 1
          },
          "autotypenumbers": "strict",
          "coloraxis": {
           "colorbar": {
            "outlinewidth": 0,
            "ticks": ""
           }
          },
          "colorscale": {
           "diverging": [
            [
             0,
             "#8e0152"
            ],
            [
             0.1,
             "#c51b7d"
            ],
            [
             0.2,
             "#de77ae"
            ],
            [
             0.3,
             "#f1b6da"
            ],
            [
             0.4,
             "#fde0ef"
            ],
            [
             0.5,
             "#f7f7f7"
            ],
            [
             0.6,
             "#e6f5d0"
            ],
            [
             0.7,
             "#b8e186"
            ],
            [
             0.8,
             "#7fbc41"
            ],
            [
             0.9,
             "#4d9221"
            ],
            [
             1,
             "#276419"
            ]
           ],
           "sequential": [
            [
             0,
             "#0d0887"
            ],
            [
             0.1111111111111111,
             "#46039f"
            ],
            [
             0.2222222222222222,
             "#7201a8"
            ],
            [
             0.3333333333333333,
             "#9c179e"
            ],
            [
             0.4444444444444444,
             "#bd3786"
            ],
            [
             0.5555555555555556,
             "#d8576b"
            ],
            [
             0.6666666666666666,
             "#ed7953"
            ],
            [
             0.7777777777777778,
             "#fb9f3a"
            ],
            [
             0.8888888888888888,
             "#fdca26"
            ],
            [
             1,
             "#f0f921"
            ]
           ],
           "sequentialminus": [
            [
             0,
             "#0d0887"
            ],
            [
             0.1111111111111111,
             "#46039f"
            ],
            [
             0.2222222222222222,
             "#7201a8"
            ],
            [
             0.3333333333333333,
             "#9c179e"
            ],
            [
             0.4444444444444444,
             "#bd3786"
            ],
            [
             0.5555555555555556,
             "#d8576b"
            ],
            [
             0.6666666666666666,
             "#ed7953"
            ],
            [
             0.7777777777777778,
             "#fb9f3a"
            ],
            [
             0.8888888888888888,
             "#fdca26"
            ],
            [
             1,
             "#f0f921"
            ]
           ]
          },
          "colorway": [
           "#636efa",
           "#EF553B",
           "#00cc96",
           "#ab63fa",
           "#FFA15A",
           "#19d3f3",
           "#FF6692",
           "#B6E880",
           "#FF97FF",
           "#FECB52"
          ],
          "font": {
           "color": "#2a3f5f"
          },
          "geo": {
           "bgcolor": "white",
           "lakecolor": "white",
           "landcolor": "#E5ECF6",
           "showlakes": true,
           "showland": true,
           "subunitcolor": "white"
          },
          "hoverlabel": {
           "align": "left"
          },
          "hovermode": "closest",
          "mapbox": {
           "style": "light"
          },
          "paper_bgcolor": "white",
          "plot_bgcolor": "#E5ECF6",
          "polar": {
           "angularaxis": {
            "gridcolor": "white",
            "linecolor": "white",
            "ticks": ""
           },
           "bgcolor": "#E5ECF6",
           "radialaxis": {
            "gridcolor": "white",
            "linecolor": "white",
            "ticks": ""
           }
          },
          "scene": {
           "xaxis": {
            "backgroundcolor": "#E5ECF6",
            "gridcolor": "white",
            "gridwidth": 2,
            "linecolor": "white",
            "showbackground": true,
            "ticks": "",
            "zerolinecolor": "white"
           },
           "yaxis": {
            "backgroundcolor": "#E5ECF6",
            "gridcolor": "white",
            "gridwidth": 2,
            "linecolor": "white",
            "showbackground": true,
            "ticks": "",
            "zerolinecolor": "white"
           },
           "zaxis": {
            "backgroundcolor": "#E5ECF6",
            "gridcolor": "white",
            "gridwidth": 2,
            "linecolor": "white",
            "showbackground": true,
            "ticks": "",
            "zerolinecolor": "white"
           }
          },
          "shapedefaults": {
           "line": {
            "color": "#2a3f5f"
           }
          },
          "ternary": {
           "aaxis": {
            "gridcolor": "white",
            "linecolor": "white",
            "ticks": ""
           },
           "baxis": {
            "gridcolor": "white",
            "linecolor": "white",
            "ticks": ""
           },
           "bgcolor": "#E5ECF6",
           "caxis": {
            "gridcolor": "white",
            "linecolor": "white",
            "ticks": ""
           }
          },
          "title": {
           "x": 0.05
          },
          "xaxis": {
           "automargin": true,
           "gridcolor": "white",
           "linecolor": "white",
           "ticks": "",
           "title": {
            "standoff": 15
           },
           "zerolinecolor": "white",
           "zerolinewidth": 2
          },
          "yaxis": {
           "automargin": true,
           "gridcolor": "white",
           "linecolor": "white",
           "ticks": "",
           "title": {
            "standoff": 15
           },
           "zerolinecolor": "white",
           "zerolinewidth": 2
          }
         }
        },
        "title": {
         "text": "Total Recalls by Classification (Class I, II, III)",
         "x": 0.5
        },
        "width": 800,
        "xaxis": {
         "anchor": "y",
         "domain": [
          0,
          1
         ],
         "title": {
          "text": "Classification"
         }
        },
        "yaxis": {
         "anchor": "x",
         "domain": [
          0,
          1
         ],
         "title": {
          "text": "Total Recalls"
         }
        }
       }
      }
     },
     "metadata": {},
     "output_type": "display_data"
    }
   ],
   "source": [
    "# Ensure Classification type exist\n",
    "if 'Classification' not in db_df.columns:\n",
    "    raise ValueError(\"Data is missing necessary column: 'Classification'.\")\n",
    "\n",
    "# Check distribution\n",
    "classification_counts = db_df['Classification'].value_counts()\n",
    "\n",
    "# Output count \n",
    "print(\"Class I count:\", classification_counts.get('Class I', 0))\n",
    "print(\"Class II count:\", classification_counts.get('Class II', 0))\n",
    "print(\"Class III count:\", classification_counts.get('Class III', 0))\n",
    "\n",
    "# Create graph\n",
    "fig = px.bar(\n",
    "    classification_counts,\n",
    "    x=classification_counts.index,  # Class name\n",
    "    y=classification_counts.values,  # Recall count\n",
    "    labels={'x': 'Recall Classification', 'y': 'Total Recalls'},\n",
    "    title=\"Total Recalls by Classification (Class I, II, III)\"\n",
    ")\n",
    "\n",
    "# Update graph\n",
    "fig.update_layout(\n",
    "    xaxis_title=\"Classification\",\n",
    "    yaxis_title=\"Total Recalls\",\n",
    "    title_x=0.5,  \n",
    "    height=600,\n",
    "    width=800\n",
    ")\n",
    "\n",
    "# Display\n",
    "fig.show()"
   ]
  },
  {
   "cell_type": "markdown",
   "metadata": {},
   "source": [
    "#Class I:\n",
    "#Definition: A situation where there is a reasonable probability that the use of or exposure to a violative product will cause serious adverse health consequences or death.\n",
    "\n",
    "#Class II:\n",
    "#Definition: A situation where the use of or exposure to a violative product may cause temporary or medically reversible adverse health consequences, or where the probability of serious adverse health consequences is remote.\n",
    "\n",
    "#Class III:\n",
    "#Definition: A situation where the use of or exposure to a violative product is not likely to cause adverse health consequences.."
   ]
  },
  {
   "cell_type": "code",
   "execution_count": 12,
   "metadata": {},
   "outputs": [
    {
     "data": {
      "text/plain": [
       "Classification\n",
       "Class II     1004\n",
       "Class I       892\n",
       "Class III     104\n",
       "Name: count, dtype: int64"
      ]
     },
     "execution_count": 12,
     "metadata": {},
     "output_type": "execute_result"
    }
   ],
   "source": [
    "classification_counts"
   ]
  },
  {
   "cell_type": "code",
   "execution_count": 11,
   "metadata": {},
   "outputs": [
    {
     "data": {
      "application/vnd.plotly.v1+json": {
       "config": {
        "plotlyServerURL": "https://plot.ly"
       },
       "data": [
        {
         "colorbar": {
          "title": {
           "text": "Class I"
          }
         },
         "colorscale": [
          [
           0,
           "rgb(255,245,240)"
          ],
          [
           0.125,
           "rgb(254,224,210)"
          ],
          [
           0.25,
           "rgb(252,187,161)"
          ],
          [
           0.375,
           "rgb(252,146,114)"
          ],
          [
           0.5,
           "rgb(251,106,74)"
          ],
          [
           0.625,
           "rgb(239,59,44)"
          ],
          [
           0.75,
           "rgb(203,24,29)"
          ],
          [
           0.875,
           "rgb(165,15,21)"
          ],
          [
           1,
           "rgb(103,0,13)"
          ]
         ],
         "locationmode": "USA-states",
         "locations": [
          "",
          "AL",
          "AR",
          "AZ",
          "CA",
          "CO",
          "CT",
          "DE",
          "FL",
          "GA",
          "IA",
          "ID",
          "IL",
          "IN",
          "KS",
          "KY",
          "MA",
          "MD",
          "MI",
          "MN",
          "MO",
          "MS",
          "N/A",
          "NC",
          "ND",
          "NE",
          "NH",
          "NJ",
          "NM",
          "NV",
          "NY",
          "OH",
          "OK",
          "OR",
          "PA",
          "PR",
          "SC",
          "TX",
          "UT",
          "VA",
          "VT",
          "WA",
          "WI",
          "WY"
         ],
         "marker": {
          "line": {
           "color": "white"
          }
         },
         "type": "choropleth",
         "z": [
          24,
          0,
          0,
          12,
          108,
          8,
          4,
          4,
          36,
          52,
          16,
          16,
          76,
          0,
          20,
          0,
          16,
          136,
          40,
          24,
          8,
          0,
          0,
          16,
          0,
          0,
          0,
          12,
          0,
          4,
          88,
          72,
          0,
          20,
          16,
          0,
          0,
          24,
          4,
          8,
          16,
          4,
          8,
          0
         ]
        }
       ],
       "layout": {
        "geo": {
         "lakecolor": "rgb(255, 255, 255)",
         "projection": {
          "type": "albers usa"
         },
         "scope": "usa"
        },
        "margin": {
         "b": 0,
         "l": 0,
         "r": 0,
         "t": 50
        },
        "template": {
         "data": {
          "bar": [
           {
            "error_x": {
             "color": "#2a3f5f"
            },
            "error_y": {
             "color": "#2a3f5f"
            },
            "marker": {
             "line": {
              "color": "#E5ECF6",
              "width": 0.5
             },
             "pattern": {
              "fillmode": "overlay",
              "size": 10,
              "solidity": 0.2
             }
            },
            "type": "bar"
           }
          ],
          "barpolar": [
           {
            "marker": {
             "line": {
              "color": "#E5ECF6",
              "width": 0.5
             },
             "pattern": {
              "fillmode": "overlay",
              "size": 10,
              "solidity": 0.2
             }
            },
            "type": "barpolar"
           }
          ],
          "carpet": [
           {
            "aaxis": {
             "endlinecolor": "#2a3f5f",
             "gridcolor": "white",
             "linecolor": "white",
             "minorgridcolor": "white",
             "startlinecolor": "#2a3f5f"
            },
            "baxis": {
             "endlinecolor": "#2a3f5f",
             "gridcolor": "white",
             "linecolor": "white",
             "minorgridcolor": "white",
             "startlinecolor": "#2a3f5f"
            },
            "type": "carpet"
           }
          ],
          "choropleth": [
           {
            "colorbar": {
             "outlinewidth": 0,
             "ticks": ""
            },
            "type": "choropleth"
           }
          ],
          "contour": [
           {
            "colorbar": {
             "outlinewidth": 0,
             "ticks": ""
            },
            "colorscale": [
             [
              0,
              "#0d0887"
             ],
             [
              0.1111111111111111,
              "#46039f"
             ],
             [
              0.2222222222222222,
              "#7201a8"
             ],
             [
              0.3333333333333333,
              "#9c179e"
             ],
             [
              0.4444444444444444,
              "#bd3786"
             ],
             [
              0.5555555555555556,
              "#d8576b"
             ],
             [
              0.6666666666666666,
              "#ed7953"
             ],
             [
              0.7777777777777778,
              "#fb9f3a"
             ],
             [
              0.8888888888888888,
              "#fdca26"
             ],
             [
              1,
              "#f0f921"
             ]
            ],
            "type": "contour"
           }
          ],
          "contourcarpet": [
           {
            "colorbar": {
             "outlinewidth": 0,
             "ticks": ""
            },
            "type": "contourcarpet"
           }
          ],
          "heatmap": [
           {
            "colorbar": {
             "outlinewidth": 0,
             "ticks": ""
            },
            "colorscale": [
             [
              0,
              "#0d0887"
             ],
             [
              0.1111111111111111,
              "#46039f"
             ],
             [
              0.2222222222222222,
              "#7201a8"
             ],
             [
              0.3333333333333333,
              "#9c179e"
             ],
             [
              0.4444444444444444,
              "#bd3786"
             ],
             [
              0.5555555555555556,
              "#d8576b"
             ],
             [
              0.6666666666666666,
              "#ed7953"
             ],
             [
              0.7777777777777778,
              "#fb9f3a"
             ],
             [
              0.8888888888888888,
              "#fdca26"
             ],
             [
              1,
              "#f0f921"
             ]
            ],
            "type": "heatmap"
           }
          ],
          "heatmapgl": [
           {
            "colorbar": {
             "outlinewidth": 0,
             "ticks": ""
            },
            "colorscale": [
             [
              0,
              "#0d0887"
             ],
             [
              0.1111111111111111,
              "#46039f"
             ],
             [
              0.2222222222222222,
              "#7201a8"
             ],
             [
              0.3333333333333333,
              "#9c179e"
             ],
             [
              0.4444444444444444,
              "#bd3786"
             ],
             [
              0.5555555555555556,
              "#d8576b"
             ],
             [
              0.6666666666666666,
              "#ed7953"
             ],
             [
              0.7777777777777778,
              "#fb9f3a"
             ],
             [
              0.8888888888888888,
              "#fdca26"
             ],
             [
              1,
              "#f0f921"
             ]
            ],
            "type": "heatmapgl"
           }
          ],
          "histogram": [
           {
            "marker": {
             "pattern": {
              "fillmode": "overlay",
              "size": 10,
              "solidity": 0.2
             }
            },
            "type": "histogram"
           }
          ],
          "histogram2d": [
           {
            "colorbar": {
             "outlinewidth": 0,
             "ticks": ""
            },
            "colorscale": [
             [
              0,
              "#0d0887"
             ],
             [
              0.1111111111111111,
              "#46039f"
             ],
             [
              0.2222222222222222,
              "#7201a8"
             ],
             [
              0.3333333333333333,
              "#9c179e"
             ],
             [
              0.4444444444444444,
              "#bd3786"
             ],
             [
              0.5555555555555556,
              "#d8576b"
             ],
             [
              0.6666666666666666,
              "#ed7953"
             ],
             [
              0.7777777777777778,
              "#fb9f3a"
             ],
             [
              0.8888888888888888,
              "#fdca26"
             ],
             [
              1,
              "#f0f921"
             ]
            ],
            "type": "histogram2d"
           }
          ],
          "histogram2dcontour": [
           {
            "colorbar": {
             "outlinewidth": 0,
             "ticks": ""
            },
            "colorscale": [
             [
              0,
              "#0d0887"
             ],
             [
              0.1111111111111111,
              "#46039f"
             ],
             [
              0.2222222222222222,
              "#7201a8"
             ],
             [
              0.3333333333333333,
              "#9c179e"
             ],
             [
              0.4444444444444444,
              "#bd3786"
             ],
             [
              0.5555555555555556,
              "#d8576b"
             ],
             [
              0.6666666666666666,
              "#ed7953"
             ],
             [
              0.7777777777777778,
              "#fb9f3a"
             ],
             [
              0.8888888888888888,
              "#fdca26"
             ],
             [
              1,
              "#f0f921"
             ]
            ],
            "type": "histogram2dcontour"
           }
          ],
          "mesh3d": [
           {
            "colorbar": {
             "outlinewidth": 0,
             "ticks": ""
            },
            "type": "mesh3d"
           }
          ],
          "parcoords": [
           {
            "line": {
             "colorbar": {
              "outlinewidth": 0,
              "ticks": ""
             }
            },
            "type": "parcoords"
           }
          ],
          "pie": [
           {
            "automargin": true,
            "type": "pie"
           }
          ],
          "scatter": [
           {
            "fillpattern": {
             "fillmode": "overlay",
             "size": 10,
             "solidity": 0.2
            },
            "type": "scatter"
           }
          ],
          "scatter3d": [
           {
            "line": {
             "colorbar": {
              "outlinewidth": 0,
              "ticks": ""
             }
            },
            "marker": {
             "colorbar": {
              "outlinewidth": 0,
              "ticks": ""
             }
            },
            "type": "scatter3d"
           }
          ],
          "scattercarpet": [
           {
            "marker": {
             "colorbar": {
              "outlinewidth": 0,
              "ticks": ""
             }
            },
            "type": "scattercarpet"
           }
          ],
          "scattergeo": [
           {
            "marker": {
             "colorbar": {
              "outlinewidth": 0,
              "ticks": ""
             }
            },
            "type": "scattergeo"
           }
          ],
          "scattergl": [
           {
            "marker": {
             "colorbar": {
              "outlinewidth": 0,
              "ticks": ""
             }
            },
            "type": "scattergl"
           }
          ],
          "scattermapbox": [
           {
            "marker": {
             "colorbar": {
              "outlinewidth": 0,
              "ticks": ""
             }
            },
            "type": "scattermapbox"
           }
          ],
          "scatterpolar": [
           {
            "marker": {
             "colorbar": {
              "outlinewidth": 0,
              "ticks": ""
             }
            },
            "type": "scatterpolar"
           }
          ],
          "scatterpolargl": [
           {
            "marker": {
             "colorbar": {
              "outlinewidth": 0,
              "ticks": ""
             }
            },
            "type": "scatterpolargl"
           }
          ],
          "scatterternary": [
           {
            "marker": {
             "colorbar": {
              "outlinewidth": 0,
              "ticks": ""
             }
            },
            "type": "scatterternary"
           }
          ],
          "surface": [
           {
            "colorbar": {
             "outlinewidth": 0,
             "ticks": ""
            },
            "colorscale": [
             [
              0,
              "#0d0887"
             ],
             [
              0.1111111111111111,
              "#46039f"
             ],
             [
              0.2222222222222222,
              "#7201a8"
             ],
             [
              0.3333333333333333,
              "#9c179e"
             ],
             [
              0.4444444444444444,
              "#bd3786"
             ],
             [
              0.5555555555555556,
              "#d8576b"
             ],
             [
              0.6666666666666666,
              "#ed7953"
             ],
             [
              0.7777777777777778,
              "#fb9f3a"
             ],
             [
              0.8888888888888888,
              "#fdca26"
             ],
             [
              1,
              "#f0f921"
             ]
            ],
            "type": "surface"
           }
          ],
          "table": [
           {
            "cells": {
             "fill": {
              "color": "#EBF0F8"
             },
             "line": {
              "color": "white"
             }
            },
            "header": {
             "fill": {
              "color": "#C8D4E3"
             },
             "line": {
              "color": "white"
             }
            },
            "type": "table"
           }
          ]
         },
         "layout": {
          "annotationdefaults": {
           "arrowcolor": "#2a3f5f",
           "arrowhead": 0,
           "arrowwidth": 1
          },
          "autotypenumbers": "strict",
          "coloraxis": {
           "colorbar": {
            "outlinewidth": 0,
            "ticks": ""
           }
          },
          "colorscale": {
           "diverging": [
            [
             0,
             "#8e0152"
            ],
            [
             0.1,
             "#c51b7d"
            ],
            [
             0.2,
             "#de77ae"
            ],
            [
             0.3,
             "#f1b6da"
            ],
            [
             0.4,
             "#fde0ef"
            ],
            [
             0.5,
             "#f7f7f7"
            ],
            [
             0.6,
             "#e6f5d0"
            ],
            [
             0.7,
             "#b8e186"
            ],
            [
             0.8,
             "#7fbc41"
            ],
            [
             0.9,
             "#4d9221"
            ],
            [
             1,
             "#276419"
            ]
           ],
           "sequential": [
            [
             0,
             "#0d0887"
            ],
            [
             0.1111111111111111,
             "#46039f"
            ],
            [
             0.2222222222222222,
             "#7201a8"
            ],
            [
             0.3333333333333333,
             "#9c179e"
            ],
            [
             0.4444444444444444,
             "#bd3786"
            ],
            [
             0.5555555555555556,
             "#d8576b"
            ],
            [
             0.6666666666666666,
             "#ed7953"
            ],
            [
             0.7777777777777778,
             "#fb9f3a"
            ],
            [
             0.8888888888888888,
             "#fdca26"
            ],
            [
             1,
             "#f0f921"
            ]
           ],
           "sequentialminus": [
            [
             0,
             "#0d0887"
            ],
            [
             0.1111111111111111,
             "#46039f"
            ],
            [
             0.2222222222222222,
             "#7201a8"
            ],
            [
             0.3333333333333333,
             "#9c179e"
            ],
            [
             0.4444444444444444,
             "#bd3786"
            ],
            [
             0.5555555555555556,
             "#d8576b"
            ],
            [
             0.6666666666666666,
             "#ed7953"
            ],
            [
             0.7777777777777778,
             "#fb9f3a"
            ],
            [
             0.8888888888888888,
             "#fdca26"
            ],
            [
             1,
             "#f0f921"
            ]
           ]
          },
          "colorway": [
           "#636efa",
           "#EF553B",
           "#00cc96",
           "#ab63fa",
           "#FFA15A",
           "#19d3f3",
           "#FF6692",
           "#B6E880",
           "#FF97FF",
           "#FECB52"
          ],
          "font": {
           "color": "#2a3f5f"
          },
          "geo": {
           "bgcolor": "white",
           "lakecolor": "white",
           "landcolor": "#E5ECF6",
           "showlakes": true,
           "showland": true,
           "subunitcolor": "white"
          },
          "hoverlabel": {
           "align": "left"
          },
          "hovermode": "closest",
          "mapbox": {
           "style": "light"
          },
          "paper_bgcolor": "white",
          "plot_bgcolor": "#E5ECF6",
          "polar": {
           "angularaxis": {
            "gridcolor": "white",
            "linecolor": "white",
            "ticks": ""
           },
           "bgcolor": "#E5ECF6",
           "radialaxis": {
            "gridcolor": "white",
            "linecolor": "white",
            "ticks": ""
           }
          },
          "scene": {
           "xaxis": {
            "backgroundcolor": "#E5ECF6",
            "gridcolor": "white",
            "gridwidth": 2,
            "linecolor": "white",
            "showbackground": true,
            "ticks": "",
            "zerolinecolor": "white"
           },
           "yaxis": {
            "backgroundcolor": "#E5ECF6",
            "gridcolor": "white",
            "gridwidth": 2,
            "linecolor": "white",
            "showbackground": true,
            "ticks": "",
            "zerolinecolor": "white"
           },
           "zaxis": {
            "backgroundcolor": "#E5ECF6",
            "gridcolor": "white",
            "gridwidth": 2,
            "linecolor": "white",
            "showbackground": true,
            "ticks": "",
            "zerolinecolor": "white"
           }
          },
          "shapedefaults": {
           "line": {
            "color": "#2a3f5f"
           }
          },
          "ternary": {
           "aaxis": {
            "gridcolor": "white",
            "linecolor": "white",
            "ticks": ""
           },
           "baxis": {
            "gridcolor": "white",
            "linecolor": "white",
            "ticks": ""
           },
           "bgcolor": "#E5ECF6",
           "caxis": {
            "gridcolor": "white",
            "linecolor": "white",
            "ticks": ""
           }
          },
          "title": {
           "x": 0.05
          },
          "xaxis": {
           "automargin": true,
           "gridcolor": "white",
           "linecolor": "white",
           "ticks": "",
           "title": {
            "standoff": 15
           },
           "zerolinecolor": "white",
           "zerolinewidth": 2
          },
          "yaxis": {
           "automargin": true,
           "gridcolor": "white",
           "linecolor": "white",
           "ticks": "",
           "title": {
            "standoff": 15
           },
           "zerolinecolor": "white",
           "zerolinewidth": 2
          }
         }
        },
        "title": {
         "text": "Distribution of Class I Recalls across USA"
        }
       }
      }
     },
     "metadata": {},
     "output_type": "display_data"
    },
    {
     "data": {
      "application/vnd.plotly.v1+json": {
       "config": {
        "plotlyServerURL": "https://plot.ly"
       },
       "data": [
        {
         "colorbar": {
          "title": {
           "text": "Class II"
          }
         },
         "colorscale": [
          [
           0,
           "rgb(247,251,255)"
          ],
          [
           0.125,
           "rgb(222,235,247)"
          ],
          [
           0.25,
           "rgb(198,219,239)"
          ],
          [
           0.375,
           "rgb(158,202,225)"
          ],
          [
           0.5,
           "rgb(107,174,214)"
          ],
          [
           0.625,
           "rgb(66,146,198)"
          ],
          [
           0.75,
           "rgb(33,113,181)"
          ],
          [
           0.875,
           "rgb(8,81,156)"
          ],
          [
           1,
           "rgb(8,48,107)"
          ]
         ],
         "locationmode": "USA-states",
         "locations": [
          "",
          "AL",
          "AR",
          "AZ",
          "CA",
          "CO",
          "CT",
          "DE",
          "FL",
          "GA",
          "IA",
          "ID",
          "IL",
          "IN",
          "KS",
          "KY",
          "MA",
          "MD",
          "MI",
          "MN",
          "MO",
          "MS",
          "N/A",
          "NC",
          "ND",
          "NE",
          "NH",
          "NJ",
          "NM",
          "NV",
          "NY",
          "OH",
          "OK",
          "OR",
          "PA",
          "PR",
          "SC",
          "TX",
          "UT",
          "VA",
          "VT",
          "WA",
          "WI",
          "WY"
         ],
         "marker": {
          "line": {
           "color": "white"
          }
         },
         "type": "choropleth",
         "z": [
          0,
          4,
          8,
          8,
          92,
          12,
          12,
          0,
          68,
          32,
          12,
          12,
          44,
          16,
          8,
          4,
          20,
          40,
          8,
          24,
          8,
          4,
          12,
          8,
          4,
          4,
          12,
          32,
          36,
          0,
          88,
          88,
          4,
          32,
          32,
          4,
          8,
          36,
          24,
          24,
          12,
          64,
          28,
          16
         ]
        }
       ],
       "layout": {
        "geo": {
         "lakecolor": "rgb(255, 255, 255)",
         "projection": {
          "type": "albers usa"
         },
         "scope": "usa"
        },
        "margin": {
         "b": 0,
         "l": 0,
         "r": 0,
         "t": 50
        },
        "template": {
         "data": {
          "bar": [
           {
            "error_x": {
             "color": "#2a3f5f"
            },
            "error_y": {
             "color": "#2a3f5f"
            },
            "marker": {
             "line": {
              "color": "#E5ECF6",
              "width": 0.5
             },
             "pattern": {
              "fillmode": "overlay",
              "size": 10,
              "solidity": 0.2
             }
            },
            "type": "bar"
           }
          ],
          "barpolar": [
           {
            "marker": {
             "line": {
              "color": "#E5ECF6",
              "width": 0.5
             },
             "pattern": {
              "fillmode": "overlay",
              "size": 10,
              "solidity": 0.2
             }
            },
            "type": "barpolar"
           }
          ],
          "carpet": [
           {
            "aaxis": {
             "endlinecolor": "#2a3f5f",
             "gridcolor": "white",
             "linecolor": "white",
             "minorgridcolor": "white",
             "startlinecolor": "#2a3f5f"
            },
            "baxis": {
             "endlinecolor": "#2a3f5f",
             "gridcolor": "white",
             "linecolor": "white",
             "minorgridcolor": "white",
             "startlinecolor": "#2a3f5f"
            },
            "type": "carpet"
           }
          ],
          "choropleth": [
           {
            "colorbar": {
             "outlinewidth": 0,
             "ticks": ""
            },
            "type": "choropleth"
           }
          ],
          "contour": [
           {
            "colorbar": {
             "outlinewidth": 0,
             "ticks": ""
            },
            "colorscale": [
             [
              0,
              "#0d0887"
             ],
             [
              0.1111111111111111,
              "#46039f"
             ],
             [
              0.2222222222222222,
              "#7201a8"
             ],
             [
              0.3333333333333333,
              "#9c179e"
             ],
             [
              0.4444444444444444,
              "#bd3786"
             ],
             [
              0.5555555555555556,
              "#d8576b"
             ],
             [
              0.6666666666666666,
              "#ed7953"
             ],
             [
              0.7777777777777778,
              "#fb9f3a"
             ],
             [
              0.8888888888888888,
              "#fdca26"
             ],
             [
              1,
              "#f0f921"
             ]
            ],
            "type": "contour"
           }
          ],
          "contourcarpet": [
           {
            "colorbar": {
             "outlinewidth": 0,
             "ticks": ""
            },
            "type": "contourcarpet"
           }
          ],
          "heatmap": [
           {
            "colorbar": {
             "outlinewidth": 0,
             "ticks": ""
            },
            "colorscale": [
             [
              0,
              "#0d0887"
             ],
             [
              0.1111111111111111,
              "#46039f"
             ],
             [
              0.2222222222222222,
              "#7201a8"
             ],
             [
              0.3333333333333333,
              "#9c179e"
             ],
             [
              0.4444444444444444,
              "#bd3786"
             ],
             [
              0.5555555555555556,
              "#d8576b"
             ],
             [
              0.6666666666666666,
              "#ed7953"
             ],
             [
              0.7777777777777778,
              "#fb9f3a"
             ],
             [
              0.8888888888888888,
              "#fdca26"
             ],
             [
              1,
              "#f0f921"
             ]
            ],
            "type": "heatmap"
           }
          ],
          "heatmapgl": [
           {
            "colorbar": {
             "outlinewidth": 0,
             "ticks": ""
            },
            "colorscale": [
             [
              0,
              "#0d0887"
             ],
             [
              0.1111111111111111,
              "#46039f"
             ],
             [
              0.2222222222222222,
              "#7201a8"
             ],
             [
              0.3333333333333333,
              "#9c179e"
             ],
             [
              0.4444444444444444,
              "#bd3786"
             ],
             [
              0.5555555555555556,
              "#d8576b"
             ],
             [
              0.6666666666666666,
              "#ed7953"
             ],
             [
              0.7777777777777778,
              "#fb9f3a"
             ],
             [
              0.8888888888888888,
              "#fdca26"
             ],
             [
              1,
              "#f0f921"
             ]
            ],
            "type": "heatmapgl"
           }
          ],
          "histogram": [
           {
            "marker": {
             "pattern": {
              "fillmode": "overlay",
              "size": 10,
              "solidity": 0.2
             }
            },
            "type": "histogram"
           }
          ],
          "histogram2d": [
           {
            "colorbar": {
             "outlinewidth": 0,
             "ticks": ""
            },
            "colorscale": [
             [
              0,
              "#0d0887"
             ],
             [
              0.1111111111111111,
              "#46039f"
             ],
             [
              0.2222222222222222,
              "#7201a8"
             ],
             [
              0.3333333333333333,
              "#9c179e"
             ],
             [
              0.4444444444444444,
              "#bd3786"
             ],
             [
              0.5555555555555556,
              "#d8576b"
             ],
             [
              0.6666666666666666,
              "#ed7953"
             ],
             [
              0.7777777777777778,
              "#fb9f3a"
             ],
             [
              0.8888888888888888,
              "#fdca26"
             ],
             [
              1,
              "#f0f921"
             ]
            ],
            "type": "histogram2d"
           }
          ],
          "histogram2dcontour": [
           {
            "colorbar": {
             "outlinewidth": 0,
             "ticks": ""
            },
            "colorscale": [
             [
              0,
              "#0d0887"
             ],
             [
              0.1111111111111111,
              "#46039f"
             ],
             [
              0.2222222222222222,
              "#7201a8"
             ],
             [
              0.3333333333333333,
              "#9c179e"
             ],
             [
              0.4444444444444444,
              "#bd3786"
             ],
             [
              0.5555555555555556,
              "#d8576b"
             ],
             [
              0.6666666666666666,
              "#ed7953"
             ],
             [
              0.7777777777777778,
              "#fb9f3a"
             ],
             [
              0.8888888888888888,
              "#fdca26"
             ],
             [
              1,
              "#f0f921"
             ]
            ],
            "type": "histogram2dcontour"
           }
          ],
          "mesh3d": [
           {
            "colorbar": {
             "outlinewidth": 0,
             "ticks": ""
            },
            "type": "mesh3d"
           }
          ],
          "parcoords": [
           {
            "line": {
             "colorbar": {
              "outlinewidth": 0,
              "ticks": ""
             }
            },
            "type": "parcoords"
           }
          ],
          "pie": [
           {
            "automargin": true,
            "type": "pie"
           }
          ],
          "scatter": [
           {
            "fillpattern": {
             "fillmode": "overlay",
             "size": 10,
             "solidity": 0.2
            },
            "type": "scatter"
           }
          ],
          "scatter3d": [
           {
            "line": {
             "colorbar": {
              "outlinewidth": 0,
              "ticks": ""
             }
            },
            "marker": {
             "colorbar": {
              "outlinewidth": 0,
              "ticks": ""
             }
            },
            "type": "scatter3d"
           }
          ],
          "scattercarpet": [
           {
            "marker": {
             "colorbar": {
              "outlinewidth": 0,
              "ticks": ""
             }
            },
            "type": "scattercarpet"
           }
          ],
          "scattergeo": [
           {
            "marker": {
             "colorbar": {
              "outlinewidth": 0,
              "ticks": ""
             }
            },
            "type": "scattergeo"
           }
          ],
          "scattergl": [
           {
            "marker": {
             "colorbar": {
              "outlinewidth": 0,
              "ticks": ""
             }
            },
            "type": "scattergl"
           }
          ],
          "scattermapbox": [
           {
            "marker": {
             "colorbar": {
              "outlinewidth": 0,
              "ticks": ""
             }
            },
            "type": "scattermapbox"
           }
          ],
          "scatterpolar": [
           {
            "marker": {
             "colorbar": {
              "outlinewidth": 0,
              "ticks": ""
             }
            },
            "type": "scatterpolar"
           }
          ],
          "scatterpolargl": [
           {
            "marker": {
             "colorbar": {
              "outlinewidth": 0,
              "ticks": ""
             }
            },
            "type": "scatterpolargl"
           }
          ],
          "scatterternary": [
           {
            "marker": {
             "colorbar": {
              "outlinewidth": 0,
              "ticks": ""
             }
            },
            "type": "scatterternary"
           }
          ],
          "surface": [
           {
            "colorbar": {
             "outlinewidth": 0,
             "ticks": ""
            },
            "colorscale": [
             [
              0,
              "#0d0887"
             ],
             [
              0.1111111111111111,
              "#46039f"
             ],
             [
              0.2222222222222222,
              "#7201a8"
             ],
             [
              0.3333333333333333,
              "#9c179e"
             ],
             [
              0.4444444444444444,
              "#bd3786"
             ],
             [
              0.5555555555555556,
              "#d8576b"
             ],
             [
              0.6666666666666666,
              "#ed7953"
             ],
             [
              0.7777777777777778,
              "#fb9f3a"
             ],
             [
              0.8888888888888888,
              "#fdca26"
             ],
             [
              1,
              "#f0f921"
             ]
            ],
            "type": "surface"
           }
          ],
          "table": [
           {
            "cells": {
             "fill": {
              "color": "#EBF0F8"
             },
             "line": {
              "color": "white"
             }
            },
            "header": {
             "fill": {
              "color": "#C8D4E3"
             },
             "line": {
              "color": "white"
             }
            },
            "type": "table"
           }
          ]
         },
         "layout": {
          "annotationdefaults": {
           "arrowcolor": "#2a3f5f",
           "arrowhead": 0,
           "arrowwidth": 1
          },
          "autotypenumbers": "strict",
          "coloraxis": {
           "colorbar": {
            "outlinewidth": 0,
            "ticks": ""
           }
          },
          "colorscale": {
           "diverging": [
            [
             0,
             "#8e0152"
            ],
            [
             0.1,
             "#c51b7d"
            ],
            [
             0.2,
             "#de77ae"
            ],
            [
             0.3,
             "#f1b6da"
            ],
            [
             0.4,
             "#fde0ef"
            ],
            [
             0.5,
             "#f7f7f7"
            ],
            [
             0.6,
             "#e6f5d0"
            ],
            [
             0.7,
             "#b8e186"
            ],
            [
             0.8,
             "#7fbc41"
            ],
            [
             0.9,
             "#4d9221"
            ],
            [
             1,
             "#276419"
            ]
           ],
           "sequential": [
            [
             0,
             "#0d0887"
            ],
            [
             0.1111111111111111,
             "#46039f"
            ],
            [
             0.2222222222222222,
             "#7201a8"
            ],
            [
             0.3333333333333333,
             "#9c179e"
            ],
            [
             0.4444444444444444,
             "#bd3786"
            ],
            [
             0.5555555555555556,
             "#d8576b"
            ],
            [
             0.6666666666666666,
             "#ed7953"
            ],
            [
             0.7777777777777778,
             "#fb9f3a"
            ],
            [
             0.8888888888888888,
             "#fdca26"
            ],
            [
             1,
             "#f0f921"
            ]
           ],
           "sequentialminus": [
            [
             0,
             "#0d0887"
            ],
            [
             0.1111111111111111,
             "#46039f"
            ],
            [
             0.2222222222222222,
             "#7201a8"
            ],
            [
             0.3333333333333333,
             "#9c179e"
            ],
            [
             0.4444444444444444,
             "#bd3786"
            ],
            [
             0.5555555555555556,
             "#d8576b"
            ],
            [
             0.6666666666666666,
             "#ed7953"
            ],
            [
             0.7777777777777778,
             "#fb9f3a"
            ],
            [
             0.8888888888888888,
             "#fdca26"
            ],
            [
             1,
             "#f0f921"
            ]
           ]
          },
          "colorway": [
           "#636efa",
           "#EF553B",
           "#00cc96",
           "#ab63fa",
           "#FFA15A",
           "#19d3f3",
           "#FF6692",
           "#B6E880",
           "#FF97FF",
           "#FECB52"
          ],
          "font": {
           "color": "#2a3f5f"
          },
          "geo": {
           "bgcolor": "white",
           "lakecolor": "white",
           "landcolor": "#E5ECF6",
           "showlakes": true,
           "showland": true,
           "subunitcolor": "white"
          },
          "hoverlabel": {
           "align": "left"
          },
          "hovermode": "closest",
          "mapbox": {
           "style": "light"
          },
          "paper_bgcolor": "white",
          "plot_bgcolor": "#E5ECF6",
          "polar": {
           "angularaxis": {
            "gridcolor": "white",
            "linecolor": "white",
            "ticks": ""
           },
           "bgcolor": "#E5ECF6",
           "radialaxis": {
            "gridcolor": "white",
            "linecolor": "white",
            "ticks": ""
           }
          },
          "scene": {
           "xaxis": {
            "backgroundcolor": "#E5ECF6",
            "gridcolor": "white",
            "gridwidth": 2,
            "linecolor": "white",
            "showbackground": true,
            "ticks": "",
            "zerolinecolor": "white"
           },
           "yaxis": {
            "backgroundcolor": "#E5ECF6",
            "gridcolor": "white",
            "gridwidth": 2,
            "linecolor": "white",
            "showbackground": true,
            "ticks": "",
            "zerolinecolor": "white"
           },
           "zaxis": {
            "backgroundcolor": "#E5ECF6",
            "gridcolor": "white",
            "gridwidth": 2,
            "linecolor": "white",
            "showbackground": true,
            "ticks": "",
            "zerolinecolor": "white"
           }
          },
          "shapedefaults": {
           "line": {
            "color": "#2a3f5f"
           }
          },
          "ternary": {
           "aaxis": {
            "gridcolor": "white",
            "linecolor": "white",
            "ticks": ""
           },
           "baxis": {
            "gridcolor": "white",
            "linecolor": "white",
            "ticks": ""
           },
           "bgcolor": "#E5ECF6",
           "caxis": {
            "gridcolor": "white",
            "linecolor": "white",
            "ticks": ""
           }
          },
          "title": {
           "x": 0.05
          },
          "xaxis": {
           "automargin": true,
           "gridcolor": "white",
           "linecolor": "white",
           "ticks": "",
           "title": {
            "standoff": 15
           },
           "zerolinecolor": "white",
           "zerolinewidth": 2
          },
          "yaxis": {
           "automargin": true,
           "gridcolor": "white",
           "linecolor": "white",
           "ticks": "",
           "title": {
            "standoff": 15
           },
           "zerolinecolor": "white",
           "zerolinewidth": 2
          }
         }
        },
        "title": {
         "text": "Distribution of Class II Recalls across USA"
        }
       }
      }
     },
     "metadata": {},
     "output_type": "display_data"
    },
    {
     "data": {
      "application/vnd.plotly.v1+json": {
       "config": {
        "plotlyServerURL": "https://plot.ly"
       },
       "data": [
        {
         "colorbar": {
          "title": {
           "text": "Class III"
          }
         },
         "colorscale": [
          [
           0,
           "rgb(247,252,245)"
          ],
          [
           0.125,
           "rgb(229,245,224)"
          ],
          [
           0.25,
           "rgb(199,233,192)"
          ],
          [
           0.375,
           "rgb(161,217,155)"
          ],
          [
           0.5,
           "rgb(116,196,118)"
          ],
          [
           0.625,
           "rgb(65,171,93)"
          ],
          [
           0.75,
           "rgb(35,139,69)"
          ],
          [
           0.875,
           "rgb(0,109,44)"
          ],
          [
           1,
           "rgb(0,68,27)"
          ]
         ],
         "locationmode": "USA-states",
         "locations": [
          "",
          "AL",
          "AR",
          "AZ",
          "CA",
          "CO",
          "CT",
          "DE",
          "FL",
          "GA",
          "IA",
          "ID",
          "IL",
          "IN",
          "KS",
          "KY",
          "MA",
          "MD",
          "MI",
          "MN",
          "MO",
          "MS",
          "N/A",
          "NC",
          "ND",
          "NE",
          "NH",
          "NJ",
          "NM",
          "NV",
          "NY",
          "OH",
          "OK",
          "OR",
          "PA",
          "PR",
          "SC",
          "TX",
          "UT",
          "VA",
          "VT",
          "WA",
          "WI",
          "WY"
         ],
         "marker": {
          "line": {
           "color": "white"
          }
         },
         "type": "choropleth",
         "z": [
          0,
          0,
          0,
          0,
          12,
          0,
          0,
          0,
          8,
          0,
          4,
          0,
          0,
          0,
          4,
          0,
          0,
          0,
          0,
          0,
          0,
          0,
          0,
          0,
          0,
          0,
          0,
          12,
          0,
          0,
          16,
          8,
          0,
          8,
          4,
          4,
          0,
          4,
          4,
          0,
          0,
          8,
          8,
          0
         ]
        }
       ],
       "layout": {
        "geo": {
         "lakecolor": "rgb(255, 255, 255)",
         "projection": {
          "type": "albers usa"
         },
         "scope": "usa"
        },
        "margin": {
         "b": 0,
         "l": 0,
         "r": 0,
         "t": 50
        },
        "template": {
         "data": {
          "bar": [
           {
            "error_x": {
             "color": "#2a3f5f"
            },
            "error_y": {
             "color": "#2a3f5f"
            },
            "marker": {
             "line": {
              "color": "#E5ECF6",
              "width": 0.5
             },
             "pattern": {
              "fillmode": "overlay",
              "size": 10,
              "solidity": 0.2
             }
            },
            "type": "bar"
           }
          ],
          "barpolar": [
           {
            "marker": {
             "line": {
              "color": "#E5ECF6",
              "width": 0.5
             },
             "pattern": {
              "fillmode": "overlay",
              "size": 10,
              "solidity": 0.2
             }
            },
            "type": "barpolar"
           }
          ],
          "carpet": [
           {
            "aaxis": {
             "endlinecolor": "#2a3f5f",
             "gridcolor": "white",
             "linecolor": "white",
             "minorgridcolor": "white",
             "startlinecolor": "#2a3f5f"
            },
            "baxis": {
             "endlinecolor": "#2a3f5f",
             "gridcolor": "white",
             "linecolor": "white",
             "minorgridcolor": "white",
             "startlinecolor": "#2a3f5f"
            },
            "type": "carpet"
           }
          ],
          "choropleth": [
           {
            "colorbar": {
             "outlinewidth": 0,
             "ticks": ""
            },
            "type": "choropleth"
           }
          ],
          "contour": [
           {
            "colorbar": {
             "outlinewidth": 0,
             "ticks": ""
            },
            "colorscale": [
             [
              0,
              "#0d0887"
             ],
             [
              0.1111111111111111,
              "#46039f"
             ],
             [
              0.2222222222222222,
              "#7201a8"
             ],
             [
              0.3333333333333333,
              "#9c179e"
             ],
             [
              0.4444444444444444,
              "#bd3786"
             ],
             [
              0.5555555555555556,
              "#d8576b"
             ],
             [
              0.6666666666666666,
              "#ed7953"
             ],
             [
              0.7777777777777778,
              "#fb9f3a"
             ],
             [
              0.8888888888888888,
              "#fdca26"
             ],
             [
              1,
              "#f0f921"
             ]
            ],
            "type": "contour"
           }
          ],
          "contourcarpet": [
           {
            "colorbar": {
             "outlinewidth": 0,
             "ticks": ""
            },
            "type": "contourcarpet"
           }
          ],
          "heatmap": [
           {
            "colorbar": {
             "outlinewidth": 0,
             "ticks": ""
            },
            "colorscale": [
             [
              0,
              "#0d0887"
             ],
             [
              0.1111111111111111,
              "#46039f"
             ],
             [
              0.2222222222222222,
              "#7201a8"
             ],
             [
              0.3333333333333333,
              "#9c179e"
             ],
             [
              0.4444444444444444,
              "#bd3786"
             ],
             [
              0.5555555555555556,
              "#d8576b"
             ],
             [
              0.6666666666666666,
              "#ed7953"
             ],
             [
              0.7777777777777778,
              "#fb9f3a"
             ],
             [
              0.8888888888888888,
              "#fdca26"
             ],
             [
              1,
              "#f0f921"
             ]
            ],
            "type": "heatmap"
           }
          ],
          "heatmapgl": [
           {
            "colorbar": {
             "outlinewidth": 0,
             "ticks": ""
            },
            "colorscale": [
             [
              0,
              "#0d0887"
             ],
             [
              0.1111111111111111,
              "#46039f"
             ],
             [
              0.2222222222222222,
              "#7201a8"
             ],
             [
              0.3333333333333333,
              "#9c179e"
             ],
             [
              0.4444444444444444,
              "#bd3786"
             ],
             [
              0.5555555555555556,
              "#d8576b"
             ],
             [
              0.6666666666666666,
              "#ed7953"
             ],
             [
              0.7777777777777778,
              "#fb9f3a"
             ],
             [
              0.8888888888888888,
              "#fdca26"
             ],
             [
              1,
              "#f0f921"
             ]
            ],
            "type": "heatmapgl"
           }
          ],
          "histogram": [
           {
            "marker": {
             "pattern": {
              "fillmode": "overlay",
              "size": 10,
              "solidity": 0.2
             }
            },
            "type": "histogram"
           }
          ],
          "histogram2d": [
           {
            "colorbar": {
             "outlinewidth": 0,
             "ticks": ""
            },
            "colorscale": [
             [
              0,
              "#0d0887"
             ],
             [
              0.1111111111111111,
              "#46039f"
             ],
             [
              0.2222222222222222,
              "#7201a8"
             ],
             [
              0.3333333333333333,
              "#9c179e"
             ],
             [
              0.4444444444444444,
              "#bd3786"
             ],
             [
              0.5555555555555556,
              "#d8576b"
             ],
             [
              0.6666666666666666,
              "#ed7953"
             ],
             [
              0.7777777777777778,
              "#fb9f3a"
             ],
             [
              0.8888888888888888,
              "#fdca26"
             ],
             [
              1,
              "#f0f921"
             ]
            ],
            "type": "histogram2d"
           }
          ],
          "histogram2dcontour": [
           {
            "colorbar": {
             "outlinewidth": 0,
             "ticks": ""
            },
            "colorscale": [
             [
              0,
              "#0d0887"
             ],
             [
              0.1111111111111111,
              "#46039f"
             ],
             [
              0.2222222222222222,
              "#7201a8"
             ],
             [
              0.3333333333333333,
              "#9c179e"
             ],
             [
              0.4444444444444444,
              "#bd3786"
             ],
             [
              0.5555555555555556,
              "#d8576b"
             ],
             [
              0.6666666666666666,
              "#ed7953"
             ],
             [
              0.7777777777777778,
              "#fb9f3a"
             ],
             [
              0.8888888888888888,
              "#fdca26"
             ],
             [
              1,
              "#f0f921"
             ]
            ],
            "type": "histogram2dcontour"
           }
          ],
          "mesh3d": [
           {
            "colorbar": {
             "outlinewidth": 0,
             "ticks": ""
            },
            "type": "mesh3d"
           }
          ],
          "parcoords": [
           {
            "line": {
             "colorbar": {
              "outlinewidth": 0,
              "ticks": ""
             }
            },
            "type": "parcoords"
           }
          ],
          "pie": [
           {
            "automargin": true,
            "type": "pie"
           }
          ],
          "scatter": [
           {
            "fillpattern": {
             "fillmode": "overlay",
             "size": 10,
             "solidity": 0.2
            },
            "type": "scatter"
           }
          ],
          "scatter3d": [
           {
            "line": {
             "colorbar": {
              "outlinewidth": 0,
              "ticks": ""
             }
            },
            "marker": {
             "colorbar": {
              "outlinewidth": 0,
              "ticks": ""
             }
            },
            "type": "scatter3d"
           }
          ],
          "scattercarpet": [
           {
            "marker": {
             "colorbar": {
              "outlinewidth": 0,
              "ticks": ""
             }
            },
            "type": "scattercarpet"
           }
          ],
          "scattergeo": [
           {
            "marker": {
             "colorbar": {
              "outlinewidth": 0,
              "ticks": ""
             }
            },
            "type": "scattergeo"
           }
          ],
          "scattergl": [
           {
            "marker": {
             "colorbar": {
              "outlinewidth": 0,
              "ticks": ""
             }
            },
            "type": "scattergl"
           }
          ],
          "scattermapbox": [
           {
            "marker": {
             "colorbar": {
              "outlinewidth": 0,
              "ticks": ""
             }
            },
            "type": "scattermapbox"
           }
          ],
          "scatterpolar": [
           {
            "marker": {
             "colorbar": {
              "outlinewidth": 0,
              "ticks": ""
             }
            },
            "type": "scatterpolar"
           }
          ],
          "scatterpolargl": [
           {
            "marker": {
             "colorbar": {
              "outlinewidth": 0,
              "ticks": ""
             }
            },
            "type": "scatterpolargl"
           }
          ],
          "scatterternary": [
           {
            "marker": {
             "colorbar": {
              "outlinewidth": 0,
              "ticks": ""
             }
            },
            "type": "scatterternary"
           }
          ],
          "surface": [
           {
            "colorbar": {
             "outlinewidth": 0,
             "ticks": ""
            },
            "colorscale": [
             [
              0,
              "#0d0887"
             ],
             [
              0.1111111111111111,
              "#46039f"
             ],
             [
              0.2222222222222222,
              "#7201a8"
             ],
             [
              0.3333333333333333,
              "#9c179e"
             ],
             [
              0.4444444444444444,
              "#bd3786"
             ],
             [
              0.5555555555555556,
              "#d8576b"
             ],
             [
              0.6666666666666666,
              "#ed7953"
             ],
             [
              0.7777777777777778,
              "#fb9f3a"
             ],
             [
              0.8888888888888888,
              "#fdca26"
             ],
             [
              1,
              "#f0f921"
             ]
            ],
            "type": "surface"
           }
          ],
          "table": [
           {
            "cells": {
             "fill": {
              "color": "#EBF0F8"
             },
             "line": {
              "color": "white"
             }
            },
            "header": {
             "fill": {
              "color": "#C8D4E3"
             },
             "line": {
              "color": "white"
             }
            },
            "type": "table"
           }
          ]
         },
         "layout": {
          "annotationdefaults": {
           "arrowcolor": "#2a3f5f",
           "arrowhead": 0,
           "arrowwidth": 1
          },
          "autotypenumbers": "strict",
          "coloraxis": {
           "colorbar": {
            "outlinewidth": 0,
            "ticks": ""
           }
          },
          "colorscale": {
           "diverging": [
            [
             0,
             "#8e0152"
            ],
            [
             0.1,
             "#c51b7d"
            ],
            [
             0.2,
             "#de77ae"
            ],
            [
             0.3,
             "#f1b6da"
            ],
            [
             0.4,
             "#fde0ef"
            ],
            [
             0.5,
             "#f7f7f7"
            ],
            [
             0.6,
             "#e6f5d0"
            ],
            [
             0.7,
             "#b8e186"
            ],
            [
             0.8,
             "#7fbc41"
            ],
            [
             0.9,
             "#4d9221"
            ],
            [
             1,
             "#276419"
            ]
           ],
           "sequential": [
            [
             0,
             "#0d0887"
            ],
            [
             0.1111111111111111,
             "#46039f"
            ],
            [
             0.2222222222222222,
             "#7201a8"
            ],
            [
             0.3333333333333333,
             "#9c179e"
            ],
            [
             0.4444444444444444,
             "#bd3786"
            ],
            [
             0.5555555555555556,
             "#d8576b"
            ],
            [
             0.6666666666666666,
             "#ed7953"
            ],
            [
             0.7777777777777778,
             "#fb9f3a"
            ],
            [
             0.8888888888888888,
             "#fdca26"
            ],
            [
             1,
             "#f0f921"
            ]
           ],
           "sequentialminus": [
            [
             0,
             "#0d0887"
            ],
            [
             0.1111111111111111,
             "#46039f"
            ],
            [
             0.2222222222222222,
             "#7201a8"
            ],
            [
             0.3333333333333333,
             "#9c179e"
            ],
            [
             0.4444444444444444,
             "#bd3786"
            ],
            [
             0.5555555555555556,
             "#d8576b"
            ],
            [
             0.6666666666666666,
             "#ed7953"
            ],
            [
             0.7777777777777778,
             "#fb9f3a"
            ],
            [
             0.8888888888888888,
             "#fdca26"
            ],
            [
             1,
             "#f0f921"
            ]
           ]
          },
          "colorway": [
           "#636efa",
           "#EF553B",
           "#00cc96",
           "#ab63fa",
           "#FFA15A",
           "#19d3f3",
           "#FF6692",
           "#B6E880",
           "#FF97FF",
           "#FECB52"
          ],
          "font": {
           "color": "#2a3f5f"
          },
          "geo": {
           "bgcolor": "white",
           "lakecolor": "white",
           "landcolor": "#E5ECF6",
           "showlakes": true,
           "showland": true,
           "subunitcolor": "white"
          },
          "hoverlabel": {
           "align": "left"
          },
          "hovermode": "closest",
          "mapbox": {
           "style": "light"
          },
          "paper_bgcolor": "white",
          "plot_bgcolor": "#E5ECF6",
          "polar": {
           "angularaxis": {
            "gridcolor": "white",
            "linecolor": "white",
            "ticks": ""
           },
           "bgcolor": "#E5ECF6",
           "radialaxis": {
            "gridcolor": "white",
            "linecolor": "white",
            "ticks": ""
           }
          },
          "scene": {
           "xaxis": {
            "backgroundcolor": "#E5ECF6",
            "gridcolor": "white",
            "gridwidth": 2,
            "linecolor": "white",
            "showbackground": true,
            "ticks": "",
            "zerolinecolor": "white"
           },
           "yaxis": {
            "backgroundcolor": "#E5ECF6",
            "gridcolor": "white",
            "gridwidth": 2,
            "linecolor": "white",
            "showbackground": true,
            "ticks": "",
            "zerolinecolor": "white"
           },
           "zaxis": {
            "backgroundcolor": "#E5ECF6",
            "gridcolor": "white",
            "gridwidth": 2,
            "linecolor": "white",
            "showbackground": true,
            "ticks": "",
            "zerolinecolor": "white"
           }
          },
          "shapedefaults": {
           "line": {
            "color": "#2a3f5f"
           }
          },
          "ternary": {
           "aaxis": {
            "gridcolor": "white",
            "linecolor": "white",
            "ticks": ""
           },
           "baxis": {
            "gridcolor": "white",
            "linecolor": "white",
            "ticks": ""
           },
           "bgcolor": "#E5ECF6",
           "caxis": {
            "gridcolor": "white",
            "linecolor": "white",
            "ticks": ""
           }
          },
          "title": {
           "x": 0.05
          },
          "xaxis": {
           "automargin": true,
           "gridcolor": "white",
           "linecolor": "white",
           "ticks": "",
           "title": {
            "standoff": 15
           },
           "zerolinecolor": "white",
           "zerolinewidth": 2
          },
          "yaxis": {
           "automargin": true,
           "gridcolor": "white",
           "linecolor": "white",
           "ticks": "",
           "title": {
            "standoff": 15
           },
           "zerolinecolor": "white",
           "zerolinewidth": 2
          }
         }
        },
        "title": {
         "text": "Distribution of Class III Recalls across USA"
        }
       }
      }
     },
     "metadata": {},
     "output_type": "display_data"
    }
   ],
   "source": [
    "# Count Class I, II, III by each state\n",
    "class_distribution = db_df.groupby(['State', 'Classification']).size().unstack(fill_value=0)\n",
    "class_distribution.reset_index(inplace=True)\n",
    "\n",
    "# Class I map\n",
    "fig_class_i = go.Figure(go.Choropleth(\n",
    "    locations=class_distribution['State'],\n",
    "    locationmode='USA-states',\n",
    "    z=class_distribution['Class I'],\n",
    "    colorscale='Reds',  # red\n",
    "    colorbar_title=\"Class I\",\n",
    "    marker_line_color='white'\n",
    "))\n",
    "\n",
    "# update\n",
    "fig_class_i.update_layout(\n",
    "    title_text=\"Distribution of Class I Recalls across USA\",\n",
    "    geo=dict(\n",
    "        scope='usa',\n",
    "        projection=go.layout.geo.Projection(type='albers usa'),\n",
    "        lakecolor='rgb(255, 255, 255)',\n",
    "    ),\n",
    "    margin={\"r\": 0, \"t\": 50, \"l\": 0, \"b\": 0}\n",
    ")\n",
    "\n",
    "# Save Class I map as HTML\n",
    "#fig_class_i.write_html(\"./output_data/class_i_recalls.html\")\n",
    "\n",
    "# Class II map\n",
    "fig_class_ii = go.Figure(go.Choropleth(\n",
    "    locations=class_distribution['State'],\n",
    "    locationmode='USA-states',\n",
    "    z=class_distribution['Class II'],\n",
    "    colorscale='Blues',  # blue\n",
    "    colorbar_title=\"Class II\",\n",
    "    marker_line_color='white'\n",
    "))\n",
    "\n",
    "# Update\n",
    "fig_class_ii.update_layout(\n",
    "    title_text=\"Distribution of Class II Recalls across USA\",\n",
    "    geo=dict(\n",
    "        scope='usa',\n",
    "        projection=go.layout.geo.Projection(type='albers usa'),\n",
    "        lakecolor='rgb(255, 255, 255)',\n",
    "    ),\n",
    "    margin={\"r\": 0, \"t\": 50, \"l\": 0, \"b\": 0}\n",
    ")\n",
    "\n",
    "# Save Class II map as HTML\n",
    "#fig_class_ii.write_html(\"./output_data/class_ii_recalls.html\")\n",
    "\n",
    "# Class III map\n",
    "fig_class_iii = go.Figure(go.Choropleth(\n",
    "    locations=class_distribution['State'],\n",
    "    locationmode='USA-states',\n",
    "    z=class_distribution['Class III'],\n",
    "    colorscale='Greens',  # Green\n",
    "    colorbar_title=\"Class III\",\n",
    "    marker_line_color='white'\n",
    "))\n",
    "\n",
    "# Update\n",
    "fig_class_iii.update_layout(\n",
    "    title_text=\"Distribution of Class III Recalls across USA\",\n",
    "    geo=dict(\n",
    "        scope='usa',\n",
    "        projection=go.layout.geo.Projection(type='albers usa'),\n",
    "        lakecolor='rgb(255, 255, 255)',\n",
    "    ),\n",
    "    margin={\"r\": 0, \"t\": 50, \"l\": 0, \"b\": 0}\n",
    ")\n",
    "\n",
    "# Save Class III map as HTML\n",
    "#fig_class_iii.write_html(\"./output_data/class_iii_recalls.html\")\n",
    "\n",
    "# Optionally, display the maps\n",
    "fig_class_i.show()\n",
    "fig_class_ii.show()\n",
    "fig_class_iii.show()"
   ]
  },
  {
   "cell_type": "code",
   "execution_count": 10,
   "metadata": {},
   "outputs": [
    {
     "data": {
      "application/vnd.plotly.v1+json": {
       "config": {
        "plotlyServerURL": "https://plot.ly"
       },
       "data": [
        {
         "colorscale": [
          [
           0,
           "rgb(255,245,240)"
          ],
          [
           0.125,
           "rgb(254,224,210)"
          ],
          [
           0.25,
           "rgb(252,187,161)"
          ],
          [
           0.375,
           "rgb(252,146,114)"
          ],
          [
           0.5,
           "rgb(251,106,74)"
          ],
          [
           0.625,
           "rgb(239,59,44)"
          ],
          [
           0.75,
           "rgb(203,24,29)"
          ],
          [
           0.875,
           "rgb(165,15,21)"
          ],
          [
           1,
           "rgb(103,0,13)"
          ]
         ],
         "type": "heatmap",
         "x": [
          "CA",
          "FL",
          "GA",
          "IL",
          "MD",
          "NY",
          "OH",
          "OR",
          "TX",
          "WA"
         ],
         "y": [
          "Class I",
          "Class II",
          "Class III"
         ],
         "z": [
          [
           675,
           225,
           325,
           475,
           850,
           550,
           450,
           125,
           150,
           25
          ],
          [
           575,
           425,
           200,
           275,
           250,
           550,
           550,
           200,
           225,
           400
          ],
          [
           75,
           50,
           0,
           0,
           0,
           100,
           50,
           50,
           25,
           50
          ]
         ]
        }
       ],
       "layout": {
        "height": 600,
        "template": {
         "data": {
          "bar": [
           {
            "error_x": {
             "color": "#2a3f5f"
            },
            "error_y": {
             "color": "#2a3f5f"
            },
            "marker": {
             "line": {
              "color": "#E5ECF6",
              "width": 0.5
             },
             "pattern": {
              "fillmode": "overlay",
              "size": 10,
              "solidity": 0.2
             }
            },
            "type": "bar"
           }
          ],
          "barpolar": [
           {
            "marker": {
             "line": {
              "color": "#E5ECF6",
              "width": 0.5
             },
             "pattern": {
              "fillmode": "overlay",
              "size": 10,
              "solidity": 0.2
             }
            },
            "type": "barpolar"
           }
          ],
          "carpet": [
           {
            "aaxis": {
             "endlinecolor": "#2a3f5f",
             "gridcolor": "white",
             "linecolor": "white",
             "minorgridcolor": "white",
             "startlinecolor": "#2a3f5f"
            },
            "baxis": {
             "endlinecolor": "#2a3f5f",
             "gridcolor": "white",
             "linecolor": "white",
             "minorgridcolor": "white",
             "startlinecolor": "#2a3f5f"
            },
            "type": "carpet"
           }
          ],
          "choropleth": [
           {
            "colorbar": {
             "outlinewidth": 0,
             "ticks": ""
            },
            "type": "choropleth"
           }
          ],
          "contour": [
           {
            "colorbar": {
             "outlinewidth": 0,
             "ticks": ""
            },
            "colorscale": [
             [
              0,
              "#0d0887"
             ],
             [
              0.1111111111111111,
              "#46039f"
             ],
             [
              0.2222222222222222,
              "#7201a8"
             ],
             [
              0.3333333333333333,
              "#9c179e"
             ],
             [
              0.4444444444444444,
              "#bd3786"
             ],
             [
              0.5555555555555556,
              "#d8576b"
             ],
             [
              0.6666666666666666,
              "#ed7953"
             ],
             [
              0.7777777777777778,
              "#fb9f3a"
             ],
             [
              0.8888888888888888,
              "#fdca26"
             ],
             [
              1,
              "#f0f921"
             ]
            ],
            "type": "contour"
           }
          ],
          "contourcarpet": [
           {
            "colorbar": {
             "outlinewidth": 0,
             "ticks": ""
            },
            "type": "contourcarpet"
           }
          ],
          "heatmap": [
           {
            "colorbar": {
             "outlinewidth": 0,
             "ticks": ""
            },
            "colorscale": [
             [
              0,
              "#0d0887"
             ],
             [
              0.1111111111111111,
              "#46039f"
             ],
             [
              0.2222222222222222,
              "#7201a8"
             ],
             [
              0.3333333333333333,
              "#9c179e"
             ],
             [
              0.4444444444444444,
              "#bd3786"
             ],
             [
              0.5555555555555556,
              "#d8576b"
             ],
             [
              0.6666666666666666,
              "#ed7953"
             ],
             [
              0.7777777777777778,
              "#fb9f3a"
             ],
             [
              0.8888888888888888,
              "#fdca26"
             ],
             [
              1,
              "#f0f921"
             ]
            ],
            "type": "heatmap"
           }
          ],
          "heatmapgl": [
           {
            "colorbar": {
             "outlinewidth": 0,
             "ticks": ""
            },
            "colorscale": [
             [
              0,
              "#0d0887"
             ],
             [
              0.1111111111111111,
              "#46039f"
             ],
             [
              0.2222222222222222,
              "#7201a8"
             ],
             [
              0.3333333333333333,
              "#9c179e"
             ],
             [
              0.4444444444444444,
              "#bd3786"
             ],
             [
              0.5555555555555556,
              "#d8576b"
             ],
             [
              0.6666666666666666,
              "#ed7953"
             ],
             [
              0.7777777777777778,
              "#fb9f3a"
             ],
             [
              0.8888888888888888,
              "#fdca26"
             ],
             [
              1,
              "#f0f921"
             ]
            ],
            "type": "heatmapgl"
           }
          ],
          "histogram": [
           {
            "marker": {
             "pattern": {
              "fillmode": "overlay",
              "size": 10,
              "solidity": 0.2
             }
            },
            "type": "histogram"
           }
          ],
          "histogram2d": [
           {
            "colorbar": {
             "outlinewidth": 0,
             "ticks": ""
            },
            "colorscale": [
             [
              0,
              "#0d0887"
             ],
             [
              0.1111111111111111,
              "#46039f"
             ],
             [
              0.2222222222222222,
              "#7201a8"
             ],
             [
              0.3333333333333333,
              "#9c179e"
             ],
             [
              0.4444444444444444,
              "#bd3786"
             ],
             [
              0.5555555555555556,
              "#d8576b"
             ],
             [
              0.6666666666666666,
              "#ed7953"
             ],
             [
              0.7777777777777778,
              "#fb9f3a"
             ],
             [
              0.8888888888888888,
              "#fdca26"
             ],
             [
              1,
              "#f0f921"
             ]
            ],
            "type": "histogram2d"
           }
          ],
          "histogram2dcontour": [
           {
            "colorbar": {
             "outlinewidth": 0,
             "ticks": ""
            },
            "colorscale": [
             [
              0,
              "#0d0887"
             ],
             [
              0.1111111111111111,
              "#46039f"
             ],
             [
              0.2222222222222222,
              "#7201a8"
             ],
             [
              0.3333333333333333,
              "#9c179e"
             ],
             [
              0.4444444444444444,
              "#bd3786"
             ],
             [
              0.5555555555555556,
              "#d8576b"
             ],
             [
              0.6666666666666666,
              "#ed7953"
             ],
             [
              0.7777777777777778,
              "#fb9f3a"
             ],
             [
              0.8888888888888888,
              "#fdca26"
             ],
             [
              1,
              "#f0f921"
             ]
            ],
            "type": "histogram2dcontour"
           }
          ],
          "mesh3d": [
           {
            "colorbar": {
             "outlinewidth": 0,
             "ticks": ""
            },
            "type": "mesh3d"
           }
          ],
          "parcoords": [
           {
            "line": {
             "colorbar": {
              "outlinewidth": 0,
              "ticks": ""
             }
            },
            "type": "parcoords"
           }
          ],
          "pie": [
           {
            "automargin": true,
            "type": "pie"
           }
          ],
          "scatter": [
           {
            "fillpattern": {
             "fillmode": "overlay",
             "size": 10,
             "solidity": 0.2
            },
            "type": "scatter"
           }
          ],
          "scatter3d": [
           {
            "line": {
             "colorbar": {
              "outlinewidth": 0,
              "ticks": ""
             }
            },
            "marker": {
             "colorbar": {
              "outlinewidth": 0,
              "ticks": ""
             }
            },
            "type": "scatter3d"
           }
          ],
          "scattercarpet": [
           {
            "marker": {
             "colorbar": {
              "outlinewidth": 0,
              "ticks": ""
             }
            },
            "type": "scattercarpet"
           }
          ],
          "scattergeo": [
           {
            "marker": {
             "colorbar": {
              "outlinewidth": 0,
              "ticks": ""
             }
            },
            "type": "scattergeo"
           }
          ],
          "scattergl": [
           {
            "marker": {
             "colorbar": {
              "outlinewidth": 0,
              "ticks": ""
             }
            },
            "type": "scattergl"
           }
          ],
          "scattermapbox": [
           {
            "marker": {
             "colorbar": {
              "outlinewidth": 0,
              "ticks": ""
             }
            },
            "type": "scattermapbox"
           }
          ],
          "scatterpolar": [
           {
            "marker": {
             "colorbar": {
              "outlinewidth": 0,
              "ticks": ""
             }
            },
            "type": "scatterpolar"
           }
          ],
          "scatterpolargl": [
           {
            "marker": {
             "colorbar": {
              "outlinewidth": 0,
              "ticks": ""
             }
            },
            "type": "scatterpolargl"
           }
          ],
          "scatterternary": [
           {
            "marker": {
             "colorbar": {
              "outlinewidth": 0,
              "ticks": ""
             }
            },
            "type": "scatterternary"
           }
          ],
          "surface": [
           {
            "colorbar": {
             "outlinewidth": 0,
             "ticks": ""
            },
            "colorscale": [
             [
              0,
              "#0d0887"
             ],
             [
              0.1111111111111111,
              "#46039f"
             ],
             [
              0.2222222222222222,
              "#7201a8"
             ],
             [
              0.3333333333333333,
              "#9c179e"
             ],
             [
              0.4444444444444444,
              "#bd3786"
             ],
             [
              0.5555555555555556,
              "#d8576b"
             ],
             [
              0.6666666666666666,
              "#ed7953"
             ],
             [
              0.7777777777777778,
              "#fb9f3a"
             ],
             [
              0.8888888888888888,
              "#fdca26"
             ],
             [
              1,
              "#f0f921"
             ]
            ],
            "type": "surface"
           }
          ],
          "table": [
           {
            "cells": {
             "fill": {
              "color": "#EBF0F8"
             },
             "line": {
              "color": "white"
             }
            },
            "header": {
             "fill": {
              "color": "#C8D4E3"
             },
             "line": {
              "color": "white"
             }
            },
            "type": "table"
           }
          ]
         },
         "layout": {
          "annotationdefaults": {
           "arrowcolor": "#2a3f5f",
           "arrowhead": 0,
           "arrowwidth": 1
          },
          "autotypenumbers": "strict",
          "coloraxis": {
           "colorbar": {
            "outlinewidth": 0,
            "ticks": ""
           }
          },
          "colorscale": {
           "diverging": [
            [
             0,
             "#8e0152"
            ],
            [
             0.1,
             "#c51b7d"
            ],
            [
             0.2,
             "#de77ae"
            ],
            [
             0.3,
             "#f1b6da"
            ],
            [
             0.4,
             "#fde0ef"
            ],
            [
             0.5,
             "#f7f7f7"
            ],
            [
             0.6,
             "#e6f5d0"
            ],
            [
             0.7,
             "#b8e186"
            ],
            [
             0.8,
             "#7fbc41"
            ],
            [
             0.9,
             "#4d9221"
            ],
            [
             1,
             "#276419"
            ]
           ],
           "sequential": [
            [
             0,
             "#0d0887"
            ],
            [
             0.1111111111111111,
             "#46039f"
            ],
            [
             0.2222222222222222,
             "#7201a8"
            ],
            [
             0.3333333333333333,
             "#9c179e"
            ],
            [
             0.4444444444444444,
             "#bd3786"
            ],
            [
             0.5555555555555556,
             "#d8576b"
            ],
            [
             0.6666666666666666,
             "#ed7953"
            ],
            [
             0.7777777777777778,
             "#fb9f3a"
            ],
            [
             0.8888888888888888,
             "#fdca26"
            ],
            [
             1,
             "#f0f921"
            ]
           ],
           "sequentialminus": [
            [
             0,
             "#0d0887"
            ],
            [
             0.1111111111111111,
             "#46039f"
            ],
            [
             0.2222222222222222,
             "#7201a8"
            ],
            [
             0.3333333333333333,
             "#9c179e"
            ],
            [
             0.4444444444444444,
             "#bd3786"
            ],
            [
             0.5555555555555556,
             "#d8576b"
            ],
            [
             0.6666666666666666,
             "#ed7953"
            ],
            [
             0.7777777777777778,
             "#fb9f3a"
            ],
            [
             0.8888888888888888,
             "#fdca26"
            ],
            [
             1,
             "#f0f921"
            ]
           ]
          },
          "colorway": [
           "#636efa",
           "#EF553B",
           "#00cc96",
           "#ab63fa",
           "#FFA15A",
           "#19d3f3",
           "#FF6692",
           "#B6E880",
           "#FF97FF",
           "#FECB52"
          ],
          "font": {
           "color": "#2a3f5f"
          },
          "geo": {
           "bgcolor": "white",
           "lakecolor": "white",
           "landcolor": "#E5ECF6",
           "showlakes": true,
           "showland": true,
           "subunitcolor": "white"
          },
          "hoverlabel": {
           "align": "left"
          },
          "hovermode": "closest",
          "mapbox": {
           "style": "light"
          },
          "paper_bgcolor": "white",
          "plot_bgcolor": "#E5ECF6",
          "polar": {
           "angularaxis": {
            "gridcolor": "white",
            "linecolor": "white",
            "ticks": ""
           },
           "bgcolor": "#E5ECF6",
           "radialaxis": {
            "gridcolor": "white",
            "linecolor": "white",
            "ticks": ""
           }
          },
          "scene": {
           "xaxis": {
            "backgroundcolor": "#E5ECF6",
            "gridcolor": "white",
            "gridwidth": 2,
            "linecolor": "white",
            "showbackground": true,
            "ticks": "",
            "zerolinecolor": "white"
           },
           "yaxis": {
            "backgroundcolor": "#E5ECF6",
            "gridcolor": "white",
            "gridwidth": 2,
            "linecolor": "white",
            "showbackground": true,
            "ticks": "",
            "zerolinecolor": "white"
           },
           "zaxis": {
            "backgroundcolor": "#E5ECF6",
            "gridcolor": "white",
            "gridwidth": 2,
            "linecolor": "white",
            "showbackground": true,
            "ticks": "",
            "zerolinecolor": "white"
           }
          },
          "shapedefaults": {
           "line": {
            "color": "#2a3f5f"
           }
          },
          "ternary": {
           "aaxis": {
            "gridcolor": "white",
            "linecolor": "white",
            "ticks": ""
           },
           "baxis": {
            "gridcolor": "white",
            "linecolor": "white",
            "ticks": ""
           },
           "bgcolor": "#E5ECF6",
           "caxis": {
            "gridcolor": "white",
            "linecolor": "white",
            "ticks": ""
           }
          },
          "title": {
           "x": 0.05
          },
          "xaxis": {
           "automargin": true,
           "gridcolor": "white",
           "linecolor": "white",
           "ticks": "",
           "title": {
            "standoff": 15
           },
           "zerolinecolor": "white",
           "zerolinewidth": 2
          },
          "yaxis": {
           "automargin": true,
           "gridcolor": "white",
           "linecolor": "white",
           "ticks": "",
           "title": {
            "standoff": 15
           },
           "zerolinecolor": "white",
           "zerolinewidth": 2
          }
         }
        },
        "title": {
         "text": "Heatmap of Recalls by State and Classification (Top 10 States)"
        },
        "width": 800,
        "xaxis": {
         "autorange": true,
         "range": [
          -0.5,
          9.5
         ],
         "title": {
          "text": "State"
         },
         "type": "category"
        },
        "yaxis": {
         "autorange": true,
         "range": [
          -0.5,
          2.5
         ],
         "title": {
          "text": "Recall Classification"
         },
         "type": "category"
        }
       }
      },
      "image/png": "[encoded data removed]",
      "text/html": [
       "<div>                            <div id=\"7a89cf16-54d1-47b9-a862-58a6fc31f2f5\" class=\"plotly-graph-div\" style=\"height:600px; width:800px;\"></div>            <script type=\"text/javascript\">                require([\"plotly\"], function(Plotly) {                    window.PLOTLYENV=window.PLOTLYENV || {};                                    if (document.getElementById(\"7a89cf16-54d1-47b9-a862-58a6fc31f2f5\")) {                    Plotly.newPlot(                        \"7a89cf16-54d1-47b9-a862-58a6fc31f2f5\",                        [{\"colorscale\":[[0.0,\"rgb(255,245,240)\"],[0.125,\"rgb(254,224,210)\"],[0.25,\"rgb(252,187,161)\"],[0.375,\"rgb(252,146,114)\"],[0.5,\"rgb(251,106,74)\"],[0.625,\"rgb(239,59,44)\"],[0.75,\"rgb(203,24,29)\"],[0.875,\"rgb(165,15,21)\"],[1.0,\"rgb(103,0,13)\"]],\"x\":[\"CA\",\"FL\",\"GA\",\"IL\",\"MD\",\"NY\",\"OH\",\"OR\",\"TX\",\"WA\"],\"y\":[\"Class I\",\"Class II\",\"Class III\"],\"z\":[[675,225,325,475,850,550,450,125,150,25],[575,425,200,275,250,550,550,200,225,400],[75,50,0,0,0,100,50,50,25,50]],\"type\":\"heatmap\"}],                        {\"template\":{\"data\":{\"histogram2dcontour\":[{\"type\":\"histogram2dcontour\",\"colorbar\":{\"outlinewidth\":0,\"ticks\":\"\"},\"colorscale\":[[0.0,\"#0d0887\"],[0.1111111111111111,\"#46039f\"],[0.2222222222222222,\"#7201a8\"],[0.3333333333333333,\"#9c179e\"],[0.4444444444444444,\"#bd3786\"],[0.5555555555555556,\"#d8576b\"],[0.6666666666666666,\"#ed7953\"],[0.7777777777777778,\"#fb9f3a\"],[0.8888888888888888,\"#fdca26\"],[1.0,\"#f0f921\"]]}],\"choropleth\":[{\"type\":\"choropleth\",\"colorbar\":{\"outlinewidth\":0,\"ticks\":\"\"}}],\"histogram2d\":[{\"type\":\"histogram2d\",\"colorbar\":{\"outlinewidth\":0,\"ticks\":\"\"},\"colorscale\":[[0.0,\"#0d0887\"],[0.1111111111111111,\"#46039f\"],[0.2222222222222222,\"#7201a8\"],[0.3333333333333333,\"#9c179e\"],[0.4444444444444444,\"#bd3786\"],[0.5555555555555556,\"#d8576b\"],[0.6666666666666666,\"#ed7953\"],[0.7777777777777778,\"#fb9f3a\"],[0.8888888888888888,\"#fdca26\"],[1.0,\"#f0f921\"]]}],\"heatmap\":[{\"type\":\"heatmap\",\"colorbar\":{\"outlinewidth\":0,\"ticks\":\"\"},\"colorscale\":[[0.0,\"#0d0887\"],[0.1111111111111111,\"#46039f\"],[0.2222222222222222,\"#7201a8\"],[0.3333333333333333,\"#9c179e\"],[0.4444444444444444,\"#bd3786\"],[0.5555555555555556,\"#d8576b\"],[0.6666666666666666,\"#ed7953\"],[0.7777777777777778,\"#fb9f3a\"],[0.8888888888888888,\"#fdca26\"],[1.0,\"#f0f921\"]]}],\"heatmapgl\":[{\"type\":\"heatmapgl\",\"colorbar\":{\"outlinewidth\":0,\"ticks\":\"\"},\"colorscale\":[[0.0,\"#0d0887\"],[0.1111111111111111,\"#46039f\"],[0.2222222222222222,\"#7201a8\"],[0.3333333333333333,\"#9c179e\"],[0.4444444444444444,\"#bd3786\"],[0.5555555555555556,\"#d8576b\"],[0.6666666666666666,\"#ed7953\"],[0.7777777777777778,\"#fb9f3a\"],[0.8888888888888888,\"#fdca26\"],[1.0,\"#f0f921\"]]}],\"contourcarpet\":[{\"type\":\"contourcarpet\",\"colorbar\":{\"outlinewidth\":0,\"ticks\":\"\"}}],\"contour\":[{\"type\":\"contour\",\"colorbar\":{\"outlinewidth\":0,\"ticks\":\"\"},\"colorscale\":[[0.0,\"#0d0887\"],[0.1111111111111111,\"#46039f\"],[0.2222222222222222,\"#7201a8\"],[0.3333333333333333,\"#9c179e\"],[0.4444444444444444,\"#bd3786\"],[0.5555555555555556,\"#d8576b\"],[0.6666666666666666,\"#ed7953\"],[0.7777777777777778,\"#fb9f3a\"],[0.8888888888888888,\"#fdca26\"],[1.0,\"#f0f921\"]]}],\"surface\":[{\"type\":\"surface\",\"colorbar\":{\"outlinewidth\":0,\"ticks\":\"\"},\"colorscale\":[[0.0,\"#0d0887\"],[0.1111111111111111,\"#46039f\"],[0.2222222222222222,\"#7201a8\"],[0.3333333333333333,\"#9c179e\"],[0.4444444444444444,\"#bd3786\"],[0.5555555555555556,\"#d8576b\"],[0.6666666666666666,\"#ed7953\"],[0.7777777777777778,\"#fb9f3a\"],[0.8888888888888888,\"#fdca26\"],[1.0,\"#f0f921\"]]}],\"mesh3d\":[{\"type\":\"mesh3d\",\"colorbar\":{\"outlinewidth\":0,\"ticks\":\"\"}}],\"scatter\":[{\"fillpattern\":{\"fillmode\":\"overlay\",\"size\":10,\"solidity\":0.2},\"type\":\"scatter\"}],\"parcoords\":[{\"type\":\"parcoords\",\"line\":{\"colorbar\":{\"outlinewidth\":0,\"ticks\":\"\"}}}],\"scatterpolargl\":[{\"type\":\"scatterpolargl\",\"marker\":{\"colorbar\":{\"outlinewidth\":0,\"ticks\":\"\"}}}],\"bar\":[{\"error_x\":{\"color\":\"#2a3f5f\"},\"error_y\":{\"color\":\"#2a3f5f\"},\"marker\":{\"line\":{\"color\":\"#E5ECF6\",\"width\":0.5},\"pattern\":{\"fillmode\":\"overlay\",\"size\":10,\"solidity\":0.2}},\"type\":\"bar\"}],\"scattergeo\":[{\"type\":\"scattergeo\",\"marker\":{\"colorbar\":{\"outlinewidth\":0,\"ticks\":\"\"}}}],\"scatterpolar\":[{\"type\":\"scatterpolar\",\"marker\":{\"colorbar\":{\"outlinewidth\":0,\"ticks\":\"\"}}}],\"histogram\":[{\"marker\":{\"pattern\":{\"fillmode\":\"overlay\",\"size\":10,\"solidity\":0.2}},\"type\":\"histogram\"}],\"scattergl\":[{\"type\":\"scattergl\",\"marker\":{\"colorbar\":{\"outlinewidth\":0,\"ticks\":\"\"}}}],\"scatter3d\":[{\"type\":\"scatter3d\",\"line\":{\"colorbar\":{\"outlinewidth\":0,\"ticks\":\"\"}},\"marker\":{\"colorbar\":{\"outlinewidth\":0,\"ticks\":\"\"}}}],\"scattermapbox\":[{\"type\":\"scattermapbox\",\"marker\":{\"colorbar\":{\"outlinewidth\":0,\"ticks\":\"\"}}}],\"scatterternary\":[{\"type\":\"scatterternary\",\"marker\":{\"colorbar\":{\"outlinewidth\":0,\"ticks\":\"\"}}}],\"scattercarpet\":[{\"type\":\"scattercarpet\",\"marker\":{\"colorbar\":{\"outlinewidth\":0,\"ticks\":\"\"}}}],\"carpet\":[{\"aaxis\":{\"endlinecolor\":\"#2a3f5f\",\"gridcolor\":\"white\",\"linecolor\":\"white\",\"minorgridcolor\":\"white\",\"startlinecolor\":\"#2a3f5f\"},\"baxis\":{\"endlinecolor\":\"#2a3f5f\",\"gridcolor\":\"white\",\"linecolor\":\"white\",\"minorgridcolor\":\"white\",\"startlinecolor\":\"#2a3f5f\"},\"type\":\"carpet\"}],\"table\":[{\"cells\":{\"fill\":{\"color\":\"#EBF0F8\"},\"line\":{\"color\":\"white\"}},\"header\":{\"fill\":{\"color\":\"#C8D4E3\"},\"line\":{\"color\":\"white\"}},\"type\":\"table\"}],\"barpolar\":[{\"marker\":{\"line\":{\"color\":\"#E5ECF6\",\"width\":0.5},\"pattern\":{\"fillmode\":\"overlay\",\"size\":10,\"solidity\":0.2}},\"type\":\"barpolar\"}],\"pie\":[{\"automargin\":true,\"type\":\"pie\"}]},\"layout\":{\"autotypenumbers\":\"strict\",\"colorway\":[\"#636efa\",\"#EF553B\",\"#00cc96\",\"#ab63fa\",\"#FFA15A\",\"#19d3f3\",\"#FF6692\",\"#B6E880\",\"#FF97FF\",\"#FECB52\"],\"font\":{\"color\":\"#2a3f5f\"},\"hovermode\":\"closest\",\"hoverlabel\":{\"align\":\"left\"},\"paper_bgcolor\":\"white\",\"plot_bgcolor\":\"#E5ECF6\",\"polar\":{\"bgcolor\":\"#E5ECF6\",\"angularaxis\":{\"gridcolor\":\"white\",\"linecolor\":\"white\",\"ticks\":\"\"},\"radialaxis\":{\"gridcolor\":\"white\",\"linecolor\":\"white\",\"ticks\":\"\"}},\"ternary\":{\"bgcolor\":\"#E5ECF6\",\"aaxis\":{\"gridcolor\":\"white\",\"linecolor\":\"white\",\"ticks\":\"\"},\"baxis\":{\"gridcolor\":\"white\",\"linecolor\":\"white\",\"ticks\":\"\"},\"caxis\":{\"gridcolor\":\"white\",\"linecolor\":\"white\",\"ticks\":\"\"}},\"coloraxis\":{\"colorbar\":{\"outlinewidth\":0,\"ticks\":\"\"}},\"colorscale\":{\"sequential\":[[0.0,\"#0d0887\"],[0.1111111111111111,\"#46039f\"],[0.2222222222222222,\"#7201a8\"],[0.3333333333333333,\"#9c179e\"],[0.4444444444444444,\"#bd3786\"],[0.5555555555555556,\"#d8576b\"],[0.6666666666666666,\"#ed7953\"],[0.7777777777777778,\"#fb9f3a\"],[0.8888888888888888,\"#fdca26\"],[1.0,\"#f0f921\"]],\"sequentialminus\":[[0.0,\"#0d0887\"],[0.1111111111111111,\"#46039f\"],[0.2222222222222222,\"#7201a8\"],[0.3333333333333333,\"#9c179e\"],[0.4444444444444444,\"#bd3786\"],[0.5555555555555556,\"#d8576b\"],[0.6666666666666666,\"#ed7953\"],[0.7777777777777778,\"#fb9f3a\"],[0.8888888888888888,\"#fdca26\"],[1.0,\"#f0f921\"]],\"diverging\":[[0,\"#8e0152\"],[0.1,\"#c51b7d\"],[0.2,\"#de77ae\"],[0.3,\"#f1b6da\"],[0.4,\"#fde0ef\"],[0.5,\"#f7f7f7\"],[0.6,\"#e6f5d0\"],[0.7,\"#b8e186\"],[0.8,\"#7fbc41\"],[0.9,\"#4d9221\"],[1,\"#276419\"]]},\"xaxis\":{\"gridcolor\":\"white\",\"linecolor\":\"white\",\"ticks\":\"\",\"title\":{\"standoff\":15},\"zerolinecolor\":\"white\",\"automargin\":true,\"zerolinewidth\":2},\"yaxis\":{\"gridcolor\":\"white\",\"linecolor\":\"white\",\"ticks\":\"\",\"title\":{\"standoff\":15},\"zerolinecolor\":\"white\",\"automargin\":true,\"zerolinewidth\":2},\"scene\":{\"xaxis\":{\"backgroundcolor\":\"#E5ECF6\",\"gridcolor\":\"white\",\"linecolor\":\"white\",\"showbackground\":true,\"ticks\":\"\",\"zerolinecolor\":\"white\",\"gridwidth\":2},\"yaxis\":{\"backgroundcolor\":\"#E5ECF6\",\"gridcolor\":\"white\",\"linecolor\":\"white\",\"showbackground\":true,\"ticks\":\"\",\"zerolinecolor\":\"white\",\"gridwidth\":2},\"zaxis\":{\"backgroundcolor\":\"#E5ECF6\",\"gridcolor\":\"white\",\"linecolor\":\"white\",\"showbackground\":true,\"ticks\":\"\",\"zerolinecolor\":\"white\",\"gridwidth\":2}},\"shapedefaults\":{\"line\":{\"color\":\"#2a3f5f\"}},\"annotationdefaults\":{\"arrowcolor\":\"#2a3f5f\",\"arrowhead\":0,\"arrowwidth\":1},\"geo\":{\"bgcolor\":\"white\",\"landcolor\":\"#E5ECF6\",\"subunitcolor\":\"white\",\"showland\":true,\"showlakes\":true,\"lakecolor\":\"white\"},\"title\":{\"x\":0.05},\"mapbox\":{\"style\":\"light\"}}},\"title\":{\"text\":\"Heatmap of Recalls by State and Classification (Top 10 States)\"},\"xaxis\":{\"title\":{\"text\":\"State\"}},\"yaxis\":{\"title\":{\"text\":\"Recall Classification\"}},\"height\":600,\"width\":800},                        {\"responsive\": true}                    ).then(function(){\n",
       "                            \n",
       "var gd = document.getElementById('7a89cf16-54d1-47b9-a862-58a6fc31f2f5');\n",
       "var x = new MutationObserver(function (mutations, observer) {{\n",
       "        var display = window.getComputedStyle(gd).display;\n",
       "        if (!display || display === 'none') {{\n",
       "            console.log([gd, 'removed!']);\n",
       "            Plotly.purge(gd);\n",
       "            observer.disconnect();\n",
       "        }}\n",
       "}});\n",
       "\n",
       "// Listen for the removal of the full notebook cells\n",
       "var notebookContainer = gd.closest('#notebook-container');\n",
       "if (notebookContainer) {{\n",
       "    x.observe(notebookContainer, {childList: true});\n",
       "}}\n",
       "\n",
       "// Listen for the clearing of the current output cell\n",
       "var outputEl = gd.closest('.output');\n",
       "if (outputEl) {{\n",
       "    x.observe(outputEl, {childList: true});\n",
       "}}\n",
       "\n",
       "                        })                };                });            </script>        </div>"
      ]
     },
     "metadata": {},
     "output_type": "display_data"
    }
   ],
   "source": [
    "if 'State' in db_df.columns and 'Classification' in db_df.columns:\n",
    "    db_df_clean = db_df.dropna(subset=['State', 'Classification'])\n",
    "    db_df_clean['State'] = db_df_clean['State'].str.upper()  \n",
    "\n",
    "    # Find top 10 state\n",
    "    state_totals = db_df_clean.groupby('State').size().sort_values(ascending=False).head(10)\n",
    "\n",
    "    # Top 10 State\n",
    "    top_10_states_df = db_df_clean[db_df_clean['State'].isin(state_totals.index)]\n",
    "\n",
    "    # Count by class\n",
    "    heatmap_data = top_10_states_df.groupby(['State', 'Classification']).size().unstack(fill_value=0)\n",
    "\n",
    "    # Create heat map\n",
    "    fig = go.Figure(data=go.Heatmap(\n",
    "        z=[heatmap_data['Class I'], heatmap_data['Class II'], heatmap_data['Class III']],  \n",
    "        x=heatmap_data.index,  \n",
    "        y=['Class I', 'Class II', 'Class III'],  \n",
    "        colorscale='Reds'  \n",
    "    ))\n",
    "\n",
    "    # Title\n",
    "    fig.update_layout(\n",
    "        title=\"Heatmap of Recalls by State and Classification (Top 10 States)\",\n",
    "        xaxis_title=\"State\",\n",
    "        yaxis_title=\"Recall Classification\",\n",
    "        height=600,\n",
    "        width=800\n",
    "    )\n",
    "\n",
    "    # Display\n",
    "    fig.show()\n",
    "else:\n",
    "    print(\"Data does not contain 'State' or 'Classification' fields.\")"
   ]
  },
  {
   "cell_type": "code",
   "execution_count": 11,
   "metadata": {},
   "outputs": [],
   "source": [
    "# Close the connection\n",
    "client.close()"
   ]
  },
  {
   "cell_type": "code",
   "execution_count": null,
   "metadata": {},
   "outputs": [],
   "source": []
  }
 ],
 "metadata": {
  "kernelspec": {
   "display_name": "base",
   "language": "python",
   "name": "python3"
  },
  "language_info": {
   "codemirror_mode": {
    "name": "ipython",
    "version": 3
   },
   "file_extension": ".py",
   "mimetype": "text/x-python",
   "name": "python",
   "nbconvert_exporter": "python",
   "pygments_lexer": "ipython3",
   "version": "3.12.7"
  }
 },
 "nbformat": 4,
 "nbformat_minor": 4
}
