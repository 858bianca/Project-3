import requests
import pandas as pd
from pymongo import MongoClient
from datetime import datetime
import plotly.express as px
from geopy.geocoders import Nominatim
import time
import plotly.graph_objects as go
import seaborn as sns
import matplotlib.pyplot as plt
from ipywidgets import widgets
from IPython.display import display, clear_output
import ipywidgets as widgets
from ipywidgets import interact


# Define the API endpoint and parameters
url = "https://api.fda.gov/food/enforcement.json?search=report_date:[20200101+TO+20241005]&limit=500"

# Send a GET request to the API
response = requests.get(url)

if response.status_code == 200:
    data = response.json()
    recalls = data.get('results', [])
    recall_df = pd.DataFrame(recalls)

    clean_df = recall_df.rename(columns={
        "status": "Status", 
        "city": "City",
        "state": "State",
        "country":"Country",
        "classification":"Classification",
        "openfda":"Open FDA",
        "product_type":"Product Type",
        "event_id":"Event ID",
        "recalling_firm":"Recalling Firm",
        "address_1":"Address 1",
        "address_2":"Address 2",
        "postal_code":"Postal Code",
        "voluntary_mandated":"Voluntary Mandated",
        "initial_firm_notification":"Initial Firm Notification",
        "distribution_pattern":"Distribution Pattern",
        "recall_number":"Recall Number",
        "product_description":"Product Description",
        "product_quantity":"Product Quantity",
        "reason_for_recall":"Reason for Recall",
        "recall_initiation_date":"Recall Initiation Date",
        "center_classification_date":"Center Classification Date",
        "termination_date":"Termination Date",
        "report_date":"Report Date",
        "code_info":"Code Info",
        "more_code_info":"More Code Info",
    })

    # Convert DataFrame to dictionary format for MongoDB
    recall_records = clean_df.to_dict("records")

    # Connect to MongoDB
    client = MongoClient('mongodb://localhost:27017/')  # Or use your MongoDB URI
    db = client['fda_recall_data']  # Database name
    collection = db['recalls']  # Collection name

    # Insert modified data into MongoDB
    collection.insert_many(recall_records)

    # Example: Query data back from MongoDB
    recalls_from_db = list(collection.find())

    # Convert back to DataFrame if needed
    db_df = pd.DataFrame(recalls_from_db)
    
else:
    print(f"Failed to retrieve data: {response.status_code}")


# # Connect to MongoDB
# client = MongoClient('mongodb://localhost:27017/')  # Replace with your MongoDB URI if necessary
# db = client['fda_recall_data']  # Database name
# collection = db['recalls']  # Collection name

# Query MongoDB and load the data into a pandas DataFrame
recalls_cursor = collection.find({"State": {"$ne": ""}}, {"State": 1, "_id": 0})  # Fetch state data only
recalls_df = pd.DataFrame(list(recalls_cursor))

# Ensure the 'state' column exists and clean it
if 'State' in recalls_df.columns:
    recalls_df['State'] = recalls_df['State'].str.upper()  # Ensure all state abbreviations are uppercase

# Group by state and count the number of recalls per state
state_counts = recalls_df.groupby('State').size().reset_index(name='Count')

# Create Plotly choropleth map
fig = px.choropleth(
    state_counts, 
    locations='State', 
    locationmode="USA-states",  # Use state abbreviations for location matching
    color='Count', 
    color_continuous_scale="YlGnBu",  # Green-Blue color scale
    scope="usa",  # Limit the map to USA
    title="FDA Recalls by State"
)

# Customize the layout (optional)
fig.update_layout(
    geo=dict(
        lakecolor='rgb(255, 255, 255)'  # Set lake color to white
    )
)

# Save the figure as an interactive HTML file
fig.write_html("./output_data/fda_recalls_by_state.html")

# Optional: Show the figure in a notebook or browser (for testing or interactive use)
fig.show()


# List of all 50 U.S. state abbreviations
us_states = [
    'AL', 'AK', 'AZ', 'AR', 'CA', 'CO', 'CT', 'DE', 'FL', 'GA', 'HI', 'ID', 'IL', 'IN', 'IA', 'KS', 'KY', 'LA', 'ME',
    'MD', 'MA', 'MI', 'MN', 'MS', 'MO', 'MT', 'NE', 'NV', 'NH', 'NJ', 'NM', 'NY', 'NC', 'ND', 'OH', 'OK', 'OR', 'PA',
    'RI', 'SC', 'SD', 'TN', 'TX', 'UT', 'VT', 'VA', 'WA', 'WV', 'WI', 'WY', 'DC'
]

# Query MongoDB and load the data into a pandas DataFrame
recalls_cursor = collection.find({"State": {"$ne": ""}}, {"State": 1, "_id": 0})  # Fetch state data only
recalls_df = pd.DataFrame(list(recalls_cursor))

# Ensure the 'State' column exists and clean it
if 'State' in recalls_df.columns:
    recalls_df['State'] = recalls_df['State'].str.upper()  # Ensure all state abbreviations are uppercase

    # Get unique states present in the dataset
    states_in_dataset = recalls_df['State'].unique()

    # Find states that are missing from the dataset
    missing_states = sorted(set(us_states) - set(states_in_dataset))

    # Print the missing states
    print("States not present in the dataset:", missing_states)
else:
    print("No state data available in the dataset.")








client = MongoClient('mongodb://localhost:27017/')
db = client['fda_recalls']
collection = db['food_enforcement']

# Get unique cities and states for geocoding
city_state_df = clean_df[['City', 'State']].drop_duplicates()

# Geocoding cities to get latitude and longitude
geolocator = Nominatim(user_agent="fda_recall_app")
latitudes = []
longitudes = []

for index, row in city_state_df.iterrows():
    city_state = f"{row['City']}, {row['State']}, USA"
    try:
        location = geolocator.geocode(city_state)
        if location:
            latitudes.append(location.latitude)
            longitudes.append(location.longitude)
        else:
            latitudes.append(None)
            longitudes.append(None)
    except:
        latitudes.append(None)
        longitudes.append(None)
    time.sleep(1)  # Add delay to avoid overwhelming the geocoding API

    # Add latitude and longitude to the DataFrame
city_state_df['Latitude'] = latitudes
city_state_df['Longitude'] = longitudes

    # Filter out rows where geocoding failed
city_state_df = city_state_df.dropna(subset=['Latitude', 'Longitude'])

    # Merge latitude and longitude back to the main DataFrame
clean_df = pd.merge(clean_df, city_state_df, on=['City', 'State'], how='left')

    # Create a map with city markers using Plotly
fig = px.scatter_mapbox(
    clean_df,
    lat="Latitude",
    lon="Longitude",
    hover_name="City",
    hover_data=["State", "Recall Number", "Reason for Recall"],
    zoom=4,
    height=1000,
    width=2000,
    title="FDA Recalls by City"
)

    # Set mapbox style
fig.update_layout(
    mapbox_style="open-street-map",
    margin={"r": 0, "t": 50, "l": 0, "b": 0}  # Adjusted margins for full-width display
)

    # Show or save the figure as an interactive HTML file
fig.write_html("./output_data/fda_recalls_by_city.html")
print("Map with city markers saved as HTML file.")

fig.show()




# Simplified plotting function
def plot_top_3_states():
    # Get top 3 states by recall count
    top_states = state_counts.head(3)['State']
    top_cities_df = pd.DataFrame()

    # Loop through top states and get city counts
    for state in top_states:
        state_df = clean_df[clean_df['State'] == state]
        city_counts = state_df['City'].value_counts().reset_index()
        city_counts.columns = ['City', 'Count']
        city_counts['State'] = state
        top_cities_df = pd.concat([top_cities_df, city_counts.head(10)], ignore_index=True)

    # Check the resulting DataFrame before plotting
    print(top_cities_df.head())

    # Plot the top cities in the top 3 states
    plt.figure(figsize=(12, 8))  # Ensure consistent size
    barplot = sns.barplot(x='Count', y='City', hue='State', data=top_cities_df, palette="viridis")
    plt.title('Top Cities in the Top 3 States of Recalls (2020-2024)', fontsize=16)
    plt.xlabel('Number of Recalls')
    plt.ylabel('City')
    sns.despine(left=True, bottom=True)
    plt.grid(True, axis='x', linestyle='--', alpha=0.6)
    plt.xticks(rotation=45, ha='right')

    # Add labels to each bar
    for p in barplot.patches:
        if p.get_width() > 0:  # Only annotate if count > 0
            barplot.annotate(f'{int(p.get_width())}', 
                             (p.get_width() + 0.3, p.get_y() + 0.55), ha='center')

    plt.legend(title='State', loc='upper right')
    plt.show()

# Function to update the plot based on the selected state
def update_plot(state):
    state_df = clean_df[clean_df['State'] == state]
    city_counts = state_df['City'].value_counts().reset_index()
    city_counts.columns = ['City', 'Count']

    # Check if the city counts are correct
    print(city_counts.head())

    if not city_counts.empty:
        plt.figure(figsize=(12, 8))  
        barplot = sns.barplot(x='Count', y='City', hue='City', data=city_counts.head(10), palette="coolwarm")
        plt.title(f'Top Cities in {state} for Recalls (2020-2024)', fontsize=16)
        plt.xlabel('Number of Recalls')
        plt.ylabel('City')
        sns.despine(left=True, bottom=True)
        plt.xticks(rotation=45, ha='right')

        # Add labels to each bar
        for index, value in enumerate(city_counts['Count'].head(10)):
            barplot.text(value, index, f'{value}', color='black', va="center", fontsize=12)

        if barplot.legend_:
            barplot.legend_.remove()

        plt.show()
    else:
        print(f"No recall data available for {state}.")

# Plot the top 3 states chart initially
plot_top_3_states()

# Create a dropdown for state selection, sorted alphabetically
state_dropdown = widgets.Dropdown(
    options=sorted(clean_df[clean_df['Country'] == "United States"]['State'].unique()),
    description='State:',
    disabled=False,
)

# Print selected state to verify the dropdown works
def print_selected_state(state):
    print(f"State selected: {state}")

# Uncomment the below line to update the plot interactively
# widgets.interact(update_plot, state=state_dropdown);  # Use this line in a Jupyter notebook




# Aggregates the total number of recalls for each state
state_counts = clean_df.groupby('State')['City'].count().reset_index()
state_counts.columns = ['State', 'Recall Count']

# Identifies the city with the highest number of recalls within each state
top_city_by_state = clean_df.groupby(['State', 'City']).size().reset_index(name='City Recalls')
top_city_by_state = top_city_by_state.loc[top_city_by_state.groupby('State')['City Recalls'].idxmax()]

# Merges the total recalls per state with the highest city recalls data
state_counts = pd.merge(state_counts, top_city_by_state[['State', 'City', 'City Recalls']], on='State', how='left')

# Latitude and Longitude for state abbreviations placement
state_abbreviation_coords = {
    'AL': [32.806671, -86.791130], 'AK': [61.370716, -152.404419], 'AZ': [33.729759, -111.431221], 
    'AR': [34.969704, -92.373123], 'CA': [36.116203, -119.681564], 'CO': [39.059811, -105.311104], 
    'CT': [41.597782, -72.755371], 'DE': [39.318523, -75.507141], 'FL': [27.766279, -81.686783], 
    'GA': [33.040619, -83.643074], 'HI': [21.094318, -157.498337], 'ID': [44.240459, -114.478828], 
    'IL': [40.349457, -88.986137], 'IN': [39.849426, -86.258278], 'IA': [42.011539, -93.210526], 
    'KS': [38.526600, -96.726486], 'KY': [37.668140, -84.670067], 'LA': [31.169546, -91.867805], 
    'ME': [44.693947, -69.381927], 'MD': [39.063946, -76.802101], 'MA': [42.230171, -71.530106], 
    'MI': [43.326618, -84.536095], 'MN': [45.694454, -93.900192], 'MS': [32.741646, -89.678696], 
    'MO': [38.456085, -92.288368], 'MT': [46.921925, -110.454353], 'NE': [41.125370, -98.268082], 
    'NV': [38.313515, -117.055374], 'NH': [43.452492, -71.563896], 'NJ': [40.298904, -74.521011], 
    'NM': [34.840515, -106.248482], 'NY': [42.165726, -74.948051], 'NC': [35.630066, -79.806419], 
    'ND': [47.528912, -99.784012], 'OH': [40.388783, -82.764915], 'OK': [35.565342, -96.928917], 
    'OR': [44.572021, -122.070938], 'PA': [40.590752, -77.209755], 'RI': [41.680893, -71.511780], 
    'SC': [33.856892, -80.945007], 'SD': [44.299782, -99.438828], 'TN': [35.747845, -86.692345], 
    'TX': [31.054487, -97.563461], 'UT': [40.150032, -111.862434], 'VT': [44.045876, -72.710686], 
    'VA': [37.769337, -78.169968], 'WA': [47.400902, -121.490494], 'WV': [38.491226, -80.954456], 
    'WI': [44.268543, -89.616508], 'WY': [42.755966, -107.302490]
}

# Function to create the choropleth map that includes state abbreviations
def plot_recall_distribution_by_state():
    clear_output(wait=True)

    # Create the choropleth map
    fig = px.choropleth(
        state_counts,
        locations='State',
        locationmode="USA-states",
        color='Recall Count',
        hover_name='State',
        hover_data={
            'Recall Count': True,
            'City': True,
            'City Recalls': True
        },
        scope="usa",
        color_continuous_scale="YlOrRd",
        labels={'Recall Count': 'Total Recalls'},
        title="Total Recalls by State and Top City (2020-2024)"
    )

    # Add state abbreviations as annotations on the map
    for state, coord in state_abbreviation_coords.items():
        fig.add_trace(go.Scattergeo(
            locationmode='USA-states',
            lon=[coord[1]],
            lat=[coord[0]],
            text=state,
            mode='text',
            showlegend=False,
            textfont=dict(size=12, color="black"),
        ))

    # Updates layout for better visualization and adds a title
    fig.update_layout(
        geo=dict(
            lakecolor='rgb(255, 255, 255)',
        ),
        margin={"r":0,"t":50,"l":0,"b":0},
        title={
            'text': "Total Recalls by State and Top City (2020-2024)",
            'y':0.95,
            'x':0.5,
            'xanchor': 'center',
            'yanchor': 'top'
        }
    )

    fig.show()

plot_recall_distribution_by_state()



# Filter the DataFrame to include only recalls in the US (made a copy to avoid SettingWithCopyWarning)
us_recall_df = clean_df[clean_df['Country'] == "United States"].copy()

# Add a count column for each recall for visualization purposes
us_recall_df['Recall Count'] = 1

# Sort the top 15 recalling firms based on the number of recalls in the US
top_15_firms = (
    us_recall_df['Recalling Firm']
    .value_counts()
    .nlargest(15)
    .reset_index()
)

# Rename the columns to identify the recall count for each
top_15_firms.columns = ['Firm Name', 'Recall Count']

# Create a list for dropdown options with the name of each firm and their recall counts
firm_options = [
    f"({row['Recall Count']}) {row['Firm Name']}"
    for _, row in top_15_firms.iterrows()
]

# Create dropdown widget for selecting a firm, including "None" as an option
firm_widget = widgets.Dropdown(
    options=[None] + firm_options,
    description='Select Firm:',
    value=None
)

# Create the dropdown widgets for city and state (initially empty)
city_widget = widgets.Dropdown(
    description='City:',
    options=[],
    value=None
)

state_widget = widgets.Dropdown(
    description='State:',
    options=[],
    value=None
)

# Function to update city and state dropdowns based on selected firm
def update_city_state_dropdown(firm_with_count):
    # Extract firm name from dropdown selection
    if firm_with_count is None:
        print("Select a firm from the dropdown menu.")
        return
    
    try:
        # Extract the actual firm name by splitting the string
        firm = firm_with_count.split(") ")[1]
    except IndexError:
        print("Error extracting firm name from the dropdown selection.")
        return

    # Filter the data based on the selected firm
    filtered_df = us_recall_df[us_recall_df['Recalling Firm'] == firm]

    # Ensure there's data to filter on
    if filtered_df.empty:
        print("No data available for the selected firm.")
        return

    # Extract unique cities and states for the selected firm
    cities = filtered_df['City'].unique()
    states = filtered_df['State'].unique()

    # Update the options for city and state dropdowns
    city_widget.options = [None] + list(cities)
    state_widget.options = [None] + list(states)

# Function to create a Sunburst chart based on selected firm, city, and state
def create_sunburst_chart(firm_with_count, city, state):
    # Extract firm name from dropdown selection
    if firm_with_count is None:
        print("Select a firm from the dropdown menu.")
        return

    try:
        # Extract the actual firm name by splitting the string
        firm = firm_with_count.split(") ")[1]
    except IndexError:
        print("Error extracting firm name from the dropdown selection.")
        return

    # Filter the data based on the selected firm
    filtered_df = us_recall_df[us_recall_df['Recalling Firm'] == firm]

    # Further filter by city and state if selected
    if city:
        filtered_df = filtered_df[filtered_df['City'] == city]
    if state:
        filtered_df = filtered_df[filtered_df['State'] == state]

    # Ensure there's data to plot
    if filtered_df.empty:
        print("No data available for the selected filters.")
        return

    # Create Sunburst chart using Plotly with customized hover information
    try:
        fig = px.sunburst(
            filtered_df,
            path=['Recalling Firm', 'Product Type', 'Product Description'],
            values='Recall Count',  # Use the count column for visualization
            title=f"Top Products Recalled by {firm}",
            color='Product Type',
            hover_data={
                "Classification": True,
                "Product Description": True,
                "State": True
            }
        )
        
        # Update hover template to display only the firm name
        fig.update_traces(
            hovertemplate="<br>".join([
                "Firm: " + firm,
                "Classification: %{customdata[0]}",
                "Product Description: %{customdata[1]}",
                "State: %{customdata[2]}"
            ])
        )
        
        fig.show()
        
        # Create HTML file
        fig.write_html("./output_data/fda_recalls_by_recall_firm.html")
        
    except Exception as e:
        print(f"An error occurred while creating the Sunburst chart: {e}")

# Create the interactive UI
interact(
    create_sunburst_chart,
    firm_with_count=firm_widget,
    city=city_widget,
    state=state_widget
)

# Update city and state dropdowns when firm is selected
firm_widget.observe(lambda change: update_city_state_dropdown(change.new), names='value')



# Ensure Classification type exist
if 'Classification' not in db_df.columns:
    raise ValueError("Data is missing necessary column: 'Classification'.")

# Check distribution
classification_counts = db_df['Classification'].value_counts()

# Output count 
print("Class I count:", classification_counts.get('Class I', 0))
print("Class II count:", classification_counts.get('Class II', 0))
print("Class III count:", classification_counts.get('Class III', 0))

# Create graph
fig = px.bar(
    classification_counts,
    x=classification_counts.index,  # Class name
    y=classification_counts.values,  # Recall count
    labels={'x': 'Recall Classification', 'y': 'Total Recalls'},
    title="Total Recalls by Classification (Class I, II, III)"
)

# Update graph
fig.update_layout(
    xaxis_title="Classification",
    yaxis_title="Total Recalls",
    title_x=0.5,  
    height=600,
    width=800
)

# Display
fig.show()





# Count Class I, II, III by each state
class_distribution = db_df.groupby(['State', 'Classification']).size().unstack(fill_value=0)
class_distribution.reset_index(inplace=True)

# Class I map
fig_class_i = go.Figure(go.Choropleth(
    locations=class_distribution['State'],
    locationmode='USA-states',
    z=class_distribution['Class I'],
    colorscale='Reds',  # red
    colorbar_title="Class I",
    marker_line_color='white'
))

# update
fig_class_i.update_layout(
    title_text="Distribution of Class I Recalls across USA",
    geo=dict(
        scope='usa',
        projection=go.layout.geo.Projection(type='albers usa'),
        lakecolor='rgb(255, 255, 255)',
    ),
    margin={"r": 0, "t": 50, "l": 0, "b": 0}
)

# Save Class I map as HTML
fig_class_i.write_html("./output_data/class_i_recalls.html")

# Class II map
fig_class_ii = go.Figure(go.Choropleth(
    locations=class_distribution['State'],
    locationmode='USA-states',
    z=class_distribution['Class II'],
    colorscale='Blues',  # blue
    colorbar_title="Class II",
    marker_line_color='white'
))

# Update
fig_class_ii.update_layout(
    title_text="Distribution of Class II Recalls across USA",
    geo=dict(
        scope='usa',
        projection=go.layout.geo.Projection(type='albers usa'),
        lakecolor='rgb(255, 255, 255)',
    ),
    margin={"r": 0, "t": 50, "l": 0, "b": 0}
)

# Save Class II map as HTML
fig_class_ii.write_html("./output_data/class_ii_recalls.html")

# Class III map
fig_class_iii = go.Figure(go.Choropleth(
    locations=class_distribution['State'],
    locationmode='USA-states',
    z=class_distribution['Class III'],
    colorscale='Greens',  # Green
    colorbar_title="Class III",
    marker_line_color='white'
))

# Update
fig_class_iii.update_layout(
    title_text="Distribution of Class III Recalls across USA",
    geo=dict(
        scope='usa',
        projection=go.layout.geo.Projection(type='albers usa'),
        lakecolor='rgb(255, 255, 255)',
    ),
    margin={"r": 0, "t": 50, "l": 0, "b": 0}
)

# Save Class III map as HTML
fig_class_iii.write_html("./output_data/class_iii_recalls.html")

# Optionally, display the maps
fig_class_i.show()
fig_class_ii.show()
fig_class_iii.show()


if 'State' in db_df.columns and 'Classification' in db_df.columns:
    db_df_clean = db_df.dropna(subset=['State', 'Classification'])
    db_df_clean['State'] = db_df_clean['State'].str.upper()  

    # Find top 10 state
    state_totals = db_df_clean.groupby('State').size().sort_values(ascending=False).head(10)

    # Top 10 State
    top_10_states_df = db_df_clean[db_df_clean['State'].isin(state_totals.index)]

    # Count by class
    heatmap_data = top_10_states_df.groupby(['State', 'Classification']).size().unstack(fill_value=0)

    # Create heat map
    fig = go.Figure(data=go.Heatmap(
        z=[heatmap_data['Class I'], heatmap_data['Class II'], heatmap_data['Class III']],  
        x=heatmap_data.index,  
        y=['Class I', 'Class II', 'Class III'],  
        colorscale='Reds'  
    ))

    # Title
    fig.update_layout(
        title="Heatmap of Recalls by State and Classification (Top 10 States)",
        xaxis_title="State",
        yaxis_title="Recall Classification",
        height=600,
        width=800
    )

    # Display
    fig.show()
else:
    print("Data does not contain 'State' or 'Classification' fields.")


# Close the connection
client.close()



